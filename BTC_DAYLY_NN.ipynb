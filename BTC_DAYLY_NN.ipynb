{
 "cells": [
  {
   "cell_type": "code",
   "execution_count": null,
   "id": "6b57acba-95af-4383-a2b2-0e2065cbe101",
   "metadata": {},
   "outputs": [],
   "source": []
  },
  {
   "cell_type": "code",
   "execution_count": 1,
   "id": "ff88e0bd-a6f2-4e6b-8939-7373afc9e85d",
   "metadata": {},
   "outputs": [],
   "source": [
    "api_key = '####################'\n",
    "secret = '####################'"
   ]
  },
  {
   "cell_type": "code",
   "execution_count": 2,
   "id": "26ce070a-360a-4bfd-8fc7-f7d0842227de",
   "metadata": {},
   "outputs": [],
   "source": [
    "from BTC import get_new_data, get_hist_data,indi_calc,strategy_calc"
   ]
  },
  {
   "cell_type": "code",
   "execution_count": 3,
   "id": "5b9feaac-b022-4f6f-85de-92d58b5c93e8",
   "metadata": {},
   "outputs": [],
   "source": [
    "import pandas as pd\n",
    "import random\n",
    "from datetime import datetime\n",
    "from prophet import Prophet\n",
    "from binance.futures import Futures as Client\n",
    "import plotly.graph_objects as go\n",
    "from plotly.subplots import make_subplots\n",
    "from fitter import Fitter, get_common_distributions, get_distributions"
   ]
  },
  {
   "cell_type": "code",
   "execution_count": 4,
   "id": "d13d47b8-cbe0-49c9-8259-c884ae46a560",
   "metadata": {},
   "outputs": [],
   "source": [
    "import itertools\n",
    "import numpy as np\n",
    "from prophet.diagnostics import cross_validation\n",
    "from prophet.diagnostics import performance_metrics"
   ]
  },
  {
   "cell_type": "code",
   "execution_count": 5,
   "id": "c9553bff-0edf-412f-b0cb-9f2abe40cf21",
   "metadata": {},
   "outputs": [],
   "source": [
    "import numpy as np\n",
    "import matplotlib.pyplot as plt\n",
    "import seaborn as sns\n",
    "%matplotlib inline"
   ]
  },
  {
   "cell_type": "code",
   "execution_count": 6,
   "id": "39e9142c-e2cd-47b2-8680-556148d52976",
   "metadata": {},
   "outputs": [],
   "source": [
    "import torchmetrics\n",
    "from torchmetrics import MetricCollection, Accuracy, Specificity, Precision, Recall, AUROC, F1Score\n",
    "from sklearn.metrics import confusion_matrix, ConfusionMatrixDisplay, roc_curve, RocCurveDisplay\n",
    "from sklearn.model_selection import train_test_split\n",
    "from torchvision import models, transforms\n",
    "from torchsummary import summary"
   ]
  },
  {
   "cell_type": "code",
   "execution_count": 7,
   "id": "6438fc8d-b1b5-491d-b3a3-1e3761b4da9d",
   "metadata": {},
   "outputs": [],
   "source": [
    "import ta\n",
    "import arff"
   ]
  },
  {
   "cell_type": "code",
   "execution_count": 8,
   "id": "f4fa04bd-e1b8-42d2-9964-178b0dc76ff4",
   "metadata": {},
   "outputs": [],
   "source": [
    "import numpy as np\n",
    "import pandas as pd\n",
    "import seaborn as sns\n",
    "import matplotlib.pyplot as plt\n",
    "\n",
    "import torch\n",
    "import torch.nn as nn\n",
    "import torch.optim as optim\n",
    "from torch.utils.data import Dataset, DataLoader\n",
    "import torch.nn.functional as F\n",
    "\n",
    "from sklearn.preprocessing import StandardScaler    \n",
    "from sklearn.model_selection import train_test_split\n",
    "from sklearn.metrics import confusion_matrix, classification_report\n",
    "\n",
    "from torchvision import datasets, models, transforms\n",
    "from torchinfo import summary\n",
    "from torch.utils.tensorboard import SummaryWriter\n",
    "\n",
    "import optuna"
   ]
  },
  {
   "cell_type": "code",
   "execution_count": 9,
   "id": "1e85fa77-6848-428c-a25d-de941ca58bee",
   "metadata": {
    "tags": []
   },
   "outputs": [],
   "source": [
    "futures_client = Client()"
   ]
  },
  {
   "cell_type": "markdown",
   "id": "8b86e866-add0-4142-89f7-b91b22a33283",
   "metadata": {},
   "source": [
    "## price data import"
   ]
  },
  {
   "cell_type": "code",
   "execution_count": 12,
   "id": "13dfc182-32de-481a-973f-780acc3d742c",
   "metadata": {
    "tags": []
   },
   "outputs": [],
   "source": [
    "collumns2 = [\n",
    "'Open time',\n",
    "'Open',\n",
    "'High',\n",
    "'Low',\n",
    "'Close',\n",
    "'Volume',\n",
    "'Close time',\n",
    "'Quote asset volume',\n",
    "'Number of trades',\n",
    "'Taker buy base asset volume',\n",
    "'Taker buy quote asset volume',\n",
    "'Ignore'\n",
    "]"
   ]
  },
  {
   "cell_type": "code",
   "execution_count": 13,
   "id": "52cbc991-cf3d-4af7-b6aa-216db3e93971",
   "metadata": {
    "slideshow": {
     "slide_type": "slide"
    },
    "tags": []
   },
   "outputs": [],
   "source": [
    "def to_df(data_as_array):\n",
    "    df=pd.DataFrame(data_as_array, columns = collumns2)\n",
    "    df['Open time'] = df.apply(lambda x: datetime.fromtimestamp(int(x['Open time'])/1000) , axis=1)\n",
    "    df['Close time'] = df.apply(lambda x: datetime.fromtimestamp(int(x['Close time'])/1000) , axis=1)\n",
    "    df.drop(columns = ['Close time', 'Quote asset volume', 'Number of trades', 'Taker buy base asset volume', 'Taker buy quote asset volume', 'Ignore'], inplace = True)\n",
    "    df[['Open', 'High', 'Low', 'Close', 'Volume']] = df[['Open', 'High', 'Low', 'Close', 'Volume']].astype('float32', copy=False)\n",
    "    return df"
   ]
  },
  {
   "cell_type": "code",
   "execution_count": 14,
   "id": "af051627-94d3-4ad9-b971-a2f6b0ba8125",
   "metadata": {},
   "outputs": [],
   "source": [
    "data_1d = futures_client.klines(\"BTCUSDT\", \"1d\", **{\"limit\": 1500})"
   ]
  },
  {
   "cell_type": "code",
   "execution_count": 36,
   "id": "67bf7276-3cab-4ae9-89e7-95750e8d0ac8",
   "metadata": {},
   "outputs": [],
   "source": [
    "df = to_df(data_1d)"
   ]
  },
  {
   "cell_type": "code",
   "execution_count": 37,
   "id": "2f85a659-7e08-469c-909e-30d21289327e",
   "metadata": {
    "tags": []
   },
   "outputs": [
    {
     "data": {
      "text/html": [
       "<div>\n",
       "<style scoped>\n",
       "    .dataframe tbody tr th:only-of-type {\n",
       "        vertical-align: middle;\n",
       "    }\n",
       "\n",
       "    .dataframe tbody tr th {\n",
       "        vertical-align: top;\n",
       "    }\n",
       "\n",
       "    .dataframe thead th {\n",
       "        text-align: right;\n",
       "    }\n",
       "</style>\n",
       "<table border=\"1\" class=\"dataframe\">\n",
       "  <thead>\n",
       "    <tr style=\"text-align: right;\">\n",
       "      <th></th>\n",
       "      <th>Open time</th>\n",
       "      <th>Open</th>\n",
       "      <th>High</th>\n",
       "      <th>Low</th>\n",
       "      <th>Close</th>\n",
       "      <th>Volume</th>\n",
       "    </tr>\n",
       "  </thead>\n",
       "  <tbody>\n",
       "    <tr>\n",
       "      <th>0</th>\n",
       "      <td>2019-09-07 20:00:00</td>\n",
       "      <td>10000.000000</td>\n",
       "      <td>10412.650391</td>\n",
       "      <td>10000.000000</td>\n",
       "      <td>10391.629883</td>\n",
       "      <td>3096.291016</td>\n",
       "    </tr>\n",
       "    <tr>\n",
       "      <th>1</th>\n",
       "      <td>2019-09-08 20:00:00</td>\n",
       "      <td>10316.620117</td>\n",
       "      <td>10475.540039</td>\n",
       "      <td>10077.219727</td>\n",
       "      <td>10307.000000</td>\n",
       "      <td>14824.373047</td>\n",
       "    </tr>\n",
       "    <tr>\n",
       "      <th>2</th>\n",
       "      <td>2019-09-09 20:00:00</td>\n",
       "      <td>10307.000000</td>\n",
       "      <td>10382.969727</td>\n",
       "      <td>9940.870117</td>\n",
       "      <td>10102.019531</td>\n",
       "      <td>9068.955078</td>\n",
       "    </tr>\n",
       "    <tr>\n",
       "      <th>3</th>\n",
       "      <td>2019-09-10 20:00:00</td>\n",
       "      <td>10094.269531</td>\n",
       "      <td>10293.110352</td>\n",
       "      <td>9884.309570</td>\n",
       "      <td>10159.549805</td>\n",
       "      <td>10897.921875</td>\n",
       "    </tr>\n",
       "    <tr>\n",
       "      <th>4</th>\n",
       "      <td>2019-09-11 20:00:00</td>\n",
       "      <td>10163.059570</td>\n",
       "      <td>10450.129883</td>\n",
       "      <td>10042.120117</td>\n",
       "      <td>10415.129883</td>\n",
       "      <td>15609.633789</td>\n",
       "    </tr>\n",
       "  </tbody>\n",
       "</table>\n",
       "</div>"
      ],
      "text/plain": [
       "            Open time          Open          High           Low         Close  \\\n",
       "0 2019-09-07 20:00:00  10000.000000  10412.650391  10000.000000  10391.629883   \n",
       "1 2019-09-08 20:00:00  10316.620117  10475.540039  10077.219727  10307.000000   \n",
       "2 2019-09-09 20:00:00  10307.000000  10382.969727   9940.870117  10102.019531   \n",
       "3 2019-09-10 20:00:00  10094.269531  10293.110352   9884.309570  10159.549805   \n",
       "4 2019-09-11 20:00:00  10163.059570  10450.129883  10042.120117  10415.129883   \n",
       "\n",
       "         Volume  \n",
       "0   3096.291016  \n",
       "1  14824.373047  \n",
       "2   9068.955078  \n",
       "3  10897.921875  \n",
       "4  15609.633789  "
      ]
     },
     "execution_count": 37,
     "metadata": {},
     "output_type": "execute_result"
    }
   ],
   "source": [
    "df.head(5)"
   ]
  },
  {
   "cell_type": "markdown",
   "id": "54397854-7d15-48ea-9a70-347b5c01db14",
   "metadata": {},
   "source": [
    "## indicators calculation"
   ]
  },
  {
   "cell_type": "code",
   "execution_count": 38,
   "id": "3bb021a7-9b4f-4d4a-8131-7125224e538c",
   "metadata": {
    "tags": []
   },
   "outputs": [
    {
     "name": "stderr",
     "output_type": "stream",
     "text": [
      "C:\\Users\\bakhi\\anaconda3\\lib\\site-packages\\ta\\trend.py:769: RuntimeWarning: invalid value encountered in double_scalars\n",
      "  dip[idx] = 100 * (self._dip[idx] / value)\n",
      "C:\\Users\\bakhi\\anaconda3\\lib\\site-packages\\ta\\trend.py:774: RuntimeWarning: invalid value encountered in double_scalars\n",
      "  din[idx] = 100 * (self._din[idx] / value)\n"
     ]
    }
   ],
   "source": [
    "df_RSI_ADX = indi_calc(df).RSI_ADX(14,20)\n",
    "df = df_RSI_ADX"
   ]
  },
  {
   "cell_type": "markdown",
   "id": "e31d21a3-999b-4710-9a60-29fe2cefaa38",
   "metadata": {},
   "source": [
    "## volume change calculation"
   ]
  },
  {
   "cell_type": "code",
   "execution_count": 39,
   "id": "67bdaf66-07de-4fa3-bdee-4e818c279540",
   "metadata": {},
   "outputs": [],
   "source": [
    "# multiplicator = 0.2\n",
    "percent_vol = []\n",
    "cum_volume_step = 7\n",
    "i = 0\n",
    "for v in df.Volume:\n",
    "    if cum_volume_step > i:\n",
    "        percent_vol.append(np.nan)\n",
    "    else:\n",
    "        percent_vol.append(100*v/df.Volume[i-cum_volume_step:i].sum())\n",
    "    i+=1\n",
    "df['Vol_week'] = percent_vol"
   ]
  },
  {
   "cell_type": "markdown",
   "id": "1fc9ad68-5426-4bf2-a973-b51a55c7904f",
   "metadata": {},
   "source": [
    "## present price changing"
   ]
  },
  {
   "cell_type": "code",
   "execution_count": 40,
   "id": "b14a67a5-f4f7-496c-94eb-87afbd968f27",
   "metadata": {},
   "outputs": [],
   "source": [
    "present_price = []\n",
    "cum_volume_step = 7\n",
    "i = 0\n",
    "for v in df.Open:\n",
    "    if cum_volume_step > i:\n",
    "        present_price.append(np.nan)\n",
    "    else:\n",
    "        present_price.append((v - df.Open[i-cum_volume_step])/df.Open[i-cum_volume_step])\n",
    "    i+=1\n",
    "df['last_week'] = present_price"
   ]
  },
  {
   "cell_type": "code",
   "execution_count": 41,
   "id": "e79a0ab2-4875-483a-9b78-b981b3060cd3",
   "metadata": {},
   "outputs": [],
   "source": [
    "present_price = []\n",
    "cum_volume_step = 30\n",
    "i = 0\n",
    "for v in df.Open:\n",
    "    if cum_volume_step > i:\n",
    "        present_price.append(np.nan)\n",
    "    else:\n",
    "        present_price.append((v - df.Open[i-cum_volume_step])/df.Open[i-cum_volume_step])\n",
    "    i+=1\n",
    "df['last_month'] = present_price"
   ]
  },
  {
   "cell_type": "code",
   "execution_count": 42,
   "id": "f9bd0da4-3888-4030-8e97-8564814f5620",
   "metadata": {},
   "outputs": [],
   "source": [
    "present_price = []\n",
    "cum_volume_step = 1\n",
    "i = 0\n",
    "for v in df.Open:\n",
    "    if cum_volume_step > i:\n",
    "        present_price.append(np.nan)\n",
    "    else:\n",
    "        present_price.append((df.Close[i-cum_volume_step] - df.Open[i-cum_volume_step])/df.Open[i-cum_volume_step])\n",
    "    i+=1\n",
    "df['yesterday'] = present_price"
   ]
  },
  {
   "cell_type": "code",
   "execution_count": 43,
   "id": "cf0ec68f-5960-4cba-9c1d-ecc4b9770f97",
   "metadata": {},
   "outputs": [],
   "source": [
    "present_price = []\n",
    "cum_volume_step = 1\n",
    "i = 0\n",
    "for v in df.RSI:\n",
    "    if i<1:\n",
    "        present_price.append(np.nan)\n",
    "    else:\n",
    "        present_price.append((v - df.RSI[i-cum_volume_step])/df.RSI[i-cum_volume_step])\n",
    "    i+=1\n",
    "df['RSI_gap'] = present_price"
   ]
  },
  {
   "cell_type": "markdown",
   "id": "bf467896-a482-4b59-aa10-cde52bb6b57e",
   "metadata": {},
   "source": [
    "## future price change"
   ]
  },
  {
   "cell_type": "code",
   "execution_count": 44,
   "id": "1a3a2259-dfcc-4d5f-8658-a68527308629",
   "metadata": {},
   "outputs": [],
   "source": [
    "future_price = []\n",
    "lengh = len(df.Open)\n",
    "i = 0\n",
    "for v in range(lengh):\n",
    "    aver_future_price = (df.Close[i]-df.Open[i])/df.Open[i]\n",
    "    future_price.append(100*aver_future_price)\n",
    "    i+=1\n",
    "df['target'] = future_price"
   ]
  },
  {
   "cell_type": "code",
   "execution_count": 45,
   "id": "0b9d9858-0448-4c9d-944b-cdeec171ec18",
   "metadata": {},
   "outputs": [
    {
     "data": {
      "text/plain": [
       "<AxesSubplot:>"
      ]
     },
     "execution_count": 45,
     "metadata": {},
     "output_type": "execute_result"
    },
    {
     "data": {
      "image/png": "[encoded data removed]",
      "text/plain": [
       "<Figure size 432x288 with 1 Axes>"
      ]
     },
     "metadata": {
      "needs_background": "light"
     },
     "output_type": "display_data"
    }
   ],
   "source": [
    "df.target.hist(bins=75)"
   ]
  },
  {
   "cell_type": "code",
   "execution_count": 47,
   "id": "d65f200c-4eb6-436a-86dc-b60b27108ee6",
   "metadata": {},
   "outputs": [],
   "source": [
    "df = df[['ADX', '-DI', '+DI', 'RSI', 'Vol_week', 'last_week', 'last_month', 'yesterday', 'RSI_gap','target']]"
   ]
  },
  {
   "cell_type": "code",
   "execution_count": 49,
   "id": "226a063a-c8f7-4bbd-84c3-b3775e974ea9",
   "metadata": {},
   "outputs": [
    {
     "data": {
      "text/html": [
       "<div>\n",
       "<style scoped>\n",
       "    .dataframe tbody tr th:only-of-type {\n",
       "        vertical-align: middle;\n",
       "    }\n",
       "\n",
       "    .dataframe tbody tr th {\n",
       "        vertical-align: top;\n",
       "    }\n",
       "\n",
       "    .dataframe thead th {\n",
       "        text-align: right;\n",
       "    }\n",
       "</style>\n",
       "<table border=\"1\" class=\"dataframe\">\n",
       "  <thead>\n",
       "    <tr style=\"text-align: right;\">\n",
       "      <th></th>\n",
       "      <th>ADX</th>\n",
       "      <th>-DI</th>\n",
       "      <th>+DI</th>\n",
       "      <th>RSI</th>\n",
       "      <th>Vol_week</th>\n",
       "      <th>last_week</th>\n",
       "      <th>last_month</th>\n",
       "      <th>yesterday</th>\n",
       "      <th>RSI_gap</th>\n",
       "      <th>target</th>\n",
       "    </tr>\n",
       "  </thead>\n",
       "  <tbody>\n",
       "    <tr>\n",
       "      <th>0</th>\n",
       "      <td>0.0</td>\n",
       "      <td>0.0</td>\n",
       "      <td>0.0</td>\n",
       "      <td>NaN</td>\n",
       "      <td>NaN</td>\n",
       "      <td>NaN</td>\n",
       "      <td>NaN</td>\n",
       "      <td>NaN</td>\n",
       "      <td>NaN</td>\n",
       "      <td>3.916299</td>\n",
       "    </tr>\n",
       "    <tr>\n",
       "      <th>1</th>\n",
       "      <td>0.0</td>\n",
       "      <td>0.0</td>\n",
       "      <td>0.0</td>\n",
       "      <td>NaN</td>\n",
       "      <td>NaN</td>\n",
       "      <td>NaN</td>\n",
       "      <td>NaN</td>\n",
       "      <td>0.039163</td>\n",
       "      <td>NaN</td>\n",
       "      <td>-0.093249</td>\n",
       "    </tr>\n",
       "    <tr>\n",
       "      <th>2</th>\n",
       "      <td>0.0</td>\n",
       "      <td>0.0</td>\n",
       "      <td>0.0</td>\n",
       "      <td>NaN</td>\n",
       "      <td>NaN</td>\n",
       "      <td>NaN</td>\n",
       "      <td>NaN</td>\n",
       "      <td>-0.000932</td>\n",
       "      <td>NaN</td>\n",
       "      <td>-1.988750</td>\n",
       "    </tr>\n",
       "    <tr>\n",
       "      <th>3</th>\n",
       "      <td>0.0</td>\n",
       "      <td>0.0</td>\n",
       "      <td>0.0</td>\n",
       "      <td>NaN</td>\n",
       "      <td>NaN</td>\n",
       "      <td>NaN</td>\n",
       "      <td>NaN</td>\n",
       "      <td>-0.019888</td>\n",
       "      <td>NaN</td>\n",
       "      <td>0.646706</td>\n",
       "    </tr>\n",
       "    <tr>\n",
       "      <th>4</th>\n",
       "      <td>0.0</td>\n",
       "      <td>0.0</td>\n",
       "      <td>0.0</td>\n",
       "      <td>NaN</td>\n",
       "      <td>NaN</td>\n",
       "      <td>NaN</td>\n",
       "      <td>NaN</td>\n",
       "      <td>0.006467</td>\n",
       "      <td>NaN</td>\n",
       "      <td>2.480260</td>\n",
       "    </tr>\n",
       "  </tbody>\n",
       "</table>\n",
       "</div>"
      ],
      "text/plain": [
       "   ADX  -DI  +DI  RSI  Vol_week  last_week  last_month  yesterday  RSI_gap  \\\n",
       "0  0.0  0.0  0.0  NaN       NaN        NaN         NaN        NaN      NaN   \n",
       "1  0.0  0.0  0.0  NaN       NaN        NaN         NaN   0.039163      NaN   \n",
       "2  0.0  0.0  0.0  NaN       NaN        NaN         NaN  -0.000932      NaN   \n",
       "3  0.0  0.0  0.0  NaN       NaN        NaN         NaN  -0.019888      NaN   \n",
       "4  0.0  0.0  0.0  NaN       NaN        NaN         NaN   0.006467      NaN   \n",
       "\n",
       "     target  \n",
       "0  3.916299  \n",
       "1 -0.093249  \n",
       "2 -1.988750  \n",
       "3  0.646706  \n",
       "4  2.480260  "
      ]
     },
     "execution_count": 49,
     "metadata": {},
     "output_type": "execute_result"
    }
   ],
   "source": [
    "df.head()"
   ]
  },
  {
   "cell_type": "code",
   "execution_count": 50,
   "id": "295e764a-6c45-438e-b9e0-802204094e1b",
   "metadata": {},
   "outputs": [],
   "source": [
    "#df.to_csv('BTC_daily2.csv', index = False)"
   ]
  },
  {
   "cell_type": "code",
   "execution_count": 10,
   "id": "0d530f79-ca4f-400b-a3d8-23e43a4849f4",
   "metadata": {},
   "outputs": [],
   "source": [
    "#df = pd.read_csv('BTC_daily.csv')"
   ]
  },
  {
   "cell_type": "code",
   "execution_count": 52,
   "id": "74e3fdf8-1851-4c1e-aee1-c402c5241600",
   "metadata": {},
   "outputs": [],
   "source": [
    "df = df.dropna()"
   ]
  },
  {
   "cell_type": "code",
   "execution_count": 53,
   "id": "026b4c51-2644-4ca8-b7c9-57dd9ce9cecc",
   "metadata": {},
   "outputs": [
    {
     "name": "stderr",
     "output_type": "stream",
     "text": [
      "<ipython-input-53-a5fbeb98518e>:1: SettingWithCopyWarning: \n",
      "A value is trying to be set on a copy of a slice from a DataFrame.\n",
      "Try using .loc[row_indexer,col_indexer] = value instead\n",
      "\n",
      "See the caveats in the documentation: https://pandas.pydata.org/pandas-docs/stable/user_guide/indexing.html#returning-a-view-versus-a-copy\n",
      "  df['target'] = df['target'].apply(lambda x: 1 if x>=0 else 0)\n"
     ]
    }
   ],
   "source": [
    "df['target'] = df['target'].apply(lambda x: 1 if x>=0 else 0)"
   ]
  },
  {
   "cell_type": "code",
   "execution_count": 57,
   "id": "e5a7f03a-8467-4278-9b70-d83acfbbceda",
   "metadata": {},
   "outputs": [
    {
     "name": "stderr",
     "output_type": "stream",
     "text": [
      "<ipython-input-57-2226efc13b9c>:1: SettingWithCopyWarning: \n",
      "A value is trying to be set on a copy of a slice from a DataFrame.\n",
      "Try using .loc[row_indexer,col_indexer] = value instead\n",
      "\n",
      "See the caveats in the documentation: https://pandas.pydata.org/pandas-docs/stable/user_guide/indexing.html#returning-a-view-versus-a-copy\n",
      "  df['target'] = df['target'].astype('category')\n"
     ]
    }
   ],
   "source": [
    "df['target'] = df['target'].astype('category')"
   ]
  },
  {
   "cell_type": "markdown",
   "id": "644ec320-7cf2-43ef-89d7-6853851be204",
   "metadata": {},
   "source": [
    "# simple NN"
   ]
  },
  {
   "cell_type": "code",
   "execution_count": 56,
   "id": "7c0d045f-3ccd-42cb-a3bd-6c06453042aa",
   "metadata": {
    "tags": []
   },
   "outputs": [],
   "source": [
    "def train(dataloader, model, loss, optimizer, t):\n",
    "    \n",
    "    model.train()\n",
    "    size = len(dataloader.dataset)\n",
    "    \n",
    "    for X_batch, y_batch in train_loader:\n",
    "        X_batch, y_batch = X_batch.to(device), y_batch.to(device)\n",
    "        optimizer.zero_grad()\n",
    "        \n",
    "        y_pred = model(X_batch)\n",
    "        \n",
    "        loss = criterion(y_pred, y_batch.unsqueeze(1))\n",
    "        \n",
    "        loss.backward()\n",
    "        optimizer.step()\n",
    "        \n",
    "        loss += loss.item()\n",
    "        \n",
    "    writer.add_scalar('Loss/train', loss, t)\n",
    "    \n",
    "def test(dataloader, model,t):\n",
    "    \n",
    "    size = len(dataloader.dataset)\n",
    "    model.eval()\n",
    "    test_loss, correct = 0, 0\n",
    "    \n",
    "    # initialize metric\n",
    "    test_metric_collection = MetricCollection([\n",
    "    Accuracy(),\n",
    "    AUROC(),\n",
    "    Recall(),\n",
    "    Precision(),\n",
    "    F1Score()\n",
    "    ]).to(device)\n",
    "    \n",
    "    model.eval()\n",
    "    with torch.no_grad():\n",
    "        for X_batch, y_batch in valid_loader:\n",
    "            X_batch, y_batch = X_batch.to(device), y_batch.to(device)\n",
    "            \n",
    "            y_test_pred = model(X_batch)\n",
    "            y_test_pred = torch.sigmoid(y_test_pred)\n",
    "            test_loss += criterion(y_test_pred, y_batch.unsqueeze(1)).item()\n",
    "            y_batch = y_batch.type(torch.int)\n",
    "            prediction = y_test_pred.T[0]\n",
    "            test_metric_collection(prediction, y_batch)\n",
    "    test_loss /= size\n",
    "    total_metric_collection = test_metric_collection.compute()\n",
    "    \n",
    "    writer.add_scalar('Loss/test', test_loss, t)\n",
    "    writer.add_scalar('Accuracy/test', total_metric_collection['Accuracy'], t)\n",
    "    writer.add_scalar('AUROC/test', total_metric_collection['AUROC'], t)\n",
    "    writer.add_scalar('Sensitivity/test', total_metric_collection['Recall'], t)\n",
    "    writer.add_scalar('Precision/test', total_metric_collection['Precision'], t)\n",
    "    writer.add_scalar('F1/test', total_metric_collection['F1Score'], t)\n",
    "    \n",
    "    test_metric_collection.reset()"
   ]
  },
  {
   "cell_type": "code",
   "execution_count": 57,
   "id": "3399f65d-85c9-4b25-af18-2a66fc76a424",
   "metadata": {},
   "outputs": [
    {
     "name": "stderr",
     "output_type": "stream",
     "text": [
      "<ipython-input-57-2226efc13b9c>:1: SettingWithCopyWarning: \n",
      "A value is trying to be set on a copy of a slice from a DataFrame.\n",
      "Try using .loc[row_indexer,col_indexer] = value instead\n",
      "\n",
      "See the caveats in the documentation: https://pandas.pydata.org/pandas-docs/stable/user_guide/indexing.html#returning-a-view-versus-a-copy\n",
      "  df['target'] = df['target'].astype('category')\n"
     ]
    }
   ],
   "source": [
    "df['target'] = df['target'].astype('category')"
   ]
  },
  {
   "cell_type": "code",
   "execution_count": 59,
   "id": "31d56669-2a47-4117-b190-4d4e10a40b19",
   "metadata": {},
   "outputs": [],
   "source": [
    "X = df.iloc[:, 0:-1]\n",
    "y = df.iloc[:, -1]"
   ]
  },
  {
   "cell_type": "code",
   "execution_count": 89,
   "id": "ddbe6717-f933-47b5-a8c0-d2b561867545",
   "metadata": {},
   "outputs": [],
   "source": [
    "lenght_train = int(len(df)*0.7)\n",
    "lenght_valid = int(len(df)*0.04)\n",
    "lenght_test = len(df) - lenght_train - lenght_valid"
   ]
  },
  {
   "cell_type": "code",
   "execution_count": 90,
   "id": "3d98e06f-8780-43c7-ab77-54c80a7141dc",
   "metadata": {},
   "outputs": [],
   "source": [
    "X_train = X[:lenght_train]\n",
    "X_valid = X[lenght_train : lenght_train + lenght_valid]\n",
    "X_test = X[-lenght_test:]"
   ]
  },
  {
   "cell_type": "code",
   "execution_count": 91,
   "id": "27942f02-b078-4685-ab4e-cf5a12312626",
   "metadata": {},
   "outputs": [],
   "source": [
    "y_train = y[:lenght_train]\n",
    "y_valid = y[lenght_train : lenght_train + lenght_valid]\n",
    "y_test = y[-lenght_test:]"
   ]
  },
  {
   "cell_type": "code",
   "execution_count": 92,
   "id": "3c079f63-f17e-482e-acf9-5f312158cf9a",
   "metadata": {},
   "outputs": [],
   "source": [
    "scaler = StandardScaler()\n",
    "X_train = scaler.fit_transform(X_train)\n",
    "X_valid = scaler.transform(X_valid)\n",
    "X_test = scaler.transform(X_test)"
   ]
  },
  {
   "cell_type": "code",
   "execution_count": 93,
   "id": "aa5f5bef-86db-4c45-b43a-d43cc757b1ad",
   "metadata": {},
   "outputs": [],
   "source": [
    "EPOCHS = 50\n",
    "BATCH_SIZE = 64\n",
    "LEARNING_RATE = 0.001"
   ]
  },
  {
   "cell_type": "code",
   "execution_count": 94,
   "id": "6af505d6-afe7-470d-a562-2ebc10004814",
   "metadata": {},
   "outputs": [],
   "source": [
    "## train data\n",
    "class TrainData(Dataset):\n",
    "    \n",
    "    def __init__(self, X_data, y_data):\n",
    "        self.X_data = X_data\n",
    "        self.y_data = y_data\n",
    "        \n",
    "    def __getitem__(self, index):\n",
    "        return self.X_data[index], self.y_data[index]\n",
    "        \n",
    "    def __len__ (self):\n",
    "        return len(self.X_data)\n",
    "\n",
    "\n",
    "train_data = TrainData(torch.FloatTensor(X_train), \n",
    "                       torch.FloatTensor(y_train.values))\n",
    "\n",
    "## train data\n",
    "class ValidData(Dataset):\n",
    "    \n",
    "    def __init__(self, X_data, y_data):\n",
    "        self.X_data = X_data\n",
    "        self.y_data = y_data\n",
    "        \n",
    "    def __getitem__(self, index):\n",
    "        return self.X_data[index], self.y_data[index]\n",
    "        \n",
    "    def __len__ (self):\n",
    "        return len(self.X_data)\n",
    "\n",
    "\n",
    "valid_data = ValidData(torch.FloatTensor(X_valid), \n",
    "                       torch.FloatTensor(y_valid.values))\n",
    "\n",
    "## test data    \n",
    "class TestData(Dataset):\n",
    "    \n",
    "    def __init__(self, X_data, y_data):\n",
    "        self.X_data = X_data\n",
    "        self.y_data = y_data\n",
    "        \n",
    "    def __getitem__(self, index):\n",
    "        return self.X_data[index], self.y_data[index]\n",
    "        \n",
    "    def __len__ (self):\n",
    "        return len(self.X_data)\n",
    "    \n",
    "\n",
    "test_data = TestData(torch.FloatTensor(X_test), \n",
    "                     torch.FloatTensor(y_test.values))"
   ]
  },
  {
   "cell_type": "code",
   "execution_count": 95,
   "id": "57c98b83-c470-45f9-b118-75584d40db73",
   "metadata": {},
   "outputs": [],
   "source": [
    "train_loader = DataLoader(dataset=train_data, batch_size=BATCH_SIZE, shuffle=True)\n",
    "valid_loader = DataLoader(dataset=valid_data, batch_size=BATCH_SIZE, shuffle=True)\n",
    "test_loader = DataLoader(dataset=test_data, batch_size=BATCH_SIZE, shuffle=True)"
   ]
  },
  {
   "cell_type": "markdown",
   "id": "41822e42-08f1-4a5a-a671-e71e6988211a",
   "metadata": {},
   "source": [
    "## model 1"
   ]
  },
  {
   "cell_type": "code",
   "execution_count": 73,
   "id": "214f1dff-4926-46fe-a861-e4f1c90c74c0",
   "metadata": {},
   "outputs": [],
   "source": [
    "class BTC_100(nn.Module):\n",
    "    def __init__(self):\n",
    "        super(BTC_100, self).__init__()\n",
    "        # Number of input features is 12.\n",
    "        self.layer_1 = nn.Linear(9, 16) \n",
    "        self.layer_2 = nn.Linear(16, 8)\n",
    "        self.layer_3 = nn.Linear(8, 4)\n",
    "        self.layer_out = nn.Linear(4, 1)\n",
    "        \n",
    "        self.relu = nn.ReLU()\n",
    "        self.dropout = nn.Dropout(p=0.1)\n",
    "        self.batchnorm1 = nn.BatchNorm1d(16)\n",
    "        self.batchnorm2 = nn.BatchNorm1d(8)\n",
    "        self.batchnorm3 = nn.BatchNorm1d(4)\n",
    "        \n",
    "    def forward(self, inputs):\n",
    "        x = self.relu(self.layer_1(inputs))\n",
    "        x = self.batchnorm1(x)\n",
    "        \n",
    "        x = self.relu(self.layer_2(x))\n",
    "        x = self.batchnorm2(x)\n",
    "        \n",
    "        x = self.relu(self.layer_3(x))\n",
    "        x = self.batchnorm3(x)\n",
    "        \n",
    "        x = self.dropout(x)\n",
    "        x = self.layer_out(x)\n",
    "        \n",
    "        return x"
   ]
  },
  {
   "cell_type": "code",
   "execution_count": 74,
   "id": "f4c0e60b-2b86-4d49-80ba-222ff814f0bb",
   "metadata": {},
   "outputs": [
    {
     "name": "stdout",
     "output_type": "stream",
     "text": [
      "cpu\n"
     ]
    }
   ],
   "source": [
    "device = torch.device(\"cpu\")\n",
    "print(device)"
   ]
  },
  {
   "cell_type": "code",
   "execution_count": 75,
   "id": "fa4545aa-f820-41f8-b8b8-2354804074a3",
   "metadata": {
    "tags": []
   },
   "outputs": [
    {
     "name": "stderr",
     "output_type": "stream",
     "text": [
      "C:\\Users\\bakhi\\anaconda3\\lib\\site-packages\\torchmetrics\\utilities\\prints.py:36: UserWarning: Metric `AUROC` will save all targets and predictions in buffer. For large datasets this may lead to large memory footprint.\n",
      "  warnings.warn(*args, **kwargs)\n"
     ]
    }
   ],
   "source": [
    "model = BTC_100()\n",
    "model.to(device)\n",
    "criterion = nn.BCEWithLogitsLoss()\n",
    "\n",
    "epochs = 500\n",
    "\n",
    "optimizer = torch.optim.Adam(model.parameters(), lr=0.0001)\n",
    "writer = SummaryWriter(log_dir = 'runs/' + str(model).split('(')[0])\n",
    "\n",
    "for t in range(epochs):\n",
    "    train(train_loader, model, criterion, optimizer, t)\n",
    "    test(valid_loader, model, t)\n",
    "    torch.save(model.state_dict(), 'models/' + str(model).split('(')[0] + '_tvt_' + str(t) + '.pt')\n",
    "\n",
    "writer.close()\n",
    "torch.cuda.empty_cache()"
   ]
  },
  {
   "cell_type": "code",
   "execution_count": 77,
   "id": "bd0e7daa-e238-48f4-817c-d23d3168d85c",
   "metadata": {
    "tags": []
   },
   "outputs": [
    {
     "name": "stdout",
     "output_type": "stream",
     "text": [
      "recall : 0.7307692307692307\n",
      "precision : 0.6495726495726496\n",
      "F1 : 0.6877828054298643\n",
      "acc : 0.6634146341463415\n"
     ]
    },
    {
     "data": {
      "text/plain": [
       "<sklearn.metrics._plot.roc_curve.RocCurveDisplay at 0x1435591dc40>"
      ]
     },
     "execution_count": 77,
     "metadata": {},
     "output_type": "execute_result"
    },
    {
     "data": {
      "image/png": "[encoded data removed]",
      "text/plain": [
       "<Figure size 432x288 with 2 Axes>"
      ]
     },
     "metadata": {
      "needs_background": "light"
     },
     "output_type": "display_data"
    },
    {
     "data": {
      "image/png": "[encoded data removed]",
      "text/plain": [
       "<Figure size 432x288 with 1 Axes>"
      ]
     },
     "metadata": {
      "needs_background": "light"
     },
     "output_type": "display_data"
    }
   ],
   "source": [
    "model = BTC_100()\n",
    "model_name = 'models/' + str(model).split('(')[0] + '_tvt_' + str(495) + '.pt'\n",
    "state_dict = torch.load(model_name)\n",
    "model.load_state_dict(state_dict)\n",
    "\n",
    "\n",
    "y_pred_list_rounded = []\n",
    "y_pred_list = []\n",
    "targets = []\n",
    "\n",
    "\n",
    "model.eval()\n",
    "with torch.no_grad():\n",
    "    for X_batch, y_batch in valid_loader:\n",
    "        X_batch, y_batch = X_batch.to(device), y_batch.to(device)\n",
    "        targets.append(y_batch)\n",
    "\n",
    "        y_test_pred = model(X_batch)\n",
    "        y_test_pred = torch.sigmoid(y_test_pred)\n",
    "        y_pred_tag = torch.round(y_test_pred)\n",
    "        y_pred_list_rounded.append(y_pred_tag.cpu().numpy())\n",
    "        y_pred_list.append(y_test_pred.cpu().numpy())\n",
    "\n",
    "y_pred_list_rounded = [a.squeeze().tolist() for a in y_pred_list_rounded]\n",
    "y_pred_list = [a.squeeze().tolist() for a in y_pred_list]\n",
    "targets = [a.squeeze().tolist() for a in targets]\n",
    "\n",
    "\n",
    "y_pred_list_rounded = [j for sub in y_pred_list_rounded for j in sub]\n",
    "y_pred_list = [j for sub in y_pred_list for j in sub]\n",
    "targets = [j for sub in targets for j in sub]\n",
    "\n",
    "cm = confusion_matrix(targets, y_pred_list_rounded)\n",
    "disp = ConfusionMatrixDisplay(confusion_matrix=cm, display_labels=['0', '1'])\n",
    "disp.plot()\n",
    "TP, FP, TN, FN = cm[1,1], cm[0,1], cm[0,0], cm[1,0]\n",
    "P = TP/(TP+FP)\n",
    "R = TP/(TP+FN)\n",
    "F1 = 2*P*R/(P+R)\n",
    "print(f'recall : {R}')\n",
    "print(f'precision : {P}')\n",
    "print(f'F1 : {F1}')\n",
    "print(f'acc : {(TP + TN)/(TP + TN + FP + FN)}')\n",
    "RocCurveDisplay.from_predictions(targets, y_pred_list)"
   ]
  },
  {
   "cell_type": "markdown",
   "id": "543d0598-0e0e-4fae-a961-143350999002",
   "metadata": {},
   "source": [
    "## model 101 reduced valid data set = 100 days"
   ]
  },
  {
   "cell_type": "code",
   "execution_count": 85,
   "id": "c50938c9-6e62-43c7-959e-9ed60fd72d5d",
   "metadata": {},
   "outputs": [],
   "source": [
    "class BTC_101(nn.Module):\n",
    "    def __init__(self):\n",
    "        super(BTC_101, self).__init__()\n",
    "        # Number of input features is 12.\n",
    "        self.layer_1 = nn.Linear(9, 16) \n",
    "        self.layer_2 = nn.Linear(16, 8)\n",
    "        self.layer_3 = nn.Linear(8, 4)\n",
    "        self.layer_out = nn.Linear(4, 1)\n",
    "        \n",
    "        self.relu = nn.ReLU()\n",
    "        self.dropout = nn.Dropout(p=0.1)\n",
    "        self.batchnorm1 = nn.BatchNorm1d(16)\n",
    "        self.batchnorm2 = nn.BatchNorm1d(8)\n",
    "        self.batchnorm3 = nn.BatchNorm1d(4)\n",
    "        \n",
    "    def forward(self, inputs):\n",
    "        x = self.relu(self.layer_1(inputs))\n",
    "        x = self.batchnorm1(x)\n",
    "        \n",
    "        x = self.relu(self.layer_2(x))\n",
    "        x = self.batchnorm2(x)\n",
    "        \n",
    "        x = self.relu(self.layer_3(x))\n",
    "        x = self.batchnorm3(x)\n",
    "        \n",
    "        x = self.dropout(x)\n",
    "        x = self.layer_out(x)\n",
    "        \n",
    "        return x"
   ]
  },
  {
   "cell_type": "code",
   "execution_count": 86,
   "id": "82c59b6c-75bd-46d6-bb16-f39b8008f6f9",
   "metadata": {},
   "outputs": [
    {
     "name": "stdout",
     "output_type": "stream",
     "text": [
      "cpu\n"
     ]
    }
   ],
   "source": [
    "device = torch.device(\"cpu\")\n",
    "print(device)"
   ]
  },
  {
   "cell_type": "code",
   "execution_count": 87,
   "id": "6d4abc60-0163-4d69-8427-9319279aa364",
   "metadata": {
    "tags": []
   },
   "outputs": [
    {
     "name": "stderr",
     "output_type": "stream",
     "text": [
      "C:\\Users\\bakhi\\anaconda3\\lib\\site-packages\\torchmetrics\\utilities\\prints.py:36: UserWarning: Metric `AUROC` will save all targets and predictions in buffer. For large datasets this may lead to large memory footprint.\n",
      "  warnings.warn(*args, **kwargs)\n"
     ]
    }
   ],
   "source": [
    "model = BTC_101()\n",
    "model.to(device)\n",
    "criterion = nn.BCEWithLogitsLoss()\n",
    "\n",
    "epochs = 500\n",
    "\n",
    "optimizer = torch.optim.Adam(model.parameters(), lr=0.0001)\n",
    "writer = SummaryWriter(log_dir = 'runs/' + str(model).split('(')[0])\n",
    "\n",
    "for t in range(epochs):\n",
    "    train(train_loader, model, criterion, optimizer, t)\n",
    "    test(valid_loader, model, t)\n",
    "    torch.save(model.state_dict(), 'models/' + str(model).split('(')[0] + '_tvt_' + str(t) + '.pt')\n",
    "\n",
    "writer.close()\n",
    "torch.cuda.empty_cache()"
   ]
  },
  {
   "cell_type": "code",
   "execution_count": 88,
   "id": "b044a44b-1e4d-4b24-97cb-8639305880b2",
   "metadata": {
    "tags": []
   },
   "outputs": [
    {
     "name": "stdout",
     "output_type": "stream",
     "text": [
      "recall : 0.673469387755102\n",
      "precision : 0.6875\n",
      "F1 : 0.6804123711340205\n",
      "acc : 0.696078431372549\n"
     ]
    },
    {
     "data": {
      "text/plain": [
       "<sklearn.metrics._plot.roc_curve.RocCurveDisplay at 0x1435d2f0eb0>"
      ]
     },
     "execution_count": 88,
     "metadata": {},
     "output_type": "execute_result"
    },
    {
     "data": {
      "image/png": "[encoded data removed]",
      "text/plain": [
       "<Figure size 432x288 with 2 Axes>"
      ]
     },
     "metadata": {
      "needs_background": "light"
     },
     "output_type": "display_data"
    },
    {
     "data": {
      "image/png": "[encoded data removed]",
      "text/plain": [
       "<Figure size 432x288 with 1 Axes>"
      ]
     },
     "metadata": {
      "needs_background": "light"
     },
     "output_type": "display_data"
    }
   ],
   "source": [
    "model = BTC_101()\n",
    "model_name = 'models/' + str(model).split('(')[0] + '_tvt_' + str(495) + '.pt'\n",
    "state_dict = torch.load(model_name)\n",
    "model.load_state_dict(state_dict)\n",
    "\n",
    "\n",
    "y_pred_list_rounded = []\n",
    "y_pred_list = []\n",
    "targets = []\n",
    "\n",
    "\n",
    "model.eval()\n",
    "with torch.no_grad():\n",
    "    for X_batch, y_batch in valid_loader:\n",
    "        X_batch, y_batch = X_batch.to(device), y_batch.to(device)\n",
    "        targets.append(y_batch)\n",
    "\n",
    "        y_test_pred = model(X_batch)\n",
    "        y_test_pred = torch.sigmoid(y_test_pred)\n",
    "        y_pred_tag = torch.round(y_test_pred)\n",
    "        y_pred_list_rounded.append(y_pred_tag.cpu().numpy())\n",
    "        y_pred_list.append(y_test_pred.cpu().numpy())\n",
    "\n",
    "y_pred_list_rounded = [a.squeeze().tolist() for a in y_pred_list_rounded]\n",
    "y_pred_list = [a.squeeze().tolist() for a in y_pred_list]\n",
    "targets = [a.squeeze().tolist() for a in targets]\n",
    "\n",
    "\n",
    "y_pred_list_rounded = [j for sub in y_pred_list_rounded for j in sub]\n",
    "y_pred_list = [j for sub in y_pred_list for j in sub]\n",
    "targets = [j for sub in targets for j in sub]\n",
    "\n",
    "cm = confusion_matrix(targets, y_pred_list_rounded)\n",
    "disp = ConfusionMatrixDisplay(confusion_matrix=cm, display_labels=['0', '1'])\n",
    "disp.plot()\n",
    "TP, FP, TN, FN = cm[1,1], cm[0,1], cm[0,0], cm[1,0]\n",
    "P = TP/(TP+FP)\n",
    "R = TP/(TP+FN)\n",
    "F1 = 2*P*R/(P+R)\n",
    "print(f'recall : {R}')\n",
    "print(f'precision : {P}')\n",
    "print(f'F1 : {F1}')\n",
    "print(f'acc : {(TP + TN)/(TP + TN + FP + FN)}')\n",
    "RocCurveDisplay.from_predictions(targets, y_pred_list)"
   ]
  },
  {
   "cell_type": "markdown",
   "id": "316e0a0d-5e40-48c8-a2eb-d0b7bd4b496c",
   "metadata": {},
   "source": [
    "## model 102 reduced valid data set = 30 days"
   ]
  },
  {
   "cell_type": "code",
   "execution_count": 96,
   "id": "1c731634-8f12-4d5d-99e8-f1782a803783",
   "metadata": {},
   "outputs": [],
   "source": [
    "class BTC_102(nn.Module):\n",
    "    def __init__(self):\n",
    "        super(BTC_102, self).__init__()\n",
    "        # Number of input features is 12.\n",
    "        self.layer_1 = nn.Linear(9, 16) \n",
    "        self.layer_2 = nn.Linear(16, 8)\n",
    "        self.layer_3 = nn.Linear(8, 4)\n",
    "        self.layer_out = nn.Linear(4, 1)\n",
    "        \n",
    "        self.relu = nn.ReLU()\n",
    "        self.dropout = nn.Dropout(p=0.1)\n",
    "        self.batchnorm1 = nn.BatchNorm1d(16)\n",
    "        self.batchnorm2 = nn.BatchNorm1d(8)\n",
    "        self.batchnorm3 = nn.BatchNorm1d(4)\n",
    "        \n",
    "    def forward(self, inputs):\n",
    "        x = self.relu(self.layer_1(inputs))\n",
    "        x = self.batchnorm1(x)\n",
    "        \n",
    "        x = self.relu(self.layer_2(x))\n",
    "        x = self.batchnorm2(x)\n",
    "        \n",
    "        x = self.relu(self.layer_3(x))\n",
    "        x = self.batchnorm3(x)\n",
    "        \n",
    "        x = self.dropout(x)\n",
    "        x = self.layer_out(x)\n",
    "        \n",
    "        return x"
   ]
  },
  {
   "cell_type": "code",
   "execution_count": 97,
   "id": "2b8019b9-4b6f-477b-a1e8-9703682ccd27",
   "metadata": {},
   "outputs": [
    {
     "name": "stdout",
     "output_type": "stream",
     "text": [
      "cpu\n"
     ]
    }
   ],
   "source": [
    "device = torch.device(\"cpu\")\n",
    "print(device)"
   ]
  },
  {
   "cell_type": "code",
   "execution_count": 98,
   "id": "f31e1811-e8d7-40e2-afad-e69d7f019fe0",
   "metadata": {
    "tags": []
   },
   "outputs": [
    {
     "name": "stderr",
     "output_type": "stream",
     "text": [
      "C:\\Users\\bakhi\\anaconda3\\lib\\site-packages\\torchmetrics\\utilities\\prints.py:36: UserWarning: Metric `AUROC` will save all targets and predictions in buffer. For large datasets this may lead to large memory footprint.\n",
      "  warnings.warn(*args, **kwargs)\n"
     ]
    }
   ],
   "source": [
    "model = BTC_102()\n",
    "model.to(device)\n",
    "criterion = nn.BCEWithLogitsLoss()\n",
    "\n",
    "epochs = 500\n",
    "\n",
    "optimizer = torch.optim.Adam(model.parameters(), lr=0.0001)\n",
    "writer = SummaryWriter(log_dir = 'runs/' + str(model).split('(')[0])\n",
    "\n",
    "for t in range(epochs):\n",
    "    train(train_loader, model, criterion, optimizer, t)\n",
    "    test(valid_loader, model, t)\n",
    "    torch.save(model.state_dict(), 'models/' + str(model).split('(')[0] + '_tvt_' + str(t) + '.pt')\n",
    "\n",
    "writer.close()\n",
    "torch.cuda.empty_cache()"
   ]
  },
  {
   "cell_type": "code",
   "execution_count": 99,
   "id": "c776671a-7c39-45dd-8f4e-af8916528029",
   "metadata": {
    "tags": []
   },
   "outputs": [
    {
     "name": "stdout",
     "output_type": "stream",
     "text": [
      "recall : 0.5\n",
      "precision : 0.8461538461538461\n",
      "F1 : 0.6285714285714286\n",
      "acc : 0.6829268292682927\n"
     ]
    },
    {
     "data": {
      "text/plain": [
       "<sklearn.metrics._plot.roc_curve.RocCurveDisplay at 0x1435d4f2be0>"
      ]
     },
     "execution_count": 99,
     "metadata": {},
     "output_type": "execute_result"
    },
    {
     "data": {
      "image/png": "[encoded data removed]",
      "text/plain": [
       "<Figure size 432x288 with 2 Axes>"
      ]
     },
     "metadata": {
      "needs_background": "light"
     },
     "output_type": "display_data"
    },
    {
     "data": {
      "image/png": "[encoded data removed]",
      "text/plain": [
       "<Figure size 432x288 with 1 Axes>"
      ]
     },
     "metadata": {
      "needs_background": "light"
     },
     "output_type": "display_data"
    }
   ],
   "source": [
    "model = BTC_102()\n",
    "model_name = 'models/' + str(model).split('(')[0] + '_tvt_' + str(495) + '.pt'\n",
    "state_dict = torch.load(model_name)\n",
    "model.load_state_dict(state_dict)\n",
    "\n",
    "\n",
    "y_pred_list_rounded = []\n",
    "y_pred_list = []\n",
    "targets = []\n",
    "\n",
    "\n",
    "model.eval()\n",
    "with torch.no_grad():\n",
    "    for X_batch, y_batch in valid_loader:\n",
    "        X_batch, y_batch = X_batch.to(device), y_batch.to(device)\n",
    "        targets.append(y_batch)\n",
    "\n",
    "        y_test_pred = model(X_batch)\n",
    "        y_test_pred = torch.sigmoid(y_test_pred)\n",
    "        y_pred_tag = torch.round(y_test_pred)\n",
    "        y_pred_list_rounded.append(y_pred_tag.cpu().numpy())\n",
    "        y_pred_list.append(y_test_pred.cpu().numpy())\n",
    "\n",
    "y_pred_list_rounded = [a.squeeze().tolist() for a in y_pred_list_rounded]\n",
    "y_pred_list = [a.squeeze().tolist() for a in y_pred_list]\n",
    "targets = [a.squeeze().tolist() for a in targets]\n",
    "\n",
    "\n",
    "y_pred_list_rounded = [j for sub in y_pred_list_rounded for j in sub]\n",
    "y_pred_list = [j for sub in y_pred_list for j in sub]\n",
    "targets = [j for sub in targets for j in sub]\n",
    "\n",
    "cm = confusion_matrix(targets, y_pred_list_rounded)\n",
    "disp = ConfusionMatrixDisplay(confusion_matrix=cm, display_labels=['0', '1'])\n",
    "disp.plot()\n",
    "TP, FP, TN, FN = cm[1,1], cm[0,1], cm[0,0], cm[1,0]\n",
    "P = TP/(TP+FP)\n",
    "R = TP/(TP+FN)\n",
    "F1 = 2*P*R/(P+R)\n",
    "print(f'recall : {R}')\n",
    "print(f'precision : {P}')\n",
    "print(f'F1 : {F1}')\n",
    "print(f'acc : {(TP + TN)/(TP + TN + FP + FN)}')\n",
    "RocCurveDisplay.from_predictions(targets, y_pred_list)"
   ]
  },
  {
   "cell_type": "code",
   "execution_count": null,
   "id": "b2e93aa6-a919-42e4-aef5-27d9280ea872",
   "metadata": {},
   "outputs": [],
   "source": []
  }
 ],
 "metadata": {
  "kernelspec": {
   "display_name": "Python 3",
   "language": "python",
   "name": "python3"
  },
  "language_info": {
   "codemirror_mode": {
    "name": "ipython",
    "version": 3
   },
   "file_extension": ".py",
   "mimetype": "text/x-python",
   "name": "python",
   "nbconvert_exporter": "python",
   "pygments_lexer": "ipython3",
   "version": "3.8.8"
  }
 },
 "nbformat": 4,
 "nbformat_minor": 5
}
