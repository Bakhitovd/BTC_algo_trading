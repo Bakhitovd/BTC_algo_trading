{
 "cells": [
  {
   "cell_type": "code",
   "execution_count": 1,
   "id": "a22b98d4-1f5a-4504-8741-aaa6320485aa",
   "metadata": {},
   "outputs": [],
   "source": [
    "api_key = '#################################################################'\n",
    "secret = '#################################################################'"
   ]
  },
  {
   "cell_type": "code",
   "execution_count": 1,
   "id": "e3c145d4-38ea-40d0-b96d-487600e4ac87",
   "metadata": {},
   "outputs": [],
   "source": [
    "from BTC import get_new_data, get_hist_data,indi_calc,strategy_calc"
   ]
  },
  {
   "cell_type": "code",
   "execution_count": 2,
   "id": "58d0a775-16d2-4f28-9b75-6b156bafd92d",
   "metadata": {},
   "outputs": [],
   "source": [
    "import pandas as pd\n",
    "import random\n",
    "from datetime import datetime\n",
    "from prophet import Prophet\n",
    "from binance.futures import Futures as Client\n",
    "import plotly.graph_objects as go\n",
    "from plotly.subplots import make_subplots\n",
    "from fitter import Fitter, get_common_distributions, get_distributions"
   ]
  },
  {
   "cell_type": "code",
   "execution_count": 3,
   "id": "4fe44534-5165-4fd9-964a-34151c754f62",
   "metadata": {},
   "outputs": [],
   "source": [
    "import itertools\n",
    "import numpy as np\n",
    "from prophet.diagnostics import cross_validation\n",
    "from prophet.diagnostics import performance_metrics"
   ]
  },
  {
   "cell_type": "code",
   "execution_count": 4,
   "id": "65b70100-ec73-42a8-a407-32f850eb6160",
   "metadata": {},
   "outputs": [],
   "source": [
    "import numpy as np\n",
    "import matplotlib.pyplot as plt\n",
    "import seaborn as sns\n",
    "%matplotlib inline"
   ]
  },
  {
   "cell_type": "code",
   "execution_count": 39,
   "id": "160abe50-1e8a-4ef1-9ad9-45fbade9db84",
   "metadata": {},
   "outputs": [],
   "source": [
    "import torchmetrics\n",
    "from torchmetrics import MetricCollection, Accuracy, Specificity, Precision, Recall, AUROC, F1Score\n",
    "from sklearn.metrics import confusion_matrix, ConfusionMatrixDisplay, roc_curve, RocCurveDisplay\n",
    "from sklearn.model_selection import train_test_split\n",
    "from torchvision import models, transforms\n",
    "from torchsummary import summary"
   ]
  },
  {
   "cell_type": "code",
   "execution_count": 6,
   "id": "518f7f9b-c8bf-481a-a304-e4d8c97d14a9",
   "metadata": {},
   "outputs": [],
   "source": [
    "import ta\n",
    "import arff"
   ]
  },
  {
   "cell_type": "code",
   "execution_count": 327,
   "id": "ba73c1a8-6cc7-4ba8-9f66-54f2c5b054fe",
   "metadata": {},
   "outputs": [],
   "source": [
    "import numpy as np\n",
    "import pandas as pd\n",
    "import seaborn as sns\n",
    "import matplotlib.pyplot as plt\n",
    "\n",
    "import torch\n",
    "import torch.nn as nn\n",
    "import torch.optim as optim\n",
    "from torch.utils.data import Dataset, DataLoader\n",
    "import torch.nn.functional as F\n",
    "\n",
    "from sklearn.preprocessing import StandardScaler    \n",
    "from sklearn.model_selection import train_test_split\n",
    "from sklearn.metrics import confusion_matrix, classification_report\n",
    "\n",
    "from torchvision import datasets, models, transforms\n",
    "from torchinfo import summary\n",
    "from torch.utils.tensorboard import SummaryWriter\n",
    "\n",
    "import optuna"
   ]
  },
  {
   "cell_type": "code",
   "execution_count": 7,
   "id": "44fb004a-b9ff-4824-ac76-885faa9200b6",
   "metadata": {},
   "outputs": [],
   "source": [
    "futures_client = Client()"
   ]
  },
  {
   "cell_type": "markdown",
   "id": "e9acb639-2776-485d-acb6-d2fab5cdeeba",
   "metadata": {},
   "source": [
    "# I need horizontal logariphmic scaling of past data for NN"
   ]
  },
  {
   "cell_type": "markdown",
   "id": "eaa879c0-73b3-4131-8ea5-e98a0276c636",
   "metadata": {},
   "source": [
    "# data preparatiom\n",
    "This data set contain price, voluem, RSI and ADX\\\n",
    "Next iteration open interest will be added"
   ]
  },
  {
   "cell_type": "markdown",
   "id": "32289653-74e9-4b38-9276-7518105ff1ae",
   "metadata": {},
   "source": [
    "## price data import"
   ]
  },
  {
   "cell_type": "code",
   "execution_count": 14,
   "id": "5a9871fb-4214-4ff3-9a64-d148965080a8",
   "metadata": {
    "tags": []
   },
   "outputs": [],
   "source": [
    "collumns2 = [\n",
    "'Open time',\n",
    "'Open',\n",
    "'High',\n",
    "'Low',\n",
    "'Close',\n",
    "'Volume',\n",
    "'Close time',\n",
    "'Quote asset volume',\n",
    "'Number of trades',\n",
    "'Taker buy base asset volume',\n",
    "'Taker buy quote asset volume',\n",
    "'Ignore'\n",
    "]"
   ]
  },
  {
   "cell_type": "code",
   "execution_count": 76,
   "id": "28d8500f-e94f-4a49-a702-ea83122de8b5",
   "metadata": {
    "slideshow": {
     "slide_type": "slide"
    },
    "tags": []
   },
   "outputs": [],
   "source": [
    "def to_df(data_as_array):\n",
    "    df=pd.DataFrame(data_as_array, columns = collumns2)\n",
    "    df['Open time'] = df.apply(lambda x: datetime.fromtimestamp(int(x['Open time'])/1000) , axis=1)\n",
    "    df['Close time'] = df.apply(lambda x: datetime.fromtimestamp(int(x['Close time'])/1000) , axis=1)\n",
    "    df.drop(columns = ['Close time', 'Quote asset volume', 'Number of trades', 'Taker buy base asset volume', 'Taker buy quote asset volume', 'Ignore'], inplace = True)\n",
    "    df[['Open', 'High', 'Low', 'Close', 'Volume']] = df[['Open', 'High', 'Low', 'Close', 'Volume']].astype('float32', copy=False)\n",
    "    return df"
   ]
  },
  {
   "cell_type": "code",
   "execution_count": 54,
   "id": "55dc4ad6-0602-416c-ba9a-bea559cb9c8e",
   "metadata": {},
   "outputs": [],
   "source": [
    "data_1h = futures_client.klines(\"BTCUSDT\", \"1h\", **{\"limit\": 1500})"
   ]
  },
  {
   "cell_type": "code",
   "execution_count": 55,
   "id": "583c8e91-29ab-4069-add0-68d5e1902913",
   "metadata": {},
   "outputs": [],
   "source": [
    "df = to_df(data_1h)"
   ]
  },
  {
   "cell_type": "code",
   "execution_count": 48,
   "id": "2bbff2ed-be45-4abe-b7dc-dd1de7156131",
   "metadata": {
    "tags": []
   },
   "outputs": [
    {
     "data": {
      "text/html": [
       "<div>\n",
       "<style scoped>\n",
       "    .dataframe tbody tr th:only-of-type {\n",
       "        vertical-align: middle;\n",
       "    }\n",
       "\n",
       "    .dataframe tbody tr th {\n",
       "        vertical-align: top;\n",
       "    }\n",
       "\n",
       "    .dataframe thead th {\n",
       "        text-align: right;\n",
       "    }\n",
       "</style>\n",
       "<table border=\"1\" class=\"dataframe\">\n",
       "  <thead>\n",
       "    <tr style=\"text-align: right;\">\n",
       "      <th></th>\n",
       "      <th>Open time</th>\n",
       "      <th>Open</th>\n",
       "      <th>High</th>\n",
       "      <th>Low</th>\n",
       "      <th>Close</th>\n",
       "      <th>Volume</th>\n",
       "    </tr>\n",
       "  </thead>\n",
       "  <tbody>\n",
       "    <tr>\n",
       "      <th>0</th>\n",
       "      <td>2022-05-13 00:00:00</td>\n",
       "      <td>30564.400391</td>\n",
       "      <td>30608.300781</td>\n",
       "      <td>30243.699219</td>\n",
       "      <td>30453.800781</td>\n",
       "      <td>15214.172</td>\n",
       "    </tr>\n",
       "    <tr>\n",
       "      <th>1</th>\n",
       "      <td>2022-05-13 01:00:00</td>\n",
       "      <td>30453.800781</td>\n",
       "      <td>31072.599609</td>\n",
       "      <td>30411.199219</td>\n",
       "      <td>30519.900391</td>\n",
       "      <td>29269.409</td>\n",
       "    </tr>\n",
       "    <tr>\n",
       "      <th>2</th>\n",
       "      <td>2022-05-13 02:00:00</td>\n",
       "      <td>30520.000000</td>\n",
       "      <td>30670.800781</td>\n",
       "      <td>30306.400391</td>\n",
       "      <td>30377.699219</td>\n",
       "      <td>15860.543</td>\n",
       "    </tr>\n",
       "    <tr>\n",
       "      <th>3</th>\n",
       "      <td>2022-05-13 03:00:00</td>\n",
       "      <td>30377.800781</td>\n",
       "      <td>30492.800781</td>\n",
       "      <td>30153.000000</td>\n",
       "      <td>30172.300781</td>\n",
       "      <td>16141.953</td>\n",
       "    </tr>\n",
       "    <tr>\n",
       "      <th>4</th>\n",
       "      <td>2022-05-13 04:00:00</td>\n",
       "      <td>30172.400391</td>\n",
       "      <td>30443.699219</td>\n",
       "      <td>30168.199219</td>\n",
       "      <td>30324.500000</td>\n",
       "      <td>15571.705</td>\n",
       "    </tr>\n",
       "  </tbody>\n",
       "</table>\n",
       "</div>"
      ],
      "text/plain": [
       "            Open time          Open          High           Low         Close  \\\n",
       "0 2022-05-13 00:00:00  30564.400391  30608.300781  30243.699219  30453.800781   \n",
       "1 2022-05-13 01:00:00  30453.800781  31072.599609  30411.199219  30519.900391   \n",
       "2 2022-05-13 02:00:00  30520.000000  30670.800781  30306.400391  30377.699219   \n",
       "3 2022-05-13 03:00:00  30377.800781  30492.800781  30153.000000  30172.300781   \n",
       "4 2022-05-13 04:00:00  30172.400391  30443.699219  30168.199219  30324.500000   \n",
       "\n",
       "      Volume  \n",
       "0  15214.172  \n",
       "1  29269.409  \n",
       "2  15860.543  \n",
       "3  16141.953  \n",
       "4  15571.705  "
      ]
     },
     "execution_count": 48,
     "metadata": {},
     "output_type": "execute_result"
    }
   ],
   "source": [
    "df.head(5)"
   ]
  },
  {
   "cell_type": "code",
   "execution_count": 77,
   "id": "f5a01102-cf7a-47fd-bbf3-9d5881834ccd",
   "metadata": {},
   "outputs": [],
   "source": [
    "datetime_1 = int(datetime.timestamp(datetime.fromisoformat('2021-01-01 00:00:00'))*1000)\n",
    "datetime_2 = int(datetime.timestamp(datetime.fromisoformat('2022-07-15 00:00:00'))*1000)"
   ]
  },
  {
   "cell_type": "code",
   "execution_count": 78,
   "id": "48bf09b6-bde8-4124-a0b5-82ab075d872a",
   "metadata": {},
   "outputs": [],
   "source": [
    "def make_df_BTC_1h(start_date, end_date, safe_df: bool = False, limit: int = 1000):\n",
    "    \"\"\"\n",
    "    start_date, end_date - timestamp\n",
    "    \"\"\"\n",
    "    df = pd.DataFrame(columns = ['Open time', 'Open', 'High', 'Low', 'Close', 'Volume'])\n",
    "    num_of_tab_1 = int((end_date - start_date)/60/60/1000//limit)\n",
    "    for i in range(num_of_tab_1+1):\n",
    "        cur_startTime = int(i*1000*60*60*limit + start_date)\n",
    "        data = futures_client.klines(\"BTCUSDT\", \"1h\", **{\"limit\": limit, 'startTime': cur_startTime})\n",
    "        df = pd.concat([df, to_df(data)], ignore_index = True)\n",
    "        \n",
    "    if safe_df == True:\n",
    "        start_for_safe = str(datetime.fromtimestamp(start_date).year) + \"_\" + str(datetime.fromtimestamp(start_date).month)+ \"_\" + str(datetime.fromtimestamp(start_date).day)\n",
    "        stop_for_safe = str(datetime.fromtimestamp(end_date).year) + \"_\" + str(datetime.fromtimestamp(end_date).month)+ \"_\" + str(datetime.fromtimestamp(end_date).day)\n",
    "        df.to_csv('df_BTC_1h{}-{}.csv'.format(start_for_safe, stop_for_safe), index = False)\n",
    "    return df"
   ]
  },
  {
   "cell_type": "code",
   "execution_count": 129,
   "id": "a368f3bc-4603-4209-909c-bfbdaaf5e7b2",
   "metadata": {},
   "outputs": [],
   "source": [
    "df = make_df_BTC_1h(datetime_1, datetime_2, False, limit = 1000)"
   ]
  },
  {
   "cell_type": "markdown",
   "id": "48c69fa0-7334-476a-9e9e-49efacc661b2",
   "metadata": {},
   "source": [
    "## indicators calculation"
   ]
  },
  {
   "cell_type": "code",
   "execution_count": 11,
   "id": "c37fc2fe-b554-4e3d-8415-39c28e56a734",
   "metadata": {
    "tags": []
   },
   "outputs": [
    {
     "name": "stderr",
     "output_type": "stream",
     "text": [
      "C:\\Users\\bakhi\\anaconda3\\lib\\site-packages\\ta\\trend.py:769: RuntimeWarning: invalid value encountered in double_scalars\n",
      "  dip[idx] = 100 * (self._dip[idx] / value)\n",
      "C:\\Users\\bakhi\\anaconda3\\lib\\site-packages\\ta\\trend.py:774: RuntimeWarning: invalid value encountered in double_scalars\n",
      "  din[idx] = 100 * (self._din[idx] / value)\n",
      "C:\\Users\\bakhi\\anaconda3\\lib\\site-packages\\ta\\trend.py:769: RuntimeWarning: invalid value encountered in double_scalars\n",
      "  dip[idx] = 100 * (self._dip[idx] / value)\n",
      "C:\\Users\\bakhi\\anaconda3\\lib\\site-packages\\ta\\trend.py:774: RuntimeWarning: invalid value encountered in double_scalars\n",
      "  din[idx] = 100 * (self._din[idx] / value)\n",
      "C:\\Users\\bakhi\\anaconda3\\lib\\site-packages\\ta\\trend.py:769: RuntimeWarning: invalid value encountered in double_scalars\n",
      "  dip[idx] = 100 * (self._dip[idx] / value)\n",
      "C:\\Users\\bakhi\\anaconda3\\lib\\site-packages\\ta\\trend.py:774: RuntimeWarning: invalid value encountered in double_scalars\n",
      "  din[idx] = 100 * (self._din[idx] / value)\n",
      "C:\\Users\\bakhi\\anaconda3\\lib\\site-packages\\ta\\trend.py:769: RuntimeWarning: invalid value encountered in double_scalars\n",
      "  dip[idx] = 100 * (self._dip[idx] / value)\n",
      "C:\\Users\\bakhi\\anaconda3\\lib\\site-packages\\ta\\trend.py:774: RuntimeWarning: invalid value encountered in double_scalars\n",
      "  din[idx] = 100 * (self._din[idx] / value)\n"
     ]
    }
   ],
   "source": [
    "df_RSI_ADX = indi_calc(df).RSI_ADX(14,14)\n",
    "df_RSI_ADX_4 = indi_calc(df).RSI_ADX(14*4,14*4)\n",
    "df_RSI_ADX_12 = indi_calc(df).RSI_ADX(14*12,14*12)\n",
    "df_RSI_ADX_24 = indi_calc(df).RSI_ADX(14*24,14*24)"
   ]
  },
  {
   "cell_type": "markdown",
   "id": "e2d10424-b796-46af-9e16-b69a5b7db6f9",
   "metadata": {},
   "source": [
    "## volume change calculation"
   ]
  },
  {
   "cell_type": "code",
   "execution_count": 147,
   "id": "bb1cacbb-ad92-420a-9586-f372db9c16de",
   "metadata": {},
   "outputs": [],
   "source": [
    "# multiplicator = 0.2\n",
    "percent_vol = []\n",
    "cum_volume_step = 4\n",
    "i = 0\n",
    "for v in df.Volume:\n",
    "    if cum_volume_step > i:\n",
    "        percent_vol.append(np.nan)\n",
    "    else:\n",
    "        percent_vol.append(0.2*100*v/df.Volume[i-cum_volume_step:i].sum())\n",
    "    i+=1\n",
    "df['Vol_4'] = percent_vol"
   ]
  },
  {
   "cell_type": "code",
   "execution_count": 143,
   "id": "180c0af8-fb64-408a-9b85-87f60921bae2",
   "metadata": {},
   "outputs": [],
   "source": [
    "# multiplicator = 0.5\n",
    "percent_vol = []\n",
    "cum_volume_step = 12\n",
    "i = 0\n",
    "for v in df.Volume:\n",
    "    if cum_volume_step > i:\n",
    "        percent_vol.append(np.nan)\n",
    "    else:\n",
    "        percent_vol.append(0.5*100*v/df.Volume[i-cum_volume_step:i].sum())\n",
    "    i+=1\n",
    "df['Vol_12'] = percent_vol"
   ]
  },
  {
   "cell_type": "code",
   "execution_count": 133,
   "id": "e467f53f-4942-4c36-9b42-800e1cfacaf2",
   "metadata": {},
   "outputs": [],
   "source": [
    "percent_vol = []\n",
    "cum_volume_step = 24\n",
    "i = 0\n",
    "for v in df.Volume:\n",
    "    if cum_volume_step > i:\n",
    "        percent_vol.append(np.nan)\n",
    "    else:\n",
    "        percent_vol.append(100*v/df.Volume[i-cum_volume_step:i].sum())\n",
    "    i+=1\n",
    "df['Vol_24'] = percent_vol"
   ]
  },
  {
   "cell_type": "code",
   "execution_count": 139,
   "id": "20b53cee-1d5a-4bfd-89db-451ddba4cd45",
   "metadata": {},
   "outputs": [],
   "source": [
    "# multiplicator = 10\n",
    "percent_vol = []\n",
    "cum_volume_step = 24*7\n",
    "i = 0\n",
    "for v in df.Volume:\n",
    "    if cum_volume_step > i:\n",
    "        percent_vol.append(np.nan)\n",
    "    else:\n",
    "        percent_vol.append(10*100*v/df.Volume[i-cum_volume_step:i].sum())\n",
    "    i+=1\n",
    "df['Vol_week'] = percent_vol"
   ]
  },
  {
   "cell_type": "code",
   "execution_count": 141,
   "id": "c6021d9f-9816-4b1f-93c8-3b22ce35dc56",
   "metadata": {},
   "outputs": [],
   "source": [
    "# multiplicator = 40\n",
    "percent_vol = []\n",
    "cum_volume_step = 24*30\n",
    "i = 0\n",
    "for v in df.Volume:\n",
    "    if cum_volume_step > i:\n",
    "        percent_vol.append(np.nan)\n",
    "    else:\n",
    "        percent_vol.append(40*100*v/df.Volume[i-cum_volume_step:i].sum())\n",
    "    i+=1\n",
    "df['Vol_month'] = percent_vol"
   ]
  },
  {
   "cell_type": "code",
   "execution_count": 136,
   "id": "1b61d6c0-4be8-4a01-aa10-ff171b4c4a8c",
   "metadata": {},
   "outputs": [
    {
     "name": "stdout",
     "output_type": "stream",
     "text": [
      "<class 'pandas.core.frame.DataFrame'>\n",
      "RangeIndex: 13463 entries, 0 to 13462\n",
      "Data columns (total 11 columns):\n",
      " #   Column     Non-Null Count  Dtype         \n",
      "---  ------     --------------  -----         \n",
      " 0   Open time  13463 non-null  datetime64[ns]\n",
      " 1   Open       13463 non-null  float32       \n",
      " 2   High       13463 non-null  float32       \n",
      " 3   Low        13463 non-null  float32       \n",
      " 4   Close      13463 non-null  float32       \n",
      " 5   Volume     13463 non-null  float32       \n",
      " 6   Vol_4      13459 non-null  float64       \n",
      " 7   Vol_12     13451 non-null  float64       \n",
      " 8   Vol_24     13439 non-null  float64       \n",
      " 9   Vol_week   13295 non-null  float64       \n",
      " 10  Vol_month  12743 non-null  float64       \n",
      "dtypes: datetime64[ns](1), float32(5), float64(5)\n",
      "memory usage: 894.2 KB\n"
     ]
    }
   ],
   "source": [
    "df.info()"
   ]
  },
  {
   "cell_type": "code",
   "execution_count": 148,
   "id": "563eff03-8622-46f4-a17a-41ee06677b81",
   "metadata": {},
   "outputs": [
    {
     "data": {
      "text/html": [
       "<div>\n",
       "<style scoped>\n",
       "    .dataframe tbody tr th:only-of-type {\n",
       "        vertical-align: middle;\n",
       "    }\n",
       "\n",
       "    .dataframe tbody tr th {\n",
       "        vertical-align: top;\n",
       "    }\n",
       "\n",
       "    .dataframe thead th {\n",
       "        text-align: right;\n",
       "    }\n",
       "</style>\n",
       "<table border=\"1\" class=\"dataframe\">\n",
       "  <thead>\n",
       "    <tr style=\"text-align: right;\">\n",
       "      <th></th>\n",
       "      <th>Open</th>\n",
       "      <th>High</th>\n",
       "      <th>Low</th>\n",
       "      <th>Close</th>\n",
       "      <th>Volume</th>\n",
       "      <th>Vol_4</th>\n",
       "      <th>Vol_12</th>\n",
       "      <th>Vol_24</th>\n",
       "      <th>Vol_week</th>\n",
       "      <th>Vol_month</th>\n",
       "    </tr>\n",
       "  </thead>\n",
       "  <tbody>\n",
       "    <tr>\n",
       "      <th>count</th>\n",
       "      <td>13463.000000</td>\n",
       "      <td>13463.000000</td>\n",
       "      <td>13463.000000</td>\n",
       "      <td>13463.000000</td>\n",
       "      <td>13463.000000</td>\n",
       "      <td>13459.000000</td>\n",
       "      <td>13451.000000</td>\n",
       "      <td>13439.000000</td>\n",
       "      <td>13295.000000</td>\n",
       "      <td>12743.000000</td>\n",
       "    </tr>\n",
       "    <tr>\n",
       "      <th>mean</th>\n",
       "      <td>43275.371094</td>\n",
       "      <td>43537.007812</td>\n",
       "      <td>43001.296875</td>\n",
       "      <td>43274.757812</td>\n",
       "      <td>17135.841797</td>\n",
       "      <td>5.476938</td>\n",
       "      <td>4.465122</td>\n",
       "      <td>4.312756</td>\n",
       "      <td>6.050006</td>\n",
       "      <td>5.726578</td>\n",
       "    </tr>\n",
       "    <tr>\n",
       "      <th>std</th>\n",
       "      <td>10896.250000</td>\n",
       "      <td>10930.499023</td>\n",
       "      <td>10858.110352</td>\n",
       "      <td>10897.347656</td>\n",
       "      <td>15111.171875</td>\n",
       "      <td>3.727005</td>\n",
       "      <td>3.308279</td>\n",
       "      <td>3.171097</td>\n",
       "      <td>4.766301</td>\n",
       "      <td>4.781571</td>\n",
       "    </tr>\n",
       "    <tr>\n",
       "      <th>min</th>\n",
       "      <td>17798.000000</td>\n",
       "      <td>18147.000000</td>\n",
       "      <td>17593.199219</td>\n",
       "      <td>17798.000000</td>\n",
       "      <td>63.931999</td>\n",
       "      <td>0.027232</td>\n",
       "      <td>0.018010</td>\n",
       "      <td>0.020249</td>\n",
       "      <td>0.022660</td>\n",
       "      <td>0.027431</td>\n",
       "    </tr>\n",
       "    <tr>\n",
       "      <th>25%</th>\n",
       "      <td>35931.250000</td>\n",
       "      <td>36200.000000</td>\n",
       "      <td>35663.800781</td>\n",
       "      <td>35931.250000</td>\n",
       "      <td>7809.509521</td>\n",
       "      <td>3.286788</td>\n",
       "      <td>2.487734</td>\n",
       "      <td>2.429907</td>\n",
       "      <td>3.246692</td>\n",
       "      <td>2.917834</td>\n",
       "    </tr>\n",
       "    <tr>\n",
       "      <th>50%</th>\n",
       "      <td>42636.199219</td>\n",
       "      <td>42800.000000</td>\n",
       "      <td>42436.179688</td>\n",
       "      <td>42635.910156</td>\n",
       "      <td>12522.884766</td>\n",
       "      <td>4.481341</td>\n",
       "      <td>3.522548</td>\n",
       "      <td>3.373731</td>\n",
       "      <td>4.651679</td>\n",
       "      <td>4.308334</td>\n",
       "    </tr>\n",
       "    <tr>\n",
       "      <th>75%</th>\n",
       "      <td>50271.728516</td>\n",
       "      <td>50559.083984</td>\n",
       "      <td>50027.025391</td>\n",
       "      <td>50271.724609</td>\n",
       "      <td>20893.471680</td>\n",
       "      <td>6.327261</td>\n",
       "      <td>5.249534</td>\n",
       "      <td>5.029962</td>\n",
       "      <td>7.115738</td>\n",
       "      <td>6.823287</td>\n",
       "    </tr>\n",
       "    <tr>\n",
       "      <th>max</th>\n",
       "      <td>68714.851562</td>\n",
       "      <td>69198.703125</td>\n",
       "      <td>68525.960938</td>\n",
       "      <td>68714.851562</td>\n",
       "      <td>233367.046875</td>\n",
       "      <td>45.410765</td>\n",
       "      <td>44.452484</td>\n",
       "      <td>45.303561</td>\n",
       "      <td>86.930494</td>\n",
       "      <td>88.470502</td>\n",
       "    </tr>\n",
       "  </tbody>\n",
       "</table>\n",
       "</div>"
      ],
      "text/plain": [
       "               Open          High           Low         Close         Volume  \\\n",
       "count  13463.000000  13463.000000  13463.000000  13463.000000   13463.000000   \n",
       "mean   43275.371094  43537.007812  43001.296875  43274.757812   17135.841797   \n",
       "std    10896.250000  10930.499023  10858.110352  10897.347656   15111.171875   \n",
       "min    17798.000000  18147.000000  17593.199219  17798.000000      63.931999   \n",
       "25%    35931.250000  36200.000000  35663.800781  35931.250000    7809.509521   \n",
       "50%    42636.199219  42800.000000  42436.179688  42635.910156   12522.884766   \n",
       "75%    50271.728516  50559.083984  50027.025391  50271.724609   20893.471680   \n",
       "max    68714.851562  69198.703125  68525.960938  68714.851562  233367.046875   \n",
       "\n",
       "              Vol_4        Vol_12        Vol_24      Vol_week     Vol_month  \n",
       "count  13459.000000  13451.000000  13439.000000  13295.000000  12743.000000  \n",
       "mean       5.476938      4.465122      4.312756      6.050006      5.726578  \n",
       "std        3.727005      3.308279      3.171097      4.766301      4.781571  \n",
       "min        0.027232      0.018010      0.020249      0.022660      0.027431  \n",
       "25%        3.286788      2.487734      2.429907      3.246692      2.917834  \n",
       "50%        4.481341      3.522548      3.373731      4.651679      4.308334  \n",
       "75%        6.327261      5.249534      5.029962      7.115738      6.823287  \n",
       "max       45.410765     44.452484     45.303561     86.930494     88.470502  "
      ]
     },
     "execution_count": 148,
     "metadata": {},
     "output_type": "execute_result"
    }
   ],
   "source": [
    "df.describe()"
   ]
  },
  {
   "cell_type": "markdown",
   "id": "52d0f1ae-db63-4f6d-8438-0ae2a9a6a60c",
   "metadata": {},
   "source": [
    "## price min-max calculation"
   ]
  },
  {
   "cell_type": "code",
   "execution_count": 151,
   "id": "17e47622-55aa-4bb5-a636-abdac16337bb",
   "metadata": {},
   "outputs": [],
   "source": [
    "maximum = []\n",
    "minimum = []\n",
    "cum_volume_step = 4\n",
    "i = 0\n",
    "for v in df.Open:\n",
    "    if cum_volume_step > i:\n",
    "        maximum.append(np.nan)\n",
    "        minimum.append(np.nan)\n",
    "    else:\n",
    "        maximum.append(df.Open[i-cum_volume_step:i].max()/v)\n",
    "        minimum.append(df.Open[i-cum_volume_step:i].min()/v)\n",
    "    i+=1\n",
    "df['Max_4'] = maximum\n",
    "df['Min_4'] = minimum"
   ]
  },
  {
   "cell_type": "code",
   "execution_count": 153,
   "id": "3a5d2417-3416-4cb8-9212-47cd6f7f3b5b",
   "metadata": {},
   "outputs": [],
   "source": [
    "maximum = []\n",
    "minimum = []\n",
    "cum_volume_step = 12\n",
    "i = 0\n",
    "for v in df.Open:\n",
    "    if cum_volume_step > i:\n",
    "        maximum.append(np.nan)\n",
    "        minimum.append(np.nan)\n",
    "    else:\n",
    "        maximum.append(df.Open[i-cum_volume_step:i].max()/v)\n",
    "        minimum.append(df.Open[i-cum_volume_step:i].min()/v)\n",
    "    i+=1\n",
    "df['Max_12'] = maximum\n",
    "df['Min_12'] = minimum"
   ]
  },
  {
   "cell_type": "code",
   "execution_count": 154,
   "id": "c598a90a-ed1d-4b8d-ac63-f9a9f8dcd699",
   "metadata": {},
   "outputs": [],
   "source": [
    "maximum = []\n",
    "minimum = []\n",
    "cum_volume_step = 24\n",
    "i = 0\n",
    "for v in df.Open:\n",
    "    if cum_volume_step > i:\n",
    "        maximum.append(np.nan)\n",
    "        minimum.append(np.nan)\n",
    "    else:\n",
    "        maximum.append(df.Open[i-cum_volume_step:i].max()/v)\n",
    "        minimum.append(df.Open[i-cum_volume_step:i].min()/v)\n",
    "    i+=1\n",
    "df['Max_24'] = maximum\n",
    "df['Min_24'] = minimum"
   ]
  },
  {
   "cell_type": "code",
   "execution_count": 155,
   "id": "a6c10ce8-aa37-4f04-903d-8a8721f22e85",
   "metadata": {},
   "outputs": [],
   "source": [
    "maximum = []\n",
    "minimum = []\n",
    "cum_volume_step = 24*7\n",
    "i = 0\n",
    "for v in df.Open:\n",
    "    if cum_volume_step > i:\n",
    "        maximum.append(np.nan)\n",
    "        minimum.append(np.nan)\n",
    "    else:\n",
    "        maximum.append(df.Open[i-cum_volume_step:i].max()/v)\n",
    "        minimum.append(df.Open[i-cum_volume_step:i].min()/v)\n",
    "    i+=1\n",
    "df['Max_week'] = maximum\n",
    "df['Min_week'] = minimum"
   ]
  },
  {
   "cell_type": "code",
   "execution_count": 156,
   "id": "a342ad3c-ad58-446e-9774-6f1b81b88b4b",
   "metadata": {},
   "outputs": [],
   "source": [
    "maximum = []\n",
    "minimum = []\n",
    "cum_volume_step = 24*30\n",
    "i = 0\n",
    "for v in df.Open:\n",
    "    if cum_volume_step > i:\n",
    "        maximum.append(np.nan)\n",
    "        minimum.append(np.nan)\n",
    "    else:\n",
    "        maximum.append(df.Open[i-cum_volume_step:i].max()/v)\n",
    "        minimum.append(df.Open[i-cum_volume_step:i].min()/v)\n",
    "    i+=1\n",
    "df['Max_month'] = maximum\n",
    "df['Min_month'] = minimum"
   ]
  },
  {
   "cell_type": "code",
   "execution_count": 164,
   "id": "95a6454c-c72e-4539-b158-7dd3ebb91adc",
   "metadata": {},
   "outputs": [
    {
     "data": {
      "text/html": [
       "<div>\n",
       "<style scoped>\n",
       "    .dataframe tbody tr th:only-of-type {\n",
       "        vertical-align: middle;\n",
       "    }\n",
       "\n",
       "    .dataframe tbody tr th {\n",
       "        vertical-align: top;\n",
       "    }\n",
       "\n",
       "    .dataframe thead th {\n",
       "        text-align: right;\n",
       "    }\n",
       "</style>\n",
       "<table border=\"1\" class=\"dataframe\">\n",
       "  <thead>\n",
       "    <tr style=\"text-align: right;\">\n",
       "      <th></th>\n",
       "      <th>Open</th>\n",
       "      <th>High</th>\n",
       "      <th>Low</th>\n",
       "      <th>Close</th>\n",
       "      <th>Volume</th>\n",
       "      <th>Vol_4</th>\n",
       "      <th>Vol_12</th>\n",
       "      <th>Vol_24</th>\n",
       "      <th>Vol_week</th>\n",
       "      <th>Vol_month</th>\n",
       "      <th>...</th>\n",
       "      <th>Max_24</th>\n",
       "      <th>Min_24</th>\n",
       "      <th>Max_week</th>\n",
       "      <th>Min_week</th>\n",
       "      <th>Max_month</th>\n",
       "      <th>Min_month</th>\n",
       "      <th>price_change_4</th>\n",
       "      <th>price_change_12</th>\n",
       "      <th>price_change_24</th>\n",
       "      <th>price_change_week</th>\n",
       "    </tr>\n",
       "  </thead>\n",
       "  <tbody>\n",
       "    <tr>\n",
       "      <th>count</th>\n",
       "      <td>13463.000000</td>\n",
       "      <td>13463.000000</td>\n",
       "      <td>13463.000000</td>\n",
       "      <td>13463.000000</td>\n",
       "      <td>13463.000000</td>\n",
       "      <td>13459.000000</td>\n",
       "      <td>13451.000000</td>\n",
       "      <td>13439.000000</td>\n",
       "      <td>13295.000000</td>\n",
       "      <td>12743.000000</td>\n",
       "      <td>...</td>\n",
       "      <td>13439.000000</td>\n",
       "      <td>13439.000000</td>\n",
       "      <td>13295.000000</td>\n",
       "      <td>13295.000000</td>\n",
       "      <td>12743.000000</td>\n",
       "      <td>12743.000000</td>\n",
       "      <td>13459.000000</td>\n",
       "      <td>13451.000000</td>\n",
       "      <td>13439.000000</td>\n",
       "      <td>13295.000000</td>\n",
       "    </tr>\n",
       "    <tr>\n",
       "      <th>mean</th>\n",
       "      <td>43275.371094</td>\n",
       "      <td>43537.007812</td>\n",
       "      <td>43001.296875</td>\n",
       "      <td>43274.757812</td>\n",
       "      <td>17135.841797</td>\n",
       "      <td>5.476938</td>\n",
       "      <td>4.465122</td>\n",
       "      <td>4.312756</td>\n",
       "      <td>6.050006</td>\n",
       "      <td>5.726578</td>\n",
       "      <td>...</td>\n",
       "      <td>1.024712</td>\n",
       "      <td>0.975200</td>\n",
       "      <td>1.080273</td>\n",
       "      <td>0.926752</td>\n",
       "      <td>1.198271</td>\n",
       "      <td>0.851936</td>\n",
       "      <td>-0.000090</td>\n",
       "      <td>0.007888</td>\n",
       "      <td>0.021291</td>\n",
       "      <td>-0.037519</td>\n",
       "    </tr>\n",
       "    <tr>\n",
       "      <th>std</th>\n",
       "      <td>10896.250000</td>\n",
       "      <td>10930.499023</td>\n",
       "      <td>10858.110352</td>\n",
       "      <td>10897.347656</td>\n",
       "      <td>15111.171875</td>\n",
       "      <td>3.727005</td>\n",
       "      <td>3.308279</td>\n",
       "      <td>3.171097</td>\n",
       "      <td>4.766301</td>\n",
       "      <td>4.781571</td>\n",
       "      <td>...</td>\n",
       "      <td>0.029615</td>\n",
       "      <td>0.026563</td>\n",
       "      <td>0.080877</td>\n",
       "      <td>0.057037</td>\n",
       "      <td>0.167801</td>\n",
       "      <td>0.104933</td>\n",
       "      <td>1.807139</td>\n",
       "      <td>2.976239</td>\n",
       "      <td>4.197449</td>\n",
       "      <td>10.648052</td>\n",
       "    </tr>\n",
       "    <tr>\n",
       "      <th>min</th>\n",
       "      <td>17798.000000</td>\n",
       "      <td>18147.000000</td>\n",
       "      <td>17593.199219</td>\n",
       "      <td>17798.000000</td>\n",
       "      <td>63.931999</td>\n",
       "      <td>0.027232</td>\n",
       "      <td>0.018010</td>\n",
       "      <td>0.020249</td>\n",
       "      <td>0.022660</td>\n",
       "      <td>0.027431</td>\n",
       "      <td>...</td>\n",
       "      <td>0.907816</td>\n",
       "      <td>0.809537</td>\n",
       "      <td>0.939802</td>\n",
       "      <td>0.698953</td>\n",
       "      <td>0.948175</td>\n",
       "      <td>0.507341</td>\n",
       "      <td>-16.044316</td>\n",
       "      <td>-20.265721</td>\n",
       "      <td>-22.714747</td>\n",
       "      <td>-39.683585</td>\n",
       "    </tr>\n",
       "    <tr>\n",
       "      <th>25%</th>\n",
       "      <td>35931.250000</td>\n",
       "      <td>36200.000000</td>\n",
       "      <td>35663.800781</td>\n",
       "      <td>35931.250000</td>\n",
       "      <td>7809.509521</td>\n",
       "      <td>3.286788</td>\n",
       "      <td>2.487734</td>\n",
       "      <td>2.429907</td>\n",
       "      <td>3.246692</td>\n",
       "      <td>2.917834</td>\n",
       "      <td>...</td>\n",
       "      <td>1.005746</td>\n",
       "      <td>0.963577</td>\n",
       "      <td>1.022904</td>\n",
       "      <td>0.891280</td>\n",
       "      <td>1.067887</td>\n",
       "      <td>0.787867</td>\n",
       "      <td>-0.812797</td>\n",
       "      <td>-1.443546</td>\n",
       "      <td>-2.190624</td>\n",
       "      <td>-6.392168</td>\n",
       "    </tr>\n",
       "    <tr>\n",
       "      <th>50%</th>\n",
       "      <td>42636.199219</td>\n",
       "      <td>42800.000000</td>\n",
       "      <td>42436.179688</td>\n",
       "      <td>42635.910156</td>\n",
       "      <td>12522.884766</td>\n",
       "      <td>4.481341</td>\n",
       "      <td>3.522548</td>\n",
       "      <td>3.373731</td>\n",
       "      <td>4.651679</td>\n",
       "      <td>4.308334</td>\n",
       "      <td>...</td>\n",
       "      <td>1.016050</td>\n",
       "      <td>0.981967</td>\n",
       "      <td>1.058594</td>\n",
       "      <td>0.939518</td>\n",
       "      <td>1.166752</td>\n",
       "      <td>0.872011</td>\n",
       "      <td>0.011545</td>\n",
       "      <td>0.015905</td>\n",
       "      <td>0.020253</td>\n",
       "      <td>-0.334872</td>\n",
       "    </tr>\n",
       "    <tr>\n",
       "      <th>75%</th>\n",
       "      <td>50271.728516</td>\n",
       "      <td>50559.083984</td>\n",
       "      <td>50027.025391</td>\n",
       "      <td>50271.724609</td>\n",
       "      <td>20893.471680</td>\n",
       "      <td>6.327261</td>\n",
       "      <td>5.249534</td>\n",
       "      <td>5.029962</td>\n",
       "      <td>7.115738</td>\n",
       "      <td>6.823287</td>\n",
       "      <td>...</td>\n",
       "      <td>1.034459</td>\n",
       "      <td>0.993082</td>\n",
       "      <td>1.110953</td>\n",
       "      <td>0.972251</td>\n",
       "      <td>1.256048</td>\n",
       "      <td>0.934657</td>\n",
       "      <td>0.803176</td>\n",
       "      <td>1.498847</td>\n",
       "      <td>2.269597</td>\n",
       "      <td>5.761276</td>\n",
       "    </tr>\n",
       "    <tr>\n",
       "      <th>max</th>\n",
       "      <td>68714.851562</td>\n",
       "      <td>69198.703125</td>\n",
       "      <td>68525.960938</td>\n",
       "      <td>68714.851562</td>\n",
       "      <td>233367.046875</td>\n",
       "      <td>45.410765</td>\n",
       "      <td>44.452484</td>\n",
       "      <td>45.303561</td>\n",
       "      <td>86.930494</td>\n",
       "      <td>88.470502</td>\n",
       "      <td>...</td>\n",
       "      <td>1.256322</td>\n",
       "      <td>1.104103</td>\n",
       "      <td>1.619720</td>\n",
       "      <td>1.104103</td>\n",
       "      <td>1.875491</td>\n",
       "      <td>1.104103</td>\n",
       "      <td>16.164395</td>\n",
       "      <td>18.512008</td>\n",
       "      <td>22.726460</td>\n",
       "      <td>41.222520</td>\n",
       "    </tr>\n",
       "  </tbody>\n",
       "</table>\n",
       "<p>8 rows × 24 columns</p>\n",
       "</div>"
      ],
      "text/plain": [
       "               Open          High           Low         Close         Volume  \\\n",
       "count  13463.000000  13463.000000  13463.000000  13463.000000   13463.000000   \n",
       "mean   43275.371094  43537.007812  43001.296875  43274.757812   17135.841797   \n",
       "std    10896.250000  10930.499023  10858.110352  10897.347656   15111.171875   \n",
       "min    17798.000000  18147.000000  17593.199219  17798.000000      63.931999   \n",
       "25%    35931.250000  36200.000000  35663.800781  35931.250000    7809.509521   \n",
       "50%    42636.199219  42800.000000  42436.179688  42635.910156   12522.884766   \n",
       "75%    50271.728516  50559.083984  50027.025391  50271.724609   20893.471680   \n",
       "max    68714.851562  69198.703125  68525.960938  68714.851562  233367.046875   \n",
       "\n",
       "              Vol_4        Vol_12        Vol_24      Vol_week     Vol_month  \\\n",
       "count  13459.000000  13451.000000  13439.000000  13295.000000  12743.000000   \n",
       "mean       5.476938      4.465122      4.312756      6.050006      5.726578   \n",
       "std        3.727005      3.308279      3.171097      4.766301      4.781571   \n",
       "min        0.027232      0.018010      0.020249      0.022660      0.027431   \n",
       "25%        3.286788      2.487734      2.429907      3.246692      2.917834   \n",
       "50%        4.481341      3.522548      3.373731      4.651679      4.308334   \n",
       "75%        6.327261      5.249534      5.029962      7.115738      6.823287   \n",
       "max       45.410765     44.452484     45.303561     86.930494     88.470502   \n",
       "\n",
       "       ...        Max_24        Min_24      Max_week      Min_week  \\\n",
       "count  ...  13439.000000  13439.000000  13295.000000  13295.000000   \n",
       "mean   ...      1.024712      0.975200      1.080273      0.926752   \n",
       "std    ...      0.029615      0.026563      0.080877      0.057037   \n",
       "min    ...      0.907816      0.809537      0.939802      0.698953   \n",
       "25%    ...      1.005746      0.963577      1.022904      0.891280   \n",
       "50%    ...      1.016050      0.981967      1.058594      0.939518   \n",
       "75%    ...      1.034459      0.993082      1.110953      0.972251   \n",
       "max    ...      1.256322      1.104103      1.619720      1.104103   \n",
       "\n",
       "          Max_month     Min_month  price_change_4  price_change_12  \\\n",
       "count  12743.000000  12743.000000    13459.000000     13451.000000   \n",
       "mean       1.198271      0.851936       -0.000090         0.007888   \n",
       "std        0.167801      0.104933        1.807139         2.976239   \n",
       "min        0.948175      0.507341      -16.044316       -20.265721   \n",
       "25%        1.067887      0.787867       -0.812797        -1.443546   \n",
       "50%        1.166752      0.872011        0.011545         0.015905   \n",
       "75%        1.256048      0.934657        0.803176         1.498847   \n",
       "max        1.875491      1.104103       16.164395        18.512008   \n",
       "\n",
       "       price_change_24  price_change_week  \n",
       "count     13439.000000       13295.000000  \n",
       "mean          0.021291          -0.037519  \n",
       "std           4.197449          10.648052  \n",
       "min         -22.714747         -39.683585  \n",
       "25%          -2.190624          -6.392168  \n",
       "50%           0.020253          -0.334872  \n",
       "75%           2.269597           5.761276  \n",
       "max          22.726460          41.222520  \n",
       "\n",
       "[8 rows x 24 columns]"
      ]
     },
     "execution_count": 164,
     "metadata": {},
     "output_type": "execute_result"
    }
   ],
   "source": [
    "df.describe()"
   ]
  },
  {
   "cell_type": "markdown",
   "id": "0f3b1954-c035-440f-af09-7ab6a8156936",
   "metadata": {},
   "source": [
    "## future price changing calculation"
   ]
  },
  {
   "cell_type": "code",
   "execution_count": 159,
   "id": "8fe571e6-54de-4471-9fbd-a8b3fef41b2c",
   "metadata": {},
   "outputs": [],
   "source": [
    "future_price = []\n",
    "step = 4\n",
    "lengh = len(df.Open)\n",
    "i = 0\n",
    "for v in df.Open:\n",
    "    if lengh <= i+step:\n",
    "        future_price.append(np.nan)\n",
    "    else:\n",
    "        aver_future_price = (df.Open[i+step]+df.Close[i+step]+df.High[i+step]+df.Low[i+step])/4\n",
    "        future_price.append(100*(aver_future_price - v)/v)\n",
    "    i+=1\n",
    "df['price_change_4'] = future_price"
   ]
  },
  {
   "cell_type": "code",
   "execution_count": 161,
   "id": "75b9c9ed-f383-4dfc-a068-ada4e2e0f75c",
   "metadata": {},
   "outputs": [],
   "source": [
    "future_price = []\n",
    "step = 12\n",
    "lengh = len(df.Open)\n",
    "i = 0\n",
    "for v in df.Open:\n",
    "    if lengh <= i+step:\n",
    "        future_price.append(np.nan)\n",
    "    else:\n",
    "        aver_future_price = (df.Open[i+step]+df.Close[i+step]+df.High[i+step]+df.Low[i+step])/4\n",
    "        future_price.append(100*(aver_future_price - v)/v)\n",
    "    i+=1\n",
    "df['price_change_12'] = future_price"
   ]
  },
  {
   "cell_type": "code",
   "execution_count": 162,
   "id": "de7d2b53-8603-4508-8a2d-b9da404f19c1",
   "metadata": {},
   "outputs": [],
   "source": [
    "future_price = []\n",
    "step = 24\n",
    "lengh = len(df.Open)\n",
    "i = 0\n",
    "for v in df.Open:\n",
    "    if lengh <= i+step:\n",
    "        future_price.append(np.nan)\n",
    "    else:\n",
    "        aver_future_price = (df.Open[i+step]+df.Close[i+step]+df.High[i+step]+df.Low[i+step])/4\n",
    "        future_price.append(100*(aver_future_price - v)/v)\n",
    "    i+=1\n",
    "df['price_change_24'] = future_price"
   ]
  },
  {
   "cell_type": "code",
   "execution_count": 163,
   "id": "35f41495-e139-4455-b9ca-358ca1d1c8e3",
   "metadata": {},
   "outputs": [],
   "source": [
    "future_price = []\n",
    "step = 24*7\n",
    "lengh = len(df.Open)\n",
    "i = 0\n",
    "for v in df.Open:\n",
    "    if lengh <= i+step:\n",
    "        future_price.append(np.nan)\n",
    "    else:\n",
    "        aver_future_price = (df.Open[i+step]+df.Close[i+step]+df.High[i+step]+df.Low[i+step])/4\n",
    "        future_price.append(100*(aver_future_price - v)/v)\n",
    "    i+=1\n",
    "df['price_change_week'] = future_price"
   ]
  },
  {
   "cell_type": "code",
   "execution_count": 166,
   "id": "045b3a3a-3299-4df0-bd7b-ed71f476e315",
   "metadata": {},
   "outputs": [],
   "source": [
    "df.to_csv('df_BTC_1h_weka{}-{}.csv'.format('01012021', '17152022'), index = False)"
   ]
  },
  {
   "cell_type": "code",
   "execution_count": 8,
   "id": "a1601daf-7b68-461c-9dd6-97509320596d",
   "metadata": {},
   "outputs": [],
   "source": [
    "df = pd.read_csv('df_BTC_1h_weka01012021-17152022.csv')"
   ]
  },
  {
   "cell_type": "code",
   "execution_count": 10,
   "id": "5c2cedb7-37df-46f1-bedc-fc3f3369c2d3",
   "metadata": {},
   "outputs": [
    {
     "data": {
      "text/html": [
       "<div>\n",
       "<style scoped>\n",
       "    .dataframe tbody tr th:only-of-type {\n",
       "        vertical-align: middle;\n",
       "    }\n",
       "\n",
       "    .dataframe tbody tr th {\n",
       "        vertical-align: top;\n",
       "    }\n",
       "\n",
       "    .dataframe thead th {\n",
       "        text-align: right;\n",
       "    }\n",
       "</style>\n",
       "<table border=\"1\" class=\"dataframe\">\n",
       "  <thead>\n",
       "    <tr style=\"text-align: right;\">\n",
       "      <th></th>\n",
       "      <th>Open time</th>\n",
       "      <th>Open</th>\n",
       "      <th>High</th>\n",
       "      <th>Low</th>\n",
       "      <th>Close</th>\n",
       "      <th>Volume</th>\n",
       "      <th>Vol_4</th>\n",
       "      <th>Vol_12</th>\n",
       "      <th>Vol_24</th>\n",
       "      <th>Vol_week</th>\n",
       "      <th>...</th>\n",
       "      <th>Max_24</th>\n",
       "      <th>Min_24</th>\n",
       "      <th>Max_week</th>\n",
       "      <th>Min_week</th>\n",
       "      <th>Max_month</th>\n",
       "      <th>Min_month</th>\n",
       "      <th>price_change_4</th>\n",
       "      <th>price_change_12</th>\n",
       "      <th>price_change_24</th>\n",
       "      <th>price_change_week</th>\n",
       "    </tr>\n",
       "  </thead>\n",
       "  <tbody>\n",
       "    <tr>\n",
       "      <th>0</th>\n",
       "      <td>2021-01-01 00:00:00</td>\n",
       "      <td>29237.06</td>\n",
       "      <td>29249.31</td>\n",
       "      <td>29110.89</td>\n",
       "      <td>29213.80</td>\n",
       "      <td>4199.729</td>\n",
       "      <td>NaN</td>\n",
       "      <td>NaN</td>\n",
       "      <td>NaN</td>\n",
       "      <td>NaN</td>\n",
       "      <td>...</td>\n",
       "      <td>NaN</td>\n",
       "      <td>NaN</td>\n",
       "      <td>NaN</td>\n",
       "      <td>NaN</td>\n",
       "      <td>NaN</td>\n",
       "      <td>NaN</td>\n",
       "      <td>-0.307508</td>\n",
       "      <td>-0.195940</td>\n",
       "      <td>0.889403</td>\n",
       "      <td>31.182524</td>\n",
       "    </tr>\n",
       "    <tr>\n",
       "      <th>1</th>\n",
       "      <td>2021-01-01 01:00:00</td>\n",
       "      <td>29213.80</td>\n",
       "      <td>29283.00</td>\n",
       "      <td>29112.10</td>\n",
       "      <td>29197.30</td>\n",
       "      <td>3977.249</td>\n",
       "      <td>NaN</td>\n",
       "      <td>NaN</td>\n",
       "      <td>NaN</td>\n",
       "      <td>NaN</td>\n",
       "      <td>...</td>\n",
       "      <td>NaN</td>\n",
       "      <td>NaN</td>\n",
       "      <td>NaN</td>\n",
       "      <td>NaN</td>\n",
       "      <td>NaN</td>\n",
       "      <td>NaN</td>\n",
       "      <td>0.188976</td>\n",
       "      <td>-0.635375</td>\n",
       "      <td>1.531957</td>\n",
       "      <td>30.912362</td>\n",
       "    </tr>\n",
       "    <tr>\n",
       "      <th>2</th>\n",
       "      <td>2021-01-01 02:00:00</td>\n",
       "      <td>29198.01</td>\n",
       "      <td>29214.96</td>\n",
       "      <td>28822.00</td>\n",
       "      <td>29107.71</td>\n",
       "      <td>10153.425</td>\n",
       "      <td>NaN</td>\n",
       "      <td>NaN</td>\n",
       "      <td>NaN</td>\n",
       "      <td>NaN</td>\n",
       "      <td>...</td>\n",
       "      <td>NaN</td>\n",
       "      <td>NaN</td>\n",
       "      <td>NaN</td>\n",
       "      <td>NaN</td>\n",
       "      <td>NaN</td>\n",
       "      <td>NaN</td>\n",
       "      <td>0.438687</td>\n",
       "      <td>-0.462166</td>\n",
       "      <td>1.921692</td>\n",
       "      <td>32.807265</td>\n",
       "    </tr>\n",
       "    <tr>\n",
       "      <th>3</th>\n",
       "      <td>2021-01-01 03:00:00</td>\n",
       "      <td>29107.72</td>\n",
       "      <td>29190.00</td>\n",
       "      <td>28900.00</td>\n",
       "      <td>29025.89</td>\n",
       "      <td>9141.397</td>\n",
       "      <td>NaN</td>\n",
       "      <td>NaN</td>\n",
       "      <td>NaN</td>\n",
       "      <td>NaN</td>\n",
       "      <td>...</td>\n",
       "      <td>NaN</td>\n",
       "      <td>NaN</td>\n",
       "      <td>NaN</td>\n",
       "      <td>NaN</td>\n",
       "      <td>NaN</td>\n",
       "      <td>NaN</td>\n",
       "      <td>0.855363</td>\n",
       "      <td>0.014742</td>\n",
       "      <td>2.394097</td>\n",
       "      <td>33.275516</td>\n",
       "    </tr>\n",
       "    <tr>\n",
       "      <th>4</th>\n",
       "      <td>2021-01-01 04:00:00</td>\n",
       "      <td>29025.90</td>\n",
       "      <td>29333.12</td>\n",
       "      <td>29000.00</td>\n",
       "      <td>29229.60</td>\n",
       "      <td>7225.092</td>\n",
       "      <td>5.260006</td>\n",
       "      <td>NaN</td>\n",
       "      <td>NaN</td>\n",
       "      <td>NaN</td>\n",
       "      <td>...</td>\n",
       "      <td>NaN</td>\n",
       "      <td>NaN</td>\n",
       "      <td>NaN</td>\n",
       "      <td>NaN</td>\n",
       "      <td>NaN</td>\n",
       "      <td>NaN</td>\n",
       "      <td>1.202395</td>\n",
       "      <td>0.657427</td>\n",
       "      <td>2.548175</td>\n",
       "      <td>34.171616</td>\n",
       "    </tr>\n",
       "  </tbody>\n",
       "</table>\n",
       "<p>5 rows × 25 columns</p>\n",
       "</div>"
      ],
      "text/plain": [
       "             Open time      Open      High       Low     Close     Volume  \\\n",
       "0  2021-01-01 00:00:00  29237.06  29249.31  29110.89  29213.80   4199.729   \n",
       "1  2021-01-01 01:00:00  29213.80  29283.00  29112.10  29197.30   3977.249   \n",
       "2  2021-01-01 02:00:00  29198.01  29214.96  28822.00  29107.71  10153.425   \n",
       "3  2021-01-01 03:00:00  29107.72  29190.00  28900.00  29025.89   9141.397   \n",
       "4  2021-01-01 04:00:00  29025.90  29333.12  29000.00  29229.60   7225.092   \n",
       "\n",
       "      Vol_4  Vol_12  Vol_24  Vol_week  ...  Max_24  Min_24  Max_week  \\\n",
       "0       NaN     NaN     NaN       NaN  ...     NaN     NaN       NaN   \n",
       "1       NaN     NaN     NaN       NaN  ...     NaN     NaN       NaN   \n",
       "2       NaN     NaN     NaN       NaN  ...     NaN     NaN       NaN   \n",
       "3       NaN     NaN     NaN       NaN  ...     NaN     NaN       NaN   \n",
       "4  5.260006     NaN     NaN       NaN  ...     NaN     NaN       NaN   \n",
       "\n",
       "   Min_week  Max_month  Min_month  price_change_4  price_change_12  \\\n",
       "0       NaN        NaN        NaN       -0.307508        -0.195940   \n",
       "1       NaN        NaN        NaN        0.188976        -0.635375   \n",
       "2       NaN        NaN        NaN        0.438687        -0.462166   \n",
       "3       NaN        NaN        NaN        0.855363         0.014742   \n",
       "4       NaN        NaN        NaN        1.202395         0.657427   \n",
       "\n",
       "   price_change_24  price_change_week  \n",
       "0         0.889403          31.182524  \n",
       "1         1.531957          30.912362  \n",
       "2         1.921692          32.807265  \n",
       "3         2.394097          33.275516  \n",
       "4         2.548175          34.171616  \n",
       "\n",
       "[5 rows x 25 columns]"
      ]
     },
     "execution_count": 10,
     "metadata": {},
     "output_type": "execute_result"
    }
   ],
   "source": [
    "df.head(5)"
   ]
  },
  {
   "cell_type": "markdown",
   "id": "665850bf-b91e-44b4-8396-e032acf0d9b6",
   "metadata": {},
   "source": [
    "## price change treshholder for:\n",
    "4h - 3%\\\n",
    "12h - 5%\\\n",
    "24h - 8%\\\n",
    "week - 15%"
   ]
  },
  {
   "cell_type": "code",
   "execution_count": 181,
   "id": "f275be7c-6853-49c1-8611-90f9910dad1a",
   "metadata": {},
   "outputs": [
    {
     "data": {
      "text/plain": [
       "<AxesSubplot:>"
      ]
     },
     "execution_count": 181,
     "metadata": {},
     "output_type": "execute_result"
    },
    {
     "data": {
      "image/png": "[encoded data removed]",
      "text/plain": [
       "<Figure size 432x288 with 1 Axes>"
      ]
     },
     "metadata": {
      "needs_background": "light"
     },
     "output_type": "display_data"
    }
   ],
   "source": [
    "df.price_change_week.hist(bins=75)"
   ]
  },
  {
   "cell_type": "markdown",
   "id": "6046c084-d858-4f14-9fb9-58ee7bf27c1b",
   "metadata": {},
   "source": [
    "# Dataset for WEKA preparations"
   ]
  },
  {
   "cell_type": "markdown",
   "id": "56053062-27f8-4bb3-9fa2-c3a4ca67191f",
   "metadata": {},
   "source": [
    "## joying indicators"
   ]
  },
  {
   "cell_type": "code",
   "execution_count": 24,
   "id": "4b6da0b7-60a3-4934-a944-6b6c945282bc",
   "metadata": {},
   "outputs": [],
   "source": [
    "indicators_1h = df_RSI_ADX[['Open time', 'ADX', '-DI', '+DI', 'RSI']]\n",
    "indicators_1h.columns = ['Open time', 'ADX', '-DI', '+DI', 'RSI']\n",
    "\n",
    "indicators_4h = df_RSI_ADX_4[['Open time', 'ADX', '-DI', '+DI', 'RSI']]\n",
    "indicators_4h.columns = ['Open time', 'ADX_4h', '-DI_4h', '+DI_4h', 'RSI_4h']\n",
    "\n",
    "indicators_12h = df_RSI_ADX_12[['Open time', 'ADX', '-DI', '+DI', 'RSI']]\n",
    "indicators_12h.columns = ['Open time', 'ADX_12h', '-DI_12h', '+DI_12h', 'RSI_12h']\n",
    "\n",
    "indicators_24h = df_RSI_ADX_24[['Open time', 'ADX', '-DI', '+DI', 'RSI']]\n",
    "indicators_24h.columns = ['Open time', 'ADX_24h', '-DI_24h', '+DI_24h', 'RSI_24h']"
   ]
  },
  {
   "cell_type": "code",
   "execution_count": 33,
   "id": "f40e94f1-6b0c-41b9-bcc9-b4c4721cf154",
   "metadata": {},
   "outputs": [],
   "source": [
    "df1 = pd.merge(df, indicators_1h, on = 'Open time')\n",
    "df2 = pd.merge(df1, indicators_4h, on = 'Open time')\n",
    "df3 = pd.merge(df2, indicators_12h, on = 'Open time')\n",
    "df4 = pd.merge(df3, indicators_24h, on = 'Open time')"
   ]
  },
  {
   "cell_type": "markdown",
   "id": "7ceb2f73-1a4a-455b-8669-3fff952d5513",
   "metadata": {},
   "source": [
    "## present price changing"
   ]
  },
  {
   "cell_type": "code",
   "execution_count": 81,
   "id": "a51e98bc-289b-404c-91ab-565863d146d9",
   "metadata": {},
   "outputs": [],
   "source": [
    "present_price = []\n",
    "cum_volume_step = 1\n",
    "i = 0\n",
    "for v in df4.Open:\n",
    "    if cum_volume_step > i:\n",
    "        present_price.append(np.nan)\n",
    "    else:\n",
    "        present_price.append((v - df4.Open[i-cum_volume_step])/v)\n",
    "    i+=1\n",
    "df4['pre_pri_ch_1'] = present_price"
   ]
  },
  {
   "cell_type": "code",
   "execution_count": 82,
   "id": "8e070ed6-6130-4b02-a7bc-8a1746c055e2",
   "metadata": {},
   "outputs": [],
   "source": [
    "present_price = []\n",
    "cum_volume_step = 2\n",
    "i = 0\n",
    "for v in df4.Open:\n",
    "    if cum_volume_step > i:\n",
    "        present_price.append(np.nan)\n",
    "    else:\n",
    "        present_price.append((v - df4.Open[i-cum_volume_step])/v)\n",
    "    i+=1\n",
    "df4['pre_pri_ch_2'] = present_price"
   ]
  },
  {
   "cell_type": "code",
   "execution_count": 83,
   "id": "39588836-e468-400a-ac99-22a3ce8404b4",
   "metadata": {},
   "outputs": [],
   "source": [
    "present_price = []\n",
    "cum_volume_step = 3\n",
    "i = 0\n",
    "for v in df4.Open:\n",
    "    if cum_volume_step > i:\n",
    "        present_price.append(np.nan)\n",
    "    else:\n",
    "        present_price.append((v - df4.Open[i-cum_volume_step])/v)\n",
    "    i+=1\n",
    "df4['pre_pri_ch_3'] = present_price"
   ]
  },
  {
   "cell_type": "code",
   "execution_count": 84,
   "id": "a2078bb4-cab8-4c28-927f-09f88913888d",
   "metadata": {},
   "outputs": [],
   "source": [
    "present_price = []\n",
    "cum_volume_step = 4\n",
    "i = 0\n",
    "for v in df4.Open:\n",
    "    if cum_volume_step > i:\n",
    "        present_price.append(np.nan)\n",
    "    else:\n",
    "        present_price.append((v - df4.Open[i-cum_volume_step])/v)\n",
    "    i+=1\n",
    "df4['pre_pri_ch_4'] = present_price"
   ]
  },
  {
   "cell_type": "code",
   "execution_count": 85,
   "id": "1294c02b-6be2-4f4c-a896-05f986cbf7ea",
   "metadata": {},
   "outputs": [],
   "source": [
    "present_price = []\n",
    "cum_volume_step = 12\n",
    "i = 0\n",
    "for v in df4.Open:\n",
    "    if cum_volume_step > i:\n",
    "        present_price.append(np.nan)\n",
    "    else:\n",
    "        present_price.append((v - df4.Open[i-cum_volume_step])/v)\n",
    "    i+=1\n",
    "df4['pre_pri_ch_12'] = present_price"
   ]
  },
  {
   "cell_type": "code",
   "execution_count": 86,
   "id": "ceb5e45b-59e0-4ea7-ae82-048c31387150",
   "metadata": {},
   "outputs": [],
   "source": [
    "present_price = []\n",
    "cum_volume_step = 24\n",
    "i = 0\n",
    "for v in df4.Open:\n",
    "    if cum_volume_step > i:\n",
    "        present_price.append(np.nan)\n",
    "    else:\n",
    "        present_price.append((v - df4.Open[i-cum_volume_step])/v)\n",
    "    i+=1\n",
    "df4['pre_pri_ch_24'] = present_price"
   ]
  },
  {
   "cell_type": "code",
   "execution_count": 88,
   "id": "445354ec-5528-4e4c-bd72-9521feed1220",
   "metadata": {},
   "outputs": [],
   "source": [
    "df5 = df4.dropna()"
   ]
  },
  {
   "cell_type": "code",
   "execution_count": 89,
   "id": "1925b5ae-a035-4056-b74b-85bb11cdd240",
   "metadata": {},
   "outputs": [
    {
     "name": "stdout",
     "output_type": "stream",
     "text": [
      "<class 'pandas.core.frame.DataFrame'>\n",
      "Int64Index: 12605 entries, 720 to 13324\n",
      "Data columns (total 47 columns):\n",
      " #   Column             Non-Null Count  Dtype         \n",
      "---  ------             --------------  -----         \n",
      " 0   Open time          12605 non-null  datetime64[ns]\n",
      " 1   Open               12605 non-null  float64       \n",
      " 2   High               12605 non-null  float64       \n",
      " 3   Low                12605 non-null  float64       \n",
      " 4   Close              12605 non-null  float64       \n",
      " 5   Volume             12605 non-null  float64       \n",
      " 6   Vol_4              12605 non-null  float64       \n",
      " 7   Vol_12             12605 non-null  float64       \n",
      " 8   Vol_24             12605 non-null  float64       \n",
      " 9   Vol_week           12605 non-null  float64       \n",
      " 10  Vol_month          12605 non-null  float64       \n",
      " 11  Max_4              12605 non-null  float64       \n",
      " 12  Min_4              12605 non-null  float64       \n",
      " 13  Max_12             12605 non-null  float64       \n",
      " 14  Min_12             12605 non-null  float64       \n",
      " 15  Max_24             12605 non-null  float64       \n",
      " 16  Min_24             12605 non-null  float64       \n",
      " 17  Max_week           12605 non-null  float64       \n",
      " 18  Min_week           12605 non-null  float64       \n",
      " 19  Max_month          12605 non-null  float64       \n",
      " 20  Min_month          12605 non-null  float64       \n",
      " 21  price_change_4     12605 non-null  float64       \n",
      " 22  price_change_12    12605 non-null  float64       \n",
      " 23  price_change_24    12605 non-null  float64       \n",
      " 24  price_change_week  12605 non-null  float64       \n",
      " 25  ADX                12605 non-null  float64       \n",
      " 26  -DI                12605 non-null  float64       \n",
      " 27  +DI                12605 non-null  float64       \n",
      " 28  RSI                12605 non-null  float64       \n",
      " 29  ADX_4h             12605 non-null  float64       \n",
      " 30  -DI_4h             12605 non-null  float64       \n",
      " 31  +DI_4h             12605 non-null  float64       \n",
      " 32  RSI_4h             12605 non-null  float64       \n",
      " 33  ADX_12h            12605 non-null  float64       \n",
      " 34  -DI_12h            12605 non-null  float64       \n",
      " 35  +DI_12h            12605 non-null  float64       \n",
      " 36  RSI_12h            12605 non-null  float64       \n",
      " 37  ADX_24h            12605 non-null  float64       \n",
      " 38  -DI_24h            12605 non-null  float64       \n",
      " 39  +DI_24h            12605 non-null  float64       \n",
      " 40  RSI_24h            12605 non-null  float64       \n",
      " 41  pre_pri_ch_1       12605 non-null  float64       \n",
      " 42  pre_pri_ch_24      12605 non-null  float64       \n",
      " 43  pre_pri_ch_2       12605 non-null  float64       \n",
      " 44  pre_pri_ch_3       12605 non-null  float64       \n",
      " 45  pre_pri_ch_4       12605 non-null  float64       \n",
      " 46  pre_pri_ch_12      12605 non-null  float64       \n",
      "dtypes: datetime64[ns](1), float64(46)\n",
      "memory usage: 4.6 MB\n"
     ]
    }
   ],
   "source": [
    "df5.info()"
   ]
  },
  {
   "cell_type": "code",
   "execution_count": 90,
   "id": "ec757d60-299a-4b83-89ca-8b23de00c99d",
   "metadata": {},
   "outputs": [
    {
     "data": {
      "text/html": [
       "<div>\n",
       "<style scoped>\n",
       "    .dataframe tbody tr th:only-of-type {\n",
       "        vertical-align: middle;\n",
       "    }\n",
       "\n",
       "    .dataframe tbody tr th {\n",
       "        vertical-align: top;\n",
       "    }\n",
       "\n",
       "    .dataframe thead th {\n",
       "        text-align: right;\n",
       "    }\n",
       "</style>\n",
       "<table border=\"1\" class=\"dataframe\">\n",
       "  <thead>\n",
       "    <tr style=\"text-align: right;\">\n",
       "      <th></th>\n",
       "      <th>count</th>\n",
       "      <th>mean</th>\n",
       "      <th>std</th>\n",
       "      <th>min</th>\n",
       "      <th>25%</th>\n",
       "      <th>50%</th>\n",
       "      <th>75%</th>\n",
       "      <th>max</th>\n",
       "    </tr>\n",
       "  </thead>\n",
       "  <tbody>\n",
       "    <tr>\n",
       "      <th>Open</th>\n",
       "      <td>12605.0</td>\n",
       "      <td>44117.170493</td>\n",
       "      <td>10735.562126</td>\n",
       "      <td>17798.000000</td>\n",
       "      <td>37218.090000</td>\n",
       "      <td>43628.390000</td>\n",
       "      <td>51164.860000</td>\n",
       "      <td>68714.850000</td>\n",
       "    </tr>\n",
       "    <tr>\n",
       "      <th>High</th>\n",
       "      <td>12605.0</td>\n",
       "      <td>44374.045081</td>\n",
       "      <td>10772.528780</td>\n",
       "      <td>18147.000000</td>\n",
       "      <td>37485.000000</td>\n",
       "      <td>43884.890000</td>\n",
       "      <td>51482.990000</td>\n",
       "      <td>69198.700000</td>\n",
       "    </tr>\n",
       "    <tr>\n",
       "      <th>Low</th>\n",
       "      <td>12605.0</td>\n",
       "      <td>43849.528400</td>\n",
       "      <td>10692.254491</td>\n",
       "      <td>17593.200000</td>\n",
       "      <td>36892.130000</td>\n",
       "      <td>43389.150000</td>\n",
       "      <td>50825.430000</td>\n",
       "      <td>68525.960000</td>\n",
       "    </tr>\n",
       "    <tr>\n",
       "      <th>Close</th>\n",
       "      <td>12605.0</td>\n",
       "      <td>44115.758347</td>\n",
       "      <td>10736.357923</td>\n",
       "      <td>17798.000000</td>\n",
       "      <td>37218.090000</td>\n",
       "      <td>43628.820000</td>\n",
       "      <td>51164.850000</td>\n",
       "      <td>68714.850000</td>\n",
       "    </tr>\n",
       "    <tr>\n",
       "      <th>Volume</th>\n",
       "      <td>12605.0</td>\n",
       "      <td>16995.368532</td>\n",
       "      <td>15122.961445</td>\n",
       "      <td>63.932000</td>\n",
       "      <td>7623.852000</td>\n",
       "      <td>12302.059000</td>\n",
       "      <td>20812.877000</td>\n",
       "      <td>233367.050000</td>\n",
       "    </tr>\n",
       "    <tr>\n",
       "      <th>Vol_4</th>\n",
       "      <td>12605.0</td>\n",
       "      <td>5.480514</td>\n",
       "      <td>3.753048</td>\n",
       "      <td>0.027232</td>\n",
       "      <td>3.268557</td>\n",
       "      <td>4.468490</td>\n",
       "      <td>6.337195</td>\n",
       "      <td>45.410765</td>\n",
       "    </tr>\n",
       "    <tr>\n",
       "      <th>Vol_12</th>\n",
       "      <td>12605.0</td>\n",
       "      <td>4.467082</td>\n",
       "      <td>3.323429</td>\n",
       "      <td>0.018010</td>\n",
       "      <td>2.470821</td>\n",
       "      <td>3.513375</td>\n",
       "      <td>5.268088</td>\n",
       "      <td>44.452484</td>\n",
       "    </tr>\n",
       "    <tr>\n",
       "      <th>Vol_24</th>\n",
       "      <td>12605.0</td>\n",
       "      <td>4.307694</td>\n",
       "      <td>3.173406</td>\n",
       "      <td>0.020249</td>\n",
       "      <td>2.412113</td>\n",
       "      <td>3.366155</td>\n",
       "      <td>5.028964</td>\n",
       "      <td>45.303561</td>\n",
       "    </tr>\n",
       "    <tr>\n",
       "      <th>Vol_week</th>\n",
       "      <td>12605.0</td>\n",
       "      <td>6.053719</td>\n",
       "      <td>4.781108</td>\n",
       "      <td>0.022660</td>\n",
       "      <td>3.222280</td>\n",
       "      <td>4.647173</td>\n",
       "      <td>7.126030</td>\n",
       "      <td>86.930494</td>\n",
       "    </tr>\n",
       "    <tr>\n",
       "      <th>Vol_month</th>\n",
       "      <td>12605.0</td>\n",
       "      <td>5.731868</td>\n",
       "      <td>4.791087</td>\n",
       "      <td>0.027431</td>\n",
       "      <td>2.911838</td>\n",
       "      <td>4.310092</td>\n",
       "      <td>6.833802</td>\n",
       "      <td>88.470502</td>\n",
       "    </tr>\n",
       "    <tr>\n",
       "      <th>Max_4</th>\n",
       "      <td>12605.0</td>\n",
       "      <td>1.006388</td>\n",
       "      <td>0.012554</td>\n",
       "      <td>0.907816</td>\n",
       "      <td>0.999907</td>\n",
       "      <td>1.004004</td>\n",
       "      <td>1.010324</td>\n",
       "      <td>1.154896</td>\n",
       "    </tr>\n",
       "    <tr>\n",
       "      <th>Min_4</th>\n",
       "      <td>12605.0</td>\n",
       "      <td>0.993790</td>\n",
       "      <td>0.012181</td>\n",
       "      <td>0.884565</td>\n",
       "      <td>0.989326</td>\n",
       "      <td>0.995586</td>\n",
       "      <td>0.999949</td>\n",
       "      <td>1.104103</td>\n",
       "    </tr>\n",
       "    <tr>\n",
       "      <th>Max_12</th>\n",
       "      <td>12605.0</td>\n",
       "      <td>1.015011</td>\n",
       "      <td>0.020248</td>\n",
       "      <td>0.907816</td>\n",
       "      <td>1.002938</td>\n",
       "      <td>1.009458</td>\n",
       "      <td>1.021268</td>\n",
       "      <td>1.216041</td>\n",
       "    </tr>\n",
       "    <tr>\n",
       "      <th>Min_12</th>\n",
       "      <td>12605.0</td>\n",
       "      <td>0.985092</td>\n",
       "      <td>0.018646</td>\n",
       "      <td>0.850253</td>\n",
       "      <td>0.977458</td>\n",
       "      <td>0.989656</td>\n",
       "      <td>0.996393</td>\n",
       "      <td>1.104103</td>\n",
       "    </tr>\n",
       "    <tr>\n",
       "      <th>Max_24</th>\n",
       "      <td>12605.0</td>\n",
       "      <td>1.023774</td>\n",
       "      <td>0.028419</td>\n",
       "      <td>0.907816</td>\n",
       "      <td>1.005538</td>\n",
       "      <td>1.015462</td>\n",
       "      <td>1.033211</td>\n",
       "      <td>1.254575</td>\n",
       "    </tr>\n",
       "    <tr>\n",
       "      <th>Min_24</th>\n",
       "      <td>12605.0</td>\n",
       "      <td>0.976365</td>\n",
       "      <td>0.025157</td>\n",
       "      <td>0.809537</td>\n",
       "      <td>0.965377</td>\n",
       "      <td>0.982680</td>\n",
       "      <td>0.993222</td>\n",
       "      <td>1.104103</td>\n",
       "    </tr>\n",
       "    <tr>\n",
       "      <th>Max_week</th>\n",
       "      <td>12605.0</td>\n",
       "      <td>1.078138</td>\n",
       "      <td>0.081283</td>\n",
       "      <td>0.939802</td>\n",
       "      <td>1.021540</td>\n",
       "      <td>1.055786</td>\n",
       "      <td>1.105564</td>\n",
       "      <td>1.619720</td>\n",
       "    </tr>\n",
       "    <tr>\n",
       "      <th>Min_week</th>\n",
       "      <td>12605.0</td>\n",
       "      <td>0.928749</td>\n",
       "      <td>0.055761</td>\n",
       "      <td>0.710618</td>\n",
       "      <td>0.894602</td>\n",
       "      <td>0.942264</td>\n",
       "      <td>0.973097</td>\n",
       "      <td>1.104103</td>\n",
       "    </tr>\n",
       "    <tr>\n",
       "      <th>Max_month</th>\n",
       "      <td>12605.0</td>\n",
       "      <td>1.196722</td>\n",
       "      <td>0.167690</td>\n",
       "      <td>0.948175</td>\n",
       "      <td>1.067095</td>\n",
       "      <td>1.165832</td>\n",
       "      <td>1.252796</td>\n",
       "      <td>1.875491</td>\n",
       "    </tr>\n",
       "    <tr>\n",
       "      <th>Min_month</th>\n",
       "      <td>12605.0</td>\n",
       "      <td>0.851740</td>\n",
       "      <td>0.105435</td>\n",
       "      <td>0.507341</td>\n",
       "      <td>0.786955</td>\n",
       "      <td>0.871970</td>\n",
       "      <td>0.935334</td>\n",
       "      <td>1.104103</td>\n",
       "    </tr>\n",
       "    <tr>\n",
       "      <th>price_change_4</th>\n",
       "      <td>12605.0</td>\n",
       "      <td>-0.004968</td>\n",
       "      <td>1.722752</td>\n",
       "      <td>-16.044316</td>\n",
       "      <td>-0.780806</td>\n",
       "      <td>0.011023</td>\n",
       "      <td>0.769894</td>\n",
       "      <td>16.164395</td>\n",
       "    </tr>\n",
       "    <tr>\n",
       "      <th>price_change_12</th>\n",
       "      <td>12605.0</td>\n",
       "      <td>-0.005070</td>\n",
       "      <td>2.860591</td>\n",
       "      <td>-20.265721</td>\n",
       "      <td>-1.386236</td>\n",
       "      <td>0.020364</td>\n",
       "      <td>1.419977</td>\n",
       "      <td>18.512008</td>\n",
       "    </tr>\n",
       "    <tr>\n",
       "      <th>price_change_24</th>\n",
       "      <td>12605.0</td>\n",
       "      <td>0.006673</td>\n",
       "      <td>4.020664</td>\n",
       "      <td>-22.714747</td>\n",
       "      <td>-2.112172</td>\n",
       "      <td>0.028287</td>\n",
       "      <td>2.223532</td>\n",
       "      <td>22.726460</td>\n",
       "    </tr>\n",
       "    <tr>\n",
       "      <th>price_change_week</th>\n",
       "      <td>12605.0</td>\n",
       "      <td>-0.199722</td>\n",
       "      <td>10.436746</td>\n",
       "      <td>-39.683585</td>\n",
       "      <td>-6.266388</td>\n",
       "      <td>-0.428872</td>\n",
       "      <td>5.513051</td>\n",
       "      <td>39.668234</td>\n",
       "    </tr>\n",
       "    <tr>\n",
       "      <th>ADX</th>\n",
       "      <td>12605.0</td>\n",
       "      <td>28.545142</td>\n",
       "      <td>11.862490</td>\n",
       "      <td>7.302348</td>\n",
       "      <td>19.747646</td>\n",
       "      <td>26.289426</td>\n",
       "      <td>35.363770</td>\n",
       "      <td>76.150463</td>\n",
       "    </tr>\n",
       "    <tr>\n",
       "      <th>-DI</th>\n",
       "      <td>12605.0</td>\n",
       "      <td>21.027549</td>\n",
       "      <td>7.914523</td>\n",
       "      <td>2.070398</td>\n",
       "      <td>15.228605</td>\n",
       "      <td>20.225635</td>\n",
       "      <td>25.874016</td>\n",
       "      <td>67.064514</td>\n",
       "    </tr>\n",
       "    <tr>\n",
       "      <th>+DI</th>\n",
       "      <td>12605.0</td>\n",
       "      <td>19.878377</td>\n",
       "      <td>7.932028</td>\n",
       "      <td>1.513469</td>\n",
       "      <td>14.130420</td>\n",
       "      <td>19.051639</td>\n",
       "      <td>24.699882</td>\n",
       "      <td>82.871614</td>\n",
       "    </tr>\n",
       "    <tr>\n",
       "      <th>RSI</th>\n",
       "      <td>12605.0</td>\n",
       "      <td>50.211212</td>\n",
       "      <td>12.501313</td>\n",
       "      <td>8.047481</td>\n",
       "      <td>41.947662</td>\n",
       "      <td>50.141496</td>\n",
       "      <td>58.607895</td>\n",
       "      <td>90.337389</td>\n",
       "    </tr>\n",
       "    <tr>\n",
       "      <th>ADX_4h</th>\n",
       "      <td>12605.0</td>\n",
       "      <td>16.589684</td>\n",
       "      <td>7.543467</td>\n",
       "      <td>4.819923</td>\n",
       "      <td>10.948076</td>\n",
       "      <td>14.530200</td>\n",
       "      <td>20.334128</td>\n",
       "      <td>44.038614</td>\n",
       "    </tr>\n",
       "    <tr>\n",
       "      <th>-DI_4h</th>\n",
       "      <td>12605.0</td>\n",
       "      <td>21.388541</td>\n",
       "      <td>4.508684</td>\n",
       "      <td>6.573564</td>\n",
       "      <td>18.305831</td>\n",
       "      <td>20.966163</td>\n",
       "      <td>24.109300</td>\n",
       "      <td>44.971921</td>\n",
       "    </tr>\n",
       "    <tr>\n",
       "      <th>+DI_4h</th>\n",
       "      <td>12605.0</td>\n",
       "      <td>19.776342</td>\n",
       "      <td>4.569366</td>\n",
       "      <td>7.827140</td>\n",
       "      <td>16.681127</td>\n",
       "      <td>19.551722</td>\n",
       "      <td>22.535003</td>\n",
       "      <td>59.528983</td>\n",
       "    </tr>\n",
       "    <tr>\n",
       "      <th>RSI_4h</th>\n",
       "      <td>12605.0</td>\n",
       "      <td>49.955654</td>\n",
       "      <td>6.583134</td>\n",
       "      <td>24.415176</td>\n",
       "      <td>45.519225</td>\n",
       "      <td>49.749902</td>\n",
       "      <td>54.453245</td>\n",
       "      <td>74.589993</td>\n",
       "    </tr>\n",
       "    <tr>\n",
       "      <th>ADX_12h</th>\n",
       "      <td>12605.0</td>\n",
       "      <td>10.959113</td>\n",
       "      <td>4.390093</td>\n",
       "      <td>3.144820</td>\n",
       "      <td>7.654834</td>\n",
       "      <td>10.048069</td>\n",
       "      <td>13.761308</td>\n",
       "      <td>26.295845</td>\n",
       "    </tr>\n",
       "    <tr>\n",
       "      <th>-DI_12h</th>\n",
       "      <td>12605.0</td>\n",
       "      <td>21.575115</td>\n",
       "      <td>2.709938</td>\n",
       "      <td>12.704479</td>\n",
       "      <td>19.883548</td>\n",
       "      <td>21.551129</td>\n",
       "      <td>23.084779</td>\n",
       "      <td>31.817399</td>\n",
       "    </tr>\n",
       "    <tr>\n",
       "      <th>+DI_12h</th>\n",
       "      <td>12605.0</td>\n",
       "      <td>19.607319</td>\n",
       "      <td>2.816907</td>\n",
       "      <td>12.328247</td>\n",
       "      <td>17.882242</td>\n",
       "      <td>19.365789</td>\n",
       "      <td>21.200548</td>\n",
       "      <td>39.168759</td>\n",
       "    </tr>\n",
       "    <tr>\n",
       "      <th>RSI_12h</th>\n",
       "      <td>12605.0</td>\n",
       "      <td>49.761906</td>\n",
       "      <td>3.906881</td>\n",
       "      <td>35.193728</td>\n",
       "      <td>47.054910</td>\n",
       "      <td>49.437630</td>\n",
       "      <td>52.445453</td>\n",
       "      <td>62.045469</td>\n",
       "    </tr>\n",
       "    <tr>\n",
       "      <th>ADX_24h</th>\n",
       "      <td>12605.0</td>\n",
       "      <td>8.854034</td>\n",
       "      <td>3.267287</td>\n",
       "      <td>3.519942</td>\n",
       "      <td>6.364340</td>\n",
       "      <td>8.538855</td>\n",
       "      <td>10.893344</td>\n",
       "      <td>19.330437</td>\n",
       "    </tr>\n",
       "    <tr>\n",
       "      <th>-DI_24h</th>\n",
       "      <td>12605.0</td>\n",
       "      <td>21.654491</td>\n",
       "      <td>1.924367</td>\n",
       "      <td>16.405832</td>\n",
       "      <td>20.458612</td>\n",
       "      <td>21.668256</td>\n",
       "      <td>22.887271</td>\n",
       "      <td>28.049336</td>\n",
       "    </tr>\n",
       "    <tr>\n",
       "      <th>+DI_24h</th>\n",
       "      <td>12605.0</td>\n",
       "      <td>19.514291</td>\n",
       "      <td>2.002997</td>\n",
       "      <td>14.167970</td>\n",
       "      <td>18.247424</td>\n",
       "      <td>19.263757</td>\n",
       "      <td>20.619080</td>\n",
       "      <td>29.138021</td>\n",
       "    </tr>\n",
       "    <tr>\n",
       "      <th>RSI_24h</th>\n",
       "      <td>12605.0</td>\n",
       "      <td>49.718101</td>\n",
       "      <td>2.851092</td>\n",
       "      <td>41.024762</td>\n",
       "      <td>47.631490</td>\n",
       "      <td>49.240794</td>\n",
       "      <td>51.830686</td>\n",
       "      <td>57.521334</td>\n",
       "    </tr>\n",
       "    <tr>\n",
       "      <th>pre_pri_ch_1</th>\n",
       "      <td>12605.0</td>\n",
       "      <td>-0.000070</td>\n",
       "      <td>0.008262</td>\n",
       "      <td>-0.104103</td>\n",
       "      <td>-0.003597</td>\n",
       "      <td>0.000023</td>\n",
       "      <td>0.003640</td>\n",
       "      <td>0.092184</td>\n",
       "    </tr>\n",
       "    <tr>\n",
       "      <th>pre_pri_ch_24</th>\n",
       "      <td>12605.0</td>\n",
       "      <td>-0.001665</td>\n",
       "      <td>0.040280</td>\n",
       "      <td>-0.254575</td>\n",
       "      <td>-0.021523</td>\n",
       "      <td>0.000257</td>\n",
       "      <td>0.021181</td>\n",
       "      <td>0.189701</td>\n",
       "    </tr>\n",
       "    <tr>\n",
       "      <th>pre_pri_ch_2</th>\n",
       "      <td>12605.0</td>\n",
       "      <td>-0.000141</td>\n",
       "      <td>0.011747</td>\n",
       "      <td>-0.125606</td>\n",
       "      <td>-0.005188</td>\n",
       "      <td>0.000047</td>\n",
       "      <td>0.005131</td>\n",
       "      <td>0.092410</td>\n",
       "    </tr>\n",
       "    <tr>\n",
       "      <th>pre_pri_ch_3</th>\n",
       "      <td>12605.0</td>\n",
       "      <td>-0.000211</td>\n",
       "      <td>0.014329</td>\n",
       "      <td>-0.151147</td>\n",
       "      <td>-0.006309</td>\n",
       "      <td>0.000076</td>\n",
       "      <td>0.006343</td>\n",
       "      <td>0.102855</td>\n",
       "    </tr>\n",
       "    <tr>\n",
       "      <th>pre_pri_ch_4</th>\n",
       "      <td>12605.0</td>\n",
       "      <td>-0.000281</td>\n",
       "      <td>0.016509</td>\n",
       "      <td>-0.154896</td>\n",
       "      <td>-0.007378</td>\n",
       "      <td>0.000044</td>\n",
       "      <td>0.007282</td>\n",
       "      <td>0.115435</td>\n",
       "    </tr>\n",
       "    <tr>\n",
       "      <th>pre_pri_ch_12</th>\n",
       "      <td>12605.0</td>\n",
       "      <td>-0.000830</td>\n",
       "      <td>0.028260</td>\n",
       "      <td>-0.216041</td>\n",
       "      <td>-0.013635</td>\n",
       "      <td>0.000000</td>\n",
       "      <td>0.013901</td>\n",
       "      <td>0.149748</td>\n",
       "    </tr>\n",
       "  </tbody>\n",
       "</table>\n",
       "</div>"
      ],
      "text/plain": [
       "                     count          mean           std           min  \\\n",
       "Open               12605.0  44117.170493  10735.562126  17798.000000   \n",
       "High               12605.0  44374.045081  10772.528780  18147.000000   \n",
       "Low                12605.0  43849.528400  10692.254491  17593.200000   \n",
       "Close              12605.0  44115.758347  10736.357923  17798.000000   \n",
       "Volume             12605.0  16995.368532  15122.961445     63.932000   \n",
       "Vol_4              12605.0      5.480514      3.753048      0.027232   \n",
       "Vol_12             12605.0      4.467082      3.323429      0.018010   \n",
       "Vol_24             12605.0      4.307694      3.173406      0.020249   \n",
       "Vol_week           12605.0      6.053719      4.781108      0.022660   \n",
       "Vol_month          12605.0      5.731868      4.791087      0.027431   \n",
       "Max_4              12605.0      1.006388      0.012554      0.907816   \n",
       "Min_4              12605.0      0.993790      0.012181      0.884565   \n",
       "Max_12             12605.0      1.015011      0.020248      0.907816   \n",
       "Min_12             12605.0      0.985092      0.018646      0.850253   \n",
       "Max_24             12605.0      1.023774      0.028419      0.907816   \n",
       "Min_24             12605.0      0.976365      0.025157      0.809537   \n",
       "Max_week           12605.0      1.078138      0.081283      0.939802   \n",
       "Min_week           12605.0      0.928749      0.055761      0.710618   \n",
       "Max_month          12605.0      1.196722      0.167690      0.948175   \n",
       "Min_month          12605.0      0.851740      0.105435      0.507341   \n",
       "price_change_4     12605.0     -0.004968      1.722752    -16.044316   \n",
       "price_change_12    12605.0     -0.005070      2.860591    -20.265721   \n",
       "price_change_24    12605.0      0.006673      4.020664    -22.714747   \n",
       "price_change_week  12605.0     -0.199722     10.436746    -39.683585   \n",
       "ADX                12605.0     28.545142     11.862490      7.302348   \n",
       "-DI                12605.0     21.027549      7.914523      2.070398   \n",
       "+DI                12605.0     19.878377      7.932028      1.513469   \n",
       "RSI                12605.0     50.211212     12.501313      8.047481   \n",
       "ADX_4h             12605.0     16.589684      7.543467      4.819923   \n",
       "-DI_4h             12605.0     21.388541      4.508684      6.573564   \n",
       "+DI_4h             12605.0     19.776342      4.569366      7.827140   \n",
       "RSI_4h             12605.0     49.955654      6.583134     24.415176   \n",
       "ADX_12h            12605.0     10.959113      4.390093      3.144820   \n",
       "-DI_12h            12605.0     21.575115      2.709938     12.704479   \n",
       "+DI_12h            12605.0     19.607319      2.816907     12.328247   \n",
       "RSI_12h            12605.0     49.761906      3.906881     35.193728   \n",
       "ADX_24h            12605.0      8.854034      3.267287      3.519942   \n",
       "-DI_24h            12605.0     21.654491      1.924367     16.405832   \n",
       "+DI_24h            12605.0     19.514291      2.002997     14.167970   \n",
       "RSI_24h            12605.0     49.718101      2.851092     41.024762   \n",
       "pre_pri_ch_1       12605.0     -0.000070      0.008262     -0.104103   \n",
       "pre_pri_ch_24      12605.0     -0.001665      0.040280     -0.254575   \n",
       "pre_pri_ch_2       12605.0     -0.000141      0.011747     -0.125606   \n",
       "pre_pri_ch_3       12605.0     -0.000211      0.014329     -0.151147   \n",
       "pre_pri_ch_4       12605.0     -0.000281      0.016509     -0.154896   \n",
       "pre_pri_ch_12      12605.0     -0.000830      0.028260     -0.216041   \n",
       "\n",
       "                            25%           50%           75%            max  \n",
       "Open               37218.090000  43628.390000  51164.860000   68714.850000  \n",
       "High               37485.000000  43884.890000  51482.990000   69198.700000  \n",
       "Low                36892.130000  43389.150000  50825.430000   68525.960000  \n",
       "Close              37218.090000  43628.820000  51164.850000   68714.850000  \n",
       "Volume              7623.852000  12302.059000  20812.877000  233367.050000  \n",
       "Vol_4                  3.268557      4.468490      6.337195      45.410765  \n",
       "Vol_12                 2.470821      3.513375      5.268088      44.452484  \n",
       "Vol_24                 2.412113      3.366155      5.028964      45.303561  \n",
       "Vol_week               3.222280      4.647173      7.126030      86.930494  \n",
       "Vol_month              2.911838      4.310092      6.833802      88.470502  \n",
       "Max_4                  0.999907      1.004004      1.010324       1.154896  \n",
       "Min_4                  0.989326      0.995586      0.999949       1.104103  \n",
       "Max_12                 1.002938      1.009458      1.021268       1.216041  \n",
       "Min_12                 0.977458      0.989656      0.996393       1.104103  \n",
       "Max_24                 1.005538      1.015462      1.033211       1.254575  \n",
       "Min_24                 0.965377      0.982680      0.993222       1.104103  \n",
       "Max_week               1.021540      1.055786      1.105564       1.619720  \n",
       "Min_week               0.894602      0.942264      0.973097       1.104103  \n",
       "Max_month              1.067095      1.165832      1.252796       1.875491  \n",
       "Min_month              0.786955      0.871970      0.935334       1.104103  \n",
       "price_change_4        -0.780806      0.011023      0.769894      16.164395  \n",
       "price_change_12       -1.386236      0.020364      1.419977      18.512008  \n",
       "price_change_24       -2.112172      0.028287      2.223532      22.726460  \n",
       "price_change_week     -6.266388     -0.428872      5.513051      39.668234  \n",
       "ADX                   19.747646     26.289426     35.363770      76.150463  \n",
       "-DI                   15.228605     20.225635     25.874016      67.064514  \n",
       "+DI                   14.130420     19.051639     24.699882      82.871614  \n",
       "RSI                   41.947662     50.141496     58.607895      90.337389  \n",
       "ADX_4h                10.948076     14.530200     20.334128      44.038614  \n",
       "-DI_4h                18.305831     20.966163     24.109300      44.971921  \n",
       "+DI_4h                16.681127     19.551722     22.535003      59.528983  \n",
       "RSI_4h                45.519225     49.749902     54.453245      74.589993  \n",
       "ADX_12h                7.654834     10.048069     13.761308      26.295845  \n",
       "-DI_12h               19.883548     21.551129     23.084779      31.817399  \n",
       "+DI_12h               17.882242     19.365789     21.200548      39.168759  \n",
       "RSI_12h               47.054910     49.437630     52.445453      62.045469  \n",
       "ADX_24h                6.364340      8.538855     10.893344      19.330437  \n",
       "-DI_24h               20.458612     21.668256     22.887271      28.049336  \n",
       "+DI_24h               18.247424     19.263757     20.619080      29.138021  \n",
       "RSI_24h               47.631490     49.240794     51.830686      57.521334  \n",
       "pre_pri_ch_1          -0.003597      0.000023      0.003640       0.092184  \n",
       "pre_pri_ch_24         -0.021523      0.000257      0.021181       0.189701  \n",
       "pre_pri_ch_2          -0.005188      0.000047      0.005131       0.092410  \n",
       "pre_pri_ch_3          -0.006309      0.000076      0.006343       0.102855  \n",
       "pre_pri_ch_4          -0.007378      0.000044      0.007282       0.115435  \n",
       "pre_pri_ch_12         -0.013635      0.000000      0.013901       0.149748  "
      ]
     },
     "execution_count": 90,
     "metadata": {},
     "output_type": "execute_result"
    }
   ],
   "source": [
    "df5.describe().T"
   ]
  },
  {
   "cell_type": "code",
   "execution_count": 91,
   "id": "8e81d494-8ccd-4899-aa1e-3bafe8161c01",
   "metadata": {},
   "outputs": [],
   "source": [
    "df5.to_csv('BTC_dataset.csv', index = False)"
   ]
  },
  {
   "cell_type": "code",
   "execution_count": 8,
   "id": "27b92a24-2227-47e5-9cd7-7fabb4ea4c93",
   "metadata": {},
   "outputs": [],
   "source": [
    "df5 = pd.read_csv('BTC_dataset.csv')"
   ]
  },
  {
   "cell_type": "markdown",
   "id": "d7d95c6e-538b-4d88-81d9-95c536b30bc3",
   "metadata": {},
   "source": [
    "## dataset 4h_3%"
   ]
  },
  {
   "cell_type": "code",
   "execution_count": 59,
   "id": "40868010-ceca-4e94-abb6-87061115899c",
   "metadata": {},
   "outputs": [
    {
     "data": {
      "text/plain": [
       "<AxesSubplot:>"
      ]
     },
     "execution_count": 59,
     "metadata": {},
     "output_type": "execute_result"
    },
    {
     "data": {
      "image/png": "[encoded data removed]",
      "text/plain": [
       "<Figure size 432x288 with 1 Axes>"
      ]
     },
     "metadata": {
      "needs_background": "light"
     },
     "output_type": "display_data"
    }
   ],
   "source": [
    "df['price_change_4'].hist(bins=75)"
   ]
  },
  {
   "cell_type": "code",
   "execution_count": 7,
   "id": "4b24cb6c-fcc8-4833-8b4f-910dde63282e",
   "metadata": {},
   "outputs": [
    {
     "data": {
      "text/plain": [
       "Index(['Open time', 'Open', 'High', 'Low', 'Close', 'Volume', 'Vol_4',\n",
       "       'Vol_12', 'Vol_24', 'Vol_week', 'Vol_month', 'Max_4', 'Min_4', 'Max_12',\n",
       "       'Min_12', 'Max_24', 'Min_24', 'Max_week', 'Min_week', 'Max_month',\n",
       "       'Min_month', 'price_change_4', 'price_change_12', 'price_change_24',\n",
       "       'price_change_week', 'ADX', '-DI', '+DI', 'RSI', 'ADX_4h', '-DI_4h',\n",
       "       '+DI_4h', 'RSI_4h', 'ADX_12h', '-DI_12h', '+DI_12h', 'RSI_12h',\n",
       "       'ADX_24h', '-DI_24h', '+DI_24h', 'RSI_24h', 'pre_pri_ch_1',\n",
       "       'pre_pri_ch_24', 'pre_pri_ch_2', 'pre_pri_ch_3', 'pre_pri_ch_4',\n",
       "       'pre_pri_ch_12'],\n",
       "      dtype='object')"
      ]
     },
     "execution_count": 7,
     "metadata": {},
     "output_type": "execute_result"
    }
   ],
   "source": [
    "df5.columns"
   ]
  },
  {
   "cell_type": "code",
   "execution_count": 12,
   "id": "f2a67d51-092c-49ef-933b-d1158a1252c0",
   "metadata": {},
   "outputs": [],
   "source": [
    "list_columns = ['pre_pri_ch_1',\n",
    "       'pre_pri_ch_24', 'pre_pri_ch_2', 'pre_pri_ch_3', 'pre_pri_ch_4',\n",
    "       'pre_pri_ch_12','Vol_4','Vol_12', 'Vol_24', 'Vol_week', 'Vol_month', 'Max_4', 'Min_4', 'Max_12',\n",
    "               'Min_12', 'Max_24', 'Min_24', 'Max_week', 'Min_week', 'Max_month','Min_month',\n",
    "                       'ADX', '-DI', '+DI', 'RSI', 'ADX_4h', '-DI_4h',\n",
    "                       '+DI_4h', 'RSI_4h', 'ADX_12h', '-DI_12h', '+DI_12h', 'RSI_12h',\n",
    "                       'ADX_24h', '-DI_24h', '+DI_24h', 'RSI_24h', \n",
    "                'target']"
   ]
  },
  {
   "cell_type": "code",
   "execution_count": 9,
   "id": "b9e0cb2c-4108-406e-b43d-1f6017bb4258",
   "metadata": {},
   "outputs": [],
   "source": [
    "df5['target'] = df5['price_change_4'].apply(lambda x: 1 if x>=0.75 else 0)"
   ]
  },
  {
   "cell_type": "code",
   "execution_count": 13,
   "id": "8641dd3e-b2a3-468e-966e-d21d880f53c0",
   "metadata": {},
   "outputs": [],
   "source": [
    "df_1hour = df5[list_columns]"
   ]
  },
  {
   "cell_type": "code",
   "execution_count": 14,
   "id": "d203ce5a-2935-4b46-a564-18e62e4f276a",
   "metadata": {},
   "outputs": [
    {
     "data": {
      "text/plain": [
       "0.2539468464894883"
      ]
     },
     "execution_count": 14,
     "metadata": {},
     "output_type": "execute_result"
    }
   ],
   "source": [
    "df_1hour.target.sum()/len(df_1hour)"
   ]
  },
  {
   "cell_type": "code",
   "execution_count": 15,
   "id": "85b89735-6282-4b85-b1c3-d94dd4b171f7",
   "metadata": {},
   "outputs": [],
   "source": [
    "lenght_train = int(len(df_1hour)*0.7)\n",
    "lenght_test = len(df_1hour) - lenght_train"
   ]
  },
  {
   "cell_type": "code",
   "execution_count": 16,
   "id": "d94747f9-6bab-4a18-a4d3-875f8a45b823",
   "metadata": {},
   "outputs": [],
   "source": [
    "df_1hour_train = df_1hour[:lenght_train]\n",
    "df_1hour_test = df_1hour[-lenght_test:]"
   ]
  },
  {
   "cell_type": "code",
   "execution_count": 122,
   "id": "d45b1f9d-79ed-423c-b973-379a5e4903f4",
   "metadata": {},
   "outputs": [],
   "source": [
    "arff.dump('btc_1h_train.arff'\n",
    "      , df_1hour_train.values\n",
    "      , relation='btc_1h_train'\n",
    "      , names=df_1hour_train.columns)\n",
    "\n",
    "arff.dump('btc_1h_test.arff'\n",
    "      , df_1hour_test.values\n",
    "      , relation='btc_1h_test'\n",
    "      , names=df_1hour_test.columns)"
   ]
  },
  {
   "cell_type": "code",
   "execution_count": 17,
   "id": "52d6e01e-c0bc-4b59-b99c-cefd2485e529",
   "metadata": {},
   "outputs": [],
   "source": [
    "df6 = df5.drop(['Open time'], axis = 1)"
   ]
  },
  {
   "cell_type": "code",
   "execution_count": 100,
   "id": "51cd321b-8b8d-4f9c-b340-f7d753319867",
   "metadata": {},
   "outputs": [],
   "source": [
    "\n",
    "arff.dump('df6.arff'\n",
    "      , df6.values\n",
    "      , relation='df5'\n",
    "      , names=df6.columns)"
   ]
  },
  {
   "cell_type": "markdown",
   "id": "372e8606-c6dd-4c2a-ae38-3d9c4554e8d3",
   "metadata": {},
   "source": [
    "### trying to set most important featuries"
   ]
  },
  {
   "cell_type": "code",
   "execution_count": 18,
   "id": "9f53ac46-b61a-486d-bb27-0bc80ba16b39",
   "metadata": {},
   "outputs": [],
   "source": [
    "effective_featuries = ['Min_24', \n",
    "                       'Max_week', \n",
    "                       'Max_month', \n",
    "                       'RSI_24h', \n",
    "                       '+DI_12h','-DI_12h', \n",
    "                       '+DI_24h', \n",
    "                       'RSI_12h', \n",
    "                       'Min_month', \n",
    "                       'Min_week', \n",
    "                       'pre_pri_ch_24', \n",
    "                       'Max_12', \n",
    "                       'pre_pri_ch_1', \n",
    "                       'Min_12', \n",
    "                       'pre_pri_ch_4',\n",
    "                      'target']"
   ]
  },
  {
   "cell_type": "code",
   "execution_count": 19,
   "id": "04fb5753-40f4-40a9-961e-af0dec5e65fd",
   "metadata": {},
   "outputs": [],
   "source": [
    "df7_1hour = df5[effective_featuries]"
   ]
  },
  {
   "cell_type": "code",
   "execution_count": 144,
   "id": "4a002ffc-26a9-463b-9a72-e85731d0a875",
   "metadata": {},
   "outputs": [],
   "source": [
    "arff.dump('df7.arff'\n",
    "      , df7_1hour.values\n",
    "      , relation='df7'\n",
    "      , names=df7_1hour.columns)"
   ]
  },
  {
   "cell_type": "markdown",
   "id": "0b585818-5bff-47d2-a1be-0bf4c4638138",
   "metadata": {},
   "source": [
    "# simple NN"
   ]
  },
  {
   "cell_type": "code",
   "execution_count": 21,
   "id": "93faf95a-de84-4ecc-b856-eb4e6ed91f5c",
   "metadata": {},
   "outputs": [],
   "source": [
    "df = df7_1hour"
   ]
  },
  {
   "cell_type": "code",
   "execution_count": 22,
   "id": "b5038792-870f-42ea-9b22-b53895a085bb",
   "metadata": {},
   "outputs": [
    {
     "data": {
      "text/html": [
       "<div>\n",
       "<style scoped>\n",
       "    .dataframe tbody tr th:only-of-type {\n",
       "        vertical-align: middle;\n",
       "    }\n",
       "\n",
       "    .dataframe tbody tr th {\n",
       "        vertical-align: top;\n",
       "    }\n",
       "\n",
       "    .dataframe thead th {\n",
       "        text-align: right;\n",
       "    }\n",
       "</style>\n",
       "<table border=\"1\" class=\"dataframe\">\n",
       "  <thead>\n",
       "    <tr style=\"text-align: right;\">\n",
       "      <th></th>\n",
       "      <th>Min_24</th>\n",
       "      <th>Max_week</th>\n",
       "      <th>Max_month</th>\n",
       "      <th>RSI_24h</th>\n",
       "      <th>+DI_12h</th>\n",
       "      <th>-DI_12h</th>\n",
       "      <th>+DI_24h</th>\n",
       "      <th>RSI_12h</th>\n",
       "      <th>Min_month</th>\n",
       "      <th>Min_week</th>\n",
       "      <th>pre_pri_ch_24</th>\n",
       "      <th>Max_12</th>\n",
       "      <th>pre_pri_ch_1</th>\n",
       "      <th>Min_12</th>\n",
       "      <th>pre_pri_ch_4</th>\n",
       "      <th>target</th>\n",
       "    </tr>\n",
       "  </thead>\n",
       "  <tbody>\n",
       "    <tr>\n",
       "      <th>0</th>\n",
       "      <td>0.984514</td>\n",
       "      <td>1.124585</td>\n",
       "      <td>1.220196</td>\n",
       "      <td>50.233964</td>\n",
       "      <td>18.774448</td>\n",
       "      <td>21.411371</td>\n",
       "      <td>18.580870</td>\n",
       "      <td>50.399425</td>\n",
       "      <td>0.852196</td>\n",
       "      <td>0.868659</td>\n",
       "      <td>0.015486</td>\n",
       "      <td>1.019403</td>\n",
       "      <td>0.002763</td>\n",
       "      <td>0.992005</td>\n",
       "      <td>-0.001086</td>\n",
       "      <td>0</td>\n",
       "    </tr>\n",
       "    <tr>\n",
       "      <th>1</th>\n",
       "      <td>0.992463</td>\n",
       "      <td>1.133626</td>\n",
       "      <td>1.230005</td>\n",
       "      <td>50.098131</td>\n",
       "      <td>18.729047</td>\n",
       "      <td>21.451396</td>\n",
       "      <td>18.559399</td>\n",
       "      <td>50.146414</td>\n",
       "      <td>0.859047</td>\n",
       "      <td>0.875642</td>\n",
       "      <td>0.007537</td>\n",
       "      <td>1.027598</td>\n",
       "      <td>-0.008039</td>\n",
       "      <td>0.999980</td>\n",
       "      <td>-0.013000</td>\n",
       "      <td>0</td>\n",
       "    </tr>\n",
       "    <tr>\n",
       "      <th>2</th>\n",
       "      <td>1.000714</td>\n",
       "      <td>1.137152</td>\n",
       "      <td>1.233831</td>\n",
       "      <td>50.045779</td>\n",
       "      <td>18.662583</td>\n",
       "      <td>21.495604</td>\n",
       "      <td>18.527963</td>\n",
       "      <td>50.048923</td>\n",
       "      <td>0.861719</td>\n",
       "      <td>0.878365</td>\n",
       "      <td>-0.004580</td>\n",
       "      <td>1.030795</td>\n",
       "      <td>-0.003110</td>\n",
       "      <td>1.003090</td>\n",
       "      <td>-0.003091</td>\n",
       "      <td>0</td>\n",
       "    </tr>\n",
       "    <tr>\n",
       "      <th>3</th>\n",
       "      <td>1.001567</td>\n",
       "      <td>1.138934</td>\n",
       "      <td>1.235764</td>\n",
       "      <td>50.019408</td>\n",
       "      <td>18.574626</td>\n",
       "      <td>21.516800</td>\n",
       "      <td>18.486305</td>\n",
       "      <td>49.999736</td>\n",
       "      <td>0.863069</td>\n",
       "      <td>0.879742</td>\n",
       "      <td>-0.013248</td>\n",
       "      <td>1.032410</td>\n",
       "      <td>-0.001567</td>\n",
       "      <td>1.001567</td>\n",
       "      <td>-0.009961</td>\n",
       "      <td>0</td>\n",
       "    </tr>\n",
       "    <tr>\n",
       "      <th>4</th>\n",
       "      <td>1.000010</td>\n",
       "      <td>1.138945</td>\n",
       "      <td>1.235776</td>\n",
       "      <td>50.019248</td>\n",
       "      <td>18.499379</td>\n",
       "      <td>21.429633</td>\n",
       "      <td>18.450609</td>\n",
       "      <td>49.999436</td>\n",
       "      <td>0.863078</td>\n",
       "      <td>0.879750</td>\n",
       "      <td>-0.008574</td>\n",
       "      <td>1.032420</td>\n",
       "      <td>-0.000010</td>\n",
       "      <td>1.000010</td>\n",
       "      <td>-0.012769</td>\n",
       "      <td>0</td>\n",
       "    </tr>\n",
       "  </tbody>\n",
       "</table>\n",
       "</div>"
      ],
      "text/plain": [
       "     Min_24  Max_week  Max_month    RSI_24h    +DI_12h    -DI_12h    +DI_24h  \\\n",
       "0  0.984514  1.124585   1.220196  50.233964  18.774448  21.411371  18.580870   \n",
       "1  0.992463  1.133626   1.230005  50.098131  18.729047  21.451396  18.559399   \n",
       "2  1.000714  1.137152   1.233831  50.045779  18.662583  21.495604  18.527963   \n",
       "3  1.001567  1.138934   1.235764  50.019408  18.574626  21.516800  18.486305   \n",
       "4  1.000010  1.138945   1.235776  50.019248  18.499379  21.429633  18.450609   \n",
       "\n",
       "     RSI_12h  Min_month  Min_week  pre_pri_ch_24    Max_12  pre_pri_ch_1  \\\n",
       "0  50.399425   0.852196  0.868659       0.015486  1.019403      0.002763   \n",
       "1  50.146414   0.859047  0.875642       0.007537  1.027598     -0.008039   \n",
       "2  50.048923   0.861719  0.878365      -0.004580  1.030795     -0.003110   \n",
       "3  49.999736   0.863069  0.879742      -0.013248  1.032410     -0.001567   \n",
       "4  49.999436   0.863078  0.879750      -0.008574  1.032420     -0.000010   \n",
       "\n",
       "     Min_12  pre_pri_ch_4  target  \n",
       "0  0.992005     -0.001086       0  \n",
       "1  0.999980     -0.013000       0  \n",
       "2  1.003090     -0.003091       0  \n",
       "3  1.001567     -0.009961       0  \n",
       "4  1.000010     -0.012769       0  "
      ]
     },
     "execution_count": 22,
     "metadata": {},
     "output_type": "execute_result"
    }
   ],
   "source": [
    "df.head()"
   ]
  },
  {
   "cell_type": "code",
   "execution_count": 23,
   "id": "73209933-2343-4172-ad1c-3dc98e1f5e3b",
   "metadata": {},
   "outputs": [
    {
     "data": {
      "text/plain": [
       "<AxesSubplot:xlabel='target', ylabel='count'>"
      ]
     },
     "execution_count": 23,
     "metadata": {},
     "output_type": "execute_result"
    },
    {
     "data": {
      "image/png": "[encoded data removed]",
      "text/plain": [
       "<Figure size 432x288 with 1 Axes>"
      ]
     },
     "metadata": {
      "needs_background": "light"
     },
     "output_type": "display_data"
    }
   ],
   "source": [
    "sns.countplot(x = 'target', data=df)"
   ]
  },
  {
   "cell_type": "code",
   "execution_count": 24,
   "id": "57759d52-7db9-44ec-9218-62e53f1928ae",
   "metadata": {},
   "outputs": [
    {
     "name": "stderr",
     "output_type": "stream",
     "text": [
      "<ipython-input-24-2226efc13b9c>:1: SettingWithCopyWarning: \n",
      "A value is trying to be set on a copy of a slice from a DataFrame.\n",
      "Try using .loc[row_indexer,col_indexer] = value instead\n",
      "\n",
      "See the caveats in the documentation: https://pandas.pydata.org/pandas-docs/stable/user_guide/indexing.html#returning-a-view-versus-a-copy\n",
      "  df['target'] = df['target'].astype('category')\n"
     ]
    }
   ],
   "source": [
    "df['target'] = df['target'].astype('category')"
   ]
  },
  {
   "cell_type": "code",
   "execution_count": 25,
   "id": "827fb052-d37a-43b9-8046-7479e2310762",
   "metadata": {},
   "outputs": [],
   "source": [
    "X = df.iloc[:, 0:-1]\n",
    "y = df.iloc[:, -1]"
   ]
  },
  {
   "cell_type": "code",
   "execution_count": 190,
   "id": "71f56d55-1e9e-43f3-a5a8-bc0da995efbe",
   "metadata": {},
   "outputs": [],
   "source": [
    "lenght_train = int(len(df)*0.7)\n",
    "lenght_valid = int(len(df)*0.2)\n",
    "lenght_test = len(df) - lenght_train - lenght_valid"
   ]
  },
  {
   "cell_type": "code",
   "execution_count": 193,
   "id": "d2212ead-9149-4e08-b0c1-df39f7e7083a",
   "metadata": {},
   "outputs": [],
   "source": [
    "X_train = X[:lenght_train]\n",
    "X_valid = X[lenght_train : lenght_train + lenght_valid]\n",
    "X_test = X[-lenght_test:]"
   ]
  },
  {
   "cell_type": "code",
   "execution_count": 194,
   "id": "7c8bb654-915c-4566-b958-32ee32c27c9b",
   "metadata": {},
   "outputs": [],
   "source": [
    "y_train = y[:lenght_train]\n",
    "y_valid = y[lenght_train : lenght_train + lenght_valid]\n",
    "y_test = y[-lenght_test:]"
   ]
  },
  {
   "cell_type": "code",
   "execution_count": 199,
   "id": "81327920-6360-4eee-bd58-2008aee7e7a8",
   "metadata": {},
   "outputs": [],
   "source": [
    "scaler = StandardScaler()\n",
    "X_train = scaler.fit_transform(X_train)\n",
    "X_valid = scaler.fit_transform(X_valid)\n",
    "X_test = scaler.transform(X_test)"
   ]
  },
  {
   "cell_type": "code",
   "execution_count": 200,
   "id": "07ba1707-ab2e-4e94-b760-f8a89634358f",
   "metadata": {},
   "outputs": [],
   "source": [
    "EPOCHS = 50\n",
    "BATCH_SIZE = 64\n",
    "LEARNING_RATE = 0.001"
   ]
  },
  {
   "cell_type": "code",
   "execution_count": 201,
   "id": "c5f4f48e-2cf8-44a2-89fd-bb97f0a225e3",
   "metadata": {},
   "outputs": [],
   "source": [
    "## train data\n",
    "class TrainData(Dataset):\n",
    "    \n",
    "    def __init__(self, X_data, y_data):\n",
    "        self.X_data = X_data\n",
    "        self.y_data = y_data\n",
    "        \n",
    "    def __getitem__(self, index):\n",
    "        return self.X_data[index], self.y_data[index]\n",
    "        \n",
    "    def __len__ (self):\n",
    "        return len(self.X_data)\n",
    "\n",
    "\n",
    "train_data = TrainData(torch.FloatTensor(X_train), \n",
    "                       torch.FloatTensor(y_train.values))\n",
    "\n",
    "## train data\n",
    "class ValidData(Dataset):\n",
    "    \n",
    "    def __init__(self, X_data, y_data):\n",
    "        self.X_data = X_data\n",
    "        self.y_data = y_data\n",
    "        \n",
    "    def __getitem__(self, index):\n",
    "        return self.X_data[index], self.y_data[index]\n",
    "        \n",
    "    def __len__ (self):\n",
    "        return len(self.X_data)\n",
    "\n",
    "\n",
    "valid_data = ValidData(torch.FloatTensor(X_valid), \n",
    "                       torch.FloatTensor(y_valid.values))\n",
    "\n",
    "## test data    \n",
    "class TestData(Dataset):\n",
    "    \n",
    "    def __init__(self, X_data, y_data):\n",
    "        self.X_data = X_data\n",
    "        self.y_data = y_data\n",
    "        \n",
    "    def __getitem__(self, index):\n",
    "        return self.X_data[index], self.y_data[index]\n",
    "        \n",
    "    def __len__ (self):\n",
    "        return len(self.X_data)\n",
    "    \n",
    "\n",
    "test_data = TestData(torch.FloatTensor(X_test), \n",
    "                     torch.FloatTensor(y_test.values))"
   ]
  },
  {
   "cell_type": "code",
   "execution_count": 206,
   "id": "9a1b5131-def2-452d-b41f-53fdef1b31fe",
   "metadata": {},
   "outputs": [],
   "source": [
    "train_loader = DataLoader(dataset=train_data, batch_size=BATCH_SIZE, shuffle=True)\n",
    "valid_loader = DataLoader(dataset=valid_data, batch_size=BATCH_SIZE, shuffle=True)\n",
    "test_loader = DataLoader(dataset=test_data, batch_size=BATCH_SIZE, shuffle=True)"
   ]
  },
  {
   "cell_type": "code",
   "execution_count": 135,
   "id": "f7f97382-a771-4d3a-b2c0-8220999ab5aa",
   "metadata": {},
   "outputs": [],
   "source": [
    "class BTC_pro(nn.Module):\n",
    "    def __init__(self):\n",
    "        super(BTC_pro, self).__init__()\n",
    "        # Number of input features is 12.\n",
    "        self.layer_1 = nn.Linear(15, 128) \n",
    "        self.layer_2 = nn.Linear(128, 128)\n",
    "        self.layer_out = nn.Linear(128, 1) \n",
    "        \n",
    "        self.relu = nn.ReLU()\n",
    "        self.dropout = nn.Dropout(p=0.1)\n",
    "        self.batchnorm1 = nn.BatchNorm1d(128)\n",
    "        self.batchnorm2 = nn.BatchNorm1d(128)\n",
    "        \n",
    "    def forward(self, inputs):\n",
    "        x = self.relu(self.layer_1(inputs))\n",
    "        x = self.batchnorm1(x)\n",
    "        x = self.relu(self.layer_2(x))\n",
    "        x = self.batchnorm2(x)\n",
    "        x = self.dropout(x)\n",
    "        x = self.layer_out(x)\n",
    "        \n",
    "        return x"
   ]
  },
  {
   "cell_type": "code",
   "execution_count": 207,
   "id": "d0b1aae7-016b-412b-87c8-75835ec856b0",
   "metadata": {},
   "outputs": [],
   "source": [
    "class BTC_pro1(nn.Module):\n",
    "    def __init__(self):\n",
    "        super(BTC_pro1, self).__init__()\n",
    "        # Number of input features is 12.\n",
    "        self.layer_1 = nn.Linear(15, 128) \n",
    "        self.layer_2 = nn.Linear(128, 128)\n",
    "        self.layer_out = nn.Linear(128, 1) \n",
    "        \n",
    "        self.relu = nn.ReLU()\n",
    "        self.dropout = nn.Dropout(p=0.1)\n",
    "        self.batchnorm1 = nn.BatchNorm1d(128)\n",
    "        self.batchnorm2 = nn.BatchNorm1d(128)\n",
    "        \n",
    "    def forward(self, inputs):\n",
    "        x = self.relu(self.layer_1(inputs))\n",
    "        x = self.batchnorm1(x)\n",
    "        x = self.relu(self.layer_2(x))\n",
    "        x = self.batchnorm2(x)\n",
    "        x = self.dropout(x)\n",
    "        x = self.layer_out(x)\n",
    "        \n",
    "        return x"
   ]
  },
  {
   "cell_type": "code",
   "execution_count": 219,
   "id": "9bc26253-8a7b-43ae-8854-1c27118ef331",
   "metadata": {},
   "outputs": [],
   "source": [
    "class BTC_pro2(nn.Module):\n",
    "    def __init__(self):\n",
    "        super(BTC_pro2, self).__init__()\n",
    "        # Number of input features is 12.\n",
    "        self.layer_1 = nn.Linear(15, 64) \n",
    "        self.layer_2 = nn.Linear(64, 64)\n",
    "        self.layer_out = nn.Linear(64, 1) \n",
    "        \n",
    "        self.relu = nn.ReLU()\n",
    "        self.dropout = nn.Dropout(p=0.1)\n",
    "        self.batchnorm1 = nn.BatchNorm1d(64)\n",
    "        self.batchnorm2 = nn.BatchNorm1d(64)\n",
    "        \n",
    "    def forward(self, inputs):\n",
    "        x = self.relu(self.layer_1(inputs))\n",
    "        x = self.batchnorm1(x)\n",
    "        x = self.relu(self.layer_2(x))\n",
    "        x = self.batchnorm2(x)\n",
    "        x = self.dropout(x)\n",
    "        x = self.layer_out(x)\n",
    "        \n",
    "        return x"
   ]
  },
  {
   "cell_type": "code",
   "execution_count": 220,
   "id": "f60cad90-1267-4948-9d55-7d77540dcaf8",
   "metadata": {},
   "outputs": [],
   "source": [
    "class BTC_pro3(nn.Module):\n",
    "    def __init__(self):\n",
    "        super(BTC_pro3, self).__init__()\n",
    "        # Number of input features is 12.\n",
    "        self.layer_1 = nn.Linear(15, 64) \n",
    "        self.layer_2 = nn.Linear(64, 128)\n",
    "        self.layer_3 = nn.Linear(128, 128)\n",
    "        self.layer_4 = nn.Linear(128, 64)\n",
    "        self.layer_out = nn.Linear(64, 1) \n",
    "        \n",
    "        self.relu = nn.ReLU()\n",
    "        self.dropout = nn.Dropout(p=0.1)\n",
    "        self.batchnorm1 = nn.BatchNorm1d(64)\n",
    "        self.batchnorm2 = nn.BatchNorm1d(128)\n",
    "        self.batchnorm3 = nn.BatchNorm1d(128)\n",
    "        self.batchnorm4 = nn.BatchNorm1d(64)\n",
    "        \n",
    "    def forward(self, inputs):\n",
    "        x = self.relu(self.layer_1(inputs))\n",
    "        x = self.batchnorm1(x)\n",
    "        x = self.relu(self.layer_2(x))\n",
    "        x = self.batchnorm2(x)\n",
    "        \n",
    "        x = self.relu(self.layer_3(x))\n",
    "        x = self.batchnorm3(x)\n",
    "        x = self.relu(self.layer_4(x))\n",
    "        x = self.batchnorm4(x)\n",
    "        \n",
    "        x = self.dropout(x)\n",
    "        x = self.layer_out(x)\n",
    "        \n",
    "        return x"
   ]
  },
  {
   "cell_type": "code",
   "execution_count": 227,
   "id": "8592ced0-c6bc-410c-b6d1-083076013c5b",
   "metadata": {},
   "outputs": [],
   "source": [
    "class BTC_pro4(nn.Module):\n",
    "    def __init__(self):\n",
    "        super(BTC_pro4, self).__init__()\n",
    "        # Number of input features is 12.\n",
    "        self.layer_1 = nn.Linear(15, 30) \n",
    "        self.layer_2 = nn.Linear(30, 30)\n",
    "        self.layer_out = nn.Linear(30, 1) \n",
    "        \n",
    "        self.relu = nn.ReLU()\n",
    "        self.dropout = nn.Dropout(p=0.1)\n",
    "        self.batchnorm1 = nn.BatchNorm1d(30)\n",
    "        self.batchnorm2 = nn.BatchNorm1d(30)\n",
    "        \n",
    "    def forward(self, inputs):\n",
    "        x = self.relu(self.layer_1(inputs))\n",
    "        x = self.batchnorm1(x)\n",
    "        x = self.relu(self.layer_2(x))\n",
    "        x = self.batchnorm2(x)\n",
    "        x = self.dropout(x)\n",
    "        x = self.layer_out(x)\n",
    "        \n",
    "        return x"
   ]
  },
  {
   "cell_type": "code",
   "execution_count": 221,
   "id": "c1d9a2bf-1043-4cf6-adc8-5e57f7138a10",
   "metadata": {},
   "outputs": [
    {
     "name": "stdout",
     "output_type": "stream",
     "text": [
      "cuda:0\n"
     ]
    }
   ],
   "source": [
    "device = torch.device(\"cuda:0\" if torch.cuda.is_available() else \"cpu\")\n",
    "print(device)"
   ]
  },
  {
   "cell_type": "code",
   "execution_count": 37,
   "id": "1120f97d-ef1a-49d7-a5be-486236953b7c",
   "metadata": {
    "tags": []
   },
   "outputs": [],
   "source": [
    "def binary_acc(y_pred, y_test):\n",
    "    y_pred_tag = torch.round(torch.sigmoid(y_pred))\n",
    "\n",
    "    correct_results_sum = (y_pred_tag == y_test).sum().float()\n",
    "    acc = correct_results_sum/y_test.shape[0]\n",
    "    acc = torch.round(acc * 100)\n",
    "    \n",
    "    return acc"
   ]
  },
  {
   "cell_type": "code",
   "execution_count": 208,
   "id": "d60a00a6-cc8b-4294-8cd6-c928ffb2458e",
   "metadata": {
    "tags": []
   },
   "outputs": [],
   "source": [
    "def train(dataloader, model, loss, optimizer, t):\n",
    "    \n",
    "    model.train()\n",
    "    size = len(dataloader.dataset)\n",
    "    \n",
    "    for X_batch, y_batch in train_loader:\n",
    "        X_batch, y_batch = X_batch.to(device), y_batch.to(device)\n",
    "        optimizer.zero_grad()\n",
    "        \n",
    "        y_pred = model(X_batch)\n",
    "        \n",
    "        loss = criterion(y_pred, y_batch.unsqueeze(1))\n",
    "        \n",
    "        loss.backward()\n",
    "        optimizer.step()\n",
    "        \n",
    "        loss += loss.item()\n",
    "        \n",
    "    writer.add_scalar('Loss/train', loss, t)\n",
    "    \n",
    "def test(dataloader, model,t):\n",
    "    \n",
    "    size = len(dataloader.dataset)\n",
    "    model.eval()\n",
    "    test_loss, correct = 0, 0\n",
    "    \n",
    "    # initialize metric\n",
    "    test_metric_collection = MetricCollection([\n",
    "    Accuracy(),\n",
    "    AUROC(),\n",
    "    Recall(),\n",
    "    Precision(),\n",
    "    F1Score()\n",
    "    ]).to(device)\n",
    "    \n",
    "    model.eval()\n",
    "    with torch.no_grad():\n",
    "        for X_batch, y_batch in valid_loader:\n",
    "            X_batch, y_batch = X_batch.to(device), y_batch.to(device)\n",
    "            \n",
    "            y_test_pred = model(X_batch)\n",
    "            y_test_pred = torch.sigmoid(y_test_pred)\n",
    "            test_loss += criterion(y_test_pred, y_batch.unsqueeze(1)).item()\n",
    "            y_batch = y_batch.type(torch.int)\n",
    "            prediction = y_test_pred.T[0]\n",
    "            test_metric_collection(prediction, y_batch)\n",
    "    test_loss /= size\n",
    "    total_metric_collection = test_metric_collection.compute()\n",
    "    \n",
    "    writer.add_scalar('Loss/test', test_loss, t)\n",
    "    writer.add_scalar('Accuracy/test', total_metric_collection['Accuracy'], t)\n",
    "    writer.add_scalar('AUROC/test', total_metric_collection['AUROC'], t)\n",
    "    writer.add_scalar('Sensitivity/test', total_metric_collection['Recall'], t)\n",
    "    writer.add_scalar('Precision/test', total_metric_collection['Precision'], t)\n",
    "    writer.add_scalar('F1/test', total_metric_collection['F1Score'], t)\n",
    "    \n",
    "    test_metric_collection.reset()"
   ]
  },
  {
   "cell_type": "code",
   "execution_count": 222,
   "id": "930cb735-f5bf-4a35-a03c-4fd1c0ff194a",
   "metadata": {},
   "outputs": [],
   "source": [
    "w = torch.tensor([0.5, 0.5]).to(device)"
   ]
  },
  {
   "cell_type": "code",
   "execution_count": 228,
   "id": "8a13d533-10c3-45e8-9372-d5bb7f055cd5",
   "metadata": {},
   "outputs": [],
   "source": [
    "model = BTC_pro4()\n",
    "model.to(device)\n",
    "criterion = nn.BCEWithLogitsLoss()\n",
    "optimizer = optim.Adam(model.parameters(), lr=LEARNING_RATE)"
   ]
  },
  {
   "cell_type": "code",
   "execution_count": 229,
   "id": "0e4d6b5d-d814-444b-8687-51d02b9cd01e",
   "metadata": {
    "tags": []
   },
   "outputs": [],
   "source": [
    "epochs = 50\n",
    "\n",
    "cost = torch.nn.CrossEntropyLoss(weight = w)\n",
    "optimizer = torch.optim.Adam(model.parameters(), lr=0.0001)\n",
    "writer = SummaryWriter(log_dir = 'runs/' + str(model).split('(')[0])\n",
    "\n",
    "for t in range(epochs):\n",
    "    train(train_loader, model, cost, optimizer, t)\n",
    "    test(test_loader, model, t)\n",
    "    torch.save(model.state_dict(), 'models/' + str(model).split('(')[0] + '_tvt_' + str(t) + '.pt')\n",
    "\n",
    "writer.close()\n",
    "torch.cuda.empty_cache()"
   ]
  },
  {
   "cell_type": "code",
   "execution_count": 156,
   "id": "aa856809-831e-4cba-a3ed-52b2821a04a2",
   "metadata": {
    "collapsed": true,
    "jupyter": {
     "outputs_hidden": true,
     "source_hidden": true
    },
    "tags": []
   },
   "outputs": [
    {
     "ename": "RuntimeError",
     "evalue": "Expected all tensors to be on the same device, but found at least two devices, cpu and cuda:0! (when checking arugment for argument mat1 in method wrapper_addmm)",
     "output_type": "error",
     "traceback": [
      "\u001b[1;31m---------------------------------------------------------------------------\u001b[0m",
      "\u001b[1;31mRuntimeError\u001b[0m                              Traceback (most recent call last)",
      "\u001b[1;32m<ipython-input-156-107feabc33d2>\u001b[0m in \u001b[0;36m<module>\u001b[1;34m\u001b[0m\n\u001b[0;32m      7\u001b[0m         \u001b[0moptimizer\u001b[0m\u001b[1;33m.\u001b[0m\u001b[0mzero_grad\u001b[0m\u001b[1;33m(\u001b[0m\u001b[1;33m)\u001b[0m\u001b[1;33m\u001b[0m\u001b[1;33m\u001b[0m\u001b[0m\n\u001b[0;32m      8\u001b[0m \u001b[1;33m\u001b[0m\u001b[0m\n\u001b[1;32m----> 9\u001b[1;33m         \u001b[0my_pred\u001b[0m \u001b[1;33m=\u001b[0m \u001b[0mmodel\u001b[0m\u001b[1;33m(\u001b[0m\u001b[0mX_batch\u001b[0m\u001b[1;33m)\u001b[0m\u001b[1;33m\u001b[0m\u001b[1;33m\u001b[0m\u001b[0m\n\u001b[0m\u001b[0;32m     10\u001b[0m \u001b[1;33m\u001b[0m\u001b[0m\n\u001b[0;32m     11\u001b[0m         \u001b[0mloss\u001b[0m \u001b[1;33m=\u001b[0m \u001b[0mcriterion\u001b[0m\u001b[1;33m(\u001b[0m\u001b[0my_pred\u001b[0m\u001b[1;33m,\u001b[0m \u001b[0my_batch\u001b[0m\u001b[1;33m.\u001b[0m\u001b[0munsqueeze\u001b[0m\u001b[1;33m(\u001b[0m\u001b[1;36m1\u001b[0m\u001b[1;33m)\u001b[0m\u001b[1;33m)\u001b[0m\u001b[1;33m\u001b[0m\u001b[1;33m\u001b[0m\u001b[0m\n",
      "\u001b[1;32m~\\anaconda3\\lib\\site-packages\\torch\\nn\\modules\\module.py\u001b[0m in \u001b[0;36m_call_impl\u001b[1;34m(self, *input, **kwargs)\u001b[0m\n\u001b[0;32m   1049\u001b[0m         if not (self._backward_hooks or self._forward_hooks or self._forward_pre_hooks or _global_backward_hooks\n\u001b[0;32m   1050\u001b[0m                 or _global_forward_hooks or _global_forward_pre_hooks):\n\u001b[1;32m-> 1051\u001b[1;33m             \u001b[1;32mreturn\u001b[0m \u001b[0mforward_call\u001b[0m\u001b[1;33m(\u001b[0m\u001b[1;33m*\u001b[0m\u001b[0minput\u001b[0m\u001b[1;33m,\u001b[0m \u001b[1;33m**\u001b[0m\u001b[0mkwargs\u001b[0m\u001b[1;33m)\u001b[0m\u001b[1;33m\u001b[0m\u001b[1;33m\u001b[0m\u001b[0m\n\u001b[0m\u001b[0;32m   1052\u001b[0m         \u001b[1;31m# Do not call functions when jit is used\u001b[0m\u001b[1;33m\u001b[0m\u001b[1;33m\u001b[0m\u001b[1;33m\u001b[0m\u001b[0m\n\u001b[0;32m   1053\u001b[0m         \u001b[0mfull_backward_hooks\u001b[0m\u001b[1;33m,\u001b[0m \u001b[0mnon_full_backward_hooks\u001b[0m \u001b[1;33m=\u001b[0m \u001b[1;33m[\u001b[0m\u001b[1;33m]\u001b[0m\u001b[1;33m,\u001b[0m \u001b[1;33m[\u001b[0m\u001b[1;33m]\u001b[0m\u001b[1;33m\u001b[0m\u001b[1;33m\u001b[0m\u001b[0m\n",
      "\u001b[1;32m<ipython-input-135-debaf4f6ea0d>\u001b[0m in \u001b[0;36mforward\u001b[1;34m(self, inputs)\u001b[0m\n\u001b[0;32m     13\u001b[0m \u001b[1;33m\u001b[0m\u001b[0m\n\u001b[0;32m     14\u001b[0m     \u001b[1;32mdef\u001b[0m \u001b[0mforward\u001b[0m\u001b[1;33m(\u001b[0m\u001b[0mself\u001b[0m\u001b[1;33m,\u001b[0m \u001b[0minputs\u001b[0m\u001b[1;33m)\u001b[0m\u001b[1;33m:\u001b[0m\u001b[1;33m\u001b[0m\u001b[1;33m\u001b[0m\u001b[0m\n\u001b[1;32m---> 15\u001b[1;33m         \u001b[0mx\u001b[0m \u001b[1;33m=\u001b[0m \u001b[0mself\u001b[0m\u001b[1;33m.\u001b[0m\u001b[0mrelu\u001b[0m\u001b[1;33m(\u001b[0m\u001b[0mself\u001b[0m\u001b[1;33m.\u001b[0m\u001b[0mlayer_1\u001b[0m\u001b[1;33m(\u001b[0m\u001b[0minputs\u001b[0m\u001b[1;33m)\u001b[0m\u001b[1;33m)\u001b[0m\u001b[1;33m\u001b[0m\u001b[1;33m\u001b[0m\u001b[0m\n\u001b[0m\u001b[0;32m     16\u001b[0m         \u001b[0mx\u001b[0m \u001b[1;33m=\u001b[0m \u001b[0mself\u001b[0m\u001b[1;33m.\u001b[0m\u001b[0mbatchnorm1\u001b[0m\u001b[1;33m(\u001b[0m\u001b[0mx\u001b[0m\u001b[1;33m)\u001b[0m\u001b[1;33m\u001b[0m\u001b[1;33m\u001b[0m\u001b[0m\n\u001b[0;32m     17\u001b[0m         \u001b[0mx\u001b[0m \u001b[1;33m=\u001b[0m \u001b[0mself\u001b[0m\u001b[1;33m.\u001b[0m\u001b[0mrelu\u001b[0m\u001b[1;33m(\u001b[0m\u001b[0mself\u001b[0m\u001b[1;33m.\u001b[0m\u001b[0mlayer_2\u001b[0m\u001b[1;33m(\u001b[0m\u001b[0mx\u001b[0m\u001b[1;33m)\u001b[0m\u001b[1;33m)\u001b[0m\u001b[1;33m\u001b[0m\u001b[1;33m\u001b[0m\u001b[0m\n",
      "\u001b[1;32m~\\anaconda3\\lib\\site-packages\\torch\\nn\\modules\\module.py\u001b[0m in \u001b[0;36m_call_impl\u001b[1;34m(self, *input, **kwargs)\u001b[0m\n\u001b[0;32m   1049\u001b[0m         if not (self._backward_hooks or self._forward_hooks or self._forward_pre_hooks or _global_backward_hooks\n\u001b[0;32m   1050\u001b[0m                 or _global_forward_hooks or _global_forward_pre_hooks):\n\u001b[1;32m-> 1051\u001b[1;33m             \u001b[1;32mreturn\u001b[0m \u001b[0mforward_call\u001b[0m\u001b[1;33m(\u001b[0m\u001b[1;33m*\u001b[0m\u001b[0minput\u001b[0m\u001b[1;33m,\u001b[0m \u001b[1;33m**\u001b[0m\u001b[0mkwargs\u001b[0m\u001b[1;33m)\u001b[0m\u001b[1;33m\u001b[0m\u001b[1;33m\u001b[0m\u001b[0m\n\u001b[0m\u001b[0;32m   1052\u001b[0m         \u001b[1;31m# Do not call functions when jit is used\u001b[0m\u001b[1;33m\u001b[0m\u001b[1;33m\u001b[0m\u001b[1;33m\u001b[0m\u001b[0m\n\u001b[0;32m   1053\u001b[0m         \u001b[0mfull_backward_hooks\u001b[0m\u001b[1;33m,\u001b[0m \u001b[0mnon_full_backward_hooks\u001b[0m \u001b[1;33m=\u001b[0m \u001b[1;33m[\u001b[0m\u001b[1;33m]\u001b[0m\u001b[1;33m,\u001b[0m \u001b[1;33m[\u001b[0m\u001b[1;33m]\u001b[0m\u001b[1;33m\u001b[0m\u001b[1;33m\u001b[0m\u001b[0m\n",
      "\u001b[1;32m~\\anaconda3\\lib\\site-packages\\torch\\nn\\modules\\linear.py\u001b[0m in \u001b[0;36mforward\u001b[1;34m(self, input)\u001b[0m\n\u001b[0;32m     94\u001b[0m \u001b[1;33m\u001b[0m\u001b[0m\n\u001b[0;32m     95\u001b[0m     \u001b[1;32mdef\u001b[0m \u001b[0mforward\u001b[0m\u001b[1;33m(\u001b[0m\u001b[0mself\u001b[0m\u001b[1;33m,\u001b[0m \u001b[0minput\u001b[0m\u001b[1;33m:\u001b[0m \u001b[0mTensor\u001b[0m\u001b[1;33m)\u001b[0m \u001b[1;33m->\u001b[0m \u001b[0mTensor\u001b[0m\u001b[1;33m:\u001b[0m\u001b[1;33m\u001b[0m\u001b[1;33m\u001b[0m\u001b[0m\n\u001b[1;32m---> 96\u001b[1;33m         \u001b[1;32mreturn\u001b[0m \u001b[0mF\u001b[0m\u001b[1;33m.\u001b[0m\u001b[0mlinear\u001b[0m\u001b[1;33m(\u001b[0m\u001b[0minput\u001b[0m\u001b[1;33m,\u001b[0m \u001b[0mself\u001b[0m\u001b[1;33m.\u001b[0m\u001b[0mweight\u001b[0m\u001b[1;33m,\u001b[0m \u001b[0mself\u001b[0m\u001b[1;33m.\u001b[0m\u001b[0mbias\u001b[0m\u001b[1;33m)\u001b[0m\u001b[1;33m\u001b[0m\u001b[1;33m\u001b[0m\u001b[0m\n\u001b[0m\u001b[0;32m     97\u001b[0m \u001b[1;33m\u001b[0m\u001b[0m\n\u001b[0;32m     98\u001b[0m     \u001b[1;32mdef\u001b[0m \u001b[0mextra_repr\u001b[0m\u001b[1;33m(\u001b[0m\u001b[0mself\u001b[0m\u001b[1;33m)\u001b[0m \u001b[1;33m->\u001b[0m \u001b[0mstr\u001b[0m\u001b[1;33m:\u001b[0m\u001b[1;33m\u001b[0m\u001b[1;33m\u001b[0m\u001b[0m\n",
      "\u001b[1;32m~\\anaconda3\\lib\\site-packages\\torch\\nn\\functional.py\u001b[0m in \u001b[0;36mlinear\u001b[1;34m(input, weight, bias)\u001b[0m\n\u001b[0;32m   1845\u001b[0m     \u001b[1;32mif\u001b[0m \u001b[0mhas_torch_function_variadic\u001b[0m\u001b[1;33m(\u001b[0m\u001b[0minput\u001b[0m\u001b[1;33m,\u001b[0m \u001b[0mweight\u001b[0m\u001b[1;33m)\u001b[0m\u001b[1;33m:\u001b[0m\u001b[1;33m\u001b[0m\u001b[1;33m\u001b[0m\u001b[0m\n\u001b[0;32m   1846\u001b[0m         \u001b[1;32mreturn\u001b[0m \u001b[0mhandle_torch_function\u001b[0m\u001b[1;33m(\u001b[0m\u001b[0mlinear\u001b[0m\u001b[1;33m,\u001b[0m \u001b[1;33m(\u001b[0m\u001b[0minput\u001b[0m\u001b[1;33m,\u001b[0m \u001b[0mweight\u001b[0m\u001b[1;33m)\u001b[0m\u001b[1;33m,\u001b[0m \u001b[0minput\u001b[0m\u001b[1;33m,\u001b[0m \u001b[0mweight\u001b[0m\u001b[1;33m,\u001b[0m \u001b[0mbias\u001b[0m\u001b[1;33m=\u001b[0m\u001b[0mbias\u001b[0m\u001b[1;33m)\u001b[0m\u001b[1;33m\u001b[0m\u001b[1;33m\u001b[0m\u001b[0m\n\u001b[1;32m-> 1847\u001b[1;33m     \u001b[1;32mreturn\u001b[0m \u001b[0mtorch\u001b[0m\u001b[1;33m.\u001b[0m\u001b[0m_C\u001b[0m\u001b[1;33m.\u001b[0m\u001b[0m_nn\u001b[0m\u001b[1;33m.\u001b[0m\u001b[0mlinear\u001b[0m\u001b[1;33m(\u001b[0m\u001b[0minput\u001b[0m\u001b[1;33m,\u001b[0m \u001b[0mweight\u001b[0m\u001b[1;33m,\u001b[0m \u001b[0mbias\u001b[0m\u001b[1;33m)\u001b[0m\u001b[1;33m\u001b[0m\u001b[1;33m\u001b[0m\u001b[0m\n\u001b[0m\u001b[0;32m   1848\u001b[0m \u001b[1;33m\u001b[0m\u001b[0m\n\u001b[0;32m   1849\u001b[0m \u001b[1;33m\u001b[0m\u001b[0m\n",
      "\u001b[1;31mRuntimeError\u001b[0m: Expected all tensors to be on the same device, but found at least two devices, cpu and cuda:0! (when checking arugment for argument mat1 in method wrapper_addmm)"
     ]
    }
   ],
   "source": [
    "model.train()\n",
    "for e in range(1, 100+1):\n",
    "    epoch_loss = 0\n",
    "    epoch_acc = 0\n",
    "    for X_batch, y_batch in train_loader:\n",
    "        X_batch, y_batch = X_batch.to(device), y_batch.to(device)\n",
    "        optimizer.zero_grad()\n",
    "        \n",
    "        y_pred = model(X_batch)\n",
    "        \n",
    "        loss = criterion(y_pred, y_batch.unsqueeze(1))\n",
    "        acc = binary_acc(y_pred, y_batch.unsqueeze(1))\n",
    "        \n",
    "        loss.backward()\n",
    "        optimizer.step()\n",
    "        \n",
    "        epoch_loss += loss.item()\n",
    "        epoch_acc += acc.item()"
   ]
  },
  {
   "cell_type": "code",
   "execution_count": 230,
   "id": "6e784569-270d-4d40-93aa-6e7e90d19a13",
   "metadata": {},
   "outputs": [
    {
     "name": "stdout",
     "output_type": "stream",
     "text": [
      "cpu\n"
     ]
    }
   ],
   "source": [
    "device = torch.device(\"cpu\")\n",
    "print(device)"
   ]
  },
  {
   "cell_type": "code",
   "execution_count": 249,
   "id": "1dbba2e5-ad44-49c8-967a-b95800876d05",
   "metadata": {
    "tags": []
   },
   "outputs": [
    {
     "name": "stdout",
     "output_type": "stream",
     "text": [
      "recall : 0.3092105263157895\n",
      "precision : 0.3081967213114754\n",
      "F1 : 0.3087027914614121\n",
      "acc : 0.6661379857256146\n"
     ]
    },
    {
     "data": {
      "text/plain": [
       "<sklearn.metrics._plot.roc_curve.RocCurveDisplay at 0x22c36209430>"
      ]
     },
     "execution_count": 249,
     "metadata": {},
     "output_type": "execute_result"
    },
    {
     "data": {
      "image/png": "[encoded data removed]",
      "text/plain": [
       "<Figure size 432x288 with 2 Axes>"
      ]
     },
     "metadata": {
      "needs_background": "light"
     },
     "output_type": "display_data"
    },
    {
     "data": {
      "image/png": "[encoded data removed]",
      "text/plain": [
       "<Figure size 432x288 with 1 Axes>"
      ]
     },
     "metadata": {
      "needs_background": "light"
     },
     "output_type": "display_data"
    }
   ],
   "source": [
    "model = BTC_pro1()\n",
    "model_name = 'models/' + str(model).split('(')[0] + '_tvt_' + str(25) + '.pt'\n",
    "state_dict = torch.load(model_name)\n",
    "model.load_state_dict(state_dict)\n",
    "\n",
    "\n",
    "y_pred_list_rounded = []\n",
    "y_pred_list = []\n",
    "targets = []\n",
    "\n",
    "\n",
    "model.eval()\n",
    "with torch.no_grad():\n",
    "    for X_batch, y_batch in test_loader:\n",
    "        X_batch, y_batch = X_batch.to(device), y_batch.to(device)\n",
    "        targets.append(y_batch)\n",
    "\n",
    "        y_test_pred = model(X_batch)\n",
    "        y_test_pred = torch.sigmoid(y_test_pred)\n",
    "        y_pred_tag = torch.round(y_test_pred)\n",
    "        y_pred_list_rounded.append(y_pred_tag.cpu().numpy())\n",
    "        y_pred_list.append(y_test_pred.cpu().numpy())\n",
    "\n",
    "y_pred_list_rounded = [a.squeeze().tolist() for a in y_pred_list_rounded]\n",
    "y_pred_list = [a.squeeze().tolist() for a in y_pred_list]\n",
    "targets = [a.squeeze().tolist() for a in targets]\n",
    "\n",
    "\n",
    "y_pred_list_rounded = [j for sub in y_pred_list_rounded for j in sub]\n",
    "y_pred_list = [j for sub in y_pred_list for j in sub]\n",
    "targets = [j for sub in targets for j in sub]\n",
    "\n",
    "cm = confusion_matrix(targets, y_pred_list_rounded)\n",
    "disp = ConfusionMatrixDisplay(confusion_matrix=cm, display_labels=['0', '1'])\n",
    "disp.plot()\n",
    "TP, FP, TN, FN = cm[1,1], cm[0,1], cm[0,0], cm[1,0]\n",
    "P = TP/(TP+FP)\n",
    "R = TP/(TP+FN)\n",
    "F1 = 2*P*R/(P+R)\n",
    "print(f'recall : {R}')\n",
    "print(f'precision : {P}')\n",
    "print(f'F1 : {F1}')\n",
    "print(f'acc : {(TP + TN)/(TP + TN + FP + FN)}')\n",
    "RocCurveDisplay.from_predictions(targets, y_pred_list)"
   ]
  },
  {
   "cell_type": "code",
   "execution_count": 248,
   "id": "3f2a8265-d2d7-4396-83fb-2116914eb462",
   "metadata": {
    "tags": []
   },
   "outputs": [
    {
     "name": "stdout",
     "output_type": "stream",
     "text": [
      "recall : 0.26644736842105265\n",
      "precision : 0.38028169014084506\n",
      "F1 : 0.3133462282398453\n",
      "acc : 0.71847739888977\n"
     ]
    },
    {
     "data": {
      "text/plain": [
       "<sklearn.metrics._plot.roc_curve.RocCurveDisplay at 0x22c363153a0>"
      ]
     },
     "execution_count": 248,
     "metadata": {},
     "output_type": "execute_result"
    },
    {
     "data": {
      "image/png": "[encoded data removed]",
      "text/plain": [
       "<Figure size 432x288 with 2 Axes>"
      ]
     },
     "metadata": {
      "needs_background": "light"
     },
     "output_type": "display_data"
    },
    {
     "data": {
      "image/png": "[encoded data removed]",
      "text/plain": [
       "<Figure size 432x288 with 1 Axes>"
      ]
     },
     "metadata": {
      "needs_background": "light"
     },
     "output_type": "display_data"
    }
   ],
   "source": [
    "model = BTC_pro2()\n",
    "model_name = 'models/' + str(model).split('(')[0] + '_tvt_' + str(25) + '.pt'\n",
    "state_dict = torch.load(model_name)\n",
    "model.load_state_dict(state_dict)\n",
    "\n",
    "\n",
    "y_pred_list_rounded = []\n",
    "y_pred_list = []\n",
    "targets = []\n",
    "\n",
    "\n",
    "model.eval()\n",
    "with torch.no_grad():\n",
    "    for X_batch, y_batch in test_loader:\n",
    "        X_batch, y_batch = X_batch.to(device), y_batch.to(device)\n",
    "        targets.append(y_batch)\n",
    "\n",
    "        y_test_pred = model(X_batch)\n",
    "        y_test_pred = torch.sigmoid(y_test_pred)\n",
    "        y_pred_tag = torch.round(y_test_pred)\n",
    "        y_pred_list_rounded.append(y_pred_tag.cpu().numpy())\n",
    "        y_pred_list.append(y_test_pred.cpu().numpy())\n",
    "\n",
    "y_pred_list_rounded = [a.squeeze().tolist() for a in y_pred_list_rounded]\n",
    "y_pred_list = [a.squeeze().tolist() for a in y_pred_list]\n",
    "targets = [a.squeeze().tolist() for a in targets]\n",
    "\n",
    "\n",
    "y_pred_list_rounded = [j for sub in y_pred_list_rounded for j in sub]\n",
    "y_pred_list = [j for sub in y_pred_list for j in sub]\n",
    "targets = [j for sub in targets for j in sub]\n",
    "\n",
    "cm = confusion_matrix(targets, y_pred_list_rounded)\n",
    "disp = ConfusionMatrixDisplay(confusion_matrix=cm, display_labels=['0', '1'])\n",
    "disp.plot()\n",
    "TP, FP, TN, FN = cm[1,1], cm[0,1], cm[0,0], cm[1,0]\n",
    "P = TP/(TP+FP)\n",
    "R = TP/(TP+FN)\n",
    "F1 = 2*P*R/(P+R)\n",
    "print(f'recall : {R}')\n",
    "print(f'precision : {P}')\n",
    "print(f'F1 : {F1}')\n",
    "print(f'acc : {(TP + TN)/(TP + TN + FP + FN)}')\n",
    "RocCurveDisplay.from_predictions(targets, y_pred_list)"
   ]
  },
  {
   "cell_type": "code",
   "execution_count": 255,
   "id": "8ce800a4-aa3b-432a-aac0-2c127d52409d",
   "metadata": {
    "tags": []
   },
   "outputs": [
    {
     "name": "stdout",
     "output_type": "stream",
     "text": [
      "recall : 0.23355263157894737\n",
      "precision : 0.3212669683257919\n",
      "F1 : 0.2704761904761905\n",
      "acc : 0.6962727993655828\n"
     ]
    },
    {
     "data": {
      "text/plain": [
       "<sklearn.metrics._plot.roc_curve.RocCurveDisplay at 0x22c36323370>"
      ]
     },
     "execution_count": 255,
     "metadata": {},
     "output_type": "execute_result"
    },
    {
     "data": {
      "image/png": "[encoded data removed]",
      "text/plain": [
       "<Figure size 432x288 with 2 Axes>"
      ]
     },
     "metadata": {
      "needs_background": "light"
     },
     "output_type": "display_data"
    },
    {
     "data": {
      "image/png": "[encoded data removed]",
      "text/plain": [
       "<Figure size 432x288 with 1 Axes>"
      ]
     },
     "metadata": {
      "needs_background": "light"
     },
     "output_type": "display_data"
    }
   ],
   "source": [
    "model = BTC_pro3()\n",
    "model_name = 'models/' + str(model).split('(')[0] + '_tvt_' + str(25) + '.pt'\n",
    "state_dict = torch.load(model_name)\n",
    "model.load_state_dict(state_dict)\n",
    "\n",
    "\n",
    "y_pred_list_rounded = []\n",
    "y_pred_list = []\n",
    "targets = []\n",
    "\n",
    "\n",
    "model.eval()\n",
    "with torch.no_grad():\n",
    "    for X_batch, y_batch in test_loader:\n",
    "        X_batch, y_batch = X_batch.to(device), y_batch.to(device)\n",
    "        targets.append(y_batch)\n",
    "\n",
    "        y_test_pred = model(X_batch)\n",
    "        y_test_pred = torch.sigmoid(y_test_pred)\n",
    "        y_pred_tag = torch.round(y_test_pred)\n",
    "        y_pred_list_rounded.append(y_pred_tag.cpu().numpy())\n",
    "        y_pred_list.append(y_test_pred.cpu().numpy())\n",
    "\n",
    "y_pred_list_rounded = [a.squeeze().tolist() for a in y_pred_list_rounded]\n",
    "y_pred_list = [a.squeeze().tolist() for a in y_pred_list]\n",
    "targets = [a.squeeze().tolist() for a in targets]\n",
    "\n",
    "\n",
    "y_pred_list_rounded = [j for sub in y_pred_list_rounded for j in sub]\n",
    "y_pred_list = [j for sub in y_pred_list for j in sub]\n",
    "targets = [j for sub in targets for j in sub]\n",
    "\n",
    "cm = confusion_matrix(targets, y_pred_list_rounded)\n",
    "disp = ConfusionMatrixDisplay(confusion_matrix=cm, display_labels=['0', '1'])\n",
    "disp.plot()\n",
    "TP, FP, TN, FN = cm[1,1], cm[0,1], cm[0,0], cm[1,0]\n",
    "P = TP/(TP+FP)\n",
    "R = TP/(TP+FN)\n",
    "F1 = 2*P*R/(P+R)\n",
    "print(f'recall : {R}')\n",
    "print(f'precision : {P}')\n",
    "print(f'F1 : {F1}')\n",
    "print(f'acc : {(TP + TN)/(TP + TN + FP + FN)}')\n",
    "RocCurveDisplay.from_predictions(targets, y_pred_list)"
   ]
  },
  {
   "cell_type": "code",
   "execution_count": 276,
   "id": "3231e092-87ea-4c33-851e-ef56ea96a0d3",
   "metadata": {
    "tags": []
   },
   "outputs": [
    {
     "name": "stdout",
     "output_type": "stream",
     "text": [
      "recall : 0.2565789473684211\n",
      "precision : 0.35944700460829493\n",
      "F1 : 0.2994241842610365\n",
      "acc : 0.7105471847739889\n"
     ]
    },
    {
     "data": {
      "text/plain": [
       "<sklearn.metrics._plot.roc_curve.RocCurveDisplay at 0x22c4ecf1550>"
      ]
     },
     "execution_count": 276,
     "metadata": {},
     "output_type": "execute_result"
    },
    {
     "data": {
      "image/png": "[encoded data removed]",
      "text/plain": [
       "<Figure size 432x288 with 2 Axes>"
      ]
     },
     "metadata": {
      "needs_background": "light"
     },
     "output_type": "display_data"
    },
    {
     "data": {
      "image/png": "[encoded data removed]",
      "text/plain": [
       "<Figure size 432x288 with 1 Axes>"
      ]
     },
     "metadata": {
      "needs_background": "light"
     },
     "output_type": "display_data"
    }
   ],
   "source": [
    "model = BTC_pro4()\n",
    "model_name = 'models/' + str(model).split('(')[0] + '_tvt_' + str(27) + '.pt'\n",
    "state_dict = torch.load(model_name)\n",
    "model.load_state_dict(state_dict)\n",
    "\n",
    "\n",
    "y_pred_list_rounded = []\n",
    "y_pred_list = []\n",
    "targets = []\n",
    "\n",
    "\n",
    "model.eval()\n",
    "with torch.no_grad():\n",
    "    for X_batch, y_batch in test_loader:\n",
    "        X_batch, y_batch = X_batch.to(device), y_batch.to(device)\n",
    "        targets.append(y_batch)\n",
    "\n",
    "        y_test_pred = model(X_batch)\n",
    "        y_test_pred = torch.sigmoid(y_test_pred)\n",
    "        y_pred_tag = torch.round(y_test_pred)\n",
    "        y_pred_list_rounded.append(y_pred_tag.cpu().numpy())\n",
    "        y_pred_list.append(y_test_pred.cpu().numpy())\n",
    "\n",
    "y_pred_list_rounded = [a.squeeze().tolist() for a in y_pred_list_rounded]\n",
    "y_pred_list = [a.squeeze().tolist() for a in y_pred_list]\n",
    "targets = [a.squeeze().tolist() for a in targets]\n",
    "\n",
    "\n",
    "y_pred_list_rounded = [j for sub in y_pred_list_rounded for j in sub]\n",
    "y_pred_list = [j for sub in y_pred_list for j in sub]\n",
    "targets = [j for sub in targets for j in sub]\n",
    "\n",
    "cm = confusion_matrix(targets, y_pred_list_rounded)\n",
    "disp = ConfusionMatrixDisplay(confusion_matrix=cm, display_labels=['0', '1'])\n",
    "disp.plot()\n",
    "TP, FP, TN, FN = cm[1,1], cm[0,1], cm[0,0], cm[1,0]\n",
    "P = TP/(TP+FP)\n",
    "R = TP/(TP+FN)\n",
    "F1 = 2*P*R/(P+R)\n",
    "print(f'recall : {R}')\n",
    "print(f'precision : {P}')\n",
    "print(f'F1 : {F1}')\n",
    "print(f'acc : {(TP + TN)/(TP + TN + FP + FN)}')\n",
    "RocCurveDisplay.from_predictions(targets, y_pred_list)"
   ]
  },
  {
   "cell_type": "markdown",
   "id": "61699bca-1ee9-4848-92cc-f3cea1f3d565",
   "metadata": {},
   "source": [
    "#### model pro5"
   ]
  },
  {
   "cell_type": "code",
   "execution_count": 265,
   "id": "30f98211-daac-41a0-88c5-6d3cf6ee9a24",
   "metadata": {},
   "outputs": [],
   "source": [
    "class BTC_pro5(nn.Module):\n",
    "    def __init__(self):\n",
    "        super(BTC_pro5, self).__init__()\n",
    "        # Number of input features is 12.\n",
    "        self.layer_1 = nn.Linear(15, 30) \n",
    "        self.layer_2 = nn.Linear(30, 30)\n",
    "        self.layer_out = nn.Linear(30, 1) \n",
    "        \n",
    "        self.relu = nn.ReLU()\n",
    "        self.dropout = nn.Dropout(p=0.1)\n",
    "        self.batchnorm1 = nn.BatchNorm1d(30)\n",
    "        self.batchnorm2 = nn.BatchNorm1d(30)\n",
    "        \n",
    "    def forward(self, inputs):\n",
    "        x = self.relu(self.layer_1(inputs))\n",
    "        x = self.batchnorm1(x)\n",
    "        x = self.relu(self.layer_2(x))\n",
    "        x = self.batchnorm2(x)\n",
    "        x = self.dropout(x)\n",
    "        x = self.layer_out(x)\n",
    "        \n",
    "        return x"
   ]
  },
  {
   "cell_type": "code",
   "execution_count": 262,
   "id": "08f223b6-eb25-4101-ba62-ae1c73e528e5",
   "metadata": {},
   "outputs": [
    {
     "name": "stdout",
     "output_type": "stream",
     "text": [
      "cuda:0\n"
     ]
    }
   ],
   "source": [
    "device = torch.device(\"cuda:0\" if torch.cuda.is_available() else \"cpu\")\n",
    "print(device)"
   ]
  },
  {
   "cell_type": "code",
   "execution_count": 263,
   "id": "a9fed162-39d6-4ec1-a4e1-24e72b8a7ef6",
   "metadata": {},
   "outputs": [],
   "source": [
    "w = torch.tensor([0.5, 0.5]).to(device)"
   ]
  },
  {
   "cell_type": "code",
   "execution_count": 266,
   "id": "e30d7ae5-8f84-4a51-b17f-f851007e24b7",
   "metadata": {
    "tags": []
   },
   "outputs": [],
   "source": [
    "model = BTC_pro5()\n",
    "model.to(device)\n",
    "\n",
    "epochs = 50\n",
    "\n",
    "cost = torch.nn.CrossEntropyLoss(weight = w)\n",
    "optimizer = torch.optim.Adam(model.parameters(), lr=0.0001)\n",
    "writer = SummaryWriter(log_dir = 'runs/' + str(model).split('(')[0])\n",
    "\n",
    "for t in range(epochs):\n",
    "    train(train_loader, model, cost, optimizer, t)\n",
    "    test(test_loader, model, t)\n",
    "    torch.save(model.state_dict(), 'models/' + str(model).split('(')[0] + '_tvt_' + str(t) + '.pt')\n",
    "\n",
    "writer.close()\n",
    "torch.cuda.empty_cache()"
   ]
  },
  {
   "cell_type": "code",
   "execution_count": 156,
   "id": "870e8a46-1458-43ef-a54a-51eb10d073ca",
   "metadata": {
    "collapsed": true,
    "jupyter": {
     "outputs_hidden": true,
     "source_hidden": true
    },
    "tags": []
   },
   "outputs": [
    {
     "ename": "RuntimeError",
     "evalue": "Expected all tensors to be on the same device, but found at least two devices, cpu and cuda:0! (when checking arugment for argument mat1 in method wrapper_addmm)",
     "output_type": "error",
     "traceback": [
      "\u001b[1;31m---------------------------------------------------------------------------\u001b[0m",
      "\u001b[1;31mRuntimeError\u001b[0m                              Traceback (most recent call last)",
      "\u001b[1;32m<ipython-input-156-107feabc33d2>\u001b[0m in \u001b[0;36m<module>\u001b[1;34m\u001b[0m\n\u001b[0;32m      7\u001b[0m         \u001b[0moptimizer\u001b[0m\u001b[1;33m.\u001b[0m\u001b[0mzero_grad\u001b[0m\u001b[1;33m(\u001b[0m\u001b[1;33m)\u001b[0m\u001b[1;33m\u001b[0m\u001b[1;33m\u001b[0m\u001b[0m\n\u001b[0;32m      8\u001b[0m \u001b[1;33m\u001b[0m\u001b[0m\n\u001b[1;32m----> 9\u001b[1;33m         \u001b[0my_pred\u001b[0m \u001b[1;33m=\u001b[0m \u001b[0mmodel\u001b[0m\u001b[1;33m(\u001b[0m\u001b[0mX_batch\u001b[0m\u001b[1;33m)\u001b[0m\u001b[1;33m\u001b[0m\u001b[1;33m\u001b[0m\u001b[0m\n\u001b[0m\u001b[0;32m     10\u001b[0m \u001b[1;33m\u001b[0m\u001b[0m\n\u001b[0;32m     11\u001b[0m         \u001b[0mloss\u001b[0m \u001b[1;33m=\u001b[0m \u001b[0mcriterion\u001b[0m\u001b[1;33m(\u001b[0m\u001b[0my_pred\u001b[0m\u001b[1;33m,\u001b[0m \u001b[0my_batch\u001b[0m\u001b[1;33m.\u001b[0m\u001b[0munsqueeze\u001b[0m\u001b[1;33m(\u001b[0m\u001b[1;36m1\u001b[0m\u001b[1;33m)\u001b[0m\u001b[1;33m)\u001b[0m\u001b[1;33m\u001b[0m\u001b[1;33m\u001b[0m\u001b[0m\n",
      "\u001b[1;32m~\\anaconda3\\lib\\site-packages\\torch\\nn\\modules\\module.py\u001b[0m in \u001b[0;36m_call_impl\u001b[1;34m(self, *input, **kwargs)\u001b[0m\n\u001b[0;32m   1049\u001b[0m         if not (self._backward_hooks or self._forward_hooks or self._forward_pre_hooks or _global_backward_hooks\n\u001b[0;32m   1050\u001b[0m                 or _global_forward_hooks or _global_forward_pre_hooks):\n\u001b[1;32m-> 1051\u001b[1;33m             \u001b[1;32mreturn\u001b[0m \u001b[0mforward_call\u001b[0m\u001b[1;33m(\u001b[0m\u001b[1;33m*\u001b[0m\u001b[0minput\u001b[0m\u001b[1;33m,\u001b[0m \u001b[1;33m**\u001b[0m\u001b[0mkwargs\u001b[0m\u001b[1;33m)\u001b[0m\u001b[1;33m\u001b[0m\u001b[1;33m\u001b[0m\u001b[0m\n\u001b[0m\u001b[0;32m   1052\u001b[0m         \u001b[1;31m# Do not call functions when jit is used\u001b[0m\u001b[1;33m\u001b[0m\u001b[1;33m\u001b[0m\u001b[1;33m\u001b[0m\u001b[0m\n\u001b[0;32m   1053\u001b[0m         \u001b[0mfull_backward_hooks\u001b[0m\u001b[1;33m,\u001b[0m \u001b[0mnon_full_backward_hooks\u001b[0m \u001b[1;33m=\u001b[0m \u001b[1;33m[\u001b[0m\u001b[1;33m]\u001b[0m\u001b[1;33m,\u001b[0m \u001b[1;33m[\u001b[0m\u001b[1;33m]\u001b[0m\u001b[1;33m\u001b[0m\u001b[1;33m\u001b[0m\u001b[0m\n",
      "\u001b[1;32m<ipython-input-135-debaf4f6ea0d>\u001b[0m in \u001b[0;36mforward\u001b[1;34m(self, inputs)\u001b[0m\n\u001b[0;32m     13\u001b[0m \u001b[1;33m\u001b[0m\u001b[0m\n\u001b[0;32m     14\u001b[0m     \u001b[1;32mdef\u001b[0m \u001b[0mforward\u001b[0m\u001b[1;33m(\u001b[0m\u001b[0mself\u001b[0m\u001b[1;33m,\u001b[0m \u001b[0minputs\u001b[0m\u001b[1;33m)\u001b[0m\u001b[1;33m:\u001b[0m\u001b[1;33m\u001b[0m\u001b[1;33m\u001b[0m\u001b[0m\n\u001b[1;32m---> 15\u001b[1;33m         \u001b[0mx\u001b[0m \u001b[1;33m=\u001b[0m \u001b[0mself\u001b[0m\u001b[1;33m.\u001b[0m\u001b[0mrelu\u001b[0m\u001b[1;33m(\u001b[0m\u001b[0mself\u001b[0m\u001b[1;33m.\u001b[0m\u001b[0mlayer_1\u001b[0m\u001b[1;33m(\u001b[0m\u001b[0minputs\u001b[0m\u001b[1;33m)\u001b[0m\u001b[1;33m)\u001b[0m\u001b[1;33m\u001b[0m\u001b[1;33m\u001b[0m\u001b[0m\n\u001b[0m\u001b[0;32m     16\u001b[0m         \u001b[0mx\u001b[0m \u001b[1;33m=\u001b[0m \u001b[0mself\u001b[0m\u001b[1;33m.\u001b[0m\u001b[0mbatchnorm1\u001b[0m\u001b[1;33m(\u001b[0m\u001b[0mx\u001b[0m\u001b[1;33m)\u001b[0m\u001b[1;33m\u001b[0m\u001b[1;33m\u001b[0m\u001b[0m\n\u001b[0;32m     17\u001b[0m         \u001b[0mx\u001b[0m \u001b[1;33m=\u001b[0m \u001b[0mself\u001b[0m\u001b[1;33m.\u001b[0m\u001b[0mrelu\u001b[0m\u001b[1;33m(\u001b[0m\u001b[0mself\u001b[0m\u001b[1;33m.\u001b[0m\u001b[0mlayer_2\u001b[0m\u001b[1;33m(\u001b[0m\u001b[0mx\u001b[0m\u001b[1;33m)\u001b[0m\u001b[1;33m)\u001b[0m\u001b[1;33m\u001b[0m\u001b[1;33m\u001b[0m\u001b[0m\n",
      "\u001b[1;32m~\\anaconda3\\lib\\site-packages\\torch\\nn\\modules\\module.py\u001b[0m in \u001b[0;36m_call_impl\u001b[1;34m(self, *input, **kwargs)\u001b[0m\n\u001b[0;32m   1049\u001b[0m         if not (self._backward_hooks or self._forward_hooks or self._forward_pre_hooks or _global_backward_hooks\n\u001b[0;32m   1050\u001b[0m                 or _global_forward_hooks or _global_forward_pre_hooks):\n\u001b[1;32m-> 1051\u001b[1;33m             \u001b[1;32mreturn\u001b[0m \u001b[0mforward_call\u001b[0m\u001b[1;33m(\u001b[0m\u001b[1;33m*\u001b[0m\u001b[0minput\u001b[0m\u001b[1;33m,\u001b[0m \u001b[1;33m**\u001b[0m\u001b[0mkwargs\u001b[0m\u001b[1;33m)\u001b[0m\u001b[1;33m\u001b[0m\u001b[1;33m\u001b[0m\u001b[0m\n\u001b[0m\u001b[0;32m   1052\u001b[0m         \u001b[1;31m# Do not call functions when jit is used\u001b[0m\u001b[1;33m\u001b[0m\u001b[1;33m\u001b[0m\u001b[1;33m\u001b[0m\u001b[0m\n\u001b[0;32m   1053\u001b[0m         \u001b[0mfull_backward_hooks\u001b[0m\u001b[1;33m,\u001b[0m \u001b[0mnon_full_backward_hooks\u001b[0m \u001b[1;33m=\u001b[0m \u001b[1;33m[\u001b[0m\u001b[1;33m]\u001b[0m\u001b[1;33m,\u001b[0m \u001b[1;33m[\u001b[0m\u001b[1;33m]\u001b[0m\u001b[1;33m\u001b[0m\u001b[1;33m\u001b[0m\u001b[0m\n",
      "\u001b[1;32m~\\anaconda3\\lib\\site-packages\\torch\\nn\\modules\\linear.py\u001b[0m in \u001b[0;36mforward\u001b[1;34m(self, input)\u001b[0m\n\u001b[0;32m     94\u001b[0m \u001b[1;33m\u001b[0m\u001b[0m\n\u001b[0;32m     95\u001b[0m     \u001b[1;32mdef\u001b[0m \u001b[0mforward\u001b[0m\u001b[1;33m(\u001b[0m\u001b[0mself\u001b[0m\u001b[1;33m,\u001b[0m \u001b[0minput\u001b[0m\u001b[1;33m:\u001b[0m \u001b[0mTensor\u001b[0m\u001b[1;33m)\u001b[0m \u001b[1;33m->\u001b[0m \u001b[0mTensor\u001b[0m\u001b[1;33m:\u001b[0m\u001b[1;33m\u001b[0m\u001b[1;33m\u001b[0m\u001b[0m\n\u001b[1;32m---> 96\u001b[1;33m         \u001b[1;32mreturn\u001b[0m \u001b[0mF\u001b[0m\u001b[1;33m.\u001b[0m\u001b[0mlinear\u001b[0m\u001b[1;33m(\u001b[0m\u001b[0minput\u001b[0m\u001b[1;33m,\u001b[0m \u001b[0mself\u001b[0m\u001b[1;33m.\u001b[0m\u001b[0mweight\u001b[0m\u001b[1;33m,\u001b[0m \u001b[0mself\u001b[0m\u001b[1;33m.\u001b[0m\u001b[0mbias\u001b[0m\u001b[1;33m)\u001b[0m\u001b[1;33m\u001b[0m\u001b[1;33m\u001b[0m\u001b[0m\n\u001b[0m\u001b[0;32m     97\u001b[0m \u001b[1;33m\u001b[0m\u001b[0m\n\u001b[0;32m     98\u001b[0m     \u001b[1;32mdef\u001b[0m \u001b[0mextra_repr\u001b[0m\u001b[1;33m(\u001b[0m\u001b[0mself\u001b[0m\u001b[1;33m)\u001b[0m \u001b[1;33m->\u001b[0m \u001b[0mstr\u001b[0m\u001b[1;33m:\u001b[0m\u001b[1;33m\u001b[0m\u001b[1;33m\u001b[0m\u001b[0m\n",
      "\u001b[1;32m~\\anaconda3\\lib\\site-packages\\torch\\nn\\functional.py\u001b[0m in \u001b[0;36mlinear\u001b[1;34m(input, weight, bias)\u001b[0m\n\u001b[0;32m   1845\u001b[0m     \u001b[1;32mif\u001b[0m \u001b[0mhas_torch_function_variadic\u001b[0m\u001b[1;33m(\u001b[0m\u001b[0minput\u001b[0m\u001b[1;33m,\u001b[0m \u001b[0mweight\u001b[0m\u001b[1;33m)\u001b[0m\u001b[1;33m:\u001b[0m\u001b[1;33m\u001b[0m\u001b[1;33m\u001b[0m\u001b[0m\n\u001b[0;32m   1846\u001b[0m         \u001b[1;32mreturn\u001b[0m \u001b[0mhandle_torch_function\u001b[0m\u001b[1;33m(\u001b[0m\u001b[0mlinear\u001b[0m\u001b[1;33m,\u001b[0m \u001b[1;33m(\u001b[0m\u001b[0minput\u001b[0m\u001b[1;33m,\u001b[0m \u001b[0mweight\u001b[0m\u001b[1;33m)\u001b[0m\u001b[1;33m,\u001b[0m \u001b[0minput\u001b[0m\u001b[1;33m,\u001b[0m \u001b[0mweight\u001b[0m\u001b[1;33m,\u001b[0m \u001b[0mbias\u001b[0m\u001b[1;33m=\u001b[0m\u001b[0mbias\u001b[0m\u001b[1;33m)\u001b[0m\u001b[1;33m\u001b[0m\u001b[1;33m\u001b[0m\u001b[0m\n\u001b[1;32m-> 1847\u001b[1;33m     \u001b[1;32mreturn\u001b[0m \u001b[0mtorch\u001b[0m\u001b[1;33m.\u001b[0m\u001b[0m_C\u001b[0m\u001b[1;33m.\u001b[0m\u001b[0m_nn\u001b[0m\u001b[1;33m.\u001b[0m\u001b[0mlinear\u001b[0m\u001b[1;33m(\u001b[0m\u001b[0minput\u001b[0m\u001b[1;33m,\u001b[0m \u001b[0mweight\u001b[0m\u001b[1;33m,\u001b[0m \u001b[0mbias\u001b[0m\u001b[1;33m)\u001b[0m\u001b[1;33m\u001b[0m\u001b[1;33m\u001b[0m\u001b[0m\n\u001b[0m\u001b[0;32m   1848\u001b[0m \u001b[1;33m\u001b[0m\u001b[0m\n\u001b[0;32m   1849\u001b[0m \u001b[1;33m\u001b[0m\u001b[0m\n",
      "\u001b[1;31mRuntimeError\u001b[0m: Expected all tensors to be on the same device, but found at least two devices, cpu and cuda:0! (when checking arugment for argument mat1 in method wrapper_addmm)"
     ]
    }
   ],
   "source": [
    "model.train()\n",
    "for e in range(1, 100+1):\n",
    "    epoch_loss = 0\n",
    "    epoch_acc = 0\n",
    "    for X_batch, y_batch in train_loader:\n",
    "        X_batch, y_batch = X_batch.to(device), y_batch.to(device)\n",
    "        optimizer.zero_grad()\n",
    "        \n",
    "        y_pred = model(X_batch)\n",
    "        \n",
    "        loss = criterion(y_pred, y_batch.unsqueeze(1))\n",
    "        acc = binary_acc(y_pred, y_batch.unsqueeze(1))\n",
    "        \n",
    "        loss.backward()\n",
    "        optimizer.step()\n",
    "        \n",
    "        epoch_loss += loss.item()\n",
    "        epoch_acc += acc.item()"
   ]
  },
  {
   "cell_type": "code",
   "execution_count": 267,
   "id": "4cbaf384-de69-4bb5-a6b4-657ac0bba11d",
   "metadata": {},
   "outputs": [
    {
     "name": "stdout",
     "output_type": "stream",
     "text": [
      "cpu\n"
     ]
    }
   ],
   "source": [
    "device = torch.device(\"cpu\")\n",
    "print(device)"
   ]
  },
  {
   "cell_type": "code",
   "execution_count": 278,
   "id": "24118fa5-a0e6-4e49-ae98-3b834c103919",
   "metadata": {
    "tags": []
   },
   "outputs": [
    {
     "name": "stdout",
     "output_type": "stream",
     "text": [
      "recall : 0.2730263157894737\n",
      "precision : 0.3155893536121673\n",
      "F1 : 0.29276895943562614\n",
      "acc : 0.6819984139571769\n"
     ]
    },
    {
     "data": {
      "text/plain": [
       "<sklearn.metrics._plot.roc_curve.RocCurveDisplay at 0x22c483e79d0>"
      ]
     },
     "execution_count": 278,
     "metadata": {},
     "output_type": "execute_result"
    },
    {
     "data": {
      "image/png": "[encoded data removed]",
      "text/plain": [
       "<Figure size 432x288 with 2 Axes>"
      ]
     },
     "metadata": {
      "needs_background": "light"
     },
     "output_type": "display_data"
    },
    {
     "data": {
      "image/png": "[encoded data removed]",
      "text/plain": [
       "<Figure size 432x288 with 1 Axes>"
      ]
     },
     "metadata": {
      "needs_background": "light"
     },
     "output_type": "display_data"
    }
   ],
   "source": [
    "model = BTC_pro5()\n",
    "model_name = 'models/' + str(model).split('(')[0] + '_tvt_' + str(20) + '.pt'\n",
    "state_dict = torch.load(model_name)\n",
    "model.load_state_dict(state_dict)\n",
    "\n",
    "\n",
    "y_pred_list_rounded = []\n",
    "y_pred_list = []\n",
    "targets = []\n",
    "\n",
    "\n",
    "model.eval()\n",
    "with torch.no_grad():\n",
    "    for X_batch, y_batch in test_loader:\n",
    "        X_batch, y_batch = X_batch.to(device), y_batch.to(device)\n",
    "        targets.append(y_batch)\n",
    "\n",
    "        y_test_pred = model(X_batch)\n",
    "        y_test_pred = torch.sigmoid(y_test_pred)\n",
    "        y_pred_tag = torch.round(y_test_pred)\n",
    "        y_pred_list_rounded.append(y_pred_tag.cpu().numpy())\n",
    "        y_pred_list.append(y_test_pred.cpu().numpy())\n",
    "\n",
    "y_pred_list_rounded = [a.squeeze().tolist() for a in y_pred_list_rounded]\n",
    "y_pred_list = [a.squeeze().tolist() for a in y_pred_list]\n",
    "targets = [a.squeeze().tolist() for a in targets]\n",
    "\n",
    "\n",
    "y_pred_list_rounded = [j for sub in y_pred_list_rounded for j in sub]\n",
    "y_pred_list = [j for sub in y_pred_list for j in sub]\n",
    "targets = [j for sub in targets for j in sub]\n",
    "\n",
    "cm = confusion_matrix(targets, y_pred_list_rounded)\n",
    "disp = ConfusionMatrixDisplay(confusion_matrix=cm, display_labels=['0', '1'])\n",
    "disp.plot()\n",
    "TP, FP, TN, FN = cm[1,1], cm[0,1], cm[0,0], cm[1,0]\n",
    "P = TP/(TP+FP)\n",
    "R = TP/(TP+FN)\n",
    "F1 = 2*P*R/(P+R)\n",
    "print(f'recall : {R}')\n",
    "print(f'precision : {P}')\n",
    "print(f'F1 : {F1}')\n",
    "print(f'acc : {(TP + TN)/(TP + TN + FP + FN)}')\n",
    "RocCurveDisplay.from_predictions(targets, y_pred_list)"
   ]
  },
  {
   "cell_type": "code",
   "execution_count": null,
   "id": "8849fa50-dc9d-4295-9903-dca776afd64e",
   "metadata": {},
   "outputs": [],
   "source": []
  },
  {
   "cell_type": "markdown",
   "id": "c41432ba-b423-4593-b7b6-c9a643c3291d",
   "metadata": {},
   "source": [
    "#### model pro6"
   ]
  },
  {
   "cell_type": "code",
   "execution_count": 269,
   "id": "fbdf329b-f1db-4d93-be5a-52020f6b6eb7",
   "metadata": {},
   "outputs": [],
   "source": [
    "class BTC_pro6(nn.Module):\n",
    "    def __init__(self):\n",
    "        super(BTC_pro6, self).__init__()\n",
    "        # Number of input features is 12.\n",
    "        self.layer_1 = nn.Linear(15, 45) \n",
    "        self.layer_2 = nn.Linear(45, 45)\n",
    "        self.layer_out = nn.Linear(45, 1) \n",
    "        \n",
    "        self.relu = nn.ReLU()\n",
    "        self.dropout = nn.Dropout(p=0.1)\n",
    "        self.batchnorm1 = nn.BatchNorm1d(45)\n",
    "        self.batchnorm2 = nn.BatchNorm1d(45)\n",
    "        \n",
    "    def forward(self, inputs):\n",
    "        x = self.relu(self.layer_1(inputs))\n",
    "        x = self.batchnorm1(x)\n",
    "        x = self.relu(self.layer_2(x))\n",
    "        x = self.batchnorm2(x)\n",
    "        x = self.dropout(x)\n",
    "        x = self.layer_out(x)\n",
    "        \n",
    "        return x"
   ]
  },
  {
   "cell_type": "code",
   "execution_count": 270,
   "id": "81be01b3-28aa-4aee-8f8d-5f6aa2effdac",
   "metadata": {},
   "outputs": [
    {
     "name": "stdout",
     "output_type": "stream",
     "text": [
      "cuda:0\n"
     ]
    }
   ],
   "source": [
    "device = torch.device(\"cuda:0\" if torch.cuda.is_available() else \"cpu\")\n",
    "print(device)"
   ]
  },
  {
   "cell_type": "code",
   "execution_count": 271,
   "id": "23947eab-b9db-4094-ac3c-5c99923b4fda",
   "metadata": {},
   "outputs": [],
   "source": [
    "w = torch.tensor([0.5, 0.5]).to(device)"
   ]
  },
  {
   "cell_type": "code",
   "execution_count": 272,
   "id": "063f1dd7-ae3f-43fd-af5e-6f938d1db547",
   "metadata": {
    "tags": []
   },
   "outputs": [
    {
     "name": "stderr",
     "output_type": "stream",
     "text": [
      "C:\\Users\\bakhi\\anaconda3\\lib\\site-packages\\torchmetrics\\utilities\\prints.py:36: UserWarning: Metric `AUROC` will save all targets and predictions in buffer. For large datasets this may lead to large memory footprint.\n",
      "  warnings.warn(*args, **kwargs)\n"
     ]
    }
   ],
   "source": [
    "model = BTC_pro6()\n",
    "model.to(device)\n",
    "\n",
    "epochs = 50\n",
    "\n",
    "cost = torch.nn.CrossEntropyLoss(weight = w)\n",
    "optimizer = torch.optim.Adam(model.parameters(), lr=0.0001)\n",
    "writer = SummaryWriter(log_dir = 'runs/' + str(model).split('(')[0])\n",
    "\n",
    "for t in range(epochs):\n",
    "    train(train_loader, model, cost, optimizer, t)\n",
    "    test(test_loader, model, t)\n",
    "    torch.save(model.state_dict(), 'models/' + str(model).split('(')[0] + '_tvt_' + str(t) + '.pt')\n",
    "\n",
    "writer.close()\n",
    "torch.cuda.empty_cache()"
   ]
  },
  {
   "cell_type": "code",
   "execution_count": 156,
   "id": "1032e8c0-6870-481e-bfbe-25240dee80e8",
   "metadata": {
    "collapsed": true,
    "jupyter": {
     "outputs_hidden": true,
     "source_hidden": true
    },
    "tags": []
   },
   "outputs": [
    {
     "ename": "RuntimeError",
     "evalue": "Expected all tensors to be on the same device, but found at least two devices, cpu and cuda:0! (when checking arugment for argument mat1 in method wrapper_addmm)",
     "output_type": "error",
     "traceback": [
      "\u001b[1;31m---------------------------------------------------------------------------\u001b[0m",
      "\u001b[1;31mRuntimeError\u001b[0m                              Traceback (most recent call last)",
      "\u001b[1;32m<ipython-input-156-107feabc33d2>\u001b[0m in \u001b[0;36m<module>\u001b[1;34m\u001b[0m\n\u001b[0;32m      7\u001b[0m         \u001b[0moptimizer\u001b[0m\u001b[1;33m.\u001b[0m\u001b[0mzero_grad\u001b[0m\u001b[1;33m(\u001b[0m\u001b[1;33m)\u001b[0m\u001b[1;33m\u001b[0m\u001b[1;33m\u001b[0m\u001b[0m\n\u001b[0;32m      8\u001b[0m \u001b[1;33m\u001b[0m\u001b[0m\n\u001b[1;32m----> 9\u001b[1;33m         \u001b[0my_pred\u001b[0m \u001b[1;33m=\u001b[0m \u001b[0mmodel\u001b[0m\u001b[1;33m(\u001b[0m\u001b[0mX_batch\u001b[0m\u001b[1;33m)\u001b[0m\u001b[1;33m\u001b[0m\u001b[1;33m\u001b[0m\u001b[0m\n\u001b[0m\u001b[0;32m     10\u001b[0m \u001b[1;33m\u001b[0m\u001b[0m\n\u001b[0;32m     11\u001b[0m         \u001b[0mloss\u001b[0m \u001b[1;33m=\u001b[0m \u001b[0mcriterion\u001b[0m\u001b[1;33m(\u001b[0m\u001b[0my_pred\u001b[0m\u001b[1;33m,\u001b[0m \u001b[0my_batch\u001b[0m\u001b[1;33m.\u001b[0m\u001b[0munsqueeze\u001b[0m\u001b[1;33m(\u001b[0m\u001b[1;36m1\u001b[0m\u001b[1;33m)\u001b[0m\u001b[1;33m)\u001b[0m\u001b[1;33m\u001b[0m\u001b[1;33m\u001b[0m\u001b[0m\n",
      "\u001b[1;32m~\\anaconda3\\lib\\site-packages\\torch\\nn\\modules\\module.py\u001b[0m in \u001b[0;36m_call_impl\u001b[1;34m(self, *input, **kwargs)\u001b[0m\n\u001b[0;32m   1049\u001b[0m         if not (self._backward_hooks or self._forward_hooks or self._forward_pre_hooks or _global_backward_hooks\n\u001b[0;32m   1050\u001b[0m                 or _global_forward_hooks or _global_forward_pre_hooks):\n\u001b[1;32m-> 1051\u001b[1;33m             \u001b[1;32mreturn\u001b[0m \u001b[0mforward_call\u001b[0m\u001b[1;33m(\u001b[0m\u001b[1;33m*\u001b[0m\u001b[0minput\u001b[0m\u001b[1;33m,\u001b[0m \u001b[1;33m**\u001b[0m\u001b[0mkwargs\u001b[0m\u001b[1;33m)\u001b[0m\u001b[1;33m\u001b[0m\u001b[1;33m\u001b[0m\u001b[0m\n\u001b[0m\u001b[0;32m   1052\u001b[0m         \u001b[1;31m# Do not call functions when jit is used\u001b[0m\u001b[1;33m\u001b[0m\u001b[1;33m\u001b[0m\u001b[1;33m\u001b[0m\u001b[0m\n\u001b[0;32m   1053\u001b[0m         \u001b[0mfull_backward_hooks\u001b[0m\u001b[1;33m,\u001b[0m \u001b[0mnon_full_backward_hooks\u001b[0m \u001b[1;33m=\u001b[0m \u001b[1;33m[\u001b[0m\u001b[1;33m]\u001b[0m\u001b[1;33m,\u001b[0m \u001b[1;33m[\u001b[0m\u001b[1;33m]\u001b[0m\u001b[1;33m\u001b[0m\u001b[1;33m\u001b[0m\u001b[0m\n",
      "\u001b[1;32m<ipython-input-135-debaf4f6ea0d>\u001b[0m in \u001b[0;36mforward\u001b[1;34m(self, inputs)\u001b[0m\n\u001b[0;32m     13\u001b[0m \u001b[1;33m\u001b[0m\u001b[0m\n\u001b[0;32m     14\u001b[0m     \u001b[1;32mdef\u001b[0m \u001b[0mforward\u001b[0m\u001b[1;33m(\u001b[0m\u001b[0mself\u001b[0m\u001b[1;33m,\u001b[0m \u001b[0minputs\u001b[0m\u001b[1;33m)\u001b[0m\u001b[1;33m:\u001b[0m\u001b[1;33m\u001b[0m\u001b[1;33m\u001b[0m\u001b[0m\n\u001b[1;32m---> 15\u001b[1;33m         \u001b[0mx\u001b[0m \u001b[1;33m=\u001b[0m \u001b[0mself\u001b[0m\u001b[1;33m.\u001b[0m\u001b[0mrelu\u001b[0m\u001b[1;33m(\u001b[0m\u001b[0mself\u001b[0m\u001b[1;33m.\u001b[0m\u001b[0mlayer_1\u001b[0m\u001b[1;33m(\u001b[0m\u001b[0minputs\u001b[0m\u001b[1;33m)\u001b[0m\u001b[1;33m)\u001b[0m\u001b[1;33m\u001b[0m\u001b[1;33m\u001b[0m\u001b[0m\n\u001b[0m\u001b[0;32m     16\u001b[0m         \u001b[0mx\u001b[0m \u001b[1;33m=\u001b[0m \u001b[0mself\u001b[0m\u001b[1;33m.\u001b[0m\u001b[0mbatchnorm1\u001b[0m\u001b[1;33m(\u001b[0m\u001b[0mx\u001b[0m\u001b[1;33m)\u001b[0m\u001b[1;33m\u001b[0m\u001b[1;33m\u001b[0m\u001b[0m\n\u001b[0;32m     17\u001b[0m         \u001b[0mx\u001b[0m \u001b[1;33m=\u001b[0m \u001b[0mself\u001b[0m\u001b[1;33m.\u001b[0m\u001b[0mrelu\u001b[0m\u001b[1;33m(\u001b[0m\u001b[0mself\u001b[0m\u001b[1;33m.\u001b[0m\u001b[0mlayer_2\u001b[0m\u001b[1;33m(\u001b[0m\u001b[0mx\u001b[0m\u001b[1;33m)\u001b[0m\u001b[1;33m)\u001b[0m\u001b[1;33m\u001b[0m\u001b[1;33m\u001b[0m\u001b[0m\n",
      "\u001b[1;32m~\\anaconda3\\lib\\site-packages\\torch\\nn\\modules\\module.py\u001b[0m in \u001b[0;36m_call_impl\u001b[1;34m(self, *input, **kwargs)\u001b[0m\n\u001b[0;32m   1049\u001b[0m         if not (self._backward_hooks or self._forward_hooks or self._forward_pre_hooks or _global_backward_hooks\n\u001b[0;32m   1050\u001b[0m                 or _global_forward_hooks or _global_forward_pre_hooks):\n\u001b[1;32m-> 1051\u001b[1;33m             \u001b[1;32mreturn\u001b[0m \u001b[0mforward_call\u001b[0m\u001b[1;33m(\u001b[0m\u001b[1;33m*\u001b[0m\u001b[0minput\u001b[0m\u001b[1;33m,\u001b[0m \u001b[1;33m**\u001b[0m\u001b[0mkwargs\u001b[0m\u001b[1;33m)\u001b[0m\u001b[1;33m\u001b[0m\u001b[1;33m\u001b[0m\u001b[0m\n\u001b[0m\u001b[0;32m   1052\u001b[0m         \u001b[1;31m# Do not call functions when jit is used\u001b[0m\u001b[1;33m\u001b[0m\u001b[1;33m\u001b[0m\u001b[1;33m\u001b[0m\u001b[0m\n\u001b[0;32m   1053\u001b[0m         \u001b[0mfull_backward_hooks\u001b[0m\u001b[1;33m,\u001b[0m \u001b[0mnon_full_backward_hooks\u001b[0m \u001b[1;33m=\u001b[0m \u001b[1;33m[\u001b[0m\u001b[1;33m]\u001b[0m\u001b[1;33m,\u001b[0m \u001b[1;33m[\u001b[0m\u001b[1;33m]\u001b[0m\u001b[1;33m\u001b[0m\u001b[1;33m\u001b[0m\u001b[0m\n",
      "\u001b[1;32m~\\anaconda3\\lib\\site-packages\\torch\\nn\\modules\\linear.py\u001b[0m in \u001b[0;36mforward\u001b[1;34m(self, input)\u001b[0m\n\u001b[0;32m     94\u001b[0m \u001b[1;33m\u001b[0m\u001b[0m\n\u001b[0;32m     95\u001b[0m     \u001b[1;32mdef\u001b[0m \u001b[0mforward\u001b[0m\u001b[1;33m(\u001b[0m\u001b[0mself\u001b[0m\u001b[1;33m,\u001b[0m \u001b[0minput\u001b[0m\u001b[1;33m:\u001b[0m \u001b[0mTensor\u001b[0m\u001b[1;33m)\u001b[0m \u001b[1;33m->\u001b[0m \u001b[0mTensor\u001b[0m\u001b[1;33m:\u001b[0m\u001b[1;33m\u001b[0m\u001b[1;33m\u001b[0m\u001b[0m\n\u001b[1;32m---> 96\u001b[1;33m         \u001b[1;32mreturn\u001b[0m \u001b[0mF\u001b[0m\u001b[1;33m.\u001b[0m\u001b[0mlinear\u001b[0m\u001b[1;33m(\u001b[0m\u001b[0minput\u001b[0m\u001b[1;33m,\u001b[0m \u001b[0mself\u001b[0m\u001b[1;33m.\u001b[0m\u001b[0mweight\u001b[0m\u001b[1;33m,\u001b[0m \u001b[0mself\u001b[0m\u001b[1;33m.\u001b[0m\u001b[0mbias\u001b[0m\u001b[1;33m)\u001b[0m\u001b[1;33m\u001b[0m\u001b[1;33m\u001b[0m\u001b[0m\n\u001b[0m\u001b[0;32m     97\u001b[0m \u001b[1;33m\u001b[0m\u001b[0m\n\u001b[0;32m     98\u001b[0m     \u001b[1;32mdef\u001b[0m \u001b[0mextra_repr\u001b[0m\u001b[1;33m(\u001b[0m\u001b[0mself\u001b[0m\u001b[1;33m)\u001b[0m \u001b[1;33m->\u001b[0m \u001b[0mstr\u001b[0m\u001b[1;33m:\u001b[0m\u001b[1;33m\u001b[0m\u001b[1;33m\u001b[0m\u001b[0m\n",
      "\u001b[1;32m~\\anaconda3\\lib\\site-packages\\torch\\nn\\functional.py\u001b[0m in \u001b[0;36mlinear\u001b[1;34m(input, weight, bias)\u001b[0m\n\u001b[0;32m   1845\u001b[0m     \u001b[1;32mif\u001b[0m \u001b[0mhas_torch_function_variadic\u001b[0m\u001b[1;33m(\u001b[0m\u001b[0minput\u001b[0m\u001b[1;33m,\u001b[0m \u001b[0mweight\u001b[0m\u001b[1;33m)\u001b[0m\u001b[1;33m:\u001b[0m\u001b[1;33m\u001b[0m\u001b[1;33m\u001b[0m\u001b[0m\n\u001b[0;32m   1846\u001b[0m         \u001b[1;32mreturn\u001b[0m \u001b[0mhandle_torch_function\u001b[0m\u001b[1;33m(\u001b[0m\u001b[0mlinear\u001b[0m\u001b[1;33m,\u001b[0m \u001b[1;33m(\u001b[0m\u001b[0minput\u001b[0m\u001b[1;33m,\u001b[0m \u001b[0mweight\u001b[0m\u001b[1;33m)\u001b[0m\u001b[1;33m,\u001b[0m \u001b[0minput\u001b[0m\u001b[1;33m,\u001b[0m \u001b[0mweight\u001b[0m\u001b[1;33m,\u001b[0m \u001b[0mbias\u001b[0m\u001b[1;33m=\u001b[0m\u001b[0mbias\u001b[0m\u001b[1;33m)\u001b[0m\u001b[1;33m\u001b[0m\u001b[1;33m\u001b[0m\u001b[0m\n\u001b[1;32m-> 1847\u001b[1;33m     \u001b[1;32mreturn\u001b[0m \u001b[0mtorch\u001b[0m\u001b[1;33m.\u001b[0m\u001b[0m_C\u001b[0m\u001b[1;33m.\u001b[0m\u001b[0m_nn\u001b[0m\u001b[1;33m.\u001b[0m\u001b[0mlinear\u001b[0m\u001b[1;33m(\u001b[0m\u001b[0minput\u001b[0m\u001b[1;33m,\u001b[0m \u001b[0mweight\u001b[0m\u001b[1;33m,\u001b[0m \u001b[0mbias\u001b[0m\u001b[1;33m)\u001b[0m\u001b[1;33m\u001b[0m\u001b[1;33m\u001b[0m\u001b[0m\n\u001b[0m\u001b[0;32m   1848\u001b[0m \u001b[1;33m\u001b[0m\u001b[0m\n\u001b[0;32m   1849\u001b[0m \u001b[1;33m\u001b[0m\u001b[0m\n",
      "\u001b[1;31mRuntimeError\u001b[0m: Expected all tensors to be on the same device, but found at least two devices, cpu and cuda:0! (when checking arugment for argument mat1 in method wrapper_addmm)"
     ]
    }
   ],
   "source": [
    "model.train()\n",
    "for e in range(1, 100+1):\n",
    "    epoch_loss = 0\n",
    "    epoch_acc = 0\n",
    "    for X_batch, y_batch in train_loader:\n",
    "        X_batch, y_batch = X_batch.to(device), y_batch.to(device)\n",
    "        optimizer.zero_grad()\n",
    "        \n",
    "        y_pred = model(X_batch)\n",
    "        \n",
    "        loss = criterion(y_pred, y_batch.unsqueeze(1))\n",
    "        acc = binary_acc(y_pred, y_batch.unsqueeze(1))\n",
    "        \n",
    "        loss.backward()\n",
    "        optimizer.step()\n",
    "        \n",
    "        epoch_loss += loss.item()\n",
    "        epoch_acc += acc.item()"
   ]
  },
  {
   "cell_type": "code",
   "execution_count": 274,
   "id": "a7bbedb5-c035-43b6-80e6-a1ebc80a4002",
   "metadata": {},
   "outputs": [
    {
     "name": "stdout",
     "output_type": "stream",
     "text": [
      "cpu\n"
     ]
    }
   ],
   "source": [
    "device = torch.device(\"cpu\")\n",
    "print(device)"
   ]
  },
  {
   "cell_type": "code",
   "execution_count": 279,
   "id": "5c7b595c-5715-4aa8-b644-4b730cd48b30",
   "metadata": {
    "tags": []
   },
   "outputs": [
    {
     "name": "stdout",
     "output_type": "stream",
     "text": [
      "recall : 0.6842105263157895\n",
      "precision : 0.2653061224489796\n",
      "F1 : 0.3823529411764706\n",
      "acc : 0.46708961141950833\n"
     ]
    },
    {
     "data": {
      "text/plain": [
       "<sklearn.metrics._plot.roc_curve.RocCurveDisplay at 0x22c42273b20>"
      ]
     },
     "execution_count": 279,
     "metadata": {},
     "output_type": "execute_result"
    },
    {
     "data": {
      "image/png": "[encoded data removed]",
      "text/plain": [
       "<Figure size 432x288 with 2 Axes>"
      ]
     },
     "metadata": {
      "needs_background": "light"
     },
     "output_type": "display_data"
    },
    {
     "data": {
      "image/png": "[encoded data removed]",
      "text/plain": [
       "<Figure size 432x288 with 1 Axes>"
      ]
     },
     "metadata": {
      "needs_background": "light"
     },
     "output_type": "display_data"
    }
   ],
   "source": [
    "model = BTC_pro6()\n",
    "model_name = 'models/' + str(model).split('(')[0] + '_tvt_' + str(5) + '.pt'\n",
    "state_dict = torch.load(model_name)\n",
    "model.load_state_dict(state_dict)\n",
    "\n",
    "\n",
    "y_pred_list_rounded = []\n",
    "y_pred_list = []\n",
    "targets = []\n",
    "\n",
    "\n",
    "model.eval()\n",
    "with torch.no_grad():\n",
    "    for X_batch, y_batch in test_loader:\n",
    "        X_batch, y_batch = X_batch.to(device), y_batch.to(device)\n",
    "        targets.append(y_batch)\n",
    "\n",
    "        y_test_pred = model(X_batch)\n",
    "        y_test_pred = torch.sigmoid(y_test_pred)\n",
    "        y_pred_tag = torch.round(y_test_pred)\n",
    "        y_pred_list_rounded.append(y_pred_tag.cpu().numpy())\n",
    "        y_pred_list.append(y_test_pred.cpu().numpy())\n",
    "\n",
    "y_pred_list_rounded = [a.squeeze().tolist() for a in y_pred_list_rounded]\n",
    "y_pred_list = [a.squeeze().tolist() for a in y_pred_list]\n",
    "targets = [a.squeeze().tolist() for a in targets]\n",
    "\n",
    "\n",
    "y_pred_list_rounded = [j for sub in y_pred_list_rounded for j in sub]\n",
    "y_pred_list = [j for sub in y_pred_list for j in sub]\n",
    "targets = [j for sub in targets for j in sub]\n",
    "\n",
    "cm = confusion_matrix(targets, y_pred_list_rounded)\n",
    "disp = ConfusionMatrixDisplay(confusion_matrix=cm, display_labels=['0', '1'])\n",
    "disp.plot()\n",
    "TP, FP, TN, FN = cm[1,1], cm[0,1], cm[0,0], cm[1,0]\n",
    "P = TP/(TP+FP)\n",
    "R = TP/(TP+FN)\n",
    "F1 = 2*P*R/(P+R)\n",
    "print(f'recall : {R}')\n",
    "print(f'precision : {P}')\n",
    "print(f'F1 : {F1}')\n",
    "print(f'acc : {(TP + TN)/(TP + TN + FP + FN)}')\n",
    "RocCurveDisplay.from_predictions(targets, y_pred_list)"
   ]
  },
  {
   "cell_type": "code",
   "execution_count": null,
   "id": "cb725127-97bd-49e3-9003-e91dfe63c146",
   "metadata": {
    "tags": []
   },
   "outputs": [],
   "source": []
  },
  {
   "cell_type": "markdown",
   "id": "61c4ac5c-34cd-4772-b241-adb5951023af",
   "metadata": {},
   "source": [
    "#### model pro7"
   ]
  },
  {
   "cell_type": "code",
   "execution_count": 280,
   "id": "e3559e6d-f72b-41d5-a64c-d6d166d3d5f0",
   "metadata": {},
   "outputs": [],
   "source": [
    "class BTC_pro7(nn.Module):\n",
    "    def __init__(self):\n",
    "        super(BTC_pro7, self).__init__()\n",
    "        # Number of input features is 12.\n",
    "        self.layer_1 = nn.Linear(15, 30) \n",
    "        self.layer_2 = nn.Linear(30, 30)\n",
    "        self.layer_out = nn.Linear(30, 1) \n",
    "        \n",
    "        self.relu = nn.ReLU()\n",
    "        self.dropout = nn.Dropout(p=0.1)\n",
    "        self.batchnorm1 = nn.BatchNorm1d(30)\n",
    "        self.batchnorm2 = nn.BatchNorm1d(30)\n",
    "        \n",
    "    def forward(self, inputs):\n",
    "        x = self.relu(self.layer_1(inputs))\n",
    "        x = self.batchnorm1(x)\n",
    "        x = self.relu(self.layer_2(x))\n",
    "        x = self.batchnorm2(x)\n",
    "        x = self.dropout(x)\n",
    "        x = self.layer_out(x)\n",
    "        \n",
    "        return x"
   ]
  },
  {
   "cell_type": "code",
   "execution_count": 281,
   "id": "293a1952-aba0-4ead-82ab-383306ee8d9b",
   "metadata": {},
   "outputs": [
    {
     "name": "stdout",
     "output_type": "stream",
     "text": [
      "cuda:0\n"
     ]
    }
   ],
   "source": [
    "device = torch.device(\"cuda:0\" if torch.cuda.is_available() else \"cpu\")\n",
    "print(device)"
   ]
  },
  {
   "cell_type": "code",
   "execution_count": 282,
   "id": "c55bf2ed-7f46-41ff-8d15-926cfd0c044c",
   "metadata": {},
   "outputs": [],
   "source": [
    "w = torch.tensor([0.4, 0.6]).to(device)"
   ]
  },
  {
   "cell_type": "code",
   "execution_count": 283,
   "id": "3a431ca9-a4f7-407b-9f25-a487046c911a",
   "metadata": {
    "tags": []
   },
   "outputs": [
    {
     "name": "stderr",
     "output_type": "stream",
     "text": [
      "C:\\Users\\bakhi\\anaconda3\\lib\\site-packages\\torchmetrics\\utilities\\prints.py:36: UserWarning: Metric `AUROC` will save all targets and predictions in buffer. For large datasets this may lead to large memory footprint.\n",
      "  warnings.warn(*args, **kwargs)\n"
     ]
    }
   ],
   "source": [
    "model = BTC_pro7()\n",
    "model.to(device)\n",
    "\n",
    "epochs = 50\n",
    "\n",
    "cost = torch.nn.CrossEntropyLoss(weight = w)\n",
    "optimizer = torch.optim.Adam(model.parameters(), lr=0.0001)\n",
    "writer = SummaryWriter(log_dir = 'runs/' + str(model).split('(')[0])\n",
    "\n",
    "for t in range(epochs):\n",
    "    train(train_loader, model, cost, optimizer, t)\n",
    "    test(test_loader, model, t)\n",
    "    torch.save(model.state_dict(), 'models/' + str(model).split('(')[0] + '_tvt_' + str(t) + '.pt')\n",
    "\n",
    "writer.close()\n",
    "torch.cuda.empty_cache()"
   ]
  },
  {
   "cell_type": "code",
   "execution_count": 156,
   "id": "8d5ac841-c226-46a2-a8e1-d70c6c8823c3",
   "metadata": {
    "collapsed": true,
    "jupyter": {
     "outputs_hidden": true,
     "source_hidden": true
    },
    "tags": []
   },
   "outputs": [
    {
     "ename": "RuntimeError",
     "evalue": "Expected all tensors to be on the same device, but found at least two devices, cpu and cuda:0! (when checking arugment for argument mat1 in method wrapper_addmm)",
     "output_type": "error",
     "traceback": [
      "\u001b[1;31m---------------------------------------------------------------------------\u001b[0m",
      "\u001b[1;31mRuntimeError\u001b[0m                              Traceback (most recent call last)",
      "\u001b[1;32m<ipython-input-156-107feabc33d2>\u001b[0m in \u001b[0;36m<module>\u001b[1;34m\u001b[0m\n\u001b[0;32m      7\u001b[0m         \u001b[0moptimizer\u001b[0m\u001b[1;33m.\u001b[0m\u001b[0mzero_grad\u001b[0m\u001b[1;33m(\u001b[0m\u001b[1;33m)\u001b[0m\u001b[1;33m\u001b[0m\u001b[1;33m\u001b[0m\u001b[0m\n\u001b[0;32m      8\u001b[0m \u001b[1;33m\u001b[0m\u001b[0m\n\u001b[1;32m----> 9\u001b[1;33m         \u001b[0my_pred\u001b[0m \u001b[1;33m=\u001b[0m \u001b[0mmodel\u001b[0m\u001b[1;33m(\u001b[0m\u001b[0mX_batch\u001b[0m\u001b[1;33m)\u001b[0m\u001b[1;33m\u001b[0m\u001b[1;33m\u001b[0m\u001b[0m\n\u001b[0m\u001b[0;32m     10\u001b[0m \u001b[1;33m\u001b[0m\u001b[0m\n\u001b[0;32m     11\u001b[0m         \u001b[0mloss\u001b[0m \u001b[1;33m=\u001b[0m \u001b[0mcriterion\u001b[0m\u001b[1;33m(\u001b[0m\u001b[0my_pred\u001b[0m\u001b[1;33m,\u001b[0m \u001b[0my_batch\u001b[0m\u001b[1;33m.\u001b[0m\u001b[0munsqueeze\u001b[0m\u001b[1;33m(\u001b[0m\u001b[1;36m1\u001b[0m\u001b[1;33m)\u001b[0m\u001b[1;33m)\u001b[0m\u001b[1;33m\u001b[0m\u001b[1;33m\u001b[0m\u001b[0m\n",
      "\u001b[1;32m~\\anaconda3\\lib\\site-packages\\torch\\nn\\modules\\module.py\u001b[0m in \u001b[0;36m_call_impl\u001b[1;34m(self, *input, **kwargs)\u001b[0m\n\u001b[0;32m   1049\u001b[0m         if not (self._backward_hooks or self._forward_hooks or self._forward_pre_hooks or _global_backward_hooks\n\u001b[0;32m   1050\u001b[0m                 or _global_forward_hooks or _global_forward_pre_hooks):\n\u001b[1;32m-> 1051\u001b[1;33m             \u001b[1;32mreturn\u001b[0m \u001b[0mforward_call\u001b[0m\u001b[1;33m(\u001b[0m\u001b[1;33m*\u001b[0m\u001b[0minput\u001b[0m\u001b[1;33m,\u001b[0m \u001b[1;33m**\u001b[0m\u001b[0mkwargs\u001b[0m\u001b[1;33m)\u001b[0m\u001b[1;33m\u001b[0m\u001b[1;33m\u001b[0m\u001b[0m\n\u001b[0m\u001b[0;32m   1052\u001b[0m         \u001b[1;31m# Do not call functions when jit is used\u001b[0m\u001b[1;33m\u001b[0m\u001b[1;33m\u001b[0m\u001b[1;33m\u001b[0m\u001b[0m\n\u001b[0;32m   1053\u001b[0m         \u001b[0mfull_backward_hooks\u001b[0m\u001b[1;33m,\u001b[0m \u001b[0mnon_full_backward_hooks\u001b[0m \u001b[1;33m=\u001b[0m \u001b[1;33m[\u001b[0m\u001b[1;33m]\u001b[0m\u001b[1;33m,\u001b[0m \u001b[1;33m[\u001b[0m\u001b[1;33m]\u001b[0m\u001b[1;33m\u001b[0m\u001b[1;33m\u001b[0m\u001b[0m\n",
      "\u001b[1;32m<ipython-input-135-debaf4f6ea0d>\u001b[0m in \u001b[0;36mforward\u001b[1;34m(self, inputs)\u001b[0m\n\u001b[0;32m     13\u001b[0m \u001b[1;33m\u001b[0m\u001b[0m\n\u001b[0;32m     14\u001b[0m     \u001b[1;32mdef\u001b[0m \u001b[0mforward\u001b[0m\u001b[1;33m(\u001b[0m\u001b[0mself\u001b[0m\u001b[1;33m,\u001b[0m \u001b[0minputs\u001b[0m\u001b[1;33m)\u001b[0m\u001b[1;33m:\u001b[0m\u001b[1;33m\u001b[0m\u001b[1;33m\u001b[0m\u001b[0m\n\u001b[1;32m---> 15\u001b[1;33m         \u001b[0mx\u001b[0m \u001b[1;33m=\u001b[0m \u001b[0mself\u001b[0m\u001b[1;33m.\u001b[0m\u001b[0mrelu\u001b[0m\u001b[1;33m(\u001b[0m\u001b[0mself\u001b[0m\u001b[1;33m.\u001b[0m\u001b[0mlayer_1\u001b[0m\u001b[1;33m(\u001b[0m\u001b[0minputs\u001b[0m\u001b[1;33m)\u001b[0m\u001b[1;33m)\u001b[0m\u001b[1;33m\u001b[0m\u001b[1;33m\u001b[0m\u001b[0m\n\u001b[0m\u001b[0;32m     16\u001b[0m         \u001b[0mx\u001b[0m \u001b[1;33m=\u001b[0m \u001b[0mself\u001b[0m\u001b[1;33m.\u001b[0m\u001b[0mbatchnorm1\u001b[0m\u001b[1;33m(\u001b[0m\u001b[0mx\u001b[0m\u001b[1;33m)\u001b[0m\u001b[1;33m\u001b[0m\u001b[1;33m\u001b[0m\u001b[0m\n\u001b[0;32m     17\u001b[0m         \u001b[0mx\u001b[0m \u001b[1;33m=\u001b[0m \u001b[0mself\u001b[0m\u001b[1;33m.\u001b[0m\u001b[0mrelu\u001b[0m\u001b[1;33m(\u001b[0m\u001b[0mself\u001b[0m\u001b[1;33m.\u001b[0m\u001b[0mlayer_2\u001b[0m\u001b[1;33m(\u001b[0m\u001b[0mx\u001b[0m\u001b[1;33m)\u001b[0m\u001b[1;33m)\u001b[0m\u001b[1;33m\u001b[0m\u001b[1;33m\u001b[0m\u001b[0m\n",
      "\u001b[1;32m~\\anaconda3\\lib\\site-packages\\torch\\nn\\modules\\module.py\u001b[0m in \u001b[0;36m_call_impl\u001b[1;34m(self, *input, **kwargs)\u001b[0m\n\u001b[0;32m   1049\u001b[0m         if not (self._backward_hooks or self._forward_hooks or self._forward_pre_hooks or _global_backward_hooks\n\u001b[0;32m   1050\u001b[0m                 or _global_forward_hooks or _global_forward_pre_hooks):\n\u001b[1;32m-> 1051\u001b[1;33m             \u001b[1;32mreturn\u001b[0m \u001b[0mforward_call\u001b[0m\u001b[1;33m(\u001b[0m\u001b[1;33m*\u001b[0m\u001b[0minput\u001b[0m\u001b[1;33m,\u001b[0m \u001b[1;33m**\u001b[0m\u001b[0mkwargs\u001b[0m\u001b[1;33m)\u001b[0m\u001b[1;33m\u001b[0m\u001b[1;33m\u001b[0m\u001b[0m\n\u001b[0m\u001b[0;32m   1052\u001b[0m         \u001b[1;31m# Do not call functions when jit is used\u001b[0m\u001b[1;33m\u001b[0m\u001b[1;33m\u001b[0m\u001b[1;33m\u001b[0m\u001b[0m\n\u001b[0;32m   1053\u001b[0m         \u001b[0mfull_backward_hooks\u001b[0m\u001b[1;33m,\u001b[0m \u001b[0mnon_full_backward_hooks\u001b[0m \u001b[1;33m=\u001b[0m \u001b[1;33m[\u001b[0m\u001b[1;33m]\u001b[0m\u001b[1;33m,\u001b[0m \u001b[1;33m[\u001b[0m\u001b[1;33m]\u001b[0m\u001b[1;33m\u001b[0m\u001b[1;33m\u001b[0m\u001b[0m\n",
      "\u001b[1;32m~\\anaconda3\\lib\\site-packages\\torch\\nn\\modules\\linear.py\u001b[0m in \u001b[0;36mforward\u001b[1;34m(self, input)\u001b[0m\n\u001b[0;32m     94\u001b[0m \u001b[1;33m\u001b[0m\u001b[0m\n\u001b[0;32m     95\u001b[0m     \u001b[1;32mdef\u001b[0m \u001b[0mforward\u001b[0m\u001b[1;33m(\u001b[0m\u001b[0mself\u001b[0m\u001b[1;33m,\u001b[0m \u001b[0minput\u001b[0m\u001b[1;33m:\u001b[0m \u001b[0mTensor\u001b[0m\u001b[1;33m)\u001b[0m \u001b[1;33m->\u001b[0m \u001b[0mTensor\u001b[0m\u001b[1;33m:\u001b[0m\u001b[1;33m\u001b[0m\u001b[1;33m\u001b[0m\u001b[0m\n\u001b[1;32m---> 96\u001b[1;33m         \u001b[1;32mreturn\u001b[0m \u001b[0mF\u001b[0m\u001b[1;33m.\u001b[0m\u001b[0mlinear\u001b[0m\u001b[1;33m(\u001b[0m\u001b[0minput\u001b[0m\u001b[1;33m,\u001b[0m \u001b[0mself\u001b[0m\u001b[1;33m.\u001b[0m\u001b[0mweight\u001b[0m\u001b[1;33m,\u001b[0m \u001b[0mself\u001b[0m\u001b[1;33m.\u001b[0m\u001b[0mbias\u001b[0m\u001b[1;33m)\u001b[0m\u001b[1;33m\u001b[0m\u001b[1;33m\u001b[0m\u001b[0m\n\u001b[0m\u001b[0;32m     97\u001b[0m \u001b[1;33m\u001b[0m\u001b[0m\n\u001b[0;32m     98\u001b[0m     \u001b[1;32mdef\u001b[0m \u001b[0mextra_repr\u001b[0m\u001b[1;33m(\u001b[0m\u001b[0mself\u001b[0m\u001b[1;33m)\u001b[0m \u001b[1;33m->\u001b[0m \u001b[0mstr\u001b[0m\u001b[1;33m:\u001b[0m\u001b[1;33m\u001b[0m\u001b[1;33m\u001b[0m\u001b[0m\n",
      "\u001b[1;32m~\\anaconda3\\lib\\site-packages\\torch\\nn\\functional.py\u001b[0m in \u001b[0;36mlinear\u001b[1;34m(input, weight, bias)\u001b[0m\n\u001b[0;32m   1845\u001b[0m     \u001b[1;32mif\u001b[0m \u001b[0mhas_torch_function_variadic\u001b[0m\u001b[1;33m(\u001b[0m\u001b[0minput\u001b[0m\u001b[1;33m,\u001b[0m \u001b[0mweight\u001b[0m\u001b[1;33m)\u001b[0m\u001b[1;33m:\u001b[0m\u001b[1;33m\u001b[0m\u001b[1;33m\u001b[0m\u001b[0m\n\u001b[0;32m   1846\u001b[0m         \u001b[1;32mreturn\u001b[0m \u001b[0mhandle_torch_function\u001b[0m\u001b[1;33m(\u001b[0m\u001b[0mlinear\u001b[0m\u001b[1;33m,\u001b[0m \u001b[1;33m(\u001b[0m\u001b[0minput\u001b[0m\u001b[1;33m,\u001b[0m \u001b[0mweight\u001b[0m\u001b[1;33m)\u001b[0m\u001b[1;33m,\u001b[0m \u001b[0minput\u001b[0m\u001b[1;33m,\u001b[0m \u001b[0mweight\u001b[0m\u001b[1;33m,\u001b[0m \u001b[0mbias\u001b[0m\u001b[1;33m=\u001b[0m\u001b[0mbias\u001b[0m\u001b[1;33m)\u001b[0m\u001b[1;33m\u001b[0m\u001b[1;33m\u001b[0m\u001b[0m\n\u001b[1;32m-> 1847\u001b[1;33m     \u001b[1;32mreturn\u001b[0m \u001b[0mtorch\u001b[0m\u001b[1;33m.\u001b[0m\u001b[0m_C\u001b[0m\u001b[1;33m.\u001b[0m\u001b[0m_nn\u001b[0m\u001b[1;33m.\u001b[0m\u001b[0mlinear\u001b[0m\u001b[1;33m(\u001b[0m\u001b[0minput\u001b[0m\u001b[1;33m,\u001b[0m \u001b[0mweight\u001b[0m\u001b[1;33m,\u001b[0m \u001b[0mbias\u001b[0m\u001b[1;33m)\u001b[0m\u001b[1;33m\u001b[0m\u001b[1;33m\u001b[0m\u001b[0m\n\u001b[0m\u001b[0;32m   1848\u001b[0m \u001b[1;33m\u001b[0m\u001b[0m\n\u001b[0;32m   1849\u001b[0m \u001b[1;33m\u001b[0m\u001b[0m\n",
      "\u001b[1;31mRuntimeError\u001b[0m: Expected all tensors to be on the same device, but found at least two devices, cpu and cuda:0! (when checking arugment for argument mat1 in method wrapper_addmm)"
     ]
    }
   ],
   "source": [
    "model.train()\n",
    "for e in range(1, 100+1):\n",
    "    epoch_loss = 0\n",
    "    epoch_acc = 0\n",
    "    for X_batch, y_batch in train_loader:\n",
    "        X_batch, y_batch = X_batch.to(device), y_batch.to(device)\n",
    "        optimizer.zero_grad()\n",
    "        \n",
    "        y_pred = model(X_batch)\n",
    "        \n",
    "        loss = criterion(y_pred, y_batch.unsqueeze(1))\n",
    "        acc = binary_acc(y_pred, y_batch.unsqueeze(1))\n",
    "        \n",
    "        loss.backward()\n",
    "        optimizer.step()\n",
    "        \n",
    "        epoch_loss += loss.item()\n",
    "        epoch_acc += acc.item()"
   ]
  },
  {
   "cell_type": "code",
   "execution_count": 284,
   "id": "2a963ecb-3136-42b3-82cc-5cddf1c48c8d",
   "metadata": {},
   "outputs": [
    {
     "name": "stdout",
     "output_type": "stream",
     "text": [
      "cpu\n"
     ]
    }
   ],
   "source": [
    "device = torch.device(\"cpu\")\n",
    "print(device)"
   ]
  },
  {
   "cell_type": "code",
   "execution_count": 288,
   "id": "37dcdf18-9986-46a9-8100-9bf42541805b",
   "metadata": {
    "tags": []
   },
   "outputs": [
    {
     "name": "stdout",
     "output_type": "stream",
     "text": [
      "recall : 0.34210526315789475\n",
      "precision : 0.30678466076696165\n",
      "F1 : 0.32348367029548986\n",
      "acc : 0.655035685963521\n"
     ]
    },
    {
     "data": {
      "text/plain": [
       "<sklearn.metrics._plot.roc_curve.RocCurveDisplay at 0x22c35b00f70>"
      ]
     },
     "execution_count": 288,
     "metadata": {},
     "output_type": "execute_result"
    },
    {
     "data": {
      "image/png": "[encoded data removed]",
      "text/plain": [
       "<Figure size 432x288 with 2 Axes>"
      ]
     },
     "metadata": {
      "needs_background": "light"
     },
     "output_type": "display_data"
    },
    {
     "data": {
      "image/png": "[encoded data removed]",
      "text/plain": [
       "<Figure size 432x288 with 1 Axes>"
      ]
     },
     "metadata": {
      "needs_background": "light"
     },
     "output_type": "display_data"
    }
   ],
   "source": [
    "model = BTC_pro7()\n",
    "model_name = 'models/' + str(model).split('(')[0] + '_tvt_' + str(35) + '.pt'\n",
    "state_dict = torch.load(model_name)\n",
    "model.load_state_dict(state_dict)\n",
    "\n",
    "\n",
    "y_pred_list_rounded = []\n",
    "y_pred_list = []\n",
    "targets = []\n",
    "\n",
    "\n",
    "model.eval()\n",
    "with torch.no_grad():\n",
    "    for X_batch, y_batch in test_loader:\n",
    "        X_batch, y_batch = X_batch.to(device), y_batch.to(device)\n",
    "        targets.append(y_batch)\n",
    "\n",
    "        y_test_pred = model(X_batch)\n",
    "        y_test_pred = torch.sigmoid(y_test_pred)\n",
    "        y_pred_tag = torch.round(y_test_pred)\n",
    "        y_pred_list_rounded.append(y_pred_tag.cpu().numpy())\n",
    "        y_pred_list.append(y_test_pred.cpu().numpy())\n",
    "\n",
    "y_pred_list_rounded = [a.squeeze().tolist() for a in y_pred_list_rounded]\n",
    "y_pred_list = [a.squeeze().tolist() for a in y_pred_list]\n",
    "targets = [a.squeeze().tolist() for a in targets]\n",
    "\n",
    "\n",
    "y_pred_list_rounded = [j for sub in y_pred_list_rounded for j in sub]\n",
    "y_pred_list = [j for sub in y_pred_list for j in sub]\n",
    "targets = [j for sub in targets for j in sub]\n",
    "\n",
    "cm = confusion_matrix(targets, y_pred_list_rounded)\n",
    "disp = ConfusionMatrixDisplay(confusion_matrix=cm, display_labels=['0', '1'])\n",
    "disp.plot()\n",
    "TP, FP, TN, FN = cm[1,1], cm[0,1], cm[0,0], cm[1,0]\n",
    "P = TP/(TP+FP)\n",
    "R = TP/(TP+FN)\n",
    "F1 = 2*P*R/(P+R)\n",
    "print(f'recall : {R}')\n",
    "print(f'precision : {P}')\n",
    "print(f'F1 : {F1}')\n",
    "print(f'acc : {(TP + TN)/(TP + TN + FP + FN)}')\n",
    "RocCurveDisplay.from_predictions(targets, y_pred_list)"
   ]
  },
  {
   "cell_type": "markdown",
   "id": "39e3f4cc-5845-45ea-9676-377d0c12ffd0",
   "metadata": {},
   "source": [
    "#### model pro9"
   ]
  },
  {
   "cell_type": "code",
   "execution_count": 298,
   "id": "cbc9590a-78ef-42ab-a71d-f249664df888",
   "metadata": {},
   "outputs": [],
   "source": [
    "class BTC_pro9(nn.Module):\n",
    "    def __init__(self):\n",
    "        super(BTC_pro9, self).__init__()\n",
    "        # Number of input features is 12.\n",
    "        self.layer_1 = nn.Linear(15, 30) \n",
    "\n",
    "        self.layer_out = nn.Linear(30, 1) \n",
    "        \n",
    "        self.relu = nn.ReLU()\n",
    "        self.dropout = nn.Dropout(p=0.1)\n",
    "        self.batchnorm1 = nn.BatchNorm1d(30)\n",
    "        \n",
    "    def forward(self, inputs):\n",
    "        x = self.relu(self.layer_1(inputs))\n",
    "        x = self.batchnorm1(x)\n",
    "        x = self.dropout(x)\n",
    "        x = self.layer_out(x)\n",
    "        \n",
    "        return x"
   ]
  },
  {
   "cell_type": "code",
   "execution_count": 299,
   "id": "0284d3a6-33a2-455f-b076-8aaac8a2a663",
   "metadata": {},
   "outputs": [
    {
     "name": "stdout",
     "output_type": "stream",
     "text": [
      "cuda:0\n"
     ]
    }
   ],
   "source": [
    "device = torch.device(\"cuda:0\" if torch.cuda.is_available() else \"cpu\")\n",
    "print(device)"
   ]
  },
  {
   "cell_type": "code",
   "execution_count": 300,
   "id": "e62584ad-87c0-4fea-a8e1-f4b9702e5b0c",
   "metadata": {},
   "outputs": [],
   "source": [
    "w = torch.tensor([0.5, 0.5]).to(device)"
   ]
  },
  {
   "cell_type": "code",
   "execution_count": 301,
   "id": "b1d10216-7f5c-490c-ac93-e3bec8a94274",
   "metadata": {
    "tags": []
   },
   "outputs": [],
   "source": [
    "model = BTC_pro9()\n",
    "model.to(device)\n",
    "\n",
    "epochs = 50\n",
    "\n",
    "cost = torch.nn.CrossEntropyLoss(weight = w)\n",
    "optimizer = torch.optim.Adam(model.parameters(), lr=0.0001)\n",
    "writer = SummaryWriter(log_dir = 'runs/' + str(model).split('(')[0])\n",
    "\n",
    "for t in range(epochs):\n",
    "    train(train_loader, model, cost, optimizer, t)\n",
    "    test(test_loader, model, t)\n",
    "    torch.save(model.state_dict(), 'models/' + str(model).split('(')[0] + '_tvt_' + str(t) + '.pt')\n",
    "\n",
    "writer.close()\n",
    "torch.cuda.empty_cache()"
   ]
  },
  {
   "cell_type": "code",
   "execution_count": 156,
   "id": "a4f567ab-b0bb-4794-9fb9-23539ffdd5fa",
   "metadata": {
    "collapsed": true,
    "jupyter": {
     "outputs_hidden": true,
     "source_hidden": true
    },
    "tags": []
   },
   "outputs": [
    {
     "ename": "RuntimeError",
     "evalue": "Expected all tensors to be on the same device, but found at least two devices, cpu and cuda:0! (when checking arugment for argument mat1 in method wrapper_addmm)",
     "output_type": "error",
     "traceback": [
      "\u001b[1;31m---------------------------------------------------------------------------\u001b[0m",
      "\u001b[1;31mRuntimeError\u001b[0m                              Traceback (most recent call last)",
      "\u001b[1;32m<ipython-input-156-107feabc33d2>\u001b[0m in \u001b[0;36m<module>\u001b[1;34m\u001b[0m\n\u001b[0;32m      7\u001b[0m         \u001b[0moptimizer\u001b[0m\u001b[1;33m.\u001b[0m\u001b[0mzero_grad\u001b[0m\u001b[1;33m(\u001b[0m\u001b[1;33m)\u001b[0m\u001b[1;33m\u001b[0m\u001b[1;33m\u001b[0m\u001b[0m\n\u001b[0;32m      8\u001b[0m \u001b[1;33m\u001b[0m\u001b[0m\n\u001b[1;32m----> 9\u001b[1;33m         \u001b[0my_pred\u001b[0m \u001b[1;33m=\u001b[0m \u001b[0mmodel\u001b[0m\u001b[1;33m(\u001b[0m\u001b[0mX_batch\u001b[0m\u001b[1;33m)\u001b[0m\u001b[1;33m\u001b[0m\u001b[1;33m\u001b[0m\u001b[0m\n\u001b[0m\u001b[0;32m     10\u001b[0m \u001b[1;33m\u001b[0m\u001b[0m\n\u001b[0;32m     11\u001b[0m         \u001b[0mloss\u001b[0m \u001b[1;33m=\u001b[0m \u001b[0mcriterion\u001b[0m\u001b[1;33m(\u001b[0m\u001b[0my_pred\u001b[0m\u001b[1;33m,\u001b[0m \u001b[0my_batch\u001b[0m\u001b[1;33m.\u001b[0m\u001b[0munsqueeze\u001b[0m\u001b[1;33m(\u001b[0m\u001b[1;36m1\u001b[0m\u001b[1;33m)\u001b[0m\u001b[1;33m)\u001b[0m\u001b[1;33m\u001b[0m\u001b[1;33m\u001b[0m\u001b[0m\n",
      "\u001b[1;32m~\\anaconda3\\lib\\site-packages\\torch\\nn\\modules\\module.py\u001b[0m in \u001b[0;36m_call_impl\u001b[1;34m(self, *input, **kwargs)\u001b[0m\n\u001b[0;32m   1049\u001b[0m         if not (self._backward_hooks or self._forward_hooks or self._forward_pre_hooks or _global_backward_hooks\n\u001b[0;32m   1050\u001b[0m                 or _global_forward_hooks or _global_forward_pre_hooks):\n\u001b[1;32m-> 1051\u001b[1;33m             \u001b[1;32mreturn\u001b[0m \u001b[0mforward_call\u001b[0m\u001b[1;33m(\u001b[0m\u001b[1;33m*\u001b[0m\u001b[0minput\u001b[0m\u001b[1;33m,\u001b[0m \u001b[1;33m**\u001b[0m\u001b[0mkwargs\u001b[0m\u001b[1;33m)\u001b[0m\u001b[1;33m\u001b[0m\u001b[1;33m\u001b[0m\u001b[0m\n\u001b[0m\u001b[0;32m   1052\u001b[0m         \u001b[1;31m# Do not call functions when jit is used\u001b[0m\u001b[1;33m\u001b[0m\u001b[1;33m\u001b[0m\u001b[1;33m\u001b[0m\u001b[0m\n\u001b[0;32m   1053\u001b[0m         \u001b[0mfull_backward_hooks\u001b[0m\u001b[1;33m,\u001b[0m \u001b[0mnon_full_backward_hooks\u001b[0m \u001b[1;33m=\u001b[0m \u001b[1;33m[\u001b[0m\u001b[1;33m]\u001b[0m\u001b[1;33m,\u001b[0m \u001b[1;33m[\u001b[0m\u001b[1;33m]\u001b[0m\u001b[1;33m\u001b[0m\u001b[1;33m\u001b[0m\u001b[0m\n",
      "\u001b[1;32m<ipython-input-135-debaf4f6ea0d>\u001b[0m in \u001b[0;36mforward\u001b[1;34m(self, inputs)\u001b[0m\n\u001b[0;32m     13\u001b[0m \u001b[1;33m\u001b[0m\u001b[0m\n\u001b[0;32m     14\u001b[0m     \u001b[1;32mdef\u001b[0m \u001b[0mforward\u001b[0m\u001b[1;33m(\u001b[0m\u001b[0mself\u001b[0m\u001b[1;33m,\u001b[0m \u001b[0minputs\u001b[0m\u001b[1;33m)\u001b[0m\u001b[1;33m:\u001b[0m\u001b[1;33m\u001b[0m\u001b[1;33m\u001b[0m\u001b[0m\n\u001b[1;32m---> 15\u001b[1;33m         \u001b[0mx\u001b[0m \u001b[1;33m=\u001b[0m \u001b[0mself\u001b[0m\u001b[1;33m.\u001b[0m\u001b[0mrelu\u001b[0m\u001b[1;33m(\u001b[0m\u001b[0mself\u001b[0m\u001b[1;33m.\u001b[0m\u001b[0mlayer_1\u001b[0m\u001b[1;33m(\u001b[0m\u001b[0minputs\u001b[0m\u001b[1;33m)\u001b[0m\u001b[1;33m)\u001b[0m\u001b[1;33m\u001b[0m\u001b[1;33m\u001b[0m\u001b[0m\n\u001b[0m\u001b[0;32m     16\u001b[0m         \u001b[0mx\u001b[0m \u001b[1;33m=\u001b[0m \u001b[0mself\u001b[0m\u001b[1;33m.\u001b[0m\u001b[0mbatchnorm1\u001b[0m\u001b[1;33m(\u001b[0m\u001b[0mx\u001b[0m\u001b[1;33m)\u001b[0m\u001b[1;33m\u001b[0m\u001b[1;33m\u001b[0m\u001b[0m\n\u001b[0;32m     17\u001b[0m         \u001b[0mx\u001b[0m \u001b[1;33m=\u001b[0m \u001b[0mself\u001b[0m\u001b[1;33m.\u001b[0m\u001b[0mrelu\u001b[0m\u001b[1;33m(\u001b[0m\u001b[0mself\u001b[0m\u001b[1;33m.\u001b[0m\u001b[0mlayer_2\u001b[0m\u001b[1;33m(\u001b[0m\u001b[0mx\u001b[0m\u001b[1;33m)\u001b[0m\u001b[1;33m)\u001b[0m\u001b[1;33m\u001b[0m\u001b[1;33m\u001b[0m\u001b[0m\n",
      "\u001b[1;32m~\\anaconda3\\lib\\site-packages\\torch\\nn\\modules\\module.py\u001b[0m in \u001b[0;36m_call_impl\u001b[1;34m(self, *input, **kwargs)\u001b[0m\n\u001b[0;32m   1049\u001b[0m         if not (self._backward_hooks or self._forward_hooks or self._forward_pre_hooks or _global_backward_hooks\n\u001b[0;32m   1050\u001b[0m                 or _global_forward_hooks or _global_forward_pre_hooks):\n\u001b[1;32m-> 1051\u001b[1;33m             \u001b[1;32mreturn\u001b[0m \u001b[0mforward_call\u001b[0m\u001b[1;33m(\u001b[0m\u001b[1;33m*\u001b[0m\u001b[0minput\u001b[0m\u001b[1;33m,\u001b[0m \u001b[1;33m**\u001b[0m\u001b[0mkwargs\u001b[0m\u001b[1;33m)\u001b[0m\u001b[1;33m\u001b[0m\u001b[1;33m\u001b[0m\u001b[0m\n\u001b[0m\u001b[0;32m   1052\u001b[0m         \u001b[1;31m# Do not call functions when jit is used\u001b[0m\u001b[1;33m\u001b[0m\u001b[1;33m\u001b[0m\u001b[1;33m\u001b[0m\u001b[0m\n\u001b[0;32m   1053\u001b[0m         \u001b[0mfull_backward_hooks\u001b[0m\u001b[1;33m,\u001b[0m \u001b[0mnon_full_backward_hooks\u001b[0m \u001b[1;33m=\u001b[0m \u001b[1;33m[\u001b[0m\u001b[1;33m]\u001b[0m\u001b[1;33m,\u001b[0m \u001b[1;33m[\u001b[0m\u001b[1;33m]\u001b[0m\u001b[1;33m\u001b[0m\u001b[1;33m\u001b[0m\u001b[0m\n",
      "\u001b[1;32m~\\anaconda3\\lib\\site-packages\\torch\\nn\\modules\\linear.py\u001b[0m in \u001b[0;36mforward\u001b[1;34m(self, input)\u001b[0m\n\u001b[0;32m     94\u001b[0m \u001b[1;33m\u001b[0m\u001b[0m\n\u001b[0;32m     95\u001b[0m     \u001b[1;32mdef\u001b[0m \u001b[0mforward\u001b[0m\u001b[1;33m(\u001b[0m\u001b[0mself\u001b[0m\u001b[1;33m,\u001b[0m \u001b[0minput\u001b[0m\u001b[1;33m:\u001b[0m \u001b[0mTensor\u001b[0m\u001b[1;33m)\u001b[0m \u001b[1;33m->\u001b[0m \u001b[0mTensor\u001b[0m\u001b[1;33m:\u001b[0m\u001b[1;33m\u001b[0m\u001b[1;33m\u001b[0m\u001b[0m\n\u001b[1;32m---> 96\u001b[1;33m         \u001b[1;32mreturn\u001b[0m \u001b[0mF\u001b[0m\u001b[1;33m.\u001b[0m\u001b[0mlinear\u001b[0m\u001b[1;33m(\u001b[0m\u001b[0minput\u001b[0m\u001b[1;33m,\u001b[0m \u001b[0mself\u001b[0m\u001b[1;33m.\u001b[0m\u001b[0mweight\u001b[0m\u001b[1;33m,\u001b[0m \u001b[0mself\u001b[0m\u001b[1;33m.\u001b[0m\u001b[0mbias\u001b[0m\u001b[1;33m)\u001b[0m\u001b[1;33m\u001b[0m\u001b[1;33m\u001b[0m\u001b[0m\n\u001b[0m\u001b[0;32m     97\u001b[0m \u001b[1;33m\u001b[0m\u001b[0m\n\u001b[0;32m     98\u001b[0m     \u001b[1;32mdef\u001b[0m \u001b[0mextra_repr\u001b[0m\u001b[1;33m(\u001b[0m\u001b[0mself\u001b[0m\u001b[1;33m)\u001b[0m \u001b[1;33m->\u001b[0m \u001b[0mstr\u001b[0m\u001b[1;33m:\u001b[0m\u001b[1;33m\u001b[0m\u001b[1;33m\u001b[0m\u001b[0m\n",
      "\u001b[1;32m~\\anaconda3\\lib\\site-packages\\torch\\nn\\functional.py\u001b[0m in \u001b[0;36mlinear\u001b[1;34m(input, weight, bias)\u001b[0m\n\u001b[0;32m   1845\u001b[0m     \u001b[1;32mif\u001b[0m \u001b[0mhas_torch_function_variadic\u001b[0m\u001b[1;33m(\u001b[0m\u001b[0minput\u001b[0m\u001b[1;33m,\u001b[0m \u001b[0mweight\u001b[0m\u001b[1;33m)\u001b[0m\u001b[1;33m:\u001b[0m\u001b[1;33m\u001b[0m\u001b[1;33m\u001b[0m\u001b[0m\n\u001b[0;32m   1846\u001b[0m         \u001b[1;32mreturn\u001b[0m \u001b[0mhandle_torch_function\u001b[0m\u001b[1;33m(\u001b[0m\u001b[0mlinear\u001b[0m\u001b[1;33m,\u001b[0m \u001b[1;33m(\u001b[0m\u001b[0minput\u001b[0m\u001b[1;33m,\u001b[0m \u001b[0mweight\u001b[0m\u001b[1;33m)\u001b[0m\u001b[1;33m,\u001b[0m \u001b[0minput\u001b[0m\u001b[1;33m,\u001b[0m \u001b[0mweight\u001b[0m\u001b[1;33m,\u001b[0m \u001b[0mbias\u001b[0m\u001b[1;33m=\u001b[0m\u001b[0mbias\u001b[0m\u001b[1;33m)\u001b[0m\u001b[1;33m\u001b[0m\u001b[1;33m\u001b[0m\u001b[0m\n\u001b[1;32m-> 1847\u001b[1;33m     \u001b[1;32mreturn\u001b[0m \u001b[0mtorch\u001b[0m\u001b[1;33m.\u001b[0m\u001b[0m_C\u001b[0m\u001b[1;33m.\u001b[0m\u001b[0m_nn\u001b[0m\u001b[1;33m.\u001b[0m\u001b[0mlinear\u001b[0m\u001b[1;33m(\u001b[0m\u001b[0minput\u001b[0m\u001b[1;33m,\u001b[0m \u001b[0mweight\u001b[0m\u001b[1;33m,\u001b[0m \u001b[0mbias\u001b[0m\u001b[1;33m)\u001b[0m\u001b[1;33m\u001b[0m\u001b[1;33m\u001b[0m\u001b[0m\n\u001b[0m\u001b[0;32m   1848\u001b[0m \u001b[1;33m\u001b[0m\u001b[0m\n\u001b[0;32m   1849\u001b[0m \u001b[1;33m\u001b[0m\u001b[0m\n",
      "\u001b[1;31mRuntimeError\u001b[0m: Expected all tensors to be on the same device, but found at least two devices, cpu and cuda:0! (when checking arugment for argument mat1 in method wrapper_addmm)"
     ]
    }
   ],
   "source": [
    "model.train()\n",
    "for e in range(1, 100+1):\n",
    "    epoch_loss = 0\n",
    "    epoch_acc = 0\n",
    "    for X_batch, y_batch in train_loader:\n",
    "        X_batch, y_batch = X_batch.to(device), y_batch.to(device)\n",
    "        optimizer.zero_grad()\n",
    "        \n",
    "        y_pred = model(X_batch)\n",
    "        \n",
    "        loss = criterion(y_pred, y_batch.unsqueeze(1))\n",
    "        acc = binary_acc(y_pred, y_batch.unsqueeze(1))\n",
    "        \n",
    "        loss.backward()\n",
    "        optimizer.step()\n",
    "        \n",
    "        epoch_loss += loss.item()\n",
    "        epoch_acc += acc.item()"
   ]
  },
  {
   "cell_type": "code",
   "execution_count": 303,
   "id": "4b52fd53-fd9a-465c-92b8-431b25e008ac",
   "metadata": {},
   "outputs": [
    {
     "name": "stdout",
     "output_type": "stream",
     "text": [
      "cpu\n"
     ]
    }
   ],
   "source": [
    "device = torch.device(\"cpu\")\n",
    "print(device)"
   ]
  },
  {
   "cell_type": "code",
   "execution_count": 308,
   "id": "06aa349c-bf55-4579-b2be-2d4ad7d95f4c",
   "metadata": {
    "tags": []
   },
   "outputs": [
    {
     "name": "stdout",
     "output_type": "stream",
     "text": [
      "recall : 0.35526315789473684\n",
      "precision : 0.30337078651685395\n",
      "F1 : 0.3272727272727273\n",
      "acc : 0.647898493259318\n"
     ]
    },
    {
     "data": {
      "text/plain": [
       "<sklearn.metrics._plot.roc_curve.RocCurveDisplay at 0x22c5d909f10>"
      ]
     },
     "execution_count": 308,
     "metadata": {},
     "output_type": "execute_result"
    },
    {
     "data": {
      "image/png": "[encoded data removed]",
      "text/plain": [
       "<Figure size 432x288 with 2 Axes>"
      ]
     },
     "metadata": {
      "needs_background": "light"
     },
     "output_type": "display_data"
    },
    {
     "data": {
      "image/png": "[encoded data removed]",
      "text/plain": [
       "<Figure size 432x288 with 1 Axes>"
      ]
     },
     "metadata": {
      "needs_background": "light"
     },
     "output_type": "display_data"
    }
   ],
   "source": [
    "model = BTC_pro9()\n",
    "model_name = 'models/' + str(model).split('(')[0] + '_tvt_' + str(10) + '.pt'\n",
    "state_dict = torch.load(model_name)\n",
    "model.load_state_dict(state_dict)\n",
    "\n",
    "\n",
    "y_pred_list_rounded = []\n",
    "y_pred_list = []\n",
    "targets = []\n",
    "\n",
    "\n",
    "model.eval()\n",
    "with torch.no_grad():\n",
    "    for X_batch, y_batch in test_loader:\n",
    "        X_batch, y_batch = X_batch.to(device), y_batch.to(device)\n",
    "        targets.append(y_batch)\n",
    "\n",
    "        y_test_pred = model(X_batch)\n",
    "        y_test_pred = torch.sigmoid(y_test_pred)\n",
    "        y_pred_tag = torch.round(y_test_pred)\n",
    "        y_pred_list_rounded.append(y_pred_tag.cpu().numpy())\n",
    "        y_pred_list.append(y_test_pred.cpu().numpy())\n",
    "\n",
    "y_pred_list_rounded = [a.squeeze().tolist() for a in y_pred_list_rounded]\n",
    "y_pred_list = [a.squeeze().tolist() for a in y_pred_list]\n",
    "targets = [a.squeeze().tolist() for a in targets]\n",
    "\n",
    "\n",
    "y_pred_list_rounded = [j for sub in y_pred_list_rounded for j in sub]\n",
    "y_pred_list = [j for sub in y_pred_list for j in sub]\n",
    "targets = [j for sub in targets for j in sub]\n",
    "\n",
    "cm = confusion_matrix(targets, y_pred_list_rounded)\n",
    "disp = ConfusionMatrixDisplay(confusion_matrix=cm, display_labels=['0', '1'])\n",
    "disp.plot()\n",
    "TP, FP, TN, FN = cm[1,1], cm[0,1], cm[0,0], cm[1,0]\n",
    "P = TP/(TP+FP)\n",
    "R = TP/(TP+FN)\n",
    "F1 = 2*P*R/(P+R)\n",
    "print(f'recall : {R}')\n",
    "print(f'precision : {P}')\n",
    "print(f'F1 : {F1}')\n",
    "print(f'acc : {(TP + TN)/(TP + TN + FP + FN)}')\n",
    "RocCurveDisplay.from_predictions(targets, y_pred_list)"
   ]
  },
  {
   "cell_type": "markdown",
   "id": "b2199004-3809-4808-99f9-e736548ec91e",
   "metadata": {},
   "source": [
    "#### model pro10"
   ]
  },
  {
   "cell_type": "code",
   "execution_count": 309,
   "id": "62747a5e-8fdd-4c7c-b3c2-b78c9b1db4a2",
   "metadata": {},
   "outputs": [],
   "source": [
    "class BTC_pro10(nn.Module):\n",
    "    def __init__(self):\n",
    "        super(BTC_pro10, self).__init__()\n",
    "        # Number of input features is 12.\n",
    "        self.layer_1 = nn.Linear(15, 30) \n",
    "\n",
    "        self.layer_out = nn.Linear(30, 1) \n",
    "        \n",
    "        self.relu = nn.ReLU()\n",
    "        self.dropout = nn.Dropout(p=0.1)\n",
    "        self.batchnorm1 = nn.BatchNorm1d(30)\n",
    "        \n",
    "    def forward(self, inputs):\n",
    "        x = self.relu(self.layer_1(inputs))\n",
    "        x = self.batchnorm1(x)\n",
    "        x = self.dropout(x)\n",
    "        x = self.layer_out(x)\n",
    "        \n",
    "        return x"
   ]
  },
  {
   "cell_type": "code",
   "execution_count": 299,
   "id": "1363f93e-b159-457c-a991-fb53cdce4f31",
   "metadata": {},
   "outputs": [
    {
     "name": "stdout",
     "output_type": "stream",
     "text": [
      "cuda:0\n"
     ]
    }
   ],
   "source": [
    "device = torch.device(\"cuda:0\" if torch.cuda.is_available() else \"cpu\")\n",
    "print(device)"
   ]
  },
  {
   "cell_type": "code",
   "execution_count": 310,
   "id": "2221cea5-9480-4fcc-b97c-762a90f0b79b",
   "metadata": {},
   "outputs": [],
   "source": [
    "w = torch.tensor([0.6, 0.4]).to(device)"
   ]
  },
  {
   "cell_type": "code",
   "execution_count": 314,
   "id": "973f96f3-b225-4e26-b5f0-ef1fc56a5350",
   "metadata": {
    "tags": []
   },
   "outputs": [
    {
     "name": "stderr",
     "output_type": "stream",
     "text": [
      "C:\\Users\\bakhi\\anaconda3\\lib\\site-packages\\torchmetrics\\utilities\\prints.py:36: UserWarning: Metric `AUROC` will save all targets and predictions in buffer. For large datasets this may lead to large memory footprint.\n",
      "  warnings.warn(*args, **kwargs)\n",
      "C:\\Users\\bakhi\\anaconda3\\lib\\site-packages\\torchmetrics\\utilities\\prints.py:36: UserWarning: No positive samples in targets, true positive value should be meaningless. Returning zero tensor in true positive score\n",
      "  warnings.warn(*args, **kwargs)\n"
     ]
    }
   ],
   "source": [
    "model = BTC_pro10()\n",
    "model.to(device)\n",
    "\n",
    "epochs = 50\n",
    "\n",
    "cost = torch.nn.CrossEntropyLoss(weight = w)\n",
    "optimizer = torch.optim.Adam(model.parameters(), lr=0.0001)\n",
    "writer = SummaryWriter(log_dir = 'runs/' + str(model).split('(')[0])\n",
    "\n",
    "for t in range(epochs):\n",
    "    train(train_loader, model, cost, optimizer, t)\n",
    "    test(valid_loader, model, t)\n",
    "    torch.save(model.state_dict(), 'models/' + str(model).split('(')[0] + '_tvt_' + str(t) + '.pt')\n",
    "\n",
    "writer.close()\n",
    "torch.cuda.empty_cache()"
   ]
  },
  {
   "cell_type": "code",
   "execution_count": 156,
   "id": "81444fee-b995-4f8c-9e9c-2ae15e36d5d3",
   "metadata": {
    "collapsed": true,
    "jupyter": {
     "outputs_hidden": true,
     "source_hidden": true
    },
    "tags": []
   },
   "outputs": [
    {
     "ename": "RuntimeError",
     "evalue": "Expected all tensors to be on the same device, but found at least two devices, cpu and cuda:0! (when checking arugment for argument mat1 in method wrapper_addmm)",
     "output_type": "error",
     "traceback": [
      "\u001b[1;31m---------------------------------------------------------------------------\u001b[0m",
      "\u001b[1;31mRuntimeError\u001b[0m                              Traceback (most recent call last)",
      "\u001b[1;32m<ipython-input-156-107feabc33d2>\u001b[0m in \u001b[0;36m<module>\u001b[1;34m\u001b[0m\n\u001b[0;32m      7\u001b[0m         \u001b[0moptimizer\u001b[0m\u001b[1;33m.\u001b[0m\u001b[0mzero_grad\u001b[0m\u001b[1;33m(\u001b[0m\u001b[1;33m)\u001b[0m\u001b[1;33m\u001b[0m\u001b[1;33m\u001b[0m\u001b[0m\n\u001b[0;32m      8\u001b[0m \u001b[1;33m\u001b[0m\u001b[0m\n\u001b[1;32m----> 9\u001b[1;33m         \u001b[0my_pred\u001b[0m \u001b[1;33m=\u001b[0m \u001b[0mmodel\u001b[0m\u001b[1;33m(\u001b[0m\u001b[0mX_batch\u001b[0m\u001b[1;33m)\u001b[0m\u001b[1;33m\u001b[0m\u001b[1;33m\u001b[0m\u001b[0m\n\u001b[0m\u001b[0;32m     10\u001b[0m \u001b[1;33m\u001b[0m\u001b[0m\n\u001b[0;32m     11\u001b[0m         \u001b[0mloss\u001b[0m \u001b[1;33m=\u001b[0m \u001b[0mcriterion\u001b[0m\u001b[1;33m(\u001b[0m\u001b[0my_pred\u001b[0m\u001b[1;33m,\u001b[0m \u001b[0my_batch\u001b[0m\u001b[1;33m.\u001b[0m\u001b[0munsqueeze\u001b[0m\u001b[1;33m(\u001b[0m\u001b[1;36m1\u001b[0m\u001b[1;33m)\u001b[0m\u001b[1;33m)\u001b[0m\u001b[1;33m\u001b[0m\u001b[1;33m\u001b[0m\u001b[0m\n",
      "\u001b[1;32m~\\anaconda3\\lib\\site-packages\\torch\\nn\\modules\\module.py\u001b[0m in \u001b[0;36m_call_impl\u001b[1;34m(self, *input, **kwargs)\u001b[0m\n\u001b[0;32m   1049\u001b[0m         if not (self._backward_hooks or self._forward_hooks or self._forward_pre_hooks or _global_backward_hooks\n\u001b[0;32m   1050\u001b[0m                 or _global_forward_hooks or _global_forward_pre_hooks):\n\u001b[1;32m-> 1051\u001b[1;33m             \u001b[1;32mreturn\u001b[0m \u001b[0mforward_call\u001b[0m\u001b[1;33m(\u001b[0m\u001b[1;33m*\u001b[0m\u001b[0minput\u001b[0m\u001b[1;33m,\u001b[0m \u001b[1;33m**\u001b[0m\u001b[0mkwargs\u001b[0m\u001b[1;33m)\u001b[0m\u001b[1;33m\u001b[0m\u001b[1;33m\u001b[0m\u001b[0m\n\u001b[0m\u001b[0;32m   1052\u001b[0m         \u001b[1;31m# Do not call functions when jit is used\u001b[0m\u001b[1;33m\u001b[0m\u001b[1;33m\u001b[0m\u001b[1;33m\u001b[0m\u001b[0m\n\u001b[0;32m   1053\u001b[0m         \u001b[0mfull_backward_hooks\u001b[0m\u001b[1;33m,\u001b[0m \u001b[0mnon_full_backward_hooks\u001b[0m \u001b[1;33m=\u001b[0m \u001b[1;33m[\u001b[0m\u001b[1;33m]\u001b[0m\u001b[1;33m,\u001b[0m \u001b[1;33m[\u001b[0m\u001b[1;33m]\u001b[0m\u001b[1;33m\u001b[0m\u001b[1;33m\u001b[0m\u001b[0m\n",
      "\u001b[1;32m<ipython-input-135-debaf4f6ea0d>\u001b[0m in \u001b[0;36mforward\u001b[1;34m(self, inputs)\u001b[0m\n\u001b[0;32m     13\u001b[0m \u001b[1;33m\u001b[0m\u001b[0m\n\u001b[0;32m     14\u001b[0m     \u001b[1;32mdef\u001b[0m \u001b[0mforward\u001b[0m\u001b[1;33m(\u001b[0m\u001b[0mself\u001b[0m\u001b[1;33m,\u001b[0m \u001b[0minputs\u001b[0m\u001b[1;33m)\u001b[0m\u001b[1;33m:\u001b[0m\u001b[1;33m\u001b[0m\u001b[1;33m\u001b[0m\u001b[0m\n\u001b[1;32m---> 15\u001b[1;33m         \u001b[0mx\u001b[0m \u001b[1;33m=\u001b[0m \u001b[0mself\u001b[0m\u001b[1;33m.\u001b[0m\u001b[0mrelu\u001b[0m\u001b[1;33m(\u001b[0m\u001b[0mself\u001b[0m\u001b[1;33m.\u001b[0m\u001b[0mlayer_1\u001b[0m\u001b[1;33m(\u001b[0m\u001b[0minputs\u001b[0m\u001b[1;33m)\u001b[0m\u001b[1;33m)\u001b[0m\u001b[1;33m\u001b[0m\u001b[1;33m\u001b[0m\u001b[0m\n\u001b[0m\u001b[0;32m     16\u001b[0m         \u001b[0mx\u001b[0m \u001b[1;33m=\u001b[0m \u001b[0mself\u001b[0m\u001b[1;33m.\u001b[0m\u001b[0mbatchnorm1\u001b[0m\u001b[1;33m(\u001b[0m\u001b[0mx\u001b[0m\u001b[1;33m)\u001b[0m\u001b[1;33m\u001b[0m\u001b[1;33m\u001b[0m\u001b[0m\n\u001b[0;32m     17\u001b[0m         \u001b[0mx\u001b[0m \u001b[1;33m=\u001b[0m \u001b[0mself\u001b[0m\u001b[1;33m.\u001b[0m\u001b[0mrelu\u001b[0m\u001b[1;33m(\u001b[0m\u001b[0mself\u001b[0m\u001b[1;33m.\u001b[0m\u001b[0mlayer_2\u001b[0m\u001b[1;33m(\u001b[0m\u001b[0mx\u001b[0m\u001b[1;33m)\u001b[0m\u001b[1;33m)\u001b[0m\u001b[1;33m\u001b[0m\u001b[1;33m\u001b[0m\u001b[0m\n",
      "\u001b[1;32m~\\anaconda3\\lib\\site-packages\\torch\\nn\\modules\\module.py\u001b[0m in \u001b[0;36m_call_impl\u001b[1;34m(self, *input, **kwargs)\u001b[0m\n\u001b[0;32m   1049\u001b[0m         if not (self._backward_hooks or self._forward_hooks or self._forward_pre_hooks or _global_backward_hooks\n\u001b[0;32m   1050\u001b[0m                 or _global_forward_hooks or _global_forward_pre_hooks):\n\u001b[1;32m-> 1051\u001b[1;33m             \u001b[1;32mreturn\u001b[0m \u001b[0mforward_call\u001b[0m\u001b[1;33m(\u001b[0m\u001b[1;33m*\u001b[0m\u001b[0minput\u001b[0m\u001b[1;33m,\u001b[0m \u001b[1;33m**\u001b[0m\u001b[0mkwargs\u001b[0m\u001b[1;33m)\u001b[0m\u001b[1;33m\u001b[0m\u001b[1;33m\u001b[0m\u001b[0m\n\u001b[0m\u001b[0;32m   1052\u001b[0m         \u001b[1;31m# Do not call functions when jit is used\u001b[0m\u001b[1;33m\u001b[0m\u001b[1;33m\u001b[0m\u001b[1;33m\u001b[0m\u001b[0m\n\u001b[0;32m   1053\u001b[0m         \u001b[0mfull_backward_hooks\u001b[0m\u001b[1;33m,\u001b[0m \u001b[0mnon_full_backward_hooks\u001b[0m \u001b[1;33m=\u001b[0m \u001b[1;33m[\u001b[0m\u001b[1;33m]\u001b[0m\u001b[1;33m,\u001b[0m \u001b[1;33m[\u001b[0m\u001b[1;33m]\u001b[0m\u001b[1;33m\u001b[0m\u001b[1;33m\u001b[0m\u001b[0m\n",
      "\u001b[1;32m~\\anaconda3\\lib\\site-packages\\torch\\nn\\modules\\linear.py\u001b[0m in \u001b[0;36mforward\u001b[1;34m(self, input)\u001b[0m\n\u001b[0;32m     94\u001b[0m \u001b[1;33m\u001b[0m\u001b[0m\n\u001b[0;32m     95\u001b[0m     \u001b[1;32mdef\u001b[0m \u001b[0mforward\u001b[0m\u001b[1;33m(\u001b[0m\u001b[0mself\u001b[0m\u001b[1;33m,\u001b[0m \u001b[0minput\u001b[0m\u001b[1;33m:\u001b[0m \u001b[0mTensor\u001b[0m\u001b[1;33m)\u001b[0m \u001b[1;33m->\u001b[0m \u001b[0mTensor\u001b[0m\u001b[1;33m:\u001b[0m\u001b[1;33m\u001b[0m\u001b[1;33m\u001b[0m\u001b[0m\n\u001b[1;32m---> 96\u001b[1;33m         \u001b[1;32mreturn\u001b[0m \u001b[0mF\u001b[0m\u001b[1;33m.\u001b[0m\u001b[0mlinear\u001b[0m\u001b[1;33m(\u001b[0m\u001b[0minput\u001b[0m\u001b[1;33m,\u001b[0m \u001b[0mself\u001b[0m\u001b[1;33m.\u001b[0m\u001b[0mweight\u001b[0m\u001b[1;33m,\u001b[0m \u001b[0mself\u001b[0m\u001b[1;33m.\u001b[0m\u001b[0mbias\u001b[0m\u001b[1;33m)\u001b[0m\u001b[1;33m\u001b[0m\u001b[1;33m\u001b[0m\u001b[0m\n\u001b[0m\u001b[0;32m     97\u001b[0m \u001b[1;33m\u001b[0m\u001b[0m\n\u001b[0;32m     98\u001b[0m     \u001b[1;32mdef\u001b[0m \u001b[0mextra_repr\u001b[0m\u001b[1;33m(\u001b[0m\u001b[0mself\u001b[0m\u001b[1;33m)\u001b[0m \u001b[1;33m->\u001b[0m \u001b[0mstr\u001b[0m\u001b[1;33m:\u001b[0m\u001b[1;33m\u001b[0m\u001b[1;33m\u001b[0m\u001b[0m\n",
      "\u001b[1;32m~\\anaconda3\\lib\\site-packages\\torch\\nn\\functional.py\u001b[0m in \u001b[0;36mlinear\u001b[1;34m(input, weight, bias)\u001b[0m\n\u001b[0;32m   1845\u001b[0m     \u001b[1;32mif\u001b[0m \u001b[0mhas_torch_function_variadic\u001b[0m\u001b[1;33m(\u001b[0m\u001b[0minput\u001b[0m\u001b[1;33m,\u001b[0m \u001b[0mweight\u001b[0m\u001b[1;33m)\u001b[0m\u001b[1;33m:\u001b[0m\u001b[1;33m\u001b[0m\u001b[1;33m\u001b[0m\u001b[0m\n\u001b[0;32m   1846\u001b[0m         \u001b[1;32mreturn\u001b[0m \u001b[0mhandle_torch_function\u001b[0m\u001b[1;33m(\u001b[0m\u001b[0mlinear\u001b[0m\u001b[1;33m,\u001b[0m \u001b[1;33m(\u001b[0m\u001b[0minput\u001b[0m\u001b[1;33m,\u001b[0m \u001b[0mweight\u001b[0m\u001b[1;33m)\u001b[0m\u001b[1;33m,\u001b[0m \u001b[0minput\u001b[0m\u001b[1;33m,\u001b[0m \u001b[0mweight\u001b[0m\u001b[1;33m,\u001b[0m \u001b[0mbias\u001b[0m\u001b[1;33m=\u001b[0m\u001b[0mbias\u001b[0m\u001b[1;33m)\u001b[0m\u001b[1;33m\u001b[0m\u001b[1;33m\u001b[0m\u001b[0m\n\u001b[1;32m-> 1847\u001b[1;33m     \u001b[1;32mreturn\u001b[0m \u001b[0mtorch\u001b[0m\u001b[1;33m.\u001b[0m\u001b[0m_C\u001b[0m\u001b[1;33m.\u001b[0m\u001b[0m_nn\u001b[0m\u001b[1;33m.\u001b[0m\u001b[0mlinear\u001b[0m\u001b[1;33m(\u001b[0m\u001b[0minput\u001b[0m\u001b[1;33m,\u001b[0m \u001b[0mweight\u001b[0m\u001b[1;33m,\u001b[0m \u001b[0mbias\u001b[0m\u001b[1;33m)\u001b[0m\u001b[1;33m\u001b[0m\u001b[1;33m\u001b[0m\u001b[0m\n\u001b[0m\u001b[0;32m   1848\u001b[0m \u001b[1;33m\u001b[0m\u001b[0m\n\u001b[0;32m   1849\u001b[0m \u001b[1;33m\u001b[0m\u001b[0m\n",
      "\u001b[1;31mRuntimeError\u001b[0m: Expected all tensors to be on the same device, but found at least two devices, cpu and cuda:0! (when checking arugment for argument mat1 in method wrapper_addmm)"
     ]
    }
   ],
   "source": [
    "model.train()\n",
    "for e in range(1, 100+1):\n",
    "    epoch_loss = 0\n",
    "    epoch_acc = 0\n",
    "    for X_batch, y_batch in train_loader:\n",
    "        X_batch, y_batch = X_batch.to(device), y_batch.to(device)\n",
    "        optimizer.zero_grad()\n",
    "        \n",
    "        y_pred = model(X_batch)\n",
    "        \n",
    "        loss = criterion(y_pred, y_batch.unsqueeze(1))\n",
    "        acc = binary_acc(y_pred, y_batch.unsqueeze(1))\n",
    "        \n",
    "        loss.backward()\n",
    "        optimizer.step()\n",
    "        \n",
    "        epoch_loss += loss.item()\n",
    "        epoch_acc += acc.item()"
   ]
  },
  {
   "cell_type": "code",
   "execution_count": 315,
   "id": "ca90a6d2-0591-40f2-97d2-b6331b69ecab",
   "metadata": {},
   "outputs": [
    {
     "name": "stdout",
     "output_type": "stream",
     "text": [
      "cpu\n"
     ]
    }
   ],
   "source": [
    "device = torch.device(\"cpu\")\n",
    "print(device)"
   ]
  },
  {
   "cell_type": "code",
   "execution_count": 320,
   "id": "3d0d5c50-a1bc-416d-a436-8051e6da5e5d",
   "metadata": {
    "tags": []
   },
   "outputs": [
    {
     "name": "stdout",
     "output_type": "stream",
     "text": [
      "recall : 0.21710526315789475\n",
      "precision : 0.3473684210526316\n",
      "F1 : 0.26720647773279355\n",
      "acc : 0.7129262490087233\n"
     ]
    },
    {
     "data": {
      "text/plain": [
       "<sklearn.metrics._plot.roc_curve.RocCurveDisplay at 0x22c5c84c280>"
      ]
     },
     "execution_count": 320,
     "metadata": {},
     "output_type": "execute_result"
    },
    {
     "data": {
      "image/png": "[encoded data removed]",
      "text/plain": [
       "<Figure size 432x288 with 2 Axes>"
      ]
     },
     "metadata": {
      "needs_background": "light"
     },
     "output_type": "display_data"
    },
    {
     "data": {
      "image/png": "[encoded data removed]",
      "text/plain": [
       "<Figure size 432x288 with 1 Axes>"
      ]
     },
     "metadata": {
      "needs_background": "light"
     },
     "output_type": "display_data"
    }
   ],
   "source": [
    "model = BTC_pro10()\n",
    "model_name = 'models/' + str(model).split('(')[0] + '_tvt_' + str(20) + '.pt'\n",
    "state_dict = torch.load(model_name)\n",
    "model.load_state_dict(state_dict)\n",
    "\n",
    "\n",
    "y_pred_list_rounded = []\n",
    "y_pred_list = []\n",
    "targets = []\n",
    "\n",
    "\n",
    "model.eval()\n",
    "with torch.no_grad():\n",
    "    for X_batch, y_batch in test_loader:\n",
    "        X_batch, y_batch = X_batch.to(device), y_batch.to(device)\n",
    "        targets.append(y_batch)\n",
    "\n",
    "        y_test_pred = model(X_batch)\n",
    "        y_test_pred = torch.sigmoid(y_test_pred)\n",
    "        y_pred_tag = torch.round(y_test_pred)\n",
    "        y_pred_list_rounded.append(y_pred_tag.cpu().numpy())\n",
    "        y_pred_list.append(y_test_pred.cpu().numpy())\n",
    "\n",
    "y_pred_list_rounded = [a.squeeze().tolist() for a in y_pred_list_rounded]\n",
    "y_pred_list = [a.squeeze().tolist() for a in y_pred_list]\n",
    "targets = [a.squeeze().tolist() for a in targets]\n",
    "\n",
    "\n",
    "y_pred_list_rounded = [j for sub in y_pred_list_rounded for j in sub]\n",
    "y_pred_list = [j for sub in y_pred_list for j in sub]\n",
    "targets = [j for sub in targets for j in sub]\n",
    "\n",
    "cm = confusion_matrix(targets, y_pred_list_rounded)\n",
    "disp = ConfusionMatrixDisplay(confusion_matrix=cm, display_labels=['0', '1'])\n",
    "disp.plot()\n",
    "TP, FP, TN, FN = cm[1,1], cm[0,1], cm[0,0], cm[1,0]\n",
    "P = TP/(TP+FP)\n",
    "R = TP/(TP+FN)\n",
    "F1 = 2*P*R/(P+R)\n",
    "print(f'recall : {R}')\n",
    "print(f'precision : {P}')\n",
    "print(f'F1 : {F1}')\n",
    "print(f'acc : {(TP + TN)/(TP + TN + FP + FN)}')\n",
    "RocCurveDisplay.from_predictions(targets, y_pred_list)"
   ]
  },
  {
   "cell_type": "markdown",
   "id": "f8b3240b-206b-44bf-84fb-82bc645ba2ab",
   "metadata": {},
   "source": [
    "#### model pro11"
   ]
  },
  {
   "cell_type": "code",
   "execution_count": 321,
   "id": "78f40b70-16d2-431f-8a61-17775948016e",
   "metadata": {},
   "outputs": [],
   "source": [
    "class BTC_pro11(nn.Module):\n",
    "    def __init__(self):\n",
    "        super(BTC_pro11, self).__init__()\n",
    "        # Number of input features is 12.\n",
    "        self.layer_1 = nn.Linear(15, 30) \n",
    "        self.layer_2 = nn.Linear(30, 30)\n",
    "        self.layer_out = nn.Linear(30, 1) \n",
    "        \n",
    "        self.relu = nn.ReLU()\n",
    "        self.dropout = nn.Dropout(p=0.1)\n",
    "        self.batchnorm1 = nn.BatchNorm1d(30)\n",
    "        self.batchnorm2 = nn.BatchNorm1d(30)\n",
    "        \n",
    "    def forward(self, inputs):\n",
    "        x = self.relu(self.layer_1(inputs))\n",
    "        x = self.batchnorm1(x)\n",
    "        x = self.relu(self.layer_2(x))\n",
    "        x = self.batchnorm2(x)\n",
    "        x = self.dropout(x)\n",
    "        x = self.layer_out(x)\n",
    "        \n",
    "        return x"
   ]
  },
  {
   "cell_type": "code",
   "execution_count": 322,
   "id": "5e908596-2f77-4d3f-a53e-508f254aa40b",
   "metadata": {},
   "outputs": [
    {
     "name": "stdout",
     "output_type": "stream",
     "text": [
      "cuda:0\n"
     ]
    }
   ],
   "source": [
    "device = torch.device(\"cuda:0\" if torch.cuda.is_available() else \"cpu\")\n",
    "print(device)"
   ]
  },
  {
   "cell_type": "code",
   "execution_count": 323,
   "id": "3b70a613-435c-4b49-a3f3-0fdbb4eacb74",
   "metadata": {},
   "outputs": [],
   "source": [
    "w = torch.tensor([0.5, 0.5]).to(device)"
   ]
  },
  {
   "cell_type": "code",
   "execution_count": 324,
   "id": "b9c5464a-1895-4b4c-8ee7-6e5c76b30747",
   "metadata": {
    "tags": []
   },
   "outputs": [
    {
     "name": "stderr",
     "output_type": "stream",
     "text": [
      "C:\\Users\\bakhi\\anaconda3\\lib\\site-packages\\torchmetrics\\utilities\\prints.py:36: UserWarning: Metric `AUROC` will save all targets and predictions in buffer. For large datasets this may lead to large memory footprint.\n",
      "  warnings.warn(*args, **kwargs)\n"
     ]
    }
   ],
   "source": [
    "model = BTC_pro11()\n",
    "model.to(device)\n",
    "\n",
    "epochs = 50\n",
    "\n",
    "cost = torch.nn.CrossEntropyLoss(weight = w)\n",
    "optimizer = torch.optim.Adam(model.parameters(), lr=0.0001)\n",
    "writer = SummaryWriter(log_dir = 'runs/' + str(model).split('(')[0])\n",
    "\n",
    "for t in range(epochs):\n",
    "    train(train_loader, model, cost, optimizer, t)\n",
    "    test(valid_loader, model, t)\n",
    "    torch.save(model.state_dict(), 'models/' + str(model).split('(')[0] + '_tvt_' + str(t) + '.pt')\n",
    "\n",
    "writer.close()\n",
    "torch.cuda.empty_cache()"
   ]
  },
  {
   "cell_type": "code",
   "execution_count": 156,
   "id": "8e6d2c7a-2555-4c3a-8d09-4197a1732501",
   "metadata": {
    "collapsed": true,
    "jupyter": {
     "outputs_hidden": true,
     "source_hidden": true
    },
    "tags": []
   },
   "outputs": [
    {
     "ename": "RuntimeError",
     "evalue": "Expected all tensors to be on the same device, but found at least two devices, cpu and cuda:0! (when checking arugment for argument mat1 in method wrapper_addmm)",
     "output_type": "error",
     "traceback": [
      "\u001b[1;31m---------------------------------------------------------------------------\u001b[0m",
      "\u001b[1;31mRuntimeError\u001b[0m                              Traceback (most recent call last)",
      "\u001b[1;32m<ipython-input-156-107feabc33d2>\u001b[0m in \u001b[0;36m<module>\u001b[1;34m\u001b[0m\n\u001b[0;32m      7\u001b[0m         \u001b[0moptimizer\u001b[0m\u001b[1;33m.\u001b[0m\u001b[0mzero_grad\u001b[0m\u001b[1;33m(\u001b[0m\u001b[1;33m)\u001b[0m\u001b[1;33m\u001b[0m\u001b[1;33m\u001b[0m\u001b[0m\n\u001b[0;32m      8\u001b[0m \u001b[1;33m\u001b[0m\u001b[0m\n\u001b[1;32m----> 9\u001b[1;33m         \u001b[0my_pred\u001b[0m \u001b[1;33m=\u001b[0m \u001b[0mmodel\u001b[0m\u001b[1;33m(\u001b[0m\u001b[0mX_batch\u001b[0m\u001b[1;33m)\u001b[0m\u001b[1;33m\u001b[0m\u001b[1;33m\u001b[0m\u001b[0m\n\u001b[0m\u001b[0;32m     10\u001b[0m \u001b[1;33m\u001b[0m\u001b[0m\n\u001b[0;32m     11\u001b[0m         \u001b[0mloss\u001b[0m \u001b[1;33m=\u001b[0m \u001b[0mcriterion\u001b[0m\u001b[1;33m(\u001b[0m\u001b[0my_pred\u001b[0m\u001b[1;33m,\u001b[0m \u001b[0my_batch\u001b[0m\u001b[1;33m.\u001b[0m\u001b[0munsqueeze\u001b[0m\u001b[1;33m(\u001b[0m\u001b[1;36m1\u001b[0m\u001b[1;33m)\u001b[0m\u001b[1;33m)\u001b[0m\u001b[1;33m\u001b[0m\u001b[1;33m\u001b[0m\u001b[0m\n",
      "\u001b[1;32m~\\anaconda3\\lib\\site-packages\\torch\\nn\\modules\\module.py\u001b[0m in \u001b[0;36m_call_impl\u001b[1;34m(self, *input, **kwargs)\u001b[0m\n\u001b[0;32m   1049\u001b[0m         if not (self._backward_hooks or self._forward_hooks or self._forward_pre_hooks or _global_backward_hooks\n\u001b[0;32m   1050\u001b[0m                 or _global_forward_hooks or _global_forward_pre_hooks):\n\u001b[1;32m-> 1051\u001b[1;33m             \u001b[1;32mreturn\u001b[0m \u001b[0mforward_call\u001b[0m\u001b[1;33m(\u001b[0m\u001b[1;33m*\u001b[0m\u001b[0minput\u001b[0m\u001b[1;33m,\u001b[0m \u001b[1;33m**\u001b[0m\u001b[0mkwargs\u001b[0m\u001b[1;33m)\u001b[0m\u001b[1;33m\u001b[0m\u001b[1;33m\u001b[0m\u001b[0m\n\u001b[0m\u001b[0;32m   1052\u001b[0m         \u001b[1;31m# Do not call functions when jit is used\u001b[0m\u001b[1;33m\u001b[0m\u001b[1;33m\u001b[0m\u001b[1;33m\u001b[0m\u001b[0m\n\u001b[0;32m   1053\u001b[0m         \u001b[0mfull_backward_hooks\u001b[0m\u001b[1;33m,\u001b[0m \u001b[0mnon_full_backward_hooks\u001b[0m \u001b[1;33m=\u001b[0m \u001b[1;33m[\u001b[0m\u001b[1;33m]\u001b[0m\u001b[1;33m,\u001b[0m \u001b[1;33m[\u001b[0m\u001b[1;33m]\u001b[0m\u001b[1;33m\u001b[0m\u001b[1;33m\u001b[0m\u001b[0m\n",
      "\u001b[1;32m<ipython-input-135-debaf4f6ea0d>\u001b[0m in \u001b[0;36mforward\u001b[1;34m(self, inputs)\u001b[0m\n\u001b[0;32m     13\u001b[0m \u001b[1;33m\u001b[0m\u001b[0m\n\u001b[0;32m     14\u001b[0m     \u001b[1;32mdef\u001b[0m \u001b[0mforward\u001b[0m\u001b[1;33m(\u001b[0m\u001b[0mself\u001b[0m\u001b[1;33m,\u001b[0m \u001b[0minputs\u001b[0m\u001b[1;33m)\u001b[0m\u001b[1;33m:\u001b[0m\u001b[1;33m\u001b[0m\u001b[1;33m\u001b[0m\u001b[0m\n\u001b[1;32m---> 15\u001b[1;33m         \u001b[0mx\u001b[0m \u001b[1;33m=\u001b[0m \u001b[0mself\u001b[0m\u001b[1;33m.\u001b[0m\u001b[0mrelu\u001b[0m\u001b[1;33m(\u001b[0m\u001b[0mself\u001b[0m\u001b[1;33m.\u001b[0m\u001b[0mlayer_1\u001b[0m\u001b[1;33m(\u001b[0m\u001b[0minputs\u001b[0m\u001b[1;33m)\u001b[0m\u001b[1;33m)\u001b[0m\u001b[1;33m\u001b[0m\u001b[1;33m\u001b[0m\u001b[0m\n\u001b[0m\u001b[0;32m     16\u001b[0m         \u001b[0mx\u001b[0m \u001b[1;33m=\u001b[0m \u001b[0mself\u001b[0m\u001b[1;33m.\u001b[0m\u001b[0mbatchnorm1\u001b[0m\u001b[1;33m(\u001b[0m\u001b[0mx\u001b[0m\u001b[1;33m)\u001b[0m\u001b[1;33m\u001b[0m\u001b[1;33m\u001b[0m\u001b[0m\n\u001b[0;32m     17\u001b[0m         \u001b[0mx\u001b[0m \u001b[1;33m=\u001b[0m \u001b[0mself\u001b[0m\u001b[1;33m.\u001b[0m\u001b[0mrelu\u001b[0m\u001b[1;33m(\u001b[0m\u001b[0mself\u001b[0m\u001b[1;33m.\u001b[0m\u001b[0mlayer_2\u001b[0m\u001b[1;33m(\u001b[0m\u001b[0mx\u001b[0m\u001b[1;33m)\u001b[0m\u001b[1;33m)\u001b[0m\u001b[1;33m\u001b[0m\u001b[1;33m\u001b[0m\u001b[0m\n",
      "\u001b[1;32m~\\anaconda3\\lib\\site-packages\\torch\\nn\\modules\\module.py\u001b[0m in \u001b[0;36m_call_impl\u001b[1;34m(self, *input, **kwargs)\u001b[0m\n\u001b[0;32m   1049\u001b[0m         if not (self._backward_hooks or self._forward_hooks or self._forward_pre_hooks or _global_backward_hooks\n\u001b[0;32m   1050\u001b[0m                 or _global_forward_hooks or _global_forward_pre_hooks):\n\u001b[1;32m-> 1051\u001b[1;33m             \u001b[1;32mreturn\u001b[0m \u001b[0mforward_call\u001b[0m\u001b[1;33m(\u001b[0m\u001b[1;33m*\u001b[0m\u001b[0minput\u001b[0m\u001b[1;33m,\u001b[0m \u001b[1;33m**\u001b[0m\u001b[0mkwargs\u001b[0m\u001b[1;33m)\u001b[0m\u001b[1;33m\u001b[0m\u001b[1;33m\u001b[0m\u001b[0m\n\u001b[0m\u001b[0;32m   1052\u001b[0m         \u001b[1;31m# Do not call functions when jit is used\u001b[0m\u001b[1;33m\u001b[0m\u001b[1;33m\u001b[0m\u001b[1;33m\u001b[0m\u001b[0m\n\u001b[0;32m   1053\u001b[0m         \u001b[0mfull_backward_hooks\u001b[0m\u001b[1;33m,\u001b[0m \u001b[0mnon_full_backward_hooks\u001b[0m \u001b[1;33m=\u001b[0m \u001b[1;33m[\u001b[0m\u001b[1;33m]\u001b[0m\u001b[1;33m,\u001b[0m \u001b[1;33m[\u001b[0m\u001b[1;33m]\u001b[0m\u001b[1;33m\u001b[0m\u001b[1;33m\u001b[0m\u001b[0m\n",
      "\u001b[1;32m~\\anaconda3\\lib\\site-packages\\torch\\nn\\modules\\linear.py\u001b[0m in \u001b[0;36mforward\u001b[1;34m(self, input)\u001b[0m\n\u001b[0;32m     94\u001b[0m \u001b[1;33m\u001b[0m\u001b[0m\n\u001b[0;32m     95\u001b[0m     \u001b[1;32mdef\u001b[0m \u001b[0mforward\u001b[0m\u001b[1;33m(\u001b[0m\u001b[0mself\u001b[0m\u001b[1;33m,\u001b[0m \u001b[0minput\u001b[0m\u001b[1;33m:\u001b[0m \u001b[0mTensor\u001b[0m\u001b[1;33m)\u001b[0m \u001b[1;33m->\u001b[0m \u001b[0mTensor\u001b[0m\u001b[1;33m:\u001b[0m\u001b[1;33m\u001b[0m\u001b[1;33m\u001b[0m\u001b[0m\n\u001b[1;32m---> 96\u001b[1;33m         \u001b[1;32mreturn\u001b[0m \u001b[0mF\u001b[0m\u001b[1;33m.\u001b[0m\u001b[0mlinear\u001b[0m\u001b[1;33m(\u001b[0m\u001b[0minput\u001b[0m\u001b[1;33m,\u001b[0m \u001b[0mself\u001b[0m\u001b[1;33m.\u001b[0m\u001b[0mweight\u001b[0m\u001b[1;33m,\u001b[0m \u001b[0mself\u001b[0m\u001b[1;33m.\u001b[0m\u001b[0mbias\u001b[0m\u001b[1;33m)\u001b[0m\u001b[1;33m\u001b[0m\u001b[1;33m\u001b[0m\u001b[0m\n\u001b[0m\u001b[0;32m     97\u001b[0m \u001b[1;33m\u001b[0m\u001b[0m\n\u001b[0;32m     98\u001b[0m     \u001b[1;32mdef\u001b[0m \u001b[0mextra_repr\u001b[0m\u001b[1;33m(\u001b[0m\u001b[0mself\u001b[0m\u001b[1;33m)\u001b[0m \u001b[1;33m->\u001b[0m \u001b[0mstr\u001b[0m\u001b[1;33m:\u001b[0m\u001b[1;33m\u001b[0m\u001b[1;33m\u001b[0m\u001b[0m\n",
      "\u001b[1;32m~\\anaconda3\\lib\\site-packages\\torch\\nn\\functional.py\u001b[0m in \u001b[0;36mlinear\u001b[1;34m(input, weight, bias)\u001b[0m\n\u001b[0;32m   1845\u001b[0m     \u001b[1;32mif\u001b[0m \u001b[0mhas_torch_function_variadic\u001b[0m\u001b[1;33m(\u001b[0m\u001b[0minput\u001b[0m\u001b[1;33m,\u001b[0m \u001b[0mweight\u001b[0m\u001b[1;33m)\u001b[0m\u001b[1;33m:\u001b[0m\u001b[1;33m\u001b[0m\u001b[1;33m\u001b[0m\u001b[0m\n\u001b[0;32m   1846\u001b[0m         \u001b[1;32mreturn\u001b[0m \u001b[0mhandle_torch_function\u001b[0m\u001b[1;33m(\u001b[0m\u001b[0mlinear\u001b[0m\u001b[1;33m,\u001b[0m \u001b[1;33m(\u001b[0m\u001b[0minput\u001b[0m\u001b[1;33m,\u001b[0m \u001b[0mweight\u001b[0m\u001b[1;33m)\u001b[0m\u001b[1;33m,\u001b[0m \u001b[0minput\u001b[0m\u001b[1;33m,\u001b[0m \u001b[0mweight\u001b[0m\u001b[1;33m,\u001b[0m \u001b[0mbias\u001b[0m\u001b[1;33m=\u001b[0m\u001b[0mbias\u001b[0m\u001b[1;33m)\u001b[0m\u001b[1;33m\u001b[0m\u001b[1;33m\u001b[0m\u001b[0m\n\u001b[1;32m-> 1847\u001b[1;33m     \u001b[1;32mreturn\u001b[0m \u001b[0mtorch\u001b[0m\u001b[1;33m.\u001b[0m\u001b[0m_C\u001b[0m\u001b[1;33m.\u001b[0m\u001b[0m_nn\u001b[0m\u001b[1;33m.\u001b[0m\u001b[0mlinear\u001b[0m\u001b[1;33m(\u001b[0m\u001b[0minput\u001b[0m\u001b[1;33m,\u001b[0m \u001b[0mweight\u001b[0m\u001b[1;33m,\u001b[0m \u001b[0mbias\u001b[0m\u001b[1;33m)\u001b[0m\u001b[1;33m\u001b[0m\u001b[1;33m\u001b[0m\u001b[0m\n\u001b[0m\u001b[0;32m   1848\u001b[0m \u001b[1;33m\u001b[0m\u001b[0m\n\u001b[0;32m   1849\u001b[0m \u001b[1;33m\u001b[0m\u001b[0m\n",
      "\u001b[1;31mRuntimeError\u001b[0m: Expected all tensors to be on the same device, but found at least two devices, cpu and cuda:0! (when checking arugment for argument mat1 in method wrapper_addmm)"
     ]
    }
   ],
   "source": [
    "model.train()\n",
    "for e in range(1, 100+1):\n",
    "    epoch_loss = 0\n",
    "    epoch_acc = 0\n",
    "    for X_batch, y_batch in train_loader:\n",
    "        X_batch, y_batch = X_batch.to(device), y_batch.to(device)\n",
    "        optimizer.zero_grad()\n",
    "        \n",
    "        y_pred = model(X_batch)\n",
    "        \n",
    "        loss = criterion(y_pred, y_batch.unsqueeze(1))\n",
    "        acc = binary_acc(y_pred, y_batch.unsqueeze(1))\n",
    "        \n",
    "        loss.backward()\n",
    "        optimizer.step()\n",
    "        \n",
    "        epoch_loss += loss.item()\n",
    "        epoch_acc += acc.item()"
   ]
  },
  {
   "cell_type": "code",
   "execution_count": 325,
   "id": "f62befb0-d6b5-4adb-89c0-c7b586649ad1",
   "metadata": {},
   "outputs": [
    {
     "name": "stdout",
     "output_type": "stream",
     "text": [
      "cpu\n"
     ]
    }
   ],
   "source": [
    "device = torch.device(\"cpu\")\n",
    "print(device)"
   ]
  },
  {
   "cell_type": "code",
   "execution_count": 326,
   "id": "690b4cbf-e667-4372-ab55-91a5fd47e5bf",
   "metadata": {
    "tags": []
   },
   "outputs": [
    {
     "name": "stdout",
     "output_type": "stream",
     "text": [
      "recall : 0.3355263157894737\n",
      "precision : 0.31974921630094044\n",
      "F1 : 0.32744783306581055\n",
      "acc : 0.6677240285487708\n"
     ]
    },
    {
     "data": {
      "text/plain": [
       "<sklearn.metrics._plot.roc_curve.RocCurveDisplay at 0x22c4863b340>"
      ]
     },
     "execution_count": 326,
     "metadata": {},
     "output_type": "execute_result"
    },
    {
     "data": {
      "image/png": "[encoded data removed]",
      "text/plain": [
       "<Figure size 432x288 with 2 Axes>"
      ]
     },
     "metadata": {
      "needs_background": "light"
     },
     "output_type": "display_data"
    },
    {
     "data": {
      "image/png": "[encoded data removed]",
      "text/plain": [
       "<Figure size 432x288 with 1 Axes>"
      ]
     },
     "metadata": {
      "needs_background": "light"
     },
     "output_type": "display_data"
    }
   ],
   "source": [
    "model = BTC_pro11()\n",
    "model_name = 'models/' + str(model).split('(')[0] + '_tvt_' + str(20) + '.pt'\n",
    "state_dict = torch.load(model_name)\n",
    "model.load_state_dict(state_dict)\n",
    "\n",
    "\n",
    "y_pred_list_rounded = []\n",
    "y_pred_list = []\n",
    "targets = []\n",
    "\n",
    "\n",
    "model.eval()\n",
    "with torch.no_grad():\n",
    "    for X_batch, y_batch in test_loader:\n",
    "        X_batch, y_batch = X_batch.to(device), y_batch.to(device)\n",
    "        targets.append(y_batch)\n",
    "\n",
    "        y_test_pred = model(X_batch)\n",
    "        y_test_pred = torch.sigmoid(y_test_pred)\n",
    "        y_pred_tag = torch.round(y_test_pred)\n",
    "        y_pred_list_rounded.append(y_pred_tag.cpu().numpy())\n",
    "        y_pred_list.append(y_test_pred.cpu().numpy())\n",
    "\n",
    "y_pred_list_rounded = [a.squeeze().tolist() for a in y_pred_list_rounded]\n",
    "y_pred_list = [a.squeeze().tolist() for a in y_pred_list]\n",
    "targets = [a.squeeze().tolist() for a in targets]\n",
    "\n",
    "\n",
    "y_pred_list_rounded = [j for sub in y_pred_list_rounded for j in sub]\n",
    "y_pred_list = [j for sub in y_pred_list for j in sub]\n",
    "targets = [j for sub in targets for j in sub]\n",
    "\n",
    "cm = confusion_matrix(targets, y_pred_list_rounded)\n",
    "disp = ConfusionMatrixDisplay(confusion_matrix=cm, display_labels=['0', '1'])\n",
    "disp.plot()\n",
    "TP, FP, TN, FN = cm[1,1], cm[0,1], cm[0,0], cm[1,0]\n",
    "P = TP/(TP+FP)\n",
    "R = TP/(TP+FN)\n",
    "F1 = 2*P*R/(P+R)\n",
    "print(f'recall : {R}')\n",
    "print(f'precision : {P}')\n",
    "print(f'F1 : {F1}')\n",
    "print(f'acc : {(TP + TN)/(TP + TN + FP + FN)}')\n",
    "RocCurveDisplay.from_predictions(targets, y_pred_list)"
   ]
  },
  {
   "cell_type": "markdown",
   "id": "ac10c579-2e33-4307-b056-2f27f1584ec8",
   "metadata": {},
   "source": [
    "### trying all featuries"
   ]
  },
  {
   "cell_type": "code",
   "execution_count": 350,
   "id": "e2b55268-93f5-45ce-877e-adff58aca9fb",
   "metadata": {},
   "outputs": [],
   "source": [
    "df = pd.read_csv('BTC_dataset.csv')"
   ]
  },
  {
   "cell_type": "code",
   "execution_count": 352,
   "id": "efdc891a-e0d0-4c57-adcd-ad0bf5775e64",
   "metadata": {},
   "outputs": [],
   "source": [
    "list_columns = ['pre_pri_ch_1',\n",
    "       'pre_pri_ch_24', 'pre_pri_ch_2', 'pre_pri_ch_3', 'pre_pri_ch_4',\n",
    "       'pre_pri_ch_12','Vol_4','Vol_12', 'Vol_24', 'Vol_week', 'Vol_month', 'Max_4', 'Min_4', 'Max_12',\n",
    "               'Min_12', 'Max_24', 'Min_24', 'Max_week', 'Min_week', 'Max_month','Min_month',\n",
    "                       'ADX', '-DI', '+DI', 'RSI', 'ADX_4h', '-DI_4h',\n",
    "                       '+DI_4h', 'RSI_4h', 'ADX_12h', '-DI_12h', '+DI_12h', 'RSI_12h',\n",
    "                       'ADX_24h', '-DI_24h', '+DI_24h', 'RSI_24h', \n",
    "                'target']"
   ]
  },
  {
   "cell_type": "code",
   "execution_count": 353,
   "id": "fd65609c-afea-4e63-b515-bec6c2cc80f7",
   "metadata": {},
   "outputs": [],
   "source": [
    "df['target'] = df['price_change_4'].apply(lambda x: 1 if x>=0.75 else 0)"
   ]
  },
  {
   "cell_type": "code",
   "execution_count": 354,
   "id": "4bb482ef-b701-4435-a370-2a2ae75453bc",
   "metadata": {},
   "outputs": [],
   "source": [
    "df = df[list_columns]"
   ]
  },
  {
   "cell_type": "code",
   "execution_count": 355,
   "id": "e6e777e2-3c7a-49f3-a835-e497fafd34e4",
   "metadata": {},
   "outputs": [
    {
     "data": {
      "text/plain": [
       "<AxesSubplot:xlabel='target', ylabel='count'>"
      ]
     },
     "execution_count": 355,
     "metadata": {},
     "output_type": "execute_result"
    },
    {
     "data": {
      "image/png": "[encoded data removed]",
      "text/plain": [
       "<Figure size 432x288 with 1 Axes>"
      ]
     },
     "metadata": {
      "needs_background": "light"
     },
     "output_type": "display_data"
    }
   ],
   "source": [
    "sns.countplot(x = 'target', data=df_1hour)"
   ]
  },
  {
   "cell_type": "code",
   "execution_count": 356,
   "id": "d9c1cfce-3f4d-416a-acfa-532f044d2645",
   "metadata": {},
   "outputs": [
    {
     "name": "stderr",
     "output_type": "stream",
     "text": [
      "<ipython-input-356-2226efc13b9c>:1: SettingWithCopyWarning: \n",
      "A value is trying to be set on a copy of a slice from a DataFrame.\n",
      "Try using .loc[row_indexer,col_indexer] = value instead\n",
      "\n",
      "See the caveats in the documentation: https://pandas.pydata.org/pandas-docs/stable/user_guide/indexing.html#returning-a-view-versus-a-copy\n",
      "  df['target'] = df['target'].astype('category')\n"
     ]
    }
   ],
   "source": [
    "df['target'] = df['target'].astype('category')"
   ]
  },
  {
   "cell_type": "code",
   "execution_count": 357,
   "id": "ce6f1332-2acb-4a66-b4df-0890d8059eda",
   "metadata": {},
   "outputs": [],
   "source": [
    "X = df.iloc[:, 0:-1]\n",
    "y = df.iloc[:, -1]"
   ]
  },
  {
   "cell_type": "code",
   "execution_count": 359,
   "id": "d3d05e46-8566-4406-832c-cc40dbd59008",
   "metadata": {},
   "outputs": [],
   "source": [
    "lenght_train = int(len(df)*0.7)\n",
    "lenght_valid = int(len(df)*0.2)\n",
    "lenght_test = len(df) - lenght_train - lenght_valid"
   ]
  },
  {
   "cell_type": "code",
   "execution_count": 374,
   "id": "a00edc41-a32a-47da-a2a3-8b24e880362f",
   "metadata": {},
   "outputs": [],
   "source": [
    "X_train = X[:lenght_train]\n",
    "X_valid = X[lenght_train : lenght_train + lenght_valid]\n",
    "X_test = X[-lenght_test:]"
   ]
  },
  {
   "cell_type": "code",
   "execution_count": 361,
   "id": "792680bf-903b-4a41-bd22-0044c5bcee5a",
   "metadata": {},
   "outputs": [],
   "source": [
    "y_train = y[:lenght_train]\n",
    "y_valid = y[lenght_train : lenght_train + lenght_valid]\n",
    "y_test = y[-lenght_test:]"
   ]
  },
  {
   "cell_type": "code",
   "execution_count": 362,
   "id": "8a9c23b1-645f-4e20-aba2-ae3750cef883",
   "metadata": {},
   "outputs": [],
   "source": [
    "scaler = StandardScaler()\n",
    "X_train = scaler.fit_transform(X_train)\n",
    "X_valid = scaler.fit_transform(X_valid)\n",
    "X_test = scaler.transform(X_test)"
   ]
  },
  {
   "cell_type": "code",
   "execution_count": 363,
   "id": "324ae468-1316-470e-a795-ce0bf5b83903",
   "metadata": {},
   "outputs": [],
   "source": [
    "EPOCHS = 50\n",
    "BATCH_SIZE = 64\n",
    "LEARNING_RATE = 0.001"
   ]
  },
  {
   "cell_type": "code",
   "execution_count": 364,
   "id": "467d7556-df0a-4357-8551-7791ac8c7c5c",
   "metadata": {},
   "outputs": [],
   "source": [
    "## train data\n",
    "class TrainData(Dataset):\n",
    "    \n",
    "    def __init__(self, X_data, y_data):\n",
    "        self.X_data = X_data\n",
    "        self.y_data = y_data\n",
    "        \n",
    "    def __getitem__(self, index):\n",
    "        return self.X_data[index], self.y_data[index]\n",
    "        \n",
    "    def __len__ (self):\n",
    "        return len(self.X_data)\n",
    "\n",
    "\n",
    "train_data = TrainData(torch.FloatTensor(X_train), \n",
    "                       torch.FloatTensor(y_train.values))\n",
    "\n",
    "## train data\n",
    "class ValidData(Dataset):\n",
    "    \n",
    "    def __init__(self, X_data, y_data):\n",
    "        self.X_data = X_data\n",
    "        self.y_data = y_data\n",
    "        \n",
    "    def __getitem__(self, index):\n",
    "        return self.X_data[index], self.y_data[index]\n",
    "        \n",
    "    def __len__ (self):\n",
    "        return len(self.X_data)\n",
    "\n",
    "\n",
    "valid_data = ValidData(torch.FloatTensor(X_valid), \n",
    "                       torch.FloatTensor(y_valid.values))\n",
    "\n",
    "## test data    \n",
    "class TestData(Dataset):\n",
    "    \n",
    "    def __init__(self, X_data, y_data):\n",
    "        self.X_data = X_data\n",
    "        self.y_data = y_data\n",
    "        \n",
    "    def __getitem__(self, index):\n",
    "        return self.X_data[index], self.y_data[index]\n",
    "        \n",
    "    def __len__ (self):\n",
    "        return len(self.X_data)\n",
    "    \n",
    "\n",
    "test_data = TestData(torch.FloatTensor(X_test), \n",
    "                     torch.FloatTensor(y_test.values))"
   ]
  },
  {
   "cell_type": "code",
   "execution_count": 365,
   "id": "21df6042-4c4f-47a9-bea7-64d412563b3c",
   "metadata": {},
   "outputs": [],
   "source": [
    "train_loader = DataLoader(dataset=train_data, batch_size=BATCH_SIZE, shuffle=True)\n",
    "valid_loader = DataLoader(dataset=valid_data, batch_size=BATCH_SIZE, shuffle=True)\n",
    "test_loader = DataLoader(dataset=test_data, batch_size=BATCH_SIZE, shuffle=True)"
   ]
  },
  {
   "cell_type": "markdown",
   "id": "f41279dc-00e7-4ec6-8a4c-04c6b434656b",
   "metadata": {},
   "source": [
    "#### model pro100"
   ]
  },
  {
   "cell_type": "code",
   "execution_count": 368,
   "id": "c935ec32-9f82-45f1-b6c3-5378a8159eef",
   "metadata": {},
   "outputs": [],
   "source": [
    "class BTC_pro100(nn.Module):\n",
    "    def __init__(self):\n",
    "        super(BTC_pro100, self).__init__()\n",
    "        # Number of input features is 12.\n",
    "        self.layer_1 = nn.Linear(37, 64) \n",
    "        self.layer_2 = nn.Linear(64, 64)\n",
    "        self.layer_out = nn.Linear(64, 1) \n",
    "        \n",
    "        self.relu = nn.ReLU()\n",
    "        self.dropout = nn.Dropout(p=0.1)\n",
    "        self.batchnorm1 = nn.BatchNorm1d(64)\n",
    "        self.batchnorm2 = nn.BatchNorm1d(64)\n",
    "        \n",
    "    def forward(self, inputs):\n",
    "        x = self.relu(self.layer_1(inputs))\n",
    "        x = self.batchnorm1(x)\n",
    "        x = self.relu(self.layer_2(x))\n",
    "        x = self.batchnorm2(x)\n",
    "        x = self.dropout(x)\n",
    "        x = self.layer_out(x)\n",
    "        \n",
    "        return x"
   ]
  },
  {
   "cell_type": "code",
   "execution_count": 369,
   "id": "182d3717-c658-4ec6-9d71-477303ae269d",
   "metadata": {},
   "outputs": [
    {
     "name": "stdout",
     "output_type": "stream",
     "text": [
      "cuda:0\n"
     ]
    }
   ],
   "source": [
    "device = torch.device(\"cuda:0\" if torch.cuda.is_available() else \"cpu\")\n",
    "print(device)"
   ]
  },
  {
   "cell_type": "code",
   "execution_count": 371,
   "id": "adf4c18a-88e9-4960-994b-3eb3c6517e4c",
   "metadata": {
    "tags": []
   },
   "outputs": [
    {
     "name": "stderr",
     "output_type": "stream",
     "text": [
      "C:\\Users\\bakhi\\anaconda3\\lib\\site-packages\\torchmetrics\\utilities\\prints.py:36: UserWarning: Metric `AUROC` will save all targets and predictions in buffer. For large datasets this may lead to large memory footprint.\n",
      "  warnings.warn(*args, **kwargs)\n",
      "C:\\Users\\bakhi\\anaconda3\\lib\\site-packages\\torchmetrics\\utilities\\prints.py:36: UserWarning: No positive samples in targets, true positive value should be meaningless. Returning zero tensor in true positive score\n",
      "  warnings.warn(*args, **kwargs)\n"
     ]
    }
   ],
   "source": [
    "model = BTC_pro100()\n",
    "model.to(device)\n",
    "\n",
    "epochs = 50\n",
    "\n",
    "cost = torch.nn.CrossEntropyLoss()\n",
    "optimizer = torch.optim.Adam(model.parameters(), lr=0.0001)\n",
    "writer = SummaryWriter(log_dir = 'runs/' + str(model).split('(')[0])\n",
    "\n",
    "for t in range(epochs):\n",
    "    train(train_loader, model, cost, optimizer, t)\n",
    "    test(valid_loader, model, t)\n",
    "    torch.save(model.state_dict(), 'models/' + str(model).split('(')[0] + '_tvt_' + str(t) + '.pt')\n",
    "\n",
    "writer.close()\n",
    "torch.cuda.empty_cache()"
   ]
  },
  {
   "cell_type": "code",
   "execution_count": 372,
   "id": "6a32d540-3dbf-4c3f-91a9-5dfcfa2e7cb6",
   "metadata": {},
   "outputs": [
    {
     "name": "stdout",
     "output_type": "stream",
     "text": [
      "cpu\n"
     ]
    }
   ],
   "source": [
    "device = torch.device(\"cpu\")\n",
    "print(device)"
   ]
  },
  {
   "cell_type": "code",
   "execution_count": 387,
   "id": "00f627d0-cb6e-4a63-8ad7-18beb92092e1",
   "metadata": {
    "tags": []
   },
   "outputs": [
    {
     "name": "stdout",
     "output_type": "stream",
     "text": [
      "recall : 0.2532894736842105\n",
      "precision : 0.4782608695652174\n",
      "F1 : 0.3311827956989247\n",
      "acc : 0.753370340999207\n"
     ]
    },
    {
     "data": {
      "text/plain": [
       "<sklearn.metrics._plot.roc_curve.RocCurveDisplay at 0x22c5feb4e50>"
      ]
     },
     "execution_count": 387,
     "metadata": {},
     "output_type": "execute_result"
    },
    {
     "data": {
      "image/png": "[encoded data removed]",
      "text/plain": [
       "<Figure size 432x288 with 2 Axes>"
      ]
     },
     "metadata": {
      "needs_background": "light"
     },
     "output_type": "display_data"
    },
    {
     "data": {
      "image/png": "[encoded data removed]",
      "text/plain": [
       "<Figure size 432x288 with 1 Axes>"
      ]
     },
     "metadata": {
      "needs_background": "light"
     },
     "output_type": "display_data"
    }
   ],
   "source": [
    "model = BTC_pro100()\n",
    "model_name = 'models/' + str(model).split('(')[0] + '_tvt_' + str(20) + '.pt'\n",
    "state_dict = torch.load(model_name)\n",
    "model.load_state_dict(state_dict)\n",
    "\n",
    "\n",
    "y_pred_list_rounded = []\n",
    "y_pred_list = []\n",
    "targets = []\n",
    "\n",
    "\n",
    "model.eval()\n",
    "with torch.no_grad():\n",
    "    for X_batch, y_batch in test_loader:\n",
    "        X_batch, y_batch = X_batch.to(device), y_batch.to(device)\n",
    "        targets.append(y_batch)\n",
    "\n",
    "        y_test_pred = model(X_batch)\n",
    "        y_test_pred = torch.sigmoid(y_test_pred)\n",
    "        y_pred_tag = torch.round(y_test_pred)\n",
    "        y_pred_list_rounded.append(y_pred_tag.cpu().numpy())\n",
    "        y_pred_list.append(y_test_pred.cpu().numpy())\n",
    "\n",
    "y_pred_list_rounded = [a.squeeze().tolist() for a in y_pred_list_rounded]\n",
    "y_pred_list = [a.squeeze().tolist() for a in y_pred_list]\n",
    "targets = [a.squeeze().tolist() for a in targets]\n",
    "\n",
    "\n",
    "y_pred_list_rounded = [j for sub in y_pred_list_rounded for j in sub]\n",
    "y_pred_list = [j for sub in y_pred_list for j in sub]\n",
    "targets = [j for sub in targets for j in sub]\n",
    "\n",
    "cm = confusion_matrix(targets, y_pred_list_rounded)\n",
    "disp = ConfusionMatrixDisplay(confusion_matrix=cm, display_labels=['0', '1'])\n",
    "disp.plot()\n",
    "TP, FP, TN, FN = cm[1,1], cm[0,1], cm[0,0], cm[1,0]\n",
    "P = TP/(TP+FP)\n",
    "R = TP/(TP+FN)\n",
    "F1 = 2*P*R/(P+R)\n",
    "print(f'recall : {R}')\n",
    "print(f'precision : {P}')\n",
    "print(f'F1 : {F1}')\n",
    "print(f'acc : {(TP + TN)/(TP + TN + FP + FN)}')\n",
    "RocCurveDisplay.from_predictions(targets, y_pred_list)"
   ]
  },
  {
   "cell_type": "markdown",
   "id": "c7605ff7-b035-468f-b42f-1cbc1159f5a1",
   "metadata": {},
   "source": [
    "#### model pro101"
   ]
  },
  {
   "cell_type": "code",
   "execution_count": 380,
   "id": "8d5fd5ac-42ef-4bda-9afe-712e7f4d7416",
   "metadata": {},
   "outputs": [],
   "source": [
    "# add one more layer to model pro100 \n",
    "class BTC_pro101(nn.Module):\n",
    "    def __init__(self):\n",
    "        super(BTC_pro101, self).__init__()\n",
    "        # Number of input features is 12.\n",
    "        self.layer_1 = nn.Linear(37, 64) \n",
    "        self.layer_2 = nn.Linear(64, 64)\n",
    "        self.layer_3 = nn.Linear(64, 32)\n",
    "        self.layer_out = nn.Linear(32, 1) \n",
    "        \n",
    "        self.relu = nn.ReLU()\n",
    "        self.dropout = nn.Dropout(p=0.1)\n",
    "        self.batchnorm1 = nn.BatchNorm1d(64)\n",
    "        self.batchnorm2 = nn.BatchNorm1d(64)\n",
    "        self.batchnorm3 = nn.BatchNorm1d(32)\n",
    "        \n",
    "    def forward(self, inputs):\n",
    "        x = self.relu(self.layer_1(inputs))\n",
    "        x = self.batchnorm1(x)\n",
    "        \n",
    "        x = self.relu(self.layer_2(x))\n",
    "        x = self.batchnorm2(x)\n",
    "        \n",
    "        x = self.relu(self.layer_3(x))\n",
    "        x = self.batchnorm3(x)\n",
    "        \n",
    "        x = self.dropout(x)\n",
    "        x = self.layer_out(x)\n",
    "        \n",
    "        return x"
   ]
  },
  {
   "cell_type": "code",
   "execution_count": 381,
   "id": "eb4d0c22-f5cd-4c46-8f72-0429d356050b",
   "metadata": {},
   "outputs": [
    {
     "name": "stdout",
     "output_type": "stream",
     "text": [
      "cuda:0\n"
     ]
    }
   ],
   "source": [
    "device = torch.device(\"cuda:0\" if torch.cuda.is_available() else \"cpu\")\n",
    "print(device)"
   ]
  },
  {
   "cell_type": "code",
   "execution_count": 382,
   "id": "54c05577-ccf9-4472-b811-3f6598f3d925",
   "metadata": {
    "tags": []
   },
   "outputs": [
    {
     "name": "stderr",
     "output_type": "stream",
     "text": [
      "C:\\Users\\bakhi\\anaconda3\\lib\\site-packages\\torchmetrics\\utilities\\prints.py:36: UserWarning: Metric `AUROC` will save all targets and predictions in buffer. For large datasets this may lead to large memory footprint.\n",
      "  warnings.warn(*args, **kwargs)\n",
      "C:\\Users\\bakhi\\anaconda3\\lib\\site-packages\\torchmetrics\\utilities\\prints.py:36: UserWarning: No positive samples in targets, true positive value should be meaningless. Returning zero tensor in true positive score\n",
      "  warnings.warn(*args, **kwargs)\n"
     ]
    }
   ],
   "source": [
    "model = BTC_pro101()\n",
    "model.to(device)\n",
    "\n",
    "epochs = 50\n",
    "\n",
    "cost = torch.nn.CrossEntropyLoss()\n",
    "optimizer = torch.optim.Adam(model.parameters(), lr=0.0001)\n",
    "writer = SummaryWriter(log_dir = 'runs/' + str(model).split('(')[0])\n",
    "\n",
    "for t in range(epochs):\n",
    "    train(train_loader, model, cost, optimizer, t)\n",
    "    test(valid_loader, model, t)\n",
    "    torch.save(model.state_dict(), 'models/' + str(model).split('(')[0] + '_tvt_' + str(t) + '.pt')\n",
    "\n",
    "writer.close()\n",
    "torch.cuda.empty_cache()"
   ]
  },
  {
   "cell_type": "code",
   "execution_count": 384,
   "id": "332797ed-099a-40f5-a3aa-76335d722522",
   "metadata": {},
   "outputs": [
    {
     "name": "stdout",
     "output_type": "stream",
     "text": [
      "cpu\n"
     ]
    }
   ],
   "source": [
    "device = torch.device(\"cpu\")\n",
    "print(device)"
   ]
  },
  {
   "cell_type": "code",
   "execution_count": 415,
   "id": "b1a95e0b-bbc0-4e24-9353-5d4ec6a53983",
   "metadata": {
    "tags": []
   },
   "outputs": [
    {
     "name": "stdout",
     "output_type": "stream",
     "text": [
      "recall : 0.3717105263157895\n",
      "precision : 0.35987261146496813\n",
      "F1 : 0.3656957928802589\n",
      "acc : 0.6891356066613799\n"
     ]
    },
    {
     "data": {
      "text/plain": [
       "<sklearn.metrics._plot.roc_curve.RocCurveDisplay at 0x22c5db39af0>"
      ]
     },
     "execution_count": 415,
     "metadata": {},
     "output_type": "execute_result"
    },
    {
     "data": {
      "image/png": "[encoded data removed]",
      "text/plain": [
       "<Figure size 432x288 with 2 Axes>"
      ]
     },
     "metadata": {
      "needs_background": "light"
     },
     "output_type": "display_data"
    },
    {
     "data": {
      "image/png": "[encoded data removed]",
      "text/plain": [
       "<Figure size 432x288 with 1 Axes>"
      ]
     },
     "metadata": {
      "needs_background": "light"
     },
     "output_type": "display_data"
    }
   ],
   "source": [
    "model = BTC_pro101()\n",
    "model_name = 'models/' + str(model).split('(')[0] + '_tvt_' + str(20) + '.pt'\n",
    "state_dict = torch.load(model_name)\n",
    "model.load_state_dict(state_dict)\n",
    "\n",
    "\n",
    "y_pred_list_rounded = []\n",
    "y_pred_list = []\n",
    "targets = []\n",
    "\n",
    "\n",
    "model.eval()\n",
    "with torch.no_grad():\n",
    "    for X_batch, y_batch in test_loader:\n",
    "        X_batch, y_batch = X_batch.to(device), y_batch.to(device)\n",
    "        targets.append(y_batch)\n",
    "\n",
    "        y_test_pred = model(X_batch)\n",
    "        y_test_pred = torch.sigmoid(y_test_pred)\n",
    "        y_pred_tag = torch.round(y_test_pred)\n",
    "        y_pred_list_rounded.append(y_pred_tag.cpu().numpy())\n",
    "        y_pred_list.append(y_test_pred.cpu().numpy())\n",
    "\n",
    "y_pred_list_rounded = [a.squeeze().tolist() for a in y_pred_list_rounded]\n",
    "y_pred_list = [a.squeeze().tolist() for a in y_pred_list]\n",
    "targets = [a.squeeze().tolist() for a in targets]\n",
    "\n",
    "\n",
    "y_pred_list_rounded = [j for sub in y_pred_list_rounded for j in sub]\n",
    "y_pred_list = [j for sub in y_pred_list for j in sub]\n",
    "targets = [j for sub in targets for j in sub]\n",
    "\n",
    "cm = confusion_matrix(targets, y_pred_list_rounded)\n",
    "disp = ConfusionMatrixDisplay(confusion_matrix=cm, display_labels=['0', '1'])\n",
    "disp.plot()\n",
    "TP, FP, TN, FN = cm[1,1], cm[0,1], cm[0,0], cm[1,0]\n",
    "P = TP/(TP+FP)\n",
    "R = TP/(TP+FN)\n",
    "F1 = 2*P*R/(P+R)\n",
    "print(f'recall : {R}')\n",
    "print(f'precision : {P}')\n",
    "print(f'F1 : {F1}')\n",
    "print(f'acc : {(TP + TN)/(TP + TN + FP + FN)}')\n",
    "RocCurveDisplay.from_predictions(targets, y_pred_list)"
   ]
  },
  {
   "cell_type": "markdown",
   "id": "0ddaa942-6197-4950-b2ee-e62582d42df3",
   "metadata": {},
   "source": [
    "#### model pro102"
   ]
  },
  {
   "cell_type": "code",
   "execution_count": 389,
   "id": "90758c12-1c75-4486-9b52-b3358e3c997c",
   "metadata": {},
   "outputs": [],
   "source": [
    "class BTC_pro102(nn.Module):\n",
    "    def __init__(self):\n",
    "        super(BTC_pro102, self).__init__()\n",
    "        # Number of input features is 12.\n",
    "        self.layer_1 = nn.Linear(37, 128) \n",
    "        self.layer_2 = nn.Linear(128, 128)\n",
    "        self.layer_out = nn.Linear(128, 1) \n",
    "        \n",
    "        self.relu = nn.ReLU()\n",
    "        self.dropout = nn.Dropout(p=0.1)\n",
    "        self.batchnorm1 = nn.BatchNorm1d(128)\n",
    "        self.batchnorm2 = nn.BatchNorm1d(128)\n",
    "        \n",
    "    def forward(self, inputs):\n",
    "        x = self.relu(self.layer_1(inputs))\n",
    "        x = self.batchnorm1(x)\n",
    "        x = self.relu(self.layer_2(x))\n",
    "        x = self.batchnorm2(x)\n",
    "        x = self.dropout(x)\n",
    "        x = self.layer_out(x)\n",
    "        \n",
    "        return x"
   ]
  },
  {
   "cell_type": "code",
   "execution_count": 390,
   "id": "89c7bcd1-5d89-46a0-b93a-b56ebb9729da",
   "metadata": {},
   "outputs": [
    {
     "name": "stdout",
     "output_type": "stream",
     "text": [
      "cuda:0\n"
     ]
    }
   ],
   "source": [
    "device = torch.device(\"cuda:0\" if torch.cuda.is_available() else \"cpu\")\n",
    "print(device)"
   ]
  },
  {
   "cell_type": "code",
   "execution_count": 391,
   "id": "930da812-1a03-4aa8-b32e-383be75442cc",
   "metadata": {
    "tags": []
   },
   "outputs": [
    {
     "name": "stderr",
     "output_type": "stream",
     "text": [
      "C:\\Users\\bakhi\\anaconda3\\lib\\site-packages\\torchmetrics\\utilities\\prints.py:36: UserWarning: Metric `AUROC` will save all targets and predictions in buffer. For large datasets this may lead to large memory footprint.\n",
      "  warnings.warn(*args, **kwargs)\n"
     ]
    }
   ],
   "source": [
    "model = BTC_pro102()\n",
    "model.to(device)\n",
    "\n",
    "epochs = 50\n",
    "\n",
    "cost = torch.nn.CrossEntropyLoss()\n",
    "optimizer = torch.optim.Adam(model.parameters(), lr=0.0001)\n",
    "writer = SummaryWriter(log_dir = 'runs/' + str(model).split('(')[0])\n",
    "\n",
    "for t in range(epochs):\n",
    "    train(train_loader, model, cost, optimizer, t)\n",
    "    test(valid_loader, model, t)\n",
    "    torch.save(model.state_dict(), 'models/' + str(model).split('(')[0] + '_tvt_' + str(t) + '.pt')\n",
    "\n",
    "writer.close()\n",
    "torch.cuda.empty_cache()"
   ]
  },
  {
   "cell_type": "code",
   "execution_count": 393,
   "id": "319a3886-c893-4dc0-ac58-833ac31b2bf8",
   "metadata": {},
   "outputs": [
    {
     "name": "stdout",
     "output_type": "stream",
     "text": [
      "cpu\n"
     ]
    }
   ],
   "source": [
    "device = torch.device(\"cpu\")\n",
    "print(device)"
   ]
  },
  {
   "cell_type": "code",
   "execution_count": 416,
   "id": "67378cb6-8bbd-4e3c-b7d2-e361a58dc4e9",
   "metadata": {
    "tags": []
   },
   "outputs": [
    {
     "name": "stdout",
     "output_type": "stream",
     "text": [
      "recall : 0.28618421052631576\n",
      "precision : 0.3972602739726027\n",
      "F1 : 0.3326959847036329\n",
      "acc : 0.7232355273592387\n"
     ]
    },
    {
     "data": {
      "text/plain": [
       "<sklearn.metrics._plot.roc_curve.RocCurveDisplay at 0x22c5dd6b250>"
      ]
     },
     "execution_count": 416,
     "metadata": {},
     "output_type": "execute_result"
    },
    {
     "data": {
      "image/png": "[encoded data removed]",
      "text/plain": [
       "<Figure size 432x288 with 2 Axes>"
      ]
     },
     "metadata": {
      "needs_background": "light"
     },
     "output_type": "display_data"
    },
    {
     "data": {
      "image/png": "[encoded data removed]",
      "text/plain": [
       "<Figure size 432x288 with 1 Axes>"
      ]
     },
     "metadata": {
      "needs_background": "light"
     },
     "output_type": "display_data"
    }
   ],
   "source": [
    "model = BTC_pro102()\n",
    "model_name = 'models/' + str(model).split('(')[0] + '_tvt_' + str(20) + '.pt'\n",
    "state_dict = torch.load(model_name)\n",
    "model.load_state_dict(state_dict)\n",
    "\n",
    "\n",
    "y_pred_list_rounded = []\n",
    "y_pred_list = []\n",
    "targets = []\n",
    "\n",
    "\n",
    "model.eval()\n",
    "with torch.no_grad():\n",
    "    for X_batch, y_batch in test_loader:\n",
    "        X_batch, y_batch = X_batch.to(device), y_batch.to(device)\n",
    "        targets.append(y_batch)\n",
    "\n",
    "        y_test_pred = model(X_batch)\n",
    "        y_test_pred = torch.sigmoid(y_test_pred)\n",
    "        y_pred_tag = torch.round(y_test_pred)\n",
    "        y_pred_list_rounded.append(y_pred_tag.cpu().numpy())\n",
    "        y_pred_list.append(y_test_pred.cpu().numpy())\n",
    "\n",
    "y_pred_list_rounded = [a.squeeze().tolist() for a in y_pred_list_rounded]\n",
    "y_pred_list = [a.squeeze().tolist() for a in y_pred_list]\n",
    "targets = [a.squeeze().tolist() for a in targets]\n",
    "\n",
    "\n",
    "y_pred_list_rounded = [j for sub in y_pred_list_rounded for j in sub]\n",
    "y_pred_list = [j for sub in y_pred_list for j in sub]\n",
    "targets = [j for sub in targets for j in sub]\n",
    "\n",
    "cm = confusion_matrix(targets, y_pred_list_rounded)\n",
    "disp = ConfusionMatrixDisplay(confusion_matrix=cm, display_labels=['0', '1'])\n",
    "disp.plot()\n",
    "TP, FP, TN, FN = cm[1,1], cm[0,1], cm[0,0], cm[1,0]\n",
    "P = TP/(TP+FP)\n",
    "R = TP/(TP+FN)\n",
    "F1 = 2*P*R/(P+R)\n",
    "print(f'recall : {R}')\n",
    "print(f'precision : {P}')\n",
    "print(f'F1 : {F1}')\n",
    "print(f'acc : {(TP + TN)/(TP + TN + FP + FN)}')\n",
    "RocCurveDisplay.from_predictions(targets, y_pred_list)"
   ]
  },
  {
   "cell_type": "markdown",
   "id": "19ad7a30-1c23-4471-b1ac-95f78da0d353",
   "metadata": {},
   "source": [
    "#### model pro103"
   ]
  },
  {
   "cell_type": "code",
   "execution_count": 399,
   "id": "14cf7eaa-0e25-4d3d-ace1-0c4fead5a3c3",
   "metadata": {},
   "outputs": [],
   "source": [
    "# add one more layer to model pro100 \n",
    "class BTC_pro103(nn.Module):\n",
    "    def __init__(self):\n",
    "        super(BTC_pro103, self).__init__()\n",
    "        # Number of input features is 12.\n",
    "        self.layer_1 = nn.Linear(37, 128) \n",
    "        self.layer_2 = nn.Linear(128, 128)\n",
    "        self.layer_3 = nn.Linear(128, 64)\n",
    "        self.layer_out = nn.Linear(64, 1) \n",
    "        \n",
    "        self.relu = nn.ReLU()\n",
    "        self.dropout = nn.Dropout(p=0.1)\n",
    "        self.batchnorm1 = nn.BatchNorm1d(128)\n",
    "        self.batchnorm2 = nn.BatchNorm1d(128)\n",
    "        self.batchnorm3 = nn.BatchNorm1d(64)\n",
    "        \n",
    "    def forward(self, inputs):\n",
    "        x = self.relu(self.layer_1(inputs))\n",
    "        x = self.batchnorm1(x)\n",
    "        \n",
    "        x = self.relu(self.layer_2(x))\n",
    "        x = self.batchnorm2(x)\n",
    "        \n",
    "        x = self.relu(self.layer_3(x))\n",
    "        x = self.batchnorm3(x)\n",
    "        \n",
    "        x = self.dropout(x)\n",
    "        x = self.layer_out(x)\n",
    "        \n",
    "        return x"
   ]
  },
  {
   "cell_type": "code",
   "execution_count": 400,
   "id": "ef53dd21-ab5e-42fa-8b04-8938e101e118",
   "metadata": {},
   "outputs": [
    {
     "name": "stdout",
     "output_type": "stream",
     "text": [
      "cuda:0\n"
     ]
    }
   ],
   "source": [
    "device = torch.device(\"cuda:0\" if torch.cuda.is_available() else \"cpu\")\n",
    "print(device)"
   ]
  },
  {
   "cell_type": "code",
   "execution_count": 401,
   "id": "da2e78ef-bf13-4037-8dbf-95b44fcdd988",
   "metadata": {
    "tags": []
   },
   "outputs": [
    {
     "name": "stderr",
     "output_type": "stream",
     "text": [
      "C:\\Users\\bakhi\\anaconda3\\lib\\site-packages\\torchmetrics\\utilities\\prints.py:36: UserWarning: Metric `AUROC` will save all targets and predictions in buffer. For large datasets this may lead to large memory footprint.\n",
      "  warnings.warn(*args, **kwargs)\n"
     ]
    }
   ],
   "source": [
    "model = BTC_pro103()\n",
    "model.to(device)\n",
    "\n",
    "epochs = 50\n",
    "\n",
    "cost = torch.nn.CrossEntropyLoss()\n",
    "optimizer = torch.optim.Adam(model.parameters(), lr=0.0001)\n",
    "writer = SummaryWriter(log_dir = 'runs/' + str(model).split('(')[0])\n",
    "\n",
    "for t in range(epochs):\n",
    "    train(train_loader, model, cost, optimizer, t)\n",
    "    test(valid_loader, model, t)\n",
    "    torch.save(model.state_dict(), 'models/' + str(model).split('(')[0] + '_tvt_' + str(t) + '.pt')\n",
    "\n",
    "writer.close()\n",
    "torch.cuda.empty_cache()"
   ]
  },
  {
   "cell_type": "code",
   "execution_count": 402,
   "id": "a210de3d-d7de-49f2-bfeb-d10864f54a2d",
   "metadata": {},
   "outputs": [
    {
     "name": "stdout",
     "output_type": "stream",
     "text": [
      "cpu\n"
     ]
    }
   ],
   "source": [
    "device = torch.device(\"cpu\")\n",
    "print(device)"
   ]
  },
  {
   "cell_type": "code",
   "execution_count": 417,
   "id": "959263f8-99b5-456c-a1aa-f63fa28447af",
   "metadata": {
    "tags": []
   },
   "outputs": [
    {
     "name": "stdout",
     "output_type": "stream",
     "text": [
      "recall : 0.35526315789473684\n",
      "precision : 0.3450479233226837\n",
      "F1 : 0.3500810372771475\n",
      "acc : 0.6819984139571769\n"
     ]
    },
    {
     "data": {
      "text/plain": [
       "<sklearn.metrics._plot.roc_curve.RocCurveDisplay at 0x22c5dd00220>"
      ]
     },
     "execution_count": 417,
     "metadata": {},
     "output_type": "execute_result"
    },
    {
     "data": {
      "image/png": "[encoded data removed]",
      "text/plain": [
       "<Figure size 432x288 with 2 Axes>"
      ]
     },
     "metadata": {
      "needs_background": "light"
     },
     "output_type": "display_data"
    },
    {
     "data": {
      "image/png": "[encoded data removed]",
      "text/plain": [
       "<Figure size 432x288 with 1 Axes>"
      ]
     },
     "metadata": {
      "needs_background": "light"
     },
     "output_type": "display_data"
    }
   ],
   "source": [
    "model = BTC_pro103()\n",
    "model_name = 'models/' + str(model).split('(')[0] + '_tvt_' + str(20) + '.pt'\n",
    "state_dict = torch.load(model_name)\n",
    "model.load_state_dict(state_dict)\n",
    "\n",
    "\n",
    "y_pred_list_rounded = []\n",
    "y_pred_list = []\n",
    "targets = []\n",
    "\n",
    "\n",
    "model.eval()\n",
    "with torch.no_grad():\n",
    "    for X_batch, y_batch in test_loader:\n",
    "        X_batch, y_batch = X_batch.to(device), y_batch.to(device)\n",
    "        targets.append(y_batch)\n",
    "\n",
    "        y_test_pred = model(X_batch)\n",
    "        y_test_pred = torch.sigmoid(y_test_pred)\n",
    "        y_pred_tag = torch.round(y_test_pred)\n",
    "        y_pred_list_rounded.append(y_pred_tag.cpu().numpy())\n",
    "        y_pred_list.append(y_test_pred.cpu().numpy())\n",
    "\n",
    "y_pred_list_rounded = [a.squeeze().tolist() for a in y_pred_list_rounded]\n",
    "y_pred_list = [a.squeeze().tolist() for a in y_pred_list]\n",
    "targets = [a.squeeze().tolist() for a in targets]\n",
    "\n",
    "\n",
    "y_pred_list_rounded = [j for sub in y_pred_list_rounded for j in sub]\n",
    "y_pred_list = [j for sub in y_pred_list for j in sub]\n",
    "targets = [j for sub in targets for j in sub]\n",
    "\n",
    "cm = confusion_matrix(targets, y_pred_list_rounded)\n",
    "disp = ConfusionMatrixDisplay(confusion_matrix=cm, display_labels=['0', '1'])\n",
    "disp.plot()\n",
    "TP, FP, TN, FN = cm[1,1], cm[0,1], cm[0,0], cm[1,0]\n",
    "P = TP/(TP+FP)\n",
    "R = TP/(TP+FN)\n",
    "F1 = 2*P*R/(P+R)\n",
    "print(f'recall : {R}')\n",
    "print(f'precision : {P}')\n",
    "print(f'F1 : {F1}')\n",
    "print(f'acc : {(TP + TN)/(TP + TN + FP + FN)}')\n",
    "RocCurveDisplay.from_predictions(targets, y_pred_list)"
   ]
  },
  {
   "cell_type": "markdown",
   "id": "42c2e7f2-2cb9-4d8b-a027-2a73bdcb53d3",
   "metadata": {},
   "source": [
    "#### model pro104"
   ]
  },
  {
   "cell_type": "code",
   "execution_count": 404,
   "id": "d456bd59-c172-40bc-908a-5cd94c6cf06c",
   "metadata": {},
   "outputs": [],
   "source": [
    "# add one more layer to model pro100 \n",
    "class BTC_pro104(nn.Module):\n",
    "    def __init__(self):\n",
    "        super(BTC_pro104, self).__init__()\n",
    "        # Number of input features is 12.\n",
    "        self.layer_1 = nn.Linear(37, 64) \n",
    "        self.layer_2 = nn.Linear(64, 64)\n",
    "        self.layer_3 = nn.Linear(64, 32)\n",
    "        self.layer_4 = nn.Linear(32, 16)\n",
    "        self.layer_out = nn.Linear(16, 1) \n",
    "        \n",
    "        self.relu = nn.ReLU()\n",
    "        self.dropout = nn.Dropout(p=0.1)\n",
    "        self.batchnorm1 = nn.BatchNorm1d(64)\n",
    "        self.batchnorm2 = nn.BatchNorm1d(64)\n",
    "        self.batchnorm3 = nn.BatchNorm1d(32)\n",
    "        self.batchnorm4 = nn.BatchNorm1d(16)\n",
    "        \n",
    "    def forward(self, inputs):\n",
    "        x = self.relu(self.layer_1(inputs))\n",
    "        x = self.batchnorm1(x)\n",
    "        \n",
    "        x = self.relu(self.layer_2(x))\n",
    "        x = self.batchnorm2(x)\n",
    "        \n",
    "        x = self.relu(self.layer_3(x))\n",
    "        x = self.batchnorm3(x)\n",
    "        \n",
    "        x = self.relu(self.layer_4(x))\n",
    "        x = self.batchnorm4(x)\n",
    "        \n",
    "        x = self.dropout(x)\n",
    "        x = self.layer_out(x)\n",
    "        \n",
    "        return x"
   ]
  },
  {
   "cell_type": "code",
   "execution_count": 405,
   "id": "a4173cec-b912-44aa-b438-1ec94063814f",
   "metadata": {},
   "outputs": [
    {
     "name": "stdout",
     "output_type": "stream",
     "text": [
      "cuda:0\n"
     ]
    }
   ],
   "source": [
    "device = torch.device(\"cuda:0\" if torch.cuda.is_available() else \"cpu\")\n",
    "print(device)"
   ]
  },
  {
   "cell_type": "code",
   "execution_count": 406,
   "id": "e34c03b2-db77-48af-a3f4-c8c880f7cf26",
   "metadata": {
    "tags": []
   },
   "outputs": [
    {
     "name": "stderr",
     "output_type": "stream",
     "text": [
      "C:\\Users\\bakhi\\anaconda3\\lib\\site-packages\\torchmetrics\\utilities\\prints.py:36: UserWarning: Metric `AUROC` will save all targets and predictions in buffer. For large datasets this may lead to large memory footprint.\n",
      "  warnings.warn(*args, **kwargs)\n"
     ]
    }
   ],
   "source": [
    "model = BTC_pro104()\n",
    "model.to(device)\n",
    "\n",
    "epochs = 50\n",
    "\n",
    "cost = torch.nn.CrossEntropyLoss()\n",
    "optimizer = torch.optim.Adam(model.parameters(), lr=0.0001)\n",
    "writer = SummaryWriter(log_dir = 'runs/' + str(model).split('(')[0])\n",
    "\n",
    "for t in range(epochs):\n",
    "    train(train_loader, model, cost, optimizer, t)\n",
    "    test(valid_loader, model, t)\n",
    "    torch.save(model.state_dict(), 'models/' + str(model).split('(')[0] + '_tvt_' + str(t) + '.pt')\n",
    "\n",
    "writer.close()\n",
    "torch.cuda.empty_cache()"
   ]
  },
  {
   "cell_type": "code",
   "execution_count": 384,
   "id": "64ee6b34-5d50-4c11-a013-65a6c9a1bac1",
   "metadata": {},
   "outputs": [
    {
     "name": "stdout",
     "output_type": "stream",
     "text": [
      "cpu\n"
     ]
    }
   ],
   "source": [
    "device = torch.device(\"cpu\")\n",
    "print(device)"
   ]
  },
  {
   "cell_type": "code",
   "execution_count": 418,
   "id": "c2829b53-35ec-4996-b980-2d1107073eed",
   "metadata": {
    "tags": []
   },
   "outputs": [
    {
     "name": "stdout",
     "output_type": "stream",
     "text": [
      "recall : 0.3881578947368421\n",
      "precision : 0.33146067415730335\n",
      "F1 : 0.3575757575757576\n",
      "acc : 0.6637589214908802\n"
     ]
    },
    {
     "data": {
      "text/plain": [
       "<sklearn.metrics._plot.roc_curve.RocCurveDisplay at 0x22c42291070>"
      ]
     },
     "execution_count": 418,
     "metadata": {},
     "output_type": "execute_result"
    },
    {
     "data": {
      "image/png": "[encoded data removed]",
      "text/plain": [
       "<Figure size 432x288 with 2 Axes>"
      ]
     },
     "metadata": {
      "needs_background": "light"
     },
     "output_type": "display_data"
    },
    {
     "data": {
      "image/png": "[encoded data removed]",
      "text/plain": [
       "<Figure size 432x288 with 1 Axes>"
      ]
     },
     "metadata": {
      "needs_background": "light"
     },
     "output_type": "display_data"
    }
   ],
   "source": [
    "model = BTC_pro104()\n",
    "model_name = 'models/' + str(model).split('(')[0] + '_tvt_' + str(20) + '.pt'\n",
    "state_dict = torch.load(model_name)\n",
    "model.load_state_dict(state_dict)\n",
    "\n",
    "\n",
    "y_pred_list_rounded = []\n",
    "y_pred_list = []\n",
    "targets = []\n",
    "\n",
    "\n",
    "model.eval()\n",
    "with torch.no_grad():\n",
    "    for X_batch, y_batch in test_loader:\n",
    "        X_batch, y_batch = X_batch.to(device), y_batch.to(device)\n",
    "        targets.append(y_batch)\n",
    "\n",
    "        y_test_pred = model(X_batch)\n",
    "        y_test_pred = torch.sigmoid(y_test_pred)\n",
    "        y_pred_tag = torch.round(y_test_pred)\n",
    "        y_pred_list_rounded.append(y_pred_tag.cpu().numpy())\n",
    "        y_pred_list.append(y_test_pred.cpu().numpy())\n",
    "\n",
    "y_pred_list_rounded = [a.squeeze().tolist() for a in y_pred_list_rounded]\n",
    "y_pred_list = [a.squeeze().tolist() for a in y_pred_list]\n",
    "targets = [a.squeeze().tolist() for a in targets]\n",
    "\n",
    "\n",
    "y_pred_list_rounded = [j for sub in y_pred_list_rounded for j in sub]\n",
    "y_pred_list = [j for sub in y_pred_list for j in sub]\n",
    "targets = [j for sub in targets for j in sub]\n",
    "\n",
    "cm = confusion_matrix(targets, y_pred_list_rounded)\n",
    "disp = ConfusionMatrixDisplay(confusion_matrix=cm, display_labels=['0', '1'])\n",
    "disp.plot()\n",
    "TP, FP, TN, FN = cm[1,1], cm[0,1], cm[0,0], cm[1,0]\n",
    "P = TP/(TP+FP)\n",
    "R = TP/(TP+FN)\n",
    "F1 = 2*P*R/(P+R)\n",
    "print(f'recall : {R}')\n",
    "print(f'precision : {P}')\n",
    "print(f'F1 : {F1}')\n",
    "print(f'acc : {(TP + TN)/(TP + TN + FP + FN)}')\n",
    "RocCurveDisplay.from_predictions(targets, y_pred_list)"
   ]
  },
  {
   "cell_type": "markdown",
   "id": "9708ad3f-60c7-4d00-ab42-628005a99d56",
   "metadata": {},
   "source": [
    "#### model pro105"
   ]
  },
  {
   "cell_type": "code",
   "execution_count": 407,
   "id": "0b5f7022-65e8-4b42-beb3-d820259d73be",
   "metadata": {},
   "outputs": [],
   "source": [
    "# add one more layer to model pro100 \n",
    "class BTC_pro105(nn.Module):\n",
    "    def __init__(self):\n",
    "        super(BTC_pro105, self).__init__()\n",
    "        # Number of input features is 12.\n",
    "        self.layer_1 = nn.Linear(37, 64) \n",
    "        self.layer_2 = nn.Linear(64, 64)\n",
    "        self.layer_3 = nn.Linear(64, 32)\n",
    "        self.layer_4 = nn.Linear(32, 16)\n",
    "        self.layer_5 = nn.Linear(16, 8)\n",
    "        self.layer_out = nn.Linear(8, 1) \n",
    "        \n",
    "        self.relu = nn.ReLU()\n",
    "        self.dropout = nn.Dropout(p=0.1)\n",
    "        self.batchnorm1 = nn.BatchNorm1d(64)\n",
    "        self.batchnorm2 = nn.BatchNorm1d(64)\n",
    "        self.batchnorm3 = nn.BatchNorm1d(32)\n",
    "        self.batchnorm4 = nn.BatchNorm1d(16)\n",
    "        self.batchnorm5 = nn.BatchNorm1d(8)\n",
    "        \n",
    "    def forward(self, inputs):\n",
    "        x = self.relu(self.layer_1(inputs))\n",
    "        x = self.batchnorm1(x)\n",
    "        \n",
    "        x = self.relu(self.layer_2(x))\n",
    "        x = self.batchnorm2(x)\n",
    "        \n",
    "        x = self.relu(self.layer_3(x))\n",
    "        x = self.batchnorm3(x)\n",
    "        \n",
    "        x = self.relu(self.layer_4(x))\n",
    "        x = self.batchnorm4(x)\n",
    "        \n",
    "        x = self.relu(self.layer_5(x))\n",
    "        x = self.batchnorm5(x)\n",
    "        \n",
    "        x = self.dropout(x)\n",
    "        x = self.layer_out(x)\n",
    "        \n",
    "        return x"
   ]
  },
  {
   "cell_type": "code",
   "execution_count": 408,
   "id": "3e6c2ad7-e28b-4353-b676-4b8babd544b7",
   "metadata": {},
   "outputs": [
    {
     "name": "stdout",
     "output_type": "stream",
     "text": [
      "cuda:0\n"
     ]
    }
   ],
   "source": [
    "device = torch.device(\"cuda:0\" if torch.cuda.is_available() else \"cpu\")\n",
    "print(device)"
   ]
  },
  {
   "cell_type": "code",
   "execution_count": 409,
   "id": "bd6265b5-4bb5-447f-9c24-b0fa6d522aea",
   "metadata": {
    "tags": []
   },
   "outputs": [
    {
     "name": "stderr",
     "output_type": "stream",
     "text": [
      "C:\\Users\\bakhi\\anaconda3\\lib\\site-packages\\torchmetrics\\utilities\\prints.py:36: UserWarning: No positive samples in targets, true positive value should be meaningless. Returning zero tensor in true positive score\n",
      "  warnings.warn(*args, **kwargs)\n"
     ]
    }
   ],
   "source": [
    "model = BTC_pro105()\n",
    "model.to(device)\n",
    "\n",
    "epochs = 50\n",
    "\n",
    "cost = torch.nn.CrossEntropyLoss()\n",
    "optimizer = torch.optim.Adam(model.parameters(), lr=0.0001)\n",
    "writer = SummaryWriter(log_dir = 'runs/' + str(model).split('(')[0])\n",
    "\n",
    "for t in range(epochs):\n",
    "    train(train_loader, model, cost, optimizer, t)\n",
    "    test(valid_loader, model, t)\n",
    "    torch.save(model.state_dict(), 'models/' + str(model).split('(')[0] + '_tvt_' + str(t) + '.pt')\n",
    "\n",
    "writer.close()\n",
    "torch.cuda.empty_cache()"
   ]
  },
  {
   "cell_type": "code",
   "execution_count": 410,
   "id": "0adcabe9-0ae7-42c8-86bb-d0a84a477bf0",
   "metadata": {},
   "outputs": [
    {
     "name": "stdout",
     "output_type": "stream",
     "text": [
      "cpu\n"
     ]
    }
   ],
   "source": [
    "device = torch.device(\"cpu\")\n",
    "print(device)"
   ]
  },
  {
   "cell_type": "code",
   "execution_count": 419,
   "id": "1e0c5e2e-c25a-49a9-8377-e9f5ad9f9777",
   "metadata": {
    "tags": []
   },
   "outputs": [
    {
     "name": "stdout",
     "output_type": "stream",
     "text": [
      "recall : 0.41776315789473684\n",
      "precision : 0.34139784946236557\n",
      "F1 : 0.3757396449704141\n",
      "acc : 0.6653449643140364\n"
     ]
    },
    {
     "data": {
      "text/plain": [
       "<sklearn.metrics._plot.roc_curve.RocCurveDisplay at 0x22c4ecf13d0>"
      ]
     },
     "execution_count": 419,
     "metadata": {},
     "output_type": "execute_result"
    },
    {
     "data": {
      "image/png": "[encoded data removed]",
      "text/plain": [
       "<Figure size 432x288 with 2 Axes>"
      ]
     },
     "metadata": {
      "needs_background": "light"
     },
     "output_type": "display_data"
    },
    {
     "data": {
      "image/png": "[encoded data removed]",
      "text/plain": [
       "<Figure size 432x288 with 1 Axes>"
      ]
     },
     "metadata": {
      "needs_background": "light"
     },
     "output_type": "display_data"
    }
   ],
   "source": [
    "model = BTC_pro105()\n",
    "model_name = 'models/' + str(model).split('(')[0] + '_tvt_' + str(20) + '.pt'\n",
    "state_dict = torch.load(model_name)\n",
    "model.load_state_dict(state_dict)\n",
    "\n",
    "\n",
    "y_pred_list_rounded = []\n",
    "y_pred_list = []\n",
    "targets = []\n",
    "\n",
    "\n",
    "model.eval()\n",
    "with torch.no_grad():\n",
    "    for X_batch, y_batch in test_loader:\n",
    "        X_batch, y_batch = X_batch.to(device), y_batch.to(device)\n",
    "        targets.append(y_batch)\n",
    "\n",
    "        y_test_pred = model(X_batch)\n",
    "        y_test_pred = torch.sigmoid(y_test_pred)\n",
    "        y_pred_tag = torch.round(y_test_pred)\n",
    "        y_pred_list_rounded.append(y_pred_tag.cpu().numpy())\n",
    "        y_pred_list.append(y_test_pred.cpu().numpy())\n",
    "\n",
    "y_pred_list_rounded = [a.squeeze().tolist() for a in y_pred_list_rounded]\n",
    "y_pred_list = [a.squeeze().tolist() for a in y_pred_list]\n",
    "targets = [a.squeeze().tolist() for a in targets]\n",
    "\n",
    "\n",
    "y_pred_list_rounded = [j for sub in y_pred_list_rounded for j in sub]\n",
    "y_pred_list = [j for sub in y_pred_list for j in sub]\n",
    "targets = [j for sub in targets for j in sub]\n",
    "\n",
    "cm = confusion_matrix(targets, y_pred_list_rounded)\n",
    "disp = ConfusionMatrixDisplay(confusion_matrix=cm, display_labels=['0', '1'])\n",
    "disp.plot()\n",
    "TP, FP, TN, FN = cm[1,1], cm[0,1], cm[0,0], cm[1,0]\n",
    "P = TP/(TP+FP)\n",
    "R = TP/(TP+FN)\n",
    "F1 = 2*P*R/(P+R)\n",
    "print(f'recall : {R}')\n",
    "print(f'precision : {P}')\n",
    "print(f'F1 : {F1}')\n",
    "print(f'acc : {(TP + TN)/(TP + TN + FP + FN)}')\n",
    "RocCurveDisplay.from_predictions(targets, y_pred_list)"
   ]
  },
  {
   "cell_type": "markdown",
   "id": "71132020-7285-435c-8a48-12a1e92693fa",
   "metadata": {},
   "source": [
    "#### model pro106"
   ]
  },
  {
   "cell_type": "code",
   "execution_count": 420,
   "id": "52b3cbad-8625-4306-bf8f-a73a62e2f41e",
   "metadata": {},
   "outputs": [],
   "source": [
    "# add one more layer to model pro100 \n",
    "class BTC_pro106(nn.Module):\n",
    "    def __init__(self):\n",
    "        super(BTC_pro106, self).__init__()\n",
    "        # Number of input features is 12.\n",
    "        self.layer_1 = nn.Linear(37, 128) \n",
    "        self.layer_2 = nn.Linear(128, 128)\n",
    "        self.layer_3 = nn.Linear(128, 64)\n",
    "        self.layer_4 = nn.Linear(64, 32)\n",
    "        self.layer_5 = nn.Linear(32, 16)\n",
    "        self.layer_out = nn.Linear(16, 1) \n",
    "        \n",
    "        self.relu = nn.ReLU()\n",
    "        self.dropout = nn.Dropout(p=0.1)\n",
    "        self.batchnorm1 = nn.BatchNorm1d(128)\n",
    "        self.batchnorm2 = nn.BatchNorm1d(128)\n",
    "        self.batchnorm3 = nn.BatchNorm1d(64)\n",
    "        self.batchnorm4 = nn.BatchNorm1d(32)\n",
    "        self.batchnorm5 = nn.BatchNorm1d(16)\n",
    "        \n",
    "    def forward(self, inputs):\n",
    "        x = self.relu(self.layer_1(inputs))\n",
    "        x = self.batchnorm1(x)\n",
    "        \n",
    "        x = self.relu(self.layer_2(x))\n",
    "        x = self.batchnorm2(x)\n",
    "        \n",
    "        x = self.relu(self.layer_3(x))\n",
    "        x = self.batchnorm3(x)\n",
    "        \n",
    "        x = self.relu(self.layer_4(x))\n",
    "        x = self.batchnorm4(x)\n",
    "        \n",
    "        x = self.relu(self.layer_5(x))\n",
    "        x = self.batchnorm5(x)\n",
    "        \n",
    "        x = self.dropout(x)\n",
    "        x = self.layer_out(x)\n",
    "        \n",
    "        return x"
   ]
  },
  {
   "cell_type": "code",
   "execution_count": 421,
   "id": "d110dc7e-f54f-4c7c-88ed-775d36909c0b",
   "metadata": {},
   "outputs": [
    {
     "name": "stdout",
     "output_type": "stream",
     "text": [
      "cuda:0\n"
     ]
    }
   ],
   "source": [
    "device = torch.device(\"cuda:0\" if torch.cuda.is_available() else \"cpu\")\n",
    "print(device)"
   ]
  },
  {
   "cell_type": "code",
   "execution_count": 422,
   "id": "77cd8c45-06f1-4cde-abc9-3e859820ec68",
   "metadata": {
    "tags": []
   },
   "outputs": [
    {
     "name": "stderr",
     "output_type": "stream",
     "text": [
      "C:\\Users\\bakhi\\anaconda3\\lib\\site-packages\\torchmetrics\\utilities\\prints.py:36: UserWarning: Metric `AUROC` will save all targets and predictions in buffer. For large datasets this may lead to large memory footprint.\n",
      "  warnings.warn(*args, **kwargs)\n"
     ]
    }
   ],
   "source": [
    "model = BTC_pro106()\n",
    "model.to(device)\n",
    "\n",
    "epochs = 50\n",
    "\n",
    "cost = torch.nn.CrossEntropyLoss()\n",
    "optimizer = torch.optim.Adam(model.parameters(), lr=0.0001)\n",
    "writer = SummaryWriter(log_dir = 'runs/' + str(model).split('(')[0])\n",
    "\n",
    "for t in range(epochs):\n",
    "    train(train_loader, model, cost, optimizer, t)\n",
    "    test(valid_loader, model, t)\n",
    "    torch.save(model.state_dict(), 'models/' + str(model).split('(')[0] + '_tvt_' + str(t) + '.pt')\n",
    "\n",
    "writer.close()\n",
    "torch.cuda.empty_cache()"
   ]
  },
  {
   "cell_type": "code",
   "execution_count": 424,
   "id": "9b3a7276-df13-4976-993d-9784287703b3",
   "metadata": {},
   "outputs": [
    {
     "name": "stdout",
     "output_type": "stream",
     "text": [
      "cpu\n"
     ]
    }
   ],
   "source": [
    "device = torch.device(\"cpu\")\n",
    "print(device)"
   ]
  },
  {
   "cell_type": "code",
   "execution_count": 439,
   "id": "70858eb6-6c4d-4b68-839b-b20dfd9b05e3",
   "metadata": {
    "tags": []
   },
   "outputs": [
    {
     "name": "stdout",
     "output_type": "stream",
     "text": [
      "recall : 0.2894736842105263\n",
      "precision : 0.3384615384615385\n",
      "F1 : 0.3120567375886525\n",
      "acc : 0.6923076923076923\n"
     ]
    },
    {
     "data": {
      "text/plain": [
       "<sklearn.metrics._plot.roc_curve.RocCurveDisplay at 0x22c617eb1f0>"
      ]
     },
     "execution_count": 439,
     "metadata": {},
     "output_type": "execute_result"
    },
    {
     "data": {
      "image/png": "[encoded data removed]",
      "text/plain": [
       "<Figure size 432x288 with 2 Axes>"
      ]
     },
     "metadata": {
      "needs_background": "light"
     },
     "output_type": "display_data"
    },
    {
     "data": {
      "image/png": "[encoded data removed]",
      "text/plain": [
       "<Figure size 432x288 with 1 Axes>"
      ]
     },
     "metadata": {
      "needs_background": "light"
     },
     "output_type": "display_data"
    }
   ],
   "source": [
    "model = BTC_pro106()\n",
    "model_name = 'models/' + str(model).split('(')[0] + '_tvt_' + str(40) + '.pt'\n",
    "state_dict = torch.load(model_name)\n",
    "model.load_state_dict(state_dict)\n",
    "\n",
    "\n",
    "y_pred_list_rounded = []\n",
    "y_pred_list = []\n",
    "targets = []\n",
    "\n",
    "\n",
    "model.eval()\n",
    "with torch.no_grad():\n",
    "    for X_batch, y_batch in test_loader:\n",
    "        X_batch, y_batch = X_batch.to(device), y_batch.to(device)\n",
    "        targets.append(y_batch)\n",
    "\n",
    "        y_test_pred = model(X_batch)\n",
    "        y_test_pred = torch.sigmoid(y_test_pred)\n",
    "        y_pred_tag = torch.round(y_test_pred)\n",
    "        y_pred_list_rounded.append(y_pred_tag.cpu().numpy())\n",
    "        y_pred_list.append(y_test_pred.cpu().numpy())\n",
    "\n",
    "y_pred_list_rounded = [a.squeeze().tolist() for a in y_pred_list_rounded]\n",
    "y_pred_list = [a.squeeze().tolist() for a in y_pred_list]\n",
    "targets = [a.squeeze().tolist() for a in targets]\n",
    "\n",
    "\n",
    "y_pred_list_rounded = [j for sub in y_pred_list_rounded for j in sub]\n",
    "y_pred_list = [j for sub in y_pred_list for j in sub]\n",
    "targets = [j for sub in targets for j in sub]\n",
    "\n",
    "cm = confusion_matrix(targets, y_pred_list_rounded)\n",
    "disp = ConfusionMatrixDisplay(confusion_matrix=cm, display_labels=['0', '1'])\n",
    "disp.plot()\n",
    "TP, FP, TN, FN = cm[1,1], cm[0,1], cm[0,0], cm[1,0]\n",
    "P = TP/(TP+FP)\n",
    "R = TP/(TP+FN)\n",
    "F1 = 2*P*R/(P+R)\n",
    "print(f'recall : {R}')\n",
    "print(f'precision : {P}')\n",
    "print(f'F1 : {F1}')\n",
    "print(f'acc : {(TP + TN)/(TP + TN + FP + FN)}')\n",
    "RocCurveDisplay.from_predictions(targets, y_pred_list)"
   ]
  },
  {
   "cell_type": "markdown",
   "id": "040df38d-f495-4dcc-986d-986f4d43cc77",
   "metadata": {},
   "source": [
    "#### model pro107"
   ]
  },
  {
   "cell_type": "code",
   "execution_count": 431,
   "id": "f3258520-9c25-46e9-82ff-e68bb13b8a86",
   "metadata": {},
   "outputs": [],
   "source": [
    "# add one more layer to model pro100 \n",
    "class BTC_pro107(nn.Module):\n",
    "    def __init__(self):\n",
    "        super(BTC_pro107, self).__init__()\n",
    "        # Number of input features is 12.\n",
    "        self.layer_1 = nn.Linear(37, 64) \n",
    "        self.layer_2 = nn.Linear(64, 32)\n",
    "        self.layer_3 = nn.Linear(32, 16)\n",
    "        self.layer_4 = nn.Linear(16, 8)\n",
    "        self.layer_out = nn.Linear(8, 1) \n",
    "        \n",
    "        self.relu = nn.ReLU()\n",
    "        self.dropout = nn.Dropout(p=0.1)\n",
    "        self.batchnorm1 = nn.BatchNorm1d(64)\n",
    "        self.batchnorm2 = nn.BatchNorm1d(32)\n",
    "        self.batchnorm3 = nn.BatchNorm1d(16)\n",
    "        self.batchnorm4 = nn.BatchNorm1d(8)\n",
    "        \n",
    "    def forward(self, inputs):\n",
    "        x = self.relu(self.layer_1(inputs))\n",
    "        x = self.batchnorm1(x)\n",
    "        \n",
    "        x = self.relu(self.layer_2(x))\n",
    "        x = self.batchnorm2(x)\n",
    "        \n",
    "        x = self.relu(self.layer_3(x))\n",
    "        x = self.batchnorm3(x)\n",
    "        \n",
    "        x = self.relu(self.layer_4(x))\n",
    "        x = self.batchnorm4(x)\n",
    "\n",
    "        \n",
    "        x = self.dropout(x)\n",
    "        x = self.layer_out(x)\n",
    "        \n",
    "        return x"
   ]
  },
  {
   "cell_type": "code",
   "execution_count": 429,
   "id": "7eb17553-f13b-4e07-bd3a-00cca6dbc818",
   "metadata": {},
   "outputs": [
    {
     "name": "stdout",
     "output_type": "stream",
     "text": [
      "cuda:0\n"
     ]
    }
   ],
   "source": [
    "device = torch.device(\"cuda:0\" if torch.cuda.is_available() else \"cpu\")\n",
    "print(device)"
   ]
  },
  {
   "cell_type": "code",
   "execution_count": 432,
   "id": "917748f6-8a38-48b7-9e83-131cee0be825",
   "metadata": {
    "tags": []
   },
   "outputs": [
    {
     "name": "stderr",
     "output_type": "stream",
     "text": [
      "C:\\Users\\bakhi\\anaconda3\\lib\\site-packages\\torchmetrics\\utilities\\prints.py:36: UserWarning: Metric `AUROC` will save all targets and predictions in buffer. For large datasets this may lead to large memory footprint.\n",
      "  warnings.warn(*args, **kwargs)\n"
     ]
    }
   ],
   "source": [
    "model = BTC_pro107()\n",
    "model.to(device)\n",
    "\n",
    "epochs = 50\n",
    "\n",
    "cost = torch.nn.CrossEntropyLoss()\n",
    "optimizer = torch.optim.Adam(model.parameters(), lr=0.0001)\n",
    "writer = SummaryWriter(log_dir = 'runs/' + str(model).split('(')[0])\n",
    "\n",
    "for t in range(epochs):\n",
    "    train(train_loader, model, cost, optimizer, t)\n",
    "    test(valid_loader, model, t)\n",
    "    torch.save(model.state_dict(), 'models/' + str(model).split('(')[0] + '_tvt_' + str(t) + '.pt')\n",
    "\n",
    "writer.close()\n",
    "torch.cuda.empty_cache()"
   ]
  },
  {
   "cell_type": "code",
   "execution_count": 433,
   "id": "8f08ab84-cd16-4af6-a5ce-f4f8e254447c",
   "metadata": {},
   "outputs": [
    {
     "name": "stdout",
     "output_type": "stream",
     "text": [
      "cpu\n"
     ]
    }
   ],
   "source": [
    "device = torch.device(\"cpu\")\n",
    "print(device)"
   ]
  },
  {
   "cell_type": "code",
   "execution_count": 437,
   "id": "43b8a0c2-6bdb-4d3e-a2f2-a2931cd920eb",
   "metadata": {
    "tags": []
   },
   "outputs": [
    {
     "name": "stdout",
     "output_type": "stream",
     "text": [
      "recall : 0.4901315789473684\n",
      "precision : 0.34651162790697676\n",
      "F1 : 0.40599455040871935\n",
      "acc : 0.6542426645519429\n"
     ]
    },
    {
     "data": {
      "text/plain": [
       "<sklearn.metrics._plot.roc_curve.RocCurveDisplay at 0x22c5e648490>"
      ]
     },
     "execution_count": 437,
     "metadata": {},
     "output_type": "execute_result"
    },
    {
     "data": {
      "image/png": "[encoded data removed]",
      "text/plain": [
       "<Figure size 432x288 with 2 Axes>"
      ]
     },
     "metadata": {
      "needs_background": "light"
     },
     "output_type": "display_data"
    },
    {
     "data": {
      "image/png": "[encoded data removed]",
      "text/plain": [
       "<Figure size 432x288 with 1 Axes>"
      ]
     },
     "metadata": {
      "needs_background": "light"
     },
     "output_type": "display_data"
    }
   ],
   "source": [
    "model = BTC_pro107()\n",
    "model_name = 'models/' + str(model).split('(')[0] + '_tvt_' + str(40) + '.pt'\n",
    "state_dict = torch.load(model_name)\n",
    "model.load_state_dict(state_dict)\n",
    "\n",
    "\n",
    "y_pred_list_rounded = []\n",
    "y_pred_list = []\n",
    "targets = []\n",
    "\n",
    "\n",
    "model.eval()\n",
    "with torch.no_grad():\n",
    "    for X_batch, y_batch in test_loader:\n",
    "        X_batch, y_batch = X_batch.to(device), y_batch.to(device)\n",
    "        targets.append(y_batch)\n",
    "\n",
    "        y_test_pred = model(X_batch)\n",
    "        y_test_pred = torch.sigmoid(y_test_pred)\n",
    "        y_pred_tag = torch.round(y_test_pred)\n",
    "        y_pred_list_rounded.append(y_pred_tag.cpu().numpy())\n",
    "        y_pred_list.append(y_test_pred.cpu().numpy())\n",
    "\n",
    "y_pred_list_rounded = [a.squeeze().tolist() for a in y_pred_list_rounded]\n",
    "y_pred_list = [a.squeeze().tolist() for a in y_pred_list]\n",
    "targets = [a.squeeze().tolist() for a in targets]\n",
    "\n",
    "\n",
    "y_pred_list_rounded = [j for sub in y_pred_list_rounded for j in sub]\n",
    "y_pred_list = [j for sub in y_pred_list for j in sub]\n",
    "targets = [j for sub in targets for j in sub]\n",
    "\n",
    "cm = confusion_matrix(targets, y_pred_list_rounded)\n",
    "disp = ConfusionMatrixDisplay(confusion_matrix=cm, display_labels=['0', '1'])\n",
    "disp.plot()\n",
    "TP, FP, TN, FN = cm[1,1], cm[0,1], cm[0,0], cm[1,0]\n",
    "P = TP/(TP+FP)\n",
    "R = TP/(TP+FN)\n",
    "F1 = 2*P*R/(P+R)\n",
    "print(f'recall : {R}')\n",
    "print(f'precision : {P}')\n",
    "print(f'F1 : {F1}')\n",
    "print(f'acc : {(TP + TN)/(TP + TN + FP + FN)}')\n",
    "RocCurveDisplay.from_predictions(targets, y_pred_list)"
   ]
  },
  {
   "cell_type": "markdown",
   "id": "3d5ab6b0-aa92-4752-a5fa-6ccc362f54df",
   "metadata": {},
   "source": [
    "# OPTUNA for model pro107"
   ]
  },
  {
   "cell_type": "code",
   "execution_count": 472,
   "id": "9ea70177-9d25-4d46-b25a-e78a302d238c",
   "metadata": {},
   "outputs": [],
   "source": [
    "# add one more layer to model pro100 \n",
    "class BTC_pro107_tune(nn.Module):\n",
    "    def __init__(self, trial):\n",
    "        super(BTC_pro107_tune, self).__init__()\n",
    "        \n",
    "        linear_size1 = trial.suggest_int(\"linear_size1\", 32, 64, step=4)\n",
    "        linear_size2 = trial.suggest_int(\"linear_size2\", 24, 48, step=2)\n",
    "        linear_size3 = trial.suggest_int(\"linear_size3\", 10, 32, step=2)\n",
    "        linear_size4 = trial.suggest_int(\"linear_size4\", 2, 8, step=2)\n",
    "        \n",
    "\n",
    "        self.layer_1 = nn.Linear(37, linear_size1) \n",
    "        self.layer_2 = nn.Linear(linear_size1, linear_size2)\n",
    "        self.layer_3 = nn.Linear(linear_size2, linear_size3)\n",
    "        self.layer_4 = nn.Linear(linear_size3, linear_size4)\n",
    "        self.layer_out = nn.Linear(linear_size4, 1) \n",
    "        \n",
    "        self.relu = nn.ReLU()\n",
    "        \n",
    "        dropout_rate = trial.suggest_float(\"dropout_rate\", 0.1, 0.5,step=0.1)\n",
    "        \n",
    "        self.dropout = nn.Dropout(p=dropout_rate)\n",
    "        self.batchnorm1 = nn.BatchNorm1d(linear_size1)\n",
    "        self.batchnorm2 = nn.BatchNorm1d(linear_size2)\n",
    "        self.batchnorm3 = nn.BatchNorm1d(linear_size3)\n",
    "        self.batchnorm4 = nn.BatchNorm1d(linear_size4)\n",
    "        \n",
    "    def forward(self, inputs):\n",
    "        x = self.relu(self.layer_1(inputs))\n",
    "        x = self.batchnorm1(x)\n",
    "        \n",
    "        x = self.relu(self.layer_2(x))\n",
    "        x = self.batchnorm2(x)\n",
    "        \n",
    "        x = self.relu(self.layer_3(x))\n",
    "        x = self.batchnorm3(x)\n",
    "        \n",
    "        x = self.relu(self.layer_4(x))\n",
    "        x = self.batchnorm4(x)\n",
    "\n",
    "        \n",
    "        x = self.dropout(x)\n",
    "        x = self.layer_out(x)\n",
    "        \n",
    "        return x"
   ]
  },
  {
   "cell_type": "code",
   "execution_count": 473,
   "id": "818a5bd7-9340-4301-916e-ec507af28103",
   "metadata": {},
   "outputs": [],
   "source": [
    "def objective(trial):\n",
    "    \n",
    "    best_total_auc = 0\n",
    "    model = BTC_pro107_tune(trial).to(device)\n",
    "    optimizer_name = \"Adam\"\n",
    "    lr = 1e-4\n",
    "    optimizer = getattr(optim, optimizer_name)(model.parameters(), lr=lr)\n",
    "\n",
    "    train_loader = DataLoader(dataset=train_data, batch_size=BATCH_SIZE, shuffle=True)\n",
    "    valid_loader = DataLoader(dataset=valid_data, batch_size=BATCH_SIZE, shuffle=True)\n",
    "\n",
    "    #criterion=nn.CrossEntropyLoss()\n",
    "    criterion=nn.BCEWithLogitsLoss()\n",
    "    # Training of the model.\n",
    "    for epoch in range(40):\n",
    "        model.train()\n",
    "        for X_batch, y_batch in train_loader:\n",
    "            X_batch, y_batch = X_batch.to(device), y_batch.to(device)\n",
    "            optimizer.zero_grad()\n",
    "            y_pred = model(X_batch)\n",
    "            #y_batch = y_batch.type(torch.int)\n",
    "            loss = criterion(y_pred, y_batch.unsqueeze(1))\n",
    "            loss.backward()\n",
    "            optimizer.step()\n",
    "\n",
    "        # Validation of the model.\n",
    "        model.eval()\n",
    "        correct = 0\n",
    "        AUC = AUROC()\n",
    "        \n",
    "        with torch.no_grad():\n",
    "            for X_batch, y_batch in valid_loader:\n",
    "                X_batch, y_batch = X_batch.to(device), y_batch.to(device)\n",
    "\n",
    "                y_test_pred = model(X_batch)\n",
    "                y_test_pred = torch.sigmoid(y_test_pred)\n",
    "                y_batch = y_batch.type(torch.int)\n",
    "                prediction = y_test_pred.T[0]\n",
    "                AUC(prediction, y_batch)\n",
    "\n",
    "        total_auc = AUC.compute()\n",
    "        \n",
    "        if best_total_auc < total_auc:\n",
    "            best_total_auc = total_auc\n",
    "        \n",
    "        trial.report(best_total_auc, epoch)\n",
    "        AUC.reset()\n",
    "\n",
    "        # Handle pruning based on the intermediate value.\n",
    "        if trial.should_prune():\n",
    "            raise optuna.exceptions.TrialPruned()\n",
    "            \n",
    "    return best_total_auc"
   ]
  },
  {
   "cell_type": "code",
   "execution_count": 469,
   "id": "90587e7e-1114-4dc5-b2ee-78e99347751f",
   "metadata": {
    "collapsed": true,
    "jupyter": {
     "outputs_hidden": true
    },
    "tags": []
   },
   "outputs": [
    {
     "name": "stderr",
     "output_type": "stream",
     "text": [
      "\u001b[32m[I 2022-07-29 17:50:02,739]\u001b[0m A new study created in memory with name: no-name-d4b51e24-a764-47fe-841d-272abed021f9\u001b[0m\n",
      "C:\\Users\\bakhi\\anaconda3\\lib\\site-packages\\torchmetrics\\utilities\\prints.py:36: UserWarning: Metric `AUROC` will save all targets and predictions in buffer. For large datasets this may lead to large memory footprint.\n",
      "  warnings.warn(*args, **kwargs)\n",
      "\u001b[32m[I 2022-07-29 17:50:14,822]\u001b[0m Trial 0 finished with value: 0.6318953037261963 and parameters: {'linear_size1': 64, 'linear_size2': 16, 'linear_size3': 8, 'linear_size4': 4, 'dropout_rate': 0.4}. Best is trial 0 with value: 0.6318953037261963.\u001b[0m\n",
      "C:\\Users\\bakhi\\anaconda3\\lib\\site-packages\\torchmetrics\\utilities\\prints.py:36: UserWarning: Metric `AUROC` will save all targets and predictions in buffer. For large datasets this may lead to large memory footprint.\n",
      "  warnings.warn(*args, **kwargs)\n",
      "\u001b[32m[I 2022-07-29 17:50:27,239]\u001b[0m Trial 1 finished with value: 0.636768102645874 and parameters: {'linear_size1': 44, 'linear_size2': 32, 'linear_size3': 12, 'linear_size4': 16, 'dropout_rate': 0.1}. Best is trial 1 with value: 0.636768102645874.\u001b[0m\n",
      "C:\\Users\\bakhi\\anaconda3\\lib\\site-packages\\torchmetrics\\utilities\\prints.py:36: UserWarning: Metric `AUROC` will save all targets and predictions in buffer. For large datasets this may lead to large memory footprint.\n",
      "  warnings.warn(*args, **kwargs)\n",
      "\u001b[32m[I 2022-07-29 17:50:39,797]\u001b[0m Trial 2 finished with value: 0.6323986649513245 and parameters: {'linear_size1': 40, 'linear_size2': 48, 'linear_size3': 20, 'linear_size4': 16, 'dropout_rate': 0.30000000000000004}. Best is trial 1 with value: 0.636768102645874.\u001b[0m\n",
      "C:\\Users\\bakhi\\anaconda3\\lib\\site-packages\\torchmetrics\\utilities\\prints.py:36: UserWarning: Metric `AUROC` will save all targets and predictions in buffer. For large datasets this may lead to large memory footprint.\n",
      "  warnings.warn(*args, **kwargs)\n",
      "\u001b[32m[I 2022-07-29 17:50:52,600]\u001b[0m Trial 3 finished with value: 0.649896502494812 and parameters: {'linear_size1': 64, 'linear_size2': 28, 'linear_size3': 28, 'linear_size4': 16, 'dropout_rate': 0.5}. Best is trial 3 with value: 0.649896502494812.\u001b[0m\n",
      "C:\\Users\\bakhi\\anaconda3\\lib\\site-packages\\torchmetrics\\utilities\\prints.py:36: UserWarning: Metric `AUROC` will save all targets and predictions in buffer. For large datasets this may lead to large memory footprint.\n",
      "  warnings.warn(*args, **kwargs)\n",
      "\u001b[32m[I 2022-07-29 17:51:05,092]\u001b[0m Trial 4 finished with value: 0.6454267501831055 and parameters: {'linear_size1': 60, 'linear_size2': 16, 'linear_size3': 24, 'linear_size4': 24, 'dropout_rate': 0.30000000000000004}. Best is trial 3 with value: 0.649896502494812.\u001b[0m\n",
      "C:\\Users\\bakhi\\anaconda3\\lib\\site-packages\\torchmetrics\\utilities\\prints.py:36: UserWarning: Metric `AUROC` will save all targets and predictions in buffer. For large datasets this may lead to large memory footprint.\n",
      "  warnings.warn(*args, **kwargs)\n",
      "\u001b[32m[I 2022-07-29 17:51:05,407]\u001b[0m Trial 5 pruned. \u001b[0m\n",
      "C:\\Users\\bakhi\\anaconda3\\lib\\site-packages\\torchmetrics\\utilities\\prints.py:36: UserWarning: Metric `AUROC` will save all targets and predictions in buffer. For large datasets this may lead to large memory footprint.\n",
      "  warnings.warn(*args, **kwargs)\n",
      "\u001b[32m[I 2022-07-29 17:51:06,287]\u001b[0m Trial 6 pruned. \u001b[0m\n",
      "C:\\Users\\bakhi\\anaconda3\\lib\\site-packages\\torchmetrics\\utilities\\prints.py:36: UserWarning: Metric `AUROC` will save all targets and predictions in buffer. For large datasets this may lead to large memory footprint.\n",
      "  warnings.warn(*args, **kwargs)\n",
      "\u001b[32m[I 2022-07-29 17:51:06,951]\u001b[0m Trial 7 pruned. \u001b[0m\n",
      "C:\\Users\\bakhi\\anaconda3\\lib\\site-packages\\torchmetrics\\utilities\\prints.py:36: UserWarning: Metric `AUROC` will save all targets and predictions in buffer. For large datasets this may lead to large memory footprint.\n",
      "  warnings.warn(*args, **kwargs)\n",
      "\u001b[32m[I 2022-07-29 17:51:08,559]\u001b[0m Trial 8 pruned. \u001b[0m\n",
      "C:\\Users\\bakhi\\anaconda3\\lib\\site-packages\\torchmetrics\\utilities\\prints.py:36: UserWarning: Metric `AUROC` will save all targets and predictions in buffer. For large datasets this may lead to large memory footprint.\n",
      "  warnings.warn(*args, **kwargs)\n",
      "\u001b[32m[I 2022-07-29 17:51:09,213]\u001b[0m Trial 9 pruned. \u001b[0m\n",
      "C:\\Users\\bakhi\\anaconda3\\lib\\site-packages\\torchmetrics\\utilities\\prints.py:36: UserWarning: Metric `AUROC` will save all targets and predictions in buffer. For large datasets this may lead to large memory footprint.\n",
      "  warnings.warn(*args, **kwargs)\n",
      "\u001b[32m[I 2022-07-29 17:51:21,896]\u001b[0m Trial 10 finished with value: 0.6499370336532593 and parameters: {'linear_size1': 56, 'linear_size2': 28, 'linear_size3': 32, 'linear_size4': 8, 'dropout_rate': 0.5}. Best is trial 10 with value: 0.6499370336532593.\u001b[0m\n",
      "C:\\Users\\bakhi\\anaconda3\\lib\\site-packages\\torchmetrics\\utilities\\prints.py:36: UserWarning: Metric `AUROC` will save all targets and predictions in buffer. For large datasets this may lead to large memory footprint.\n",
      "  warnings.warn(*args, **kwargs)\n",
      "\u001b[32m[I 2022-07-29 17:51:22,553]\u001b[0m Trial 11 pruned. \u001b[0m\n",
      "C:\\Users\\bakhi\\anaconda3\\lib\\site-packages\\torchmetrics\\utilities\\prints.py:36: UserWarning: Metric `AUROC` will save all targets and predictions in buffer. For large datasets this may lead to large memory footprint.\n",
      "  warnings.warn(*args, **kwargs)\n",
      "\u001b[32m[I 2022-07-29 17:51:35,695]\u001b[0m Trial 12 finished with value: 0.6783304810523987 and parameters: {'linear_size1': 64, 'linear_size2': 24, 'linear_size3': 28, 'linear_size4': 8, 'dropout_rate': 0.4}. Best is trial 12 with value: 0.6783304810523987.\u001b[0m\n",
      "C:\\Users\\bakhi\\anaconda3\\lib\\site-packages\\torchmetrics\\utilities\\prints.py:36: UserWarning: Metric `AUROC` will save all targets and predictions in buffer. For large datasets this may lead to large memory footprint.\n",
      "  warnings.warn(*args, **kwargs)\n",
      "\u001b[32m[I 2022-07-29 17:51:36,073]\u001b[0m Trial 13 pruned. \u001b[0m\n",
      "C:\\Users\\bakhi\\anaconda3\\lib\\site-packages\\torchmetrics\\utilities\\prints.py:36: UserWarning: Metric `AUROC` will save all targets and predictions in buffer. For large datasets this may lead to large memory footprint.\n",
      "  warnings.warn(*args, **kwargs)\n",
      "\u001b[32m[I 2022-07-29 17:51:49,309]\u001b[0m Trial 14 finished with value: 0.6559473276138306 and parameters: {'linear_size1': 52, 'linear_size2': 40, 'linear_size3': 28, 'linear_size4': 8, 'dropout_rate': 0.4}. Best is trial 12 with value: 0.6783304810523987.\u001b[0m\n",
      "C:\\Users\\bakhi\\anaconda3\\lib\\site-packages\\torchmetrics\\utilities\\prints.py:36: UserWarning: Metric `AUROC` will save all targets and predictions in buffer. For large datasets this may lead to large memory footprint.\n",
      "  warnings.warn(*args, **kwargs)\n",
      "\u001b[32m[I 2022-07-29 17:51:50,239]\u001b[0m Trial 15 pruned. \u001b[0m\n",
      "C:\\Users\\bakhi\\anaconda3\\lib\\site-packages\\torchmetrics\\utilities\\prints.py:36: UserWarning: Metric `AUROC` will save all targets and predictions in buffer. For large datasets this may lead to large memory footprint.\n",
      "  warnings.warn(*args, **kwargs)\n",
      "\u001b[32m[I 2022-07-29 17:51:50,585]\u001b[0m Trial 16 pruned. \u001b[0m\n",
      "C:\\Users\\bakhi\\anaconda3\\lib\\site-packages\\torchmetrics\\utilities\\prints.py:36: UserWarning: Metric `AUROC` will save all targets and predictions in buffer. For large datasets this may lead to large memory footprint.\n",
      "  warnings.warn(*args, **kwargs)\n",
      "\u001b[32m[I 2022-07-29 17:51:50,929]\u001b[0m Trial 17 pruned. \u001b[0m\n",
      "C:\\Users\\bakhi\\anaconda3\\lib\\site-packages\\torchmetrics\\utilities\\prints.py:36: UserWarning: Metric `AUROC` will save all targets and predictions in buffer. For large datasets this may lead to large memory footprint.\n",
      "  warnings.warn(*args, **kwargs)\n",
      "\u001b[32m[I 2022-07-29 17:51:51,266]\u001b[0m Trial 18 pruned. \u001b[0m\n",
      "C:\\Users\\bakhi\\anaconda3\\lib\\site-packages\\torchmetrics\\utilities\\prints.py:36: UserWarning: Metric `AUROC` will save all targets and predictions in buffer. For large datasets this may lead to large memory footprint.\n",
      "  warnings.warn(*args, **kwargs)\n",
      "\u001b[32m[I 2022-07-29 17:51:51,589]\u001b[0m Trial 19 pruned. \u001b[0m\n",
      "C:\\Users\\bakhi\\anaconda3\\lib\\site-packages\\torchmetrics\\utilities\\prints.py:36: UserWarning: Metric `AUROC` will save all targets and predictions in buffer. For large datasets this may lead to large memory footprint.\n",
      "  warnings.warn(*args, **kwargs)\n",
      "\u001b[32m[I 2022-07-29 17:52:04,702]\u001b[0m Trial 20 finished with value: 0.6583911180496216 and parameters: {'linear_size1': 60, 'linear_size2': 36, 'linear_size3': 24, 'linear_size4': 12, 'dropout_rate': 0.4}. Best is trial 12 with value: 0.6783304810523987.\u001b[0m\n",
      "C:\\Users\\bakhi\\anaconda3\\lib\\site-packages\\torchmetrics\\utilities\\prints.py:36: UserWarning: Metric `AUROC` will save all targets and predictions in buffer. For large datasets this may lead to large memory footprint.\n",
      "  warnings.warn(*args, **kwargs)\n",
      "\u001b[32m[I 2022-07-29 17:52:05,664]\u001b[0m Trial 21 pruned. \u001b[0m\n",
      "C:\\Users\\bakhi\\anaconda3\\lib\\site-packages\\torchmetrics\\utilities\\prints.py:36: UserWarning: Metric `AUROC` will save all targets and predictions in buffer. For large datasets this may lead to large memory footprint.\n",
      "  warnings.warn(*args, **kwargs)\n",
      "\u001b[32m[I 2022-07-29 17:52:06,004]\u001b[0m Trial 22 pruned. \u001b[0m\n",
      "C:\\Users\\bakhi\\anaconda3\\lib\\site-packages\\torchmetrics\\utilities\\prints.py:36: UserWarning: Metric `AUROC` will save all targets and predictions in buffer. For large datasets this may lead to large memory footprint.\n",
      "  warnings.warn(*args, **kwargs)\n",
      "\u001b[32m[I 2022-07-29 17:52:06,342]\u001b[0m Trial 23 pruned. \u001b[0m\n",
      "C:\\Users\\bakhi\\anaconda3\\lib\\site-packages\\torchmetrics\\utilities\\prints.py:36: UserWarning: Metric `AUROC` will save all targets and predictions in buffer. For large datasets this may lead to large memory footprint.\n",
      "  warnings.warn(*args, **kwargs)\n",
      "\u001b[32m[I 2022-07-29 17:52:06,675]\u001b[0m Trial 24 pruned. \u001b[0m\n",
      "C:\\Users\\bakhi\\anaconda3\\lib\\site-packages\\torchmetrics\\utilities\\prints.py:36: UserWarning: Metric `AUROC` will save all targets and predictions in buffer. For large datasets this may lead to large memory footprint.\n",
      "  warnings.warn(*args, **kwargs)\n",
      "\u001b[32m[I 2022-07-29 17:52:11,824]\u001b[0m Trial 25 pruned. \u001b[0m\n",
      "C:\\Users\\bakhi\\anaconda3\\lib\\site-packages\\torchmetrics\\utilities\\prints.py:36: UserWarning: Metric `AUROC` will save all targets and predictions in buffer. For large datasets this may lead to large memory footprint.\n",
      "  warnings.warn(*args, **kwargs)\n",
      "\u001b[32m[I 2022-07-29 17:52:12,137]\u001b[0m Trial 26 pruned. \u001b[0m\n",
      "C:\\Users\\bakhi\\anaconda3\\lib\\site-packages\\torchmetrics\\utilities\\prints.py:36: UserWarning: Metric `AUROC` will save all targets and predictions in buffer. For large datasets this may lead to large memory footprint.\n",
      "  warnings.warn(*args, **kwargs)\n",
      "\u001b[32m[I 2022-07-29 17:52:13,762]\u001b[0m Trial 27 pruned. \u001b[0m\n",
      "C:\\Users\\bakhi\\anaconda3\\lib\\site-packages\\torchmetrics\\utilities\\prints.py:36: UserWarning: Metric `AUROC` will save all targets and predictions in buffer. For large datasets this may lead to large memory footprint.\n",
      "  warnings.warn(*args, **kwargs)\n",
      "\u001b[32m[I 2022-07-29 17:52:14,743]\u001b[0m Trial 28 pruned. \u001b[0m\n",
      "C:\\Users\\bakhi\\anaconda3\\lib\\site-packages\\torchmetrics\\utilities\\prints.py:36: UserWarning: Metric `AUROC` will save all targets and predictions in buffer. For large datasets this may lead to large memory footprint.\n",
      "  warnings.warn(*args, **kwargs)\n",
      "\u001b[32m[I 2022-07-29 17:52:26,844]\u001b[0m Trial 29 finished with value: 0.6788530945777893 and parameters: {'linear_size1': 48, 'linear_size2': 32, 'linear_size3': 16, 'linear_size4': 4, 'dropout_rate': 0.4}. Best is trial 29 with value: 0.6788530945777893.\u001b[0m\n",
      "C:\\Users\\bakhi\\anaconda3\\lib\\site-packages\\torchmetrics\\utilities\\prints.py:36: UserWarning: Metric `AUROC` will save all targets and predictions in buffer. For large datasets this may lead to large memory footprint.\n",
      "  warnings.warn(*args, **kwargs)\n",
      "\u001b[32m[I 2022-07-29 17:52:27,155]\u001b[0m Trial 30 pruned. \u001b[0m\n",
      "C:\\Users\\bakhi\\anaconda3\\lib\\site-packages\\torchmetrics\\utilities\\prints.py:36: UserWarning: Metric `AUROC` will save all targets and predictions in buffer. For large datasets this may lead to large memory footprint.\n",
      "  warnings.warn(*args, **kwargs)\n",
      "\u001b[32m[I 2022-07-29 17:52:27,467]\u001b[0m Trial 31 pruned. \u001b[0m\n",
      "C:\\Users\\bakhi\\anaconda3\\lib\\site-packages\\torchmetrics\\utilities\\prints.py:36: UserWarning: Metric `AUROC` will save all targets and predictions in buffer. For large datasets this may lead to large memory footprint.\n",
      "  warnings.warn(*args, **kwargs)\n",
      "\u001b[32m[I 2022-07-29 17:52:28,689]\u001b[0m Trial 32 pruned. \u001b[0m\n",
      "C:\\Users\\bakhi\\anaconda3\\lib\\site-packages\\torchmetrics\\utilities\\prints.py:36: UserWarning: Metric `AUROC` will save all targets and predictions in buffer. For large datasets this may lead to large memory footprint.\n",
      "  warnings.warn(*args, **kwargs)\n",
      "\u001b[32m[I 2022-07-29 17:52:29,012]\u001b[0m Trial 33 pruned. \u001b[0m\n",
      "C:\\Users\\bakhi\\anaconda3\\lib\\site-packages\\torchmetrics\\utilities\\prints.py:36: UserWarning: Metric `AUROC` will save all targets and predictions in buffer. For large datasets this may lead to large memory footprint.\n",
      "  warnings.warn(*args, **kwargs)\n",
      "\u001b[32m[I 2022-07-29 17:52:29,314]\u001b[0m Trial 34 pruned. \u001b[0m\n",
      "C:\\Users\\bakhi\\anaconda3\\lib\\site-packages\\torchmetrics\\utilities\\prints.py:36: UserWarning: Metric `AUROC` will save all targets and predictions in buffer. For large datasets this may lead to large memory footprint.\n",
      "  warnings.warn(*args, **kwargs)\n",
      "\u001b[32m[I 2022-07-29 17:52:29,644]\u001b[0m Trial 35 pruned. \u001b[0m\n",
      "C:\\Users\\bakhi\\anaconda3\\lib\\site-packages\\torchmetrics\\utilities\\prints.py:36: UserWarning: Metric `AUROC` will save all targets and predictions in buffer. For large datasets this may lead to large memory footprint.\n",
      "  warnings.warn(*args, **kwargs)\n",
      "\u001b[32m[I 2022-07-29 17:52:29,963]\u001b[0m Trial 36 pruned. \u001b[0m\n",
      "C:\\Users\\bakhi\\anaconda3\\lib\\site-packages\\torchmetrics\\utilities\\prints.py:36: UserWarning: Metric `AUROC` will save all targets and predictions in buffer. For large datasets this may lead to large memory footprint.\n",
      "  warnings.warn(*args, **kwargs)\n",
      "\u001b[32m[I 2022-07-29 17:52:30,279]\u001b[0m Trial 37 pruned. \u001b[0m\n",
      "C:\\Users\\bakhi\\anaconda3\\lib\\site-packages\\torchmetrics\\utilities\\prints.py:36: UserWarning: Metric `AUROC` will save all targets and predictions in buffer. For large datasets this may lead to large memory footprint.\n",
      "  warnings.warn(*args, **kwargs)\n",
      "\u001b[32m[I 2022-07-29 17:52:30,597]\u001b[0m Trial 38 pruned. \u001b[0m\n",
      "C:\\Users\\bakhi\\anaconda3\\lib\\site-packages\\torchmetrics\\utilities\\prints.py:36: UserWarning: Metric `AUROC` will save all targets and predictions in buffer. For large datasets this may lead to large memory footprint.\n",
      "  warnings.warn(*args, **kwargs)\n",
      "\u001b[32m[I 2022-07-29 17:52:30,927]\u001b[0m Trial 39 pruned. \u001b[0m\n",
      "C:\\Users\\bakhi\\anaconda3\\lib\\site-packages\\torchmetrics\\utilities\\prints.py:36: UserWarning: Metric `AUROC` will save all targets and predictions in buffer. For large datasets this may lead to large memory footprint.\n",
      "  warnings.warn(*args, **kwargs)\n",
      "\u001b[32m[I 2022-07-29 17:52:31,259]\u001b[0m Trial 40 pruned. \u001b[0m\n",
      "C:\\Users\\bakhi\\anaconda3\\lib\\site-packages\\torchmetrics\\utilities\\prints.py:36: UserWarning: Metric `AUROC` will save all targets and predictions in buffer. For large datasets this may lead to large memory footprint.\n",
      "  warnings.warn(*args, **kwargs)\n",
      "\u001b[32m[I 2022-07-29 17:52:31,585]\u001b[0m Trial 41 pruned. \u001b[0m\n",
      "C:\\Users\\bakhi\\anaconda3\\lib\\site-packages\\torchmetrics\\utilities\\prints.py:36: UserWarning: Metric `AUROC` will save all targets and predictions in buffer. For large datasets this may lead to large memory footprint.\n",
      "  warnings.warn(*args, **kwargs)\n",
      "\u001b[32m[I 2022-07-29 17:52:31,896]\u001b[0m Trial 42 pruned. \u001b[0m\n",
      "C:\\Users\\bakhi\\anaconda3\\lib\\site-packages\\torchmetrics\\utilities\\prints.py:36: UserWarning: Metric `AUROC` will save all targets and predictions in buffer. For large datasets this may lead to large memory footprint.\n",
      "  warnings.warn(*args, **kwargs)\n",
      "\u001b[32m[I 2022-07-29 17:52:32,220]\u001b[0m Trial 43 pruned. \u001b[0m\n",
      "C:\\Users\\bakhi\\anaconda3\\lib\\site-packages\\torchmetrics\\utilities\\prints.py:36: UserWarning: Metric `AUROC` will save all targets and predictions in buffer. For large datasets this may lead to large memory footprint.\n",
      "  warnings.warn(*args, **kwargs)\n",
      "\u001b[32m[I 2022-07-29 17:52:32,858]\u001b[0m Trial 44 pruned. \u001b[0m\n",
      "C:\\Users\\bakhi\\anaconda3\\lib\\site-packages\\torchmetrics\\utilities\\prints.py:36: UserWarning: Metric `AUROC` will save all targets and predictions in buffer. For large datasets this may lead to large memory footprint.\n",
      "  warnings.warn(*args, **kwargs)\n",
      "\u001b[32m[I 2022-07-29 17:52:45,626]\u001b[0m Trial 45 finished with value: 0.6744248270988464 and parameters: {'linear_size1': 56, 'linear_size2': 32, 'linear_size3': 28, 'linear_size4': 8, 'dropout_rate': 0.30000000000000004}. Best is trial 29 with value: 0.6788530945777893.\u001b[0m\n",
      "C:\\Users\\bakhi\\anaconda3\\lib\\site-packages\\torchmetrics\\utilities\\prints.py:36: UserWarning: Metric `AUROC` will save all targets and predictions in buffer. For large datasets this may lead to large memory footprint.\n",
      "  warnings.warn(*args, **kwargs)\n",
      "\u001b[32m[I 2022-07-29 17:52:46,276]\u001b[0m Trial 46 pruned. \u001b[0m\n",
      "C:\\Users\\bakhi\\anaconda3\\lib\\site-packages\\torchmetrics\\utilities\\prints.py:36: UserWarning: Metric `AUROC` will save all targets and predictions in buffer. For large datasets this may lead to large memory footprint.\n",
      "  warnings.warn(*args, **kwargs)\n",
      "\u001b[32m[I 2022-07-29 17:52:46,609]\u001b[0m Trial 47 pruned. \u001b[0m\n",
      "C:\\Users\\bakhi\\anaconda3\\lib\\site-packages\\torchmetrics\\utilities\\prints.py:36: UserWarning: Metric `AUROC` will save all targets and predictions in buffer. For large datasets this may lead to large memory footprint.\n",
      "  warnings.warn(*args, **kwargs)\n",
      "\u001b[32m[I 2022-07-29 17:52:48,169]\u001b[0m Trial 48 pruned. \u001b[0m\n",
      "C:\\Users\\bakhi\\anaconda3\\lib\\site-packages\\torchmetrics\\utilities\\prints.py:36: UserWarning: Metric `AUROC` will save all targets and predictions in buffer. For large datasets this may lead to large memory footprint.\n",
      "  warnings.warn(*args, **kwargs)\n",
      "\u001b[32m[I 2022-07-29 17:52:48,509]\u001b[0m Trial 49 pruned. \u001b[0m\n",
      "C:\\Users\\bakhi\\anaconda3\\lib\\site-packages\\torchmetrics\\utilities\\prints.py:36: UserWarning: Metric `AUROC` will save all targets and predictions in buffer. For large datasets this may lead to large memory footprint.\n",
      "  warnings.warn(*args, **kwargs)\n",
      "\u001b[32m[I 2022-07-29 17:52:48,824]\u001b[0m Trial 50 pruned. \u001b[0m\n",
      "C:\\Users\\bakhi\\anaconda3\\lib\\site-packages\\torchmetrics\\utilities\\prints.py:36: UserWarning: Metric `AUROC` will save all targets and predictions in buffer. For large datasets this may lead to large memory footprint.\n",
      "  warnings.warn(*args, **kwargs)\n",
      "\u001b[32m[I 2022-07-29 17:52:49,164]\u001b[0m Trial 51 pruned. \u001b[0m\n",
      "C:\\Users\\bakhi\\anaconda3\\lib\\site-packages\\torchmetrics\\utilities\\prints.py:36: UserWarning: Metric `AUROC` will save all targets and predictions in buffer. For large datasets this may lead to large memory footprint.\n",
      "  warnings.warn(*args, **kwargs)\n",
      "\u001b[32m[I 2022-07-29 17:52:49,481]\u001b[0m Trial 52 pruned. \u001b[0m\n",
      "C:\\Users\\bakhi\\anaconda3\\lib\\site-packages\\torchmetrics\\utilities\\prints.py:36: UserWarning: Metric `AUROC` will save all targets and predictions in buffer. For large datasets this may lead to large memory footprint.\n",
      "  warnings.warn(*args, **kwargs)\n",
      "\u001b[32m[I 2022-07-29 17:52:55,936]\u001b[0m Trial 53 pruned. \u001b[0m\n",
      "C:\\Users\\bakhi\\anaconda3\\lib\\site-packages\\torchmetrics\\utilities\\prints.py:36: UserWarning: Metric `AUROC` will save all targets and predictions in buffer. For large datasets this may lead to large memory footprint.\n",
      "  warnings.warn(*args, **kwargs)\n",
      "\u001b[32m[I 2022-07-29 17:52:56,573]\u001b[0m Trial 54 pruned. \u001b[0m\n",
      "C:\\Users\\bakhi\\anaconda3\\lib\\site-packages\\torchmetrics\\utilities\\prints.py:36: UserWarning: Metric `AUROC` will save all targets and predictions in buffer. For large datasets this may lead to large memory footprint.\n",
      "  warnings.warn(*args, **kwargs)\n",
      "\u001b[32m[I 2022-07-29 17:52:56,912]\u001b[0m Trial 55 pruned. \u001b[0m\n",
      "C:\\Users\\bakhi\\anaconda3\\lib\\site-packages\\torchmetrics\\utilities\\prints.py:36: UserWarning: Metric `AUROC` will save all targets and predictions in buffer. For large datasets this may lead to large memory footprint.\n",
      "  warnings.warn(*args, **kwargs)\n",
      "\u001b[32m[I 2022-07-29 17:52:59,080]\u001b[0m Trial 56 pruned. \u001b[0m\n",
      "C:\\Users\\bakhi\\anaconda3\\lib\\site-packages\\torchmetrics\\utilities\\prints.py:36: UserWarning: Metric `AUROC` will save all targets and predictions in buffer. For large datasets this may lead to large memory footprint.\n",
      "  warnings.warn(*args, **kwargs)\n",
      "\u001b[32m[I 2022-07-29 17:52:59,395]\u001b[0m Trial 57 pruned. \u001b[0m\n",
      "C:\\Users\\bakhi\\anaconda3\\lib\\site-packages\\torchmetrics\\utilities\\prints.py:36: UserWarning: Metric `AUROC` will save all targets and predictions in buffer. For large datasets this may lead to large memory footprint.\n",
      "  warnings.warn(*args, **kwargs)\n",
      "\u001b[32m[I 2022-07-29 17:52:59,737]\u001b[0m Trial 58 pruned. \u001b[0m\n",
      "C:\\Users\\bakhi\\anaconda3\\lib\\site-packages\\torchmetrics\\utilities\\prints.py:36: UserWarning: Metric `AUROC` will save all targets and predictions in buffer. For large datasets this may lead to large memory footprint.\n",
      "  warnings.warn(*args, **kwargs)\n",
      "\u001b[32m[I 2022-07-29 17:53:00,071]\u001b[0m Trial 59 pruned. \u001b[0m\n",
      "C:\\Users\\bakhi\\anaconda3\\lib\\site-packages\\torchmetrics\\utilities\\prints.py:36: UserWarning: Metric `AUROC` will save all targets and predictions in buffer. For large datasets this may lead to large memory footprint.\n",
      "  warnings.warn(*args, **kwargs)\n",
      "\u001b[32m[I 2022-07-29 17:53:00,421]\u001b[0m Trial 60 pruned. \u001b[0m\n",
      "C:\\Users\\bakhi\\anaconda3\\lib\\site-packages\\torchmetrics\\utilities\\prints.py:36: UserWarning: Metric `AUROC` will save all targets and predictions in buffer. For large datasets this may lead to large memory footprint.\n",
      "  warnings.warn(*args, **kwargs)\n",
      "\u001b[32m[I 2022-07-29 17:53:00,770]\u001b[0m Trial 61 pruned. \u001b[0m\n",
      "C:\\Users\\bakhi\\anaconda3\\lib\\site-packages\\torchmetrics\\utilities\\prints.py:36: UserWarning: Metric `AUROC` will save all targets and predictions in buffer. For large datasets this may lead to large memory footprint.\n",
      "  warnings.warn(*args, **kwargs)\n",
      "\u001b[32m[I 2022-07-29 17:53:01,415]\u001b[0m Trial 62 pruned. \u001b[0m\n",
      "C:\\Users\\bakhi\\anaconda3\\lib\\site-packages\\torchmetrics\\utilities\\prints.py:36: UserWarning: Metric `AUROC` will save all targets and predictions in buffer. For large datasets this may lead to large memory footprint.\n",
      "  warnings.warn(*args, **kwargs)\n",
      "\u001b[32m[I 2022-07-29 17:53:01,743]\u001b[0m Trial 63 pruned. \u001b[0m\n",
      "C:\\Users\\bakhi\\anaconda3\\lib\\site-packages\\torchmetrics\\utilities\\prints.py:36: UserWarning: Metric `AUROC` will save all targets and predictions in buffer. For large datasets this may lead to large memory footprint.\n",
      "  warnings.warn(*args, **kwargs)\n",
      "\u001b[32m[I 2022-07-29 17:53:02,092]\u001b[0m Trial 64 pruned. \u001b[0m\n",
      "C:\\Users\\bakhi\\anaconda3\\lib\\site-packages\\torchmetrics\\utilities\\prints.py:36: UserWarning: Metric `AUROC` will save all targets and predictions in buffer. For large datasets this may lead to large memory footprint.\n",
      "  warnings.warn(*args, **kwargs)\n",
      "\u001b[32m[I 2022-07-29 17:53:02,422]\u001b[0m Trial 65 pruned. \u001b[0m\n",
      "C:\\Users\\bakhi\\anaconda3\\lib\\site-packages\\torchmetrics\\utilities\\prints.py:36: UserWarning: Metric `AUROC` will save all targets and predictions in buffer. For large datasets this may lead to large memory footprint.\n",
      "  warnings.warn(*args, **kwargs)\n",
      "\u001b[32m[I 2022-07-29 17:53:02,746]\u001b[0m Trial 66 pruned. \u001b[0m\n",
      "C:\\Users\\bakhi\\anaconda3\\lib\\site-packages\\torchmetrics\\utilities\\prints.py:36: UserWarning: Metric `AUROC` will save all targets and predictions in buffer. For large datasets this may lead to large memory footprint.\n",
      "  warnings.warn(*args, **kwargs)\n",
      "\u001b[32m[I 2022-07-29 17:53:15,397]\u001b[0m Trial 67 finished with value: 0.6753398776054382 and parameters: {'linear_size1': 48, 'linear_size2': 36, 'linear_size3': 20, 'linear_size4': 12, 'dropout_rate': 0.30000000000000004}. Best is trial 29 with value: 0.6788530945777893.\u001b[0m\n",
      "C:\\Users\\bakhi\\anaconda3\\lib\\site-packages\\torchmetrics\\utilities\\prints.py:36: UserWarning: Metric `AUROC` will save all targets and predictions in buffer. For large datasets this may lead to large memory footprint.\n",
      "  warnings.warn(*args, **kwargs)\n",
      "\u001b[32m[I 2022-07-29 17:53:15,741]\u001b[0m Trial 68 pruned. \u001b[0m\n",
      "C:\\Users\\bakhi\\anaconda3\\lib\\site-packages\\torchmetrics\\utilities\\prints.py:36: UserWarning: Metric `AUROC` will save all targets and predictions in buffer. For large datasets this may lead to large memory footprint.\n",
      "  warnings.warn(*args, **kwargs)\n",
      "\u001b[32m[I 2022-07-29 17:53:16,092]\u001b[0m Trial 69 pruned. \u001b[0m\n",
      "C:\\Users\\bakhi\\anaconda3\\lib\\site-packages\\torchmetrics\\utilities\\prints.py:36: UserWarning: Metric `AUROC` will save all targets and predictions in buffer. For large datasets this may lead to large memory footprint.\n",
      "  warnings.warn(*args, **kwargs)\n",
      "\u001b[32m[I 2022-07-29 17:53:16,480]\u001b[0m Trial 70 pruned. \u001b[0m\n",
      "C:\\Users\\bakhi\\anaconda3\\lib\\site-packages\\torchmetrics\\utilities\\prints.py:36: UserWarning: Metric `AUROC` will save all targets and predictions in buffer. For large datasets this may lead to large memory footprint.\n",
      "  warnings.warn(*args, **kwargs)\n",
      "\u001b[32m[I 2022-07-29 17:53:16,861]\u001b[0m Trial 71 pruned. \u001b[0m\n",
      "C:\\Users\\bakhi\\anaconda3\\lib\\site-packages\\torchmetrics\\utilities\\prints.py:36: UserWarning: Metric `AUROC` will save all targets and predictions in buffer. For large datasets this may lead to large memory footprint.\n",
      "  warnings.warn(*args, **kwargs)\n",
      "\u001b[32m[I 2022-07-29 17:53:17,246]\u001b[0m Trial 72 pruned. \u001b[0m\n",
      "C:\\Users\\bakhi\\anaconda3\\lib\\site-packages\\torchmetrics\\utilities\\prints.py:36: UserWarning: Metric `AUROC` will save all targets and predictions in buffer. For large datasets this may lead to large memory footprint.\n",
      "  warnings.warn(*args, **kwargs)\n",
      "\u001b[32m[I 2022-07-29 17:53:17,591]\u001b[0m Trial 73 pruned. \u001b[0m\n",
      "C:\\Users\\bakhi\\anaconda3\\lib\\site-packages\\torchmetrics\\utilities\\prints.py:36: UserWarning: Metric `AUROC` will save all targets and predictions in buffer. For large datasets this may lead to large memory footprint.\n",
      "  warnings.warn(*args, **kwargs)\n",
      "\u001b[32m[I 2022-07-29 17:53:19,507]\u001b[0m Trial 74 pruned. \u001b[0m\n",
      "C:\\Users\\bakhi\\anaconda3\\lib\\site-packages\\torchmetrics\\utilities\\prints.py:36: UserWarning: Metric `AUROC` will save all targets and predictions in buffer. For large datasets this may lead to large memory footprint.\n",
      "  warnings.warn(*args, **kwargs)\n",
      "\u001b[32m[I 2022-07-29 17:53:19,844]\u001b[0m Trial 75 pruned. \u001b[0m\n",
      "C:\\Users\\bakhi\\anaconda3\\lib\\site-packages\\torchmetrics\\utilities\\prints.py:36: UserWarning: Metric `AUROC` will save all targets and predictions in buffer. For large datasets this may lead to large memory footprint.\n",
      "  warnings.warn(*args, **kwargs)\n",
      "\u001b[32m[I 2022-07-29 17:53:20,192]\u001b[0m Trial 76 pruned. \u001b[0m\n",
      "C:\\Users\\bakhi\\anaconda3\\lib\\site-packages\\torchmetrics\\utilities\\prints.py:36: UserWarning: Metric `AUROC` will save all targets and predictions in buffer. For large datasets this may lead to large memory footprint.\n",
      "  warnings.warn(*args, **kwargs)\n",
      "\u001b[32m[I 2022-07-29 17:53:21,527]\u001b[0m Trial 77 pruned. \u001b[0m\n",
      "C:\\Users\\bakhi\\anaconda3\\lib\\site-packages\\torchmetrics\\utilities\\prints.py:36: UserWarning: Metric `AUROC` will save all targets and predictions in buffer. For large datasets this may lead to large memory footprint.\n",
      "  warnings.warn(*args, **kwargs)\n",
      "\u001b[32m[I 2022-07-29 17:53:21,861]\u001b[0m Trial 78 pruned. \u001b[0m\n",
      "C:\\Users\\bakhi\\anaconda3\\lib\\site-packages\\torchmetrics\\utilities\\prints.py:36: UserWarning: Metric `AUROC` will save all targets and predictions in buffer. For large datasets this may lead to large memory footprint.\n",
      "  warnings.warn(*args, **kwargs)\n",
      "\u001b[32m[I 2022-07-29 17:53:22,188]\u001b[0m Trial 79 pruned. \u001b[0m\n",
      "C:\\Users\\bakhi\\anaconda3\\lib\\site-packages\\torchmetrics\\utilities\\prints.py:36: UserWarning: Metric `AUROC` will save all targets and predictions in buffer. For large datasets this may lead to large memory footprint.\n",
      "  warnings.warn(*args, **kwargs)\n",
      "\u001b[32m[I 2022-07-29 17:53:22,532]\u001b[0m Trial 80 pruned. \u001b[0m\n",
      "C:\\Users\\bakhi\\anaconda3\\lib\\site-packages\\torchmetrics\\utilities\\prints.py:36: UserWarning: Metric `AUROC` will save all targets and predictions in buffer. For large datasets this may lead to large memory footprint.\n",
      "  warnings.warn(*args, **kwargs)\n",
      "\u001b[32m[I 2022-07-29 17:53:23,826]\u001b[0m Trial 81 pruned. \u001b[0m\n",
      "C:\\Users\\bakhi\\anaconda3\\lib\\site-packages\\torchmetrics\\utilities\\prints.py:36: UserWarning: Metric `AUROC` will save all targets and predictions in buffer. For large datasets this may lead to large memory footprint.\n",
      "  warnings.warn(*args, **kwargs)\n",
      "\u001b[32m[I 2022-07-29 17:53:24,169]\u001b[0m Trial 82 pruned. \u001b[0m\n",
      "C:\\Users\\bakhi\\anaconda3\\lib\\site-packages\\torchmetrics\\utilities\\prints.py:36: UserWarning: Metric `AUROC` will save all targets and predictions in buffer. For large datasets this may lead to large memory footprint.\n",
      "  warnings.warn(*args, **kwargs)\n",
      "\u001b[32m[I 2022-07-29 17:53:24,496]\u001b[0m Trial 83 pruned. \u001b[0m\n",
      "C:\\Users\\bakhi\\anaconda3\\lib\\site-packages\\torchmetrics\\utilities\\prints.py:36: UserWarning: Metric `AUROC` will save all targets and predictions in buffer. For large datasets this may lead to large memory footprint.\n",
      "  warnings.warn(*args, **kwargs)\n",
      "\u001b[32m[I 2022-07-29 17:53:26,434]\u001b[0m Trial 84 pruned. \u001b[0m\n",
      "C:\\Users\\bakhi\\anaconda3\\lib\\site-packages\\torchmetrics\\utilities\\prints.py:36: UserWarning: Metric `AUROC` will save all targets and predictions in buffer. For large datasets this may lead to large memory footprint.\n",
      "  warnings.warn(*args, **kwargs)\n",
      "\u001b[32m[I 2022-07-29 17:53:26,759]\u001b[0m Trial 85 pruned. \u001b[0m\n",
      "C:\\Users\\bakhi\\anaconda3\\lib\\site-packages\\torchmetrics\\utilities\\prints.py:36: UserWarning: Metric `AUROC` will save all targets and predictions in buffer. For large datasets this may lead to large memory footprint.\n",
      "  warnings.warn(*args, **kwargs)\n",
      "\u001b[32m[I 2022-07-29 17:53:27,093]\u001b[0m Trial 86 pruned. \u001b[0m\n",
      "C:\\Users\\bakhi\\anaconda3\\lib\\site-packages\\torchmetrics\\utilities\\prints.py:36: UserWarning: Metric `AUROC` will save all targets and predictions in buffer. For large datasets this may lead to large memory footprint.\n",
      "  warnings.warn(*args, **kwargs)\n",
      "\u001b[32m[I 2022-07-29 17:53:27,709]\u001b[0m Trial 87 pruned. \u001b[0m\n",
      "C:\\Users\\bakhi\\anaconda3\\lib\\site-packages\\torchmetrics\\utilities\\prints.py:36: UserWarning: Metric `AUROC` will save all targets and predictions in buffer. For large datasets this may lead to large memory footprint.\n",
      "  warnings.warn(*args, **kwargs)\n",
      "\u001b[32m[I 2022-07-29 17:53:28,029]\u001b[0m Trial 88 pruned. \u001b[0m\n",
      "C:\\Users\\bakhi\\anaconda3\\lib\\site-packages\\torchmetrics\\utilities\\prints.py:36: UserWarning: Metric `AUROC` will save all targets and predictions in buffer. For large datasets this may lead to large memory footprint.\n",
      "  warnings.warn(*args, **kwargs)\n",
      "\u001b[32m[I 2022-07-29 17:53:28,355]\u001b[0m Trial 89 pruned. \u001b[0m\n",
      "C:\\Users\\bakhi\\anaconda3\\lib\\site-packages\\torchmetrics\\utilities\\prints.py:36: UserWarning: Metric `AUROC` will save all targets and predictions in buffer. For large datasets this may lead to large memory footprint.\n",
      "  warnings.warn(*args, **kwargs)\n",
      "\u001b[32m[I 2022-07-29 17:53:28,695]\u001b[0m Trial 90 pruned. \u001b[0m\n",
      "C:\\Users\\bakhi\\anaconda3\\lib\\site-packages\\torchmetrics\\utilities\\prints.py:36: UserWarning: Metric `AUROC` will save all targets and predictions in buffer. For large datasets this may lead to large memory footprint.\n",
      "  warnings.warn(*args, **kwargs)\n",
      "\u001b[32m[I 2022-07-29 17:53:29,021]\u001b[0m Trial 91 pruned. \u001b[0m\n",
      "C:\\Users\\bakhi\\anaconda3\\lib\\site-packages\\torchmetrics\\utilities\\prints.py:36: UserWarning: Metric `AUROC` will save all targets and predictions in buffer. For large datasets this may lead to large memory footprint.\n",
      "  warnings.warn(*args, **kwargs)\n",
      "\u001b[32m[I 2022-07-29 17:53:29,340]\u001b[0m Trial 92 pruned. \u001b[0m\n",
      "C:\\Users\\bakhi\\anaconda3\\lib\\site-packages\\torchmetrics\\utilities\\prints.py:36: UserWarning: Metric `AUROC` will save all targets and predictions in buffer. For large datasets this may lead to large memory footprint.\n",
      "  warnings.warn(*args, **kwargs)\n",
      "\u001b[32m[I 2022-07-29 17:53:29,656]\u001b[0m Trial 93 pruned. \u001b[0m\n",
      "C:\\Users\\bakhi\\anaconda3\\lib\\site-packages\\torchmetrics\\utilities\\prints.py:36: UserWarning: Metric `AUROC` will save all targets and predictions in buffer. For large datasets this may lead to large memory footprint.\n",
      "  warnings.warn(*args, **kwargs)\n",
      "\u001b[32m[I 2022-07-29 17:53:29,984]\u001b[0m Trial 94 pruned. \u001b[0m\n",
      "C:\\Users\\bakhi\\anaconda3\\lib\\site-packages\\torchmetrics\\utilities\\prints.py:36: UserWarning: Metric `AUROC` will save all targets and predictions in buffer. For large datasets this may lead to large memory footprint.\n",
      "  warnings.warn(*args, **kwargs)\n",
      "\u001b[32m[I 2022-07-29 17:53:30,310]\u001b[0m Trial 95 pruned. \u001b[0m\n",
      "C:\\Users\\bakhi\\anaconda3\\lib\\site-packages\\torchmetrics\\utilities\\prints.py:36: UserWarning: Metric `AUROC` will save all targets and predictions in buffer. For large datasets this may lead to large memory footprint.\n",
      "  warnings.warn(*args, **kwargs)\n",
      "\u001b[32m[I 2022-07-29 17:53:30,633]\u001b[0m Trial 96 pruned. \u001b[0m\n",
      "C:\\Users\\bakhi\\anaconda3\\lib\\site-packages\\torchmetrics\\utilities\\prints.py:36: UserWarning: Metric `AUROC` will save all targets and predictions in buffer. For large datasets this may lead to large memory footprint.\n",
      "  warnings.warn(*args, **kwargs)\n",
      "\u001b[32m[I 2022-07-29 17:53:30,985]\u001b[0m Trial 97 pruned. \u001b[0m\n",
      "C:\\Users\\bakhi\\anaconda3\\lib\\site-packages\\torchmetrics\\utilities\\prints.py:36: UserWarning: Metric `AUROC` will save all targets and predictions in buffer. For large datasets this may lead to large memory footprint.\n",
      "  warnings.warn(*args, **kwargs)\n",
      "\u001b[32m[I 2022-07-29 17:53:35,590]\u001b[0m Trial 98 pruned. \u001b[0m\n",
      "C:\\Users\\bakhi\\anaconda3\\lib\\site-packages\\torchmetrics\\utilities\\prints.py:36: UserWarning: Metric `AUROC` will save all targets and predictions in buffer. For large datasets this may lead to large memory footprint.\n",
      "  warnings.warn(*args, **kwargs)\n",
      "\u001b[32m[I 2022-07-29 17:53:36,227]\u001b[0m Trial 99 pruned. \u001b[0m\n"
     ]
    },
    {
     "name": "stdout",
     "output_type": "stream",
     "text": [
      "Auc: 0.6788530945777893\n",
      "Best hyperparameters: {'linear_size1': 48, 'linear_size2': 32, 'linear_size3': 16, 'linear_size4': 4, 'dropout_rate': 0.4}\n"
     ]
    }
   ],
   "source": [
    "study = optuna.create_study(direction='maximize')\n",
    "study.optimize(objective, n_trials=100)\n",
    "\n",
    "trial = study.best_trial\n",
    "\n",
    "print('Auc: {}'.format(trial.value))\n",
    "print(\"Best hyperparameters: {}\".format(trial.params))"
   ]
  },
  {
   "cell_type": "code",
   "execution_count": 474,
   "id": "27e70490-a45b-4127-ae7e-b960505ff853",
   "metadata": {
    "collapsed": true,
    "jupyter": {
     "outputs_hidden": true
    },
    "tags": []
   },
   "outputs": [
    {
     "name": "stderr",
     "output_type": "stream",
     "text": [
      "\u001b[32m[I 2022-07-29 18:01:37,738]\u001b[0m A new study created in memory with name: no-name-c77b9995-2e41-4bf8-8026-93c4eddbf6c0\u001b[0m\n",
      "C:\\Users\\bakhi\\anaconda3\\lib\\site-packages\\torchmetrics\\utilities\\prints.py:36: UserWarning: Metric `AUROC` will save all targets and predictions in buffer. For large datasets this may lead to large memory footprint.\n",
      "  warnings.warn(*args, **kwargs)\n",
      "\u001b[32m[I 2022-07-29 18:01:50,600]\u001b[0m Trial 0 finished with value: 0.6251775622367859 and parameters: {'linear_size1': 56, 'linear_size2': 44, 'linear_size3': 30, 'linear_size4': 2, 'dropout_rate': 0.30000000000000004}. Best is trial 0 with value: 0.6251775622367859.\u001b[0m\n",
      "C:\\Users\\bakhi\\anaconda3\\lib\\site-packages\\torchmetrics\\utilities\\prints.py:36: UserWarning: Metric `AUROC` will save all targets and predictions in buffer. For large datasets this may lead to large memory footprint.\n",
      "  warnings.warn(*args, **kwargs)\n",
      "\u001b[32m[I 2022-07-29 18:02:03,176]\u001b[0m Trial 1 finished with value: 0.666800856590271 and parameters: {'linear_size1': 44, 'linear_size2': 42, 'linear_size3': 24, 'linear_size4': 4, 'dropout_rate': 0.30000000000000004}. Best is trial 1 with value: 0.666800856590271.\u001b[0m\n",
      "C:\\Users\\bakhi\\anaconda3\\lib\\site-packages\\torchmetrics\\utilities\\prints.py:36: UserWarning: Metric `AUROC` will save all targets and predictions in buffer. For large datasets this may lead to large memory footprint.\n",
      "  warnings.warn(*args, **kwargs)\n",
      "\u001b[32m[I 2022-07-29 18:02:15,824]\u001b[0m Trial 2 finished with value: 0.6276161074638367 and parameters: {'linear_size1': 60, 'linear_size2': 38, 'linear_size3': 18, 'linear_size4': 2, 'dropout_rate': 0.5}. Best is trial 1 with value: 0.666800856590271.\u001b[0m\n",
      "C:\\Users\\bakhi\\anaconda3\\lib\\site-packages\\torchmetrics\\utilities\\prints.py:36: UserWarning: Metric `AUROC` will save all targets and predictions in buffer. For large datasets this may lead to large memory footprint.\n",
      "  warnings.warn(*args, **kwargs)\n",
      "\u001b[32m[I 2022-07-29 18:02:27,931]\u001b[0m Trial 3 finished with value: 0.6482644081115723 and parameters: {'linear_size1': 52, 'linear_size2': 24, 'linear_size3': 16, 'linear_size4': 6, 'dropout_rate': 0.5}. Best is trial 1 with value: 0.666800856590271.\u001b[0m\n",
      "C:\\Users\\bakhi\\anaconda3\\lib\\site-packages\\torchmetrics\\utilities\\prints.py:36: UserWarning: Metric `AUROC` will save all targets and predictions in buffer. For large datasets this may lead to large memory footprint.\n",
      "  warnings.warn(*args, **kwargs)\n",
      "\u001b[32m[I 2022-07-29 18:02:40,294]\u001b[0m Trial 4 finished with value: 0.6434230208396912 and parameters: {'linear_size1': 44, 'linear_size2': 48, 'linear_size3': 20, 'linear_size4': 2, 'dropout_rate': 0.30000000000000004}. Best is trial 1 with value: 0.666800856590271.\u001b[0m\n",
      "C:\\Users\\bakhi\\anaconda3\\lib\\site-packages\\torchmetrics\\utilities\\prints.py:36: UserWarning: Metric `AUROC` will save all targets and predictions in buffer. For large datasets this may lead to large memory footprint.\n",
      "  warnings.warn(*args, **kwargs)\n",
      "\u001b[32m[I 2022-07-29 18:02:47,440]\u001b[0m Trial 5 pruned. \u001b[0m\n",
      "C:\\Users\\bakhi\\anaconda3\\lib\\site-packages\\torchmetrics\\utilities\\prints.py:36: UserWarning: Metric `AUROC` will save all targets and predictions in buffer. For large datasets this may lead to large memory footprint.\n",
      "  warnings.warn(*args, **kwargs)\n",
      "\u001b[32m[I 2022-07-29 18:02:47,754]\u001b[0m Trial 6 pruned. \u001b[0m\n",
      "C:\\Users\\bakhi\\anaconda3\\lib\\site-packages\\torchmetrics\\utilities\\prints.py:36: UserWarning: Metric `AUROC` will save all targets and predictions in buffer. For large datasets this may lead to large memory footprint.\n",
      "  warnings.warn(*args, **kwargs)\n",
      "\u001b[32m[I 2022-07-29 18:02:48,387]\u001b[0m Trial 7 pruned. \u001b[0m\n",
      "C:\\Users\\bakhi\\anaconda3\\lib\\site-packages\\torchmetrics\\utilities\\prints.py:36: UserWarning: Metric `AUROC` will save all targets and predictions in buffer. For large datasets this may lead to large memory footprint.\n",
      "  warnings.warn(*args, **kwargs)\n",
      "\u001b[32m[I 2022-07-29 18:02:48,701]\u001b[0m Trial 8 pruned. \u001b[0m\n",
      "C:\\Users\\bakhi\\anaconda3\\lib\\site-packages\\torchmetrics\\utilities\\prints.py:36: UserWarning: Metric `AUROC` will save all targets and predictions in buffer. For large datasets this may lead to large memory footprint.\n",
      "  warnings.warn(*args, **kwargs)\n",
      "\u001b[32m[I 2022-07-29 18:02:49,932]\u001b[0m Trial 9 pruned. \u001b[0m\n",
      "C:\\Users\\bakhi\\anaconda3\\lib\\site-packages\\torchmetrics\\utilities\\prints.py:36: UserWarning: Metric `AUROC` will save all targets and predictions in buffer. For large datasets this may lead to large memory footprint.\n",
      "  warnings.warn(*args, **kwargs)\n",
      "\u001b[32m[I 2022-07-29 18:02:50,257]\u001b[0m Trial 10 pruned. \u001b[0m\n",
      "C:\\Users\\bakhi\\anaconda3\\lib\\site-packages\\torchmetrics\\utilities\\prints.py:36: UserWarning: Metric `AUROC` will save all targets and predictions in buffer. For large datasets this may lead to large memory footprint.\n",
      "  warnings.warn(*args, **kwargs)\n",
      "\u001b[32m[I 2022-07-29 18:02:51,171]\u001b[0m Trial 11 pruned. \u001b[0m\n",
      "C:\\Users\\bakhi\\anaconda3\\lib\\site-packages\\torchmetrics\\utilities\\prints.py:36: UserWarning: Metric `AUROC` will save all targets and predictions in buffer. For large datasets this may lead to large memory footprint.\n",
      "  warnings.warn(*args, **kwargs)\n",
      "\u001b[32m[I 2022-07-29 18:02:51,486]\u001b[0m Trial 12 pruned. \u001b[0m\n",
      "C:\\Users\\bakhi\\anaconda3\\lib\\site-packages\\torchmetrics\\utilities\\prints.py:36: UserWarning: Metric `AUROC` will save all targets and predictions in buffer. For large datasets this may lead to large memory footprint.\n",
      "  warnings.warn(*args, **kwargs)\n",
      "\u001b[32m[I 2022-07-29 18:03:03,731]\u001b[0m Trial 13 finished with value: 0.6583081483840942 and parameters: {'linear_size1': 48, 'linear_size2': 28, 'linear_size3': 24, 'linear_size4': 8, 'dropout_rate': 0.2}. Best is trial 1 with value: 0.666800856590271.\u001b[0m\n",
      "C:\\Users\\bakhi\\anaconda3\\lib\\site-packages\\torchmetrics\\utilities\\prints.py:36: UserWarning: Metric `AUROC` will save all targets and predictions in buffer. For large datasets this may lead to large memory footprint.\n",
      "  warnings.warn(*args, **kwargs)\n",
      "\u001b[32m[I 2022-07-29 18:03:04,067]\u001b[0m Trial 14 pruned. \u001b[0m\n",
      "C:\\Users\\bakhi\\anaconda3\\lib\\site-packages\\torchmetrics\\utilities\\prints.py:36: UserWarning: Metric `AUROC` will save all targets and predictions in buffer. For large datasets this may lead to large memory footprint.\n",
      "  warnings.warn(*args, **kwargs)\n",
      "\u001b[32m[I 2022-07-29 18:03:16,498]\u001b[0m Trial 15 finished with value: 0.6612963676452637 and parameters: {'linear_size1': 40, 'linear_size2': 40, 'linear_size3': 24, 'linear_size4': 4, 'dropout_rate': 0.2}. Best is trial 1 with value: 0.666800856590271.\u001b[0m\n",
      "C:\\Users\\bakhi\\anaconda3\\lib\\site-packages\\torchmetrics\\utilities\\prints.py:36: UserWarning: Metric `AUROC` will save all targets and predictions in buffer. For large datasets this may lead to large memory footprint.\n",
      "  warnings.warn(*args, **kwargs)\n",
      "\u001b[32m[I 2022-07-29 18:03:16,823]\u001b[0m Trial 16 pruned. \u001b[0m\n",
      "C:\\Users\\bakhi\\anaconda3\\lib\\site-packages\\torchmetrics\\utilities\\prints.py:36: UserWarning: Metric `AUROC` will save all targets and predictions in buffer. For large datasets this may lead to large memory footprint.\n",
      "  warnings.warn(*args, **kwargs)\n",
      "\u001b[32m[I 2022-07-29 18:03:17,142]\u001b[0m Trial 17 pruned. \u001b[0m\n",
      "C:\\Users\\bakhi\\anaconda3\\lib\\site-packages\\torchmetrics\\utilities\\prints.py:36: UserWarning: Metric `AUROC` will save all targets and predictions in buffer. For large datasets this may lead to large memory footprint.\n",
      "  warnings.warn(*args, **kwargs)\n",
      "\u001b[32m[I 2022-07-29 18:03:17,452]\u001b[0m Trial 18 pruned. \u001b[0m\n",
      "C:\\Users\\bakhi\\anaconda3\\lib\\site-packages\\torchmetrics\\utilities\\prints.py:36: UserWarning: Metric `AUROC` will save all targets and predictions in buffer. For large datasets this may lead to large memory footprint.\n",
      "  warnings.warn(*args, **kwargs)\n",
      "\u001b[32m[I 2022-07-29 18:03:29,892]\u001b[0m Trial 19 finished with value: 0.6520711183547974 and parameters: {'linear_size1': 36, 'linear_size2': 44, 'linear_size3': 26, 'linear_size4': 6, 'dropout_rate': 0.30000000000000004}. Best is trial 1 with value: 0.666800856590271.\u001b[0m\n",
      "C:\\Users\\bakhi\\anaconda3\\lib\\site-packages\\torchmetrics\\utilities\\prints.py:36: UserWarning: Metric `AUROC` will save all targets and predictions in buffer. For large datasets this may lead to large memory footprint.\n",
      "  warnings.warn(*args, **kwargs)\n",
      "\u001b[32m[I 2022-07-29 18:03:30,219]\u001b[0m Trial 20 pruned. \u001b[0m\n",
      "C:\\Users\\bakhi\\anaconda3\\lib\\site-packages\\torchmetrics\\utilities\\prints.py:36: UserWarning: Metric `AUROC` will save all targets and predictions in buffer. For large datasets this may lead to large memory footprint.\n",
      "  warnings.warn(*args, **kwargs)\n",
      "\u001b[32m[I 2022-07-29 18:03:30,542]\u001b[0m Trial 21 pruned. \u001b[0m\n",
      "C:\\Users\\bakhi\\anaconda3\\lib\\site-packages\\torchmetrics\\utilities\\prints.py:36: UserWarning: Metric `AUROC` will save all targets and predictions in buffer. For large datasets this may lead to large memory footprint.\n",
      "  warnings.warn(*args, **kwargs)\n",
      "\u001b[32m[I 2022-07-29 18:03:35,600]\u001b[0m Trial 22 pruned. \u001b[0m\n",
      "C:\\Users\\bakhi\\anaconda3\\lib\\site-packages\\torchmetrics\\utilities\\prints.py:36: UserWarning: Metric `AUROC` will save all targets and predictions in buffer. For large datasets this may lead to large memory footprint.\n",
      "  warnings.warn(*args, **kwargs)\n",
      "\u001b[32m[I 2022-07-29 18:03:35,948]\u001b[0m Trial 23 pruned. \u001b[0m\n",
      "C:\\Users\\bakhi\\anaconda3\\lib\\site-packages\\torchmetrics\\utilities\\prints.py:36: UserWarning: Metric `AUROC` will save all targets and predictions in buffer. For large datasets this may lead to large memory footprint.\n",
      "  warnings.warn(*args, **kwargs)\n",
      "\u001b[32m[I 2022-07-29 18:03:36,274]\u001b[0m Trial 24 pruned. \u001b[0m\n",
      "C:\\Users\\bakhi\\anaconda3\\lib\\site-packages\\torchmetrics\\utilities\\prints.py:36: UserWarning: Metric `AUROC` will save all targets and predictions in buffer. For large datasets this may lead to large memory footprint.\n",
      "  warnings.warn(*args, **kwargs)\n",
      "\u001b[32m[I 2022-07-29 18:03:36,599]\u001b[0m Trial 25 pruned. \u001b[0m\n",
      "C:\\Users\\bakhi\\anaconda3\\lib\\site-packages\\torchmetrics\\utilities\\prints.py:36: UserWarning: Metric `AUROC` will save all targets and predictions in buffer. For large datasets this may lead to large memory footprint.\n",
      "  warnings.warn(*args, **kwargs)\n",
      "\u001b[32m[I 2022-07-29 18:03:48,776]\u001b[0m Trial 26 finished with value: 0.6508298516273499 and parameters: {'linear_size1': 40, 'linear_size2': 36, 'linear_size3': 18, 'linear_size4': 4, 'dropout_rate': 0.2}. Best is trial 1 with value: 0.666800856590271.\u001b[0m\n",
      "C:\\Users\\bakhi\\anaconda3\\lib\\site-packages\\torchmetrics\\utilities\\prints.py:36: UserWarning: Metric `AUROC` will save all targets and predictions in buffer. For large datasets this may lead to large memory footprint.\n",
      "  warnings.warn(*args, **kwargs)\n",
      "\u001b[32m[I 2022-07-29 18:03:51,016]\u001b[0m Trial 27 pruned. \u001b[0m\n",
      "C:\\Users\\bakhi\\anaconda3\\lib\\site-packages\\torchmetrics\\utilities\\prints.py:36: UserWarning: Metric `AUROC` will save all targets and predictions in buffer. For large datasets this may lead to large memory footprint.\n",
      "  warnings.warn(*args, **kwargs)\n",
      "\u001b[32m[I 2022-07-29 18:03:51,360]\u001b[0m Trial 28 pruned. \u001b[0m\n",
      "C:\\Users\\bakhi\\anaconda3\\lib\\site-packages\\torchmetrics\\utilities\\prints.py:36: UserWarning: Metric `AUROC` will save all targets and predictions in buffer. For large datasets this may lead to large memory footprint.\n",
      "  warnings.warn(*args, **kwargs)\n",
      "\u001b[32m[I 2022-07-29 18:03:51,697]\u001b[0m Trial 29 pruned. \u001b[0m\n",
      "C:\\Users\\bakhi\\anaconda3\\lib\\site-packages\\torchmetrics\\utilities\\prints.py:36: UserWarning: Metric `AUROC` will save all targets and predictions in buffer. For large datasets this may lead to large memory footprint.\n",
      "  warnings.warn(*args, **kwargs)\n",
      "\u001b[32m[I 2022-07-29 18:03:52,020]\u001b[0m Trial 30 pruned. \u001b[0m\n",
      "C:\\Users\\bakhi\\anaconda3\\lib\\site-packages\\torchmetrics\\utilities\\prints.py:36: UserWarning: Metric `AUROC` will save all targets and predictions in buffer. For large datasets this may lead to large memory footprint.\n",
      "  warnings.warn(*args, **kwargs)\n",
      "\u001b[32m[I 2022-07-29 18:03:52,338]\u001b[0m Trial 31 pruned. \u001b[0m\n",
      "C:\\Users\\bakhi\\anaconda3\\lib\\site-packages\\torchmetrics\\utilities\\prints.py:36: UserWarning: Metric `AUROC` will save all targets and predictions in buffer. For large datasets this may lead to large memory footprint.\n",
      "  warnings.warn(*args, **kwargs)\n",
      "\u001b[32m[I 2022-07-29 18:03:52,681]\u001b[0m Trial 32 pruned. \u001b[0m\n",
      "C:\\Users\\bakhi\\anaconda3\\lib\\site-packages\\torchmetrics\\utilities\\prints.py:36: UserWarning: Metric `AUROC` will save all targets and predictions in buffer. For large datasets this may lead to large memory footprint.\n",
      "  warnings.warn(*args, **kwargs)\n",
      "\u001b[32m[I 2022-07-29 18:03:53,004]\u001b[0m Trial 33 pruned. \u001b[0m\n",
      "C:\\Users\\bakhi\\anaconda3\\lib\\site-packages\\torchmetrics\\utilities\\prints.py:36: UserWarning: Metric `AUROC` will save all targets and predictions in buffer. For large datasets this may lead to large memory footprint.\n",
      "  warnings.warn(*args, **kwargs)\n",
      "\u001b[32m[I 2022-07-29 18:03:53,318]\u001b[0m Trial 34 pruned. \u001b[0m\n",
      "C:\\Users\\bakhi\\anaconda3\\lib\\site-packages\\torchmetrics\\utilities\\prints.py:36: UserWarning: Metric `AUROC` will save all targets and predictions in buffer. For large datasets this may lead to large memory footprint.\n",
      "  warnings.warn(*args, **kwargs)\n",
      "\u001b[32m[I 2022-07-29 18:03:53,655]\u001b[0m Trial 35 pruned. \u001b[0m\n",
      "C:\\Users\\bakhi\\anaconda3\\lib\\site-packages\\torchmetrics\\utilities\\prints.py:36: UserWarning: Metric `AUROC` will save all targets and predictions in buffer. For large datasets this may lead to large memory footprint.\n",
      "  warnings.warn(*args, **kwargs)\n",
      "\u001b[32m[I 2022-07-29 18:03:54,289]\u001b[0m Trial 36 pruned. \u001b[0m\n",
      "C:\\Users\\bakhi\\anaconda3\\lib\\site-packages\\torchmetrics\\utilities\\prints.py:36: UserWarning: Metric `AUROC` will save all targets and predictions in buffer. For large datasets this may lead to large memory footprint.\n",
      "  warnings.warn(*args, **kwargs)\n",
      "\u001b[32m[I 2022-07-29 18:03:54,607]\u001b[0m Trial 37 pruned. \u001b[0m\n",
      "C:\\Users\\bakhi\\anaconda3\\lib\\site-packages\\torchmetrics\\utilities\\prints.py:36: UserWarning: Metric `AUROC` will save all targets and predictions in buffer. For large datasets this may lead to large memory footprint.\n",
      "  warnings.warn(*args, **kwargs)\n",
      "\u001b[32m[I 2022-07-29 18:03:54,934]\u001b[0m Trial 38 pruned. \u001b[0m\n",
      "C:\\Users\\bakhi\\anaconda3\\lib\\site-packages\\torchmetrics\\utilities\\prints.py:36: UserWarning: Metric `AUROC` will save all targets and predictions in buffer. For large datasets this may lead to large memory footprint.\n",
      "  warnings.warn(*args, **kwargs)\n",
      "\u001b[32m[I 2022-07-29 18:03:55,251]\u001b[0m Trial 39 pruned. \u001b[0m\n",
      "C:\\Users\\bakhi\\anaconda3\\lib\\site-packages\\torchmetrics\\utilities\\prints.py:36: UserWarning: Metric `AUROC` will save all targets and predictions in buffer. For large datasets this may lead to large memory footprint.\n",
      "  warnings.warn(*args, **kwargs)\n",
      "\u001b[32m[I 2022-07-29 18:04:07,710]\u001b[0m Trial 40 finished with value: 0.6594605445861816 and parameters: {'linear_size1': 52, 'linear_size2': 34, 'linear_size3': 22, 'linear_size4': 8, 'dropout_rate': 0.1}. Best is trial 1 with value: 0.666800856590271.\u001b[0m\n",
      "C:\\Users\\bakhi\\anaconda3\\lib\\site-packages\\torchmetrics\\utilities\\prints.py:36: UserWarning: Metric `AUROC` will save all targets and predictions in buffer. For large datasets this may lead to large memory footprint.\n",
      "  warnings.warn(*args, **kwargs)\n",
      "\u001b[32m[I 2022-07-29 18:04:08,045]\u001b[0m Trial 41 pruned. \u001b[0m\n",
      "C:\\Users\\bakhi\\anaconda3\\lib\\site-packages\\torchmetrics\\utilities\\prints.py:36: UserWarning: Metric `AUROC` will save all targets and predictions in buffer. For large datasets this may lead to large memory footprint.\n",
      "  warnings.warn(*args, **kwargs)\n",
      "\u001b[32m[I 2022-07-29 18:04:08,376]\u001b[0m Trial 42 pruned. \u001b[0m\n",
      "C:\\Users\\bakhi\\anaconda3\\lib\\site-packages\\torchmetrics\\utilities\\prints.py:36: UserWarning: Metric `AUROC` will save all targets and predictions in buffer. For large datasets this may lead to large memory footprint.\n",
      "  warnings.warn(*args, **kwargs)\n",
      "\u001b[32m[I 2022-07-29 18:04:08,701]\u001b[0m Trial 43 pruned. \u001b[0m\n",
      "C:\\Users\\bakhi\\anaconda3\\lib\\site-packages\\torchmetrics\\utilities\\prints.py:36: UserWarning: Metric `AUROC` will save all targets and predictions in buffer. For large datasets this may lead to large memory footprint.\n",
      "  warnings.warn(*args, **kwargs)\n",
      "\u001b[32m[I 2022-07-29 18:04:09,349]\u001b[0m Trial 44 pruned. \u001b[0m\n",
      "C:\\Users\\bakhi\\anaconda3\\lib\\site-packages\\torchmetrics\\utilities\\prints.py:36: UserWarning: Metric `AUROC` will save all targets and predictions in buffer. For large datasets this may lead to large memory footprint.\n",
      "  warnings.warn(*args, **kwargs)\n",
      "C:\\Users\\bakhi\\anaconda3\\lib\\site-packages\\torchmetrics\\utilities\\prints.py:36: UserWarning: No positive samples in targets, true positive value should be meaningless. Returning zero tensor in true positive score\n",
      "  warnings.warn(*args, **kwargs)\n",
      "\u001b[32m[I 2022-07-29 18:04:21,741]\u001b[0m Trial 45 finished with value: 0.6616843938827515 and parameters: {'linear_size1': 60, 'linear_size2': 26, 'linear_size3': 18, 'linear_size4': 6, 'dropout_rate': 0.1}. Best is trial 1 with value: 0.666800856590271.\u001b[0m\n",
      "C:\\Users\\bakhi\\anaconda3\\lib\\site-packages\\torchmetrics\\utilities\\prints.py:36: UserWarning: Metric `AUROC` will save all targets and predictions in buffer. For large datasets this may lead to large memory footprint.\n",
      "  warnings.warn(*args, **kwargs)\n",
      "\u001b[32m[I 2022-07-29 18:04:31,014]\u001b[0m Trial 46 pruned. \u001b[0m\n",
      "C:\\Users\\bakhi\\anaconda3\\lib\\site-packages\\torchmetrics\\utilities\\prints.py:36: UserWarning: Metric `AUROC` will save all targets and predictions in buffer. For large datasets this may lead to large memory footprint.\n",
      "  warnings.warn(*args, **kwargs)\n",
      "\u001b[32m[I 2022-07-29 18:04:31,686]\u001b[0m Trial 47 pruned. \u001b[0m\n",
      "C:\\Users\\bakhi\\anaconda3\\lib\\site-packages\\torchmetrics\\utilities\\prints.py:36: UserWarning: Metric `AUROC` will save all targets and predictions in buffer. For large datasets this may lead to large memory footprint.\n",
      "  warnings.warn(*args, **kwargs)\n",
      "\u001b[32m[I 2022-07-29 18:04:32,033]\u001b[0m Trial 48 pruned. \u001b[0m\n",
      "C:\\Users\\bakhi\\anaconda3\\lib\\site-packages\\torchmetrics\\utilities\\prints.py:36: UserWarning: Metric `AUROC` will save all targets and predictions in buffer. For large datasets this may lead to large memory footprint.\n",
      "  warnings.warn(*args, **kwargs)\n",
      "\u001b[32m[I 2022-07-29 18:04:32,353]\u001b[0m Trial 49 pruned. \u001b[0m\n",
      "C:\\Users\\bakhi\\anaconda3\\lib\\site-packages\\torchmetrics\\utilities\\prints.py:36: UserWarning: Metric `AUROC` will save all targets and predictions in buffer. For large datasets this may lead to large memory footprint.\n",
      "  warnings.warn(*args, **kwargs)\n",
      "\u001b[32m[I 2022-07-29 18:04:32,678]\u001b[0m Trial 50 pruned. \u001b[0m\n",
      "C:\\Users\\bakhi\\anaconda3\\lib\\site-packages\\torchmetrics\\utilities\\prints.py:36: UserWarning: Metric `AUROC` will save all targets and predictions in buffer. For large datasets this may lead to large memory footprint.\n",
      "  warnings.warn(*args, **kwargs)\n",
      "\u001b[32m[I 2022-07-29 18:04:33,017]\u001b[0m Trial 51 pruned. \u001b[0m\n",
      "C:\\Users\\bakhi\\anaconda3\\lib\\site-packages\\torchmetrics\\utilities\\prints.py:36: UserWarning: Metric `AUROC` will save all targets and predictions in buffer. For large datasets this may lead to large memory footprint.\n",
      "  warnings.warn(*args, **kwargs)\n",
      "\u001b[32m[I 2022-07-29 18:04:33,334]\u001b[0m Trial 52 pruned. \u001b[0m\n",
      "C:\\Users\\bakhi\\anaconda3\\lib\\site-packages\\torchmetrics\\utilities\\prints.py:36: UserWarning: Metric `AUROC` will save all targets and predictions in buffer. For large datasets this may lead to large memory footprint.\n",
      "  warnings.warn(*args, **kwargs)\n",
      "\u001b[32m[I 2022-07-29 18:04:33,680]\u001b[0m Trial 53 pruned. \u001b[0m\n",
      "C:\\Users\\bakhi\\anaconda3\\lib\\site-packages\\torchmetrics\\utilities\\prints.py:36: UserWarning: Metric `AUROC` will save all targets and predictions in buffer. For large datasets this may lead to large memory footprint.\n",
      "  warnings.warn(*args, **kwargs)\n",
      "\u001b[32m[I 2022-07-29 18:04:34,322]\u001b[0m Trial 54 pruned. \u001b[0m\n",
      "C:\\Users\\bakhi\\anaconda3\\lib\\site-packages\\torchmetrics\\utilities\\prints.py:36: UserWarning: Metric `AUROC` will save all targets and predictions in buffer. For large datasets this may lead to large memory footprint.\n",
      "  warnings.warn(*args, **kwargs)\n",
      "\u001b[32m[I 2022-07-29 18:04:35,298]\u001b[0m Trial 55 pruned. \u001b[0m\n",
      "C:\\Users\\bakhi\\anaconda3\\lib\\site-packages\\torchmetrics\\utilities\\prints.py:36: UserWarning: Metric `AUROC` will save all targets and predictions in buffer. For large datasets this may lead to large memory footprint.\n",
      "  warnings.warn(*args, **kwargs)\n",
      "\u001b[32m[I 2022-07-29 18:04:35,647]\u001b[0m Trial 56 pruned. \u001b[0m\n",
      "C:\\Users\\bakhi\\anaconda3\\lib\\site-packages\\torchmetrics\\utilities\\prints.py:36: UserWarning: Metric `AUROC` will save all targets and predictions in buffer. For large datasets this may lead to large memory footprint.\n",
      "  warnings.warn(*args, **kwargs)\n",
      "\u001b[32m[I 2022-07-29 18:04:35,964]\u001b[0m Trial 57 pruned. \u001b[0m\n",
      "C:\\Users\\bakhi\\anaconda3\\lib\\site-packages\\torchmetrics\\utilities\\prints.py:36: UserWarning: Metric `AUROC` will save all targets and predictions in buffer. For large datasets this may lead to large memory footprint.\n",
      "  warnings.warn(*args, **kwargs)\n",
      "\u001b[32m[I 2022-07-29 18:04:48,085]\u001b[0m Trial 58 finished with value: 0.6819875836372375 and parameters: {'linear_size1': 44, 'linear_size2': 24, 'linear_size3': 22, 'linear_size4': 4, 'dropout_rate': 0.1}. Best is trial 58 with value: 0.6819875836372375.\u001b[0m\n",
      "C:\\Users\\bakhi\\anaconda3\\lib\\site-packages\\torchmetrics\\utilities\\prints.py:36: UserWarning: Metric `AUROC` will save all targets and predictions in buffer. For large datasets this may lead to large memory footprint.\n",
      "  warnings.warn(*args, **kwargs)\n",
      "\u001b[32m[I 2022-07-29 18:04:48,394]\u001b[0m Trial 59 pruned. \u001b[0m\n",
      "C:\\Users\\bakhi\\anaconda3\\lib\\site-packages\\torchmetrics\\utilities\\prints.py:36: UserWarning: Metric `AUROC` will save all targets and predictions in buffer. For large datasets this may lead to large memory footprint.\n",
      "  warnings.warn(*args, **kwargs)\n",
      "\u001b[32m[I 2022-07-29 18:04:48,714]\u001b[0m Trial 60 pruned. \u001b[0m\n",
      "C:\\Users\\bakhi\\anaconda3\\lib\\site-packages\\torchmetrics\\utilities\\prints.py:36: UserWarning: Metric `AUROC` will save all targets and predictions in buffer. For large datasets this may lead to large memory footprint.\n",
      "  warnings.warn(*args, **kwargs)\n",
      "\u001b[32m[I 2022-07-29 18:04:49,045]\u001b[0m Trial 61 pruned. \u001b[0m\n",
      "C:\\Users\\bakhi\\anaconda3\\lib\\site-packages\\torchmetrics\\utilities\\prints.py:36: UserWarning: Metric `AUROC` will save all targets and predictions in buffer. For large datasets this may lead to large memory footprint.\n",
      "  warnings.warn(*args, **kwargs)\n",
      "\u001b[32m[I 2022-07-29 18:04:49,382]\u001b[0m Trial 62 pruned. \u001b[0m\n",
      "C:\\Users\\bakhi\\anaconda3\\lib\\site-packages\\torchmetrics\\utilities\\prints.py:36: UserWarning: Metric `AUROC` will save all targets and predictions in buffer. For large datasets this may lead to large memory footprint.\n",
      "  warnings.warn(*args, **kwargs)\n",
      "\u001b[32m[I 2022-07-29 18:04:49,692]\u001b[0m Trial 63 pruned. \u001b[0m\n",
      "C:\\Users\\bakhi\\anaconda3\\lib\\site-packages\\torchmetrics\\utilities\\prints.py:36: UserWarning: Metric `AUROC` will save all targets and predictions in buffer. For large datasets this may lead to large memory footprint.\n",
      "  warnings.warn(*args, **kwargs)\n",
      "\u001b[32m[I 2022-07-29 18:04:50,033]\u001b[0m Trial 64 pruned. \u001b[0m\n",
      "C:\\Users\\bakhi\\anaconda3\\lib\\site-packages\\torchmetrics\\utilities\\prints.py:36: UserWarning: Metric `AUROC` will save all targets and predictions in buffer. For large datasets this may lead to large memory footprint.\n",
      "  warnings.warn(*args, **kwargs)\n",
      "\u001b[32m[I 2022-07-29 18:04:50,375]\u001b[0m Trial 65 pruned. \u001b[0m\n",
      "C:\\Users\\bakhi\\anaconda3\\lib\\site-packages\\torchmetrics\\utilities\\prints.py:36: UserWarning: Metric `AUROC` will save all targets and predictions in buffer. For large datasets this may lead to large memory footprint.\n",
      "  warnings.warn(*args, **kwargs)\n",
      "\u001b[32m[I 2022-07-29 18:04:50,692]\u001b[0m Trial 66 pruned. \u001b[0m\n",
      "C:\\Users\\bakhi\\anaconda3\\lib\\site-packages\\torchmetrics\\utilities\\prints.py:36: UserWarning: Metric `AUROC` will save all targets and predictions in buffer. For large datasets this may lead to large memory footprint.\n",
      "  warnings.warn(*args, **kwargs)\n",
      "\u001b[32m[I 2022-07-29 18:04:51,018]\u001b[0m Trial 67 pruned. \u001b[0m\n",
      "C:\\Users\\bakhi\\anaconda3\\lib\\site-packages\\torchmetrics\\utilities\\prints.py:36: UserWarning: Metric `AUROC` will save all targets and predictions in buffer. For large datasets this may lead to large memory footprint.\n",
      "  warnings.warn(*args, **kwargs)\n",
      "\u001b[32m[I 2022-07-29 18:04:51,365]\u001b[0m Trial 68 pruned. \u001b[0m\n",
      "C:\\Users\\bakhi\\anaconda3\\lib\\site-packages\\torchmetrics\\utilities\\prints.py:36: UserWarning: Metric `AUROC` will save all targets and predictions in buffer. For large datasets this may lead to large memory footprint.\n",
      "  warnings.warn(*args, **kwargs)\n",
      "\u001b[32m[I 2022-07-29 18:04:51,720]\u001b[0m Trial 69 pruned. \u001b[0m\n",
      "C:\\Users\\bakhi\\anaconda3\\lib\\site-packages\\torchmetrics\\utilities\\prints.py:36: UserWarning: Metric `AUROC` will save all targets and predictions in buffer. For large datasets this may lead to large memory footprint.\n",
      "  warnings.warn(*args, **kwargs)\n",
      "\u001b[32m[I 2022-07-29 18:04:52,040]\u001b[0m Trial 70 pruned. \u001b[0m\n",
      "C:\\Users\\bakhi\\anaconda3\\lib\\site-packages\\torchmetrics\\utilities\\prints.py:36: UserWarning: Metric `AUROC` will save all targets and predictions in buffer. For large datasets this may lead to large memory footprint.\n",
      "  warnings.warn(*args, **kwargs)\n",
      "\u001b[32m[I 2022-07-29 18:04:52,359]\u001b[0m Trial 71 pruned. \u001b[0m\n",
      "C:\\Users\\bakhi\\anaconda3\\lib\\site-packages\\torchmetrics\\utilities\\prints.py:36: UserWarning: Metric `AUROC` will save all targets and predictions in buffer. For large datasets this may lead to large memory footprint.\n",
      "  warnings.warn(*args, **kwargs)\n",
      "\u001b[32m[I 2022-07-29 18:04:52,687]\u001b[0m Trial 72 pruned. \u001b[0m\n",
      "C:\\Users\\bakhi\\anaconda3\\lib\\site-packages\\torchmetrics\\utilities\\prints.py:36: UserWarning: Metric `AUROC` will save all targets and predictions in buffer. For large datasets this may lead to large memory footprint.\n",
      "  warnings.warn(*args, **kwargs)\n",
      "\u001b[32m[I 2022-07-29 18:05:04,832]\u001b[0m Trial 73 finished with value: 0.6553561091423035 and parameters: {'linear_size1': 40, 'linear_size2': 42, 'linear_size3': 18, 'linear_size4': 4, 'dropout_rate': 0.30000000000000004}. Best is trial 58 with value: 0.6819875836372375.\u001b[0m\n",
      "C:\\Users\\bakhi\\anaconda3\\lib\\site-packages\\torchmetrics\\utilities\\prints.py:36: UserWarning: Metric `AUROC` will save all targets and predictions in buffer. For large datasets this may lead to large memory footprint.\n",
      "  warnings.warn(*args, **kwargs)\n",
      "\u001b[32m[I 2022-07-29 18:05:05,166]\u001b[0m Trial 74 pruned. \u001b[0m\n",
      "C:\\Users\\bakhi\\anaconda3\\lib\\site-packages\\torchmetrics\\utilities\\prints.py:36: UserWarning: Metric `AUROC` will save all targets and predictions in buffer. For large datasets this may lead to large memory footprint.\n",
      "  warnings.warn(*args, **kwargs)\n",
      "\u001b[32m[I 2022-07-29 18:05:05,482]\u001b[0m Trial 75 pruned. \u001b[0m\n",
      "C:\\Users\\bakhi\\anaconda3\\lib\\site-packages\\torchmetrics\\utilities\\prints.py:36: UserWarning: Metric `AUROC` will save all targets and predictions in buffer. For large datasets this may lead to large memory footprint.\n",
      "  warnings.warn(*args, **kwargs)\n",
      "\u001b[32m[I 2022-07-29 18:05:05,803]\u001b[0m Trial 76 pruned. \u001b[0m\n",
      "C:\\Users\\bakhi\\anaconda3\\lib\\site-packages\\torchmetrics\\utilities\\prints.py:36: UserWarning: Metric `AUROC` will save all targets and predictions in buffer. For large datasets this may lead to large memory footprint.\n",
      "  warnings.warn(*args, **kwargs)\n",
      "\u001b[32m[I 2022-07-29 18:05:06,143]\u001b[0m Trial 77 pruned. \u001b[0m\n",
      "C:\\Users\\bakhi\\anaconda3\\lib\\site-packages\\torchmetrics\\utilities\\prints.py:36: UserWarning: Metric `AUROC` will save all targets and predictions in buffer. For large datasets this may lead to large memory footprint.\n",
      "  warnings.warn(*args, **kwargs)\n",
      "\u001b[32m[I 2022-07-29 18:05:08,292]\u001b[0m Trial 78 pruned. \u001b[0m\n",
      "C:\\Users\\bakhi\\anaconda3\\lib\\site-packages\\torchmetrics\\utilities\\prints.py:36: UserWarning: Metric `AUROC` will save all targets and predictions in buffer. For large datasets this may lead to large memory footprint.\n",
      "  warnings.warn(*args, **kwargs)\n",
      "\u001b[32m[I 2022-07-29 18:05:08,621]\u001b[0m Trial 79 pruned. \u001b[0m\n",
      "C:\\Users\\bakhi\\anaconda3\\lib\\site-packages\\torchmetrics\\utilities\\prints.py:36: UserWarning: Metric `AUROC` will save all targets and predictions in buffer. For large datasets this may lead to large memory footprint.\n",
      "  warnings.warn(*args, **kwargs)\n",
      "\u001b[32m[I 2022-07-29 18:05:08,939]\u001b[0m Trial 80 pruned. \u001b[0m\n",
      "C:\\Users\\bakhi\\anaconda3\\lib\\site-packages\\torchmetrics\\utilities\\prints.py:36: UserWarning: Metric `AUROC` will save all targets and predictions in buffer. For large datasets this may lead to large memory footprint.\n",
      "  warnings.warn(*args, **kwargs)\n",
      "\u001b[32m[I 2022-07-29 18:05:09,248]\u001b[0m Trial 81 pruned. \u001b[0m\n",
      "C:\\Users\\bakhi\\anaconda3\\lib\\site-packages\\torchmetrics\\utilities\\prints.py:36: UserWarning: Metric `AUROC` will save all targets and predictions in buffer. For large datasets this may lead to large memory footprint.\n",
      "  warnings.warn(*args, **kwargs)\n",
      "\u001b[32m[I 2022-07-29 18:05:09,574]\u001b[0m Trial 82 pruned. \u001b[0m\n",
      "C:\\Users\\bakhi\\anaconda3\\lib\\site-packages\\torchmetrics\\utilities\\prints.py:36: UserWarning: Metric `AUROC` will save all targets and predictions in buffer. For large datasets this may lead to large memory footprint.\n",
      "  warnings.warn(*args, **kwargs)\n",
      "\u001b[32m[I 2022-07-29 18:05:10,808]\u001b[0m Trial 83 pruned. \u001b[0m\n",
      "C:\\Users\\bakhi\\anaconda3\\lib\\site-packages\\torchmetrics\\utilities\\prints.py:36: UserWarning: Metric `AUROC` will save all targets and predictions in buffer. For large datasets this may lead to large memory footprint.\n",
      "  warnings.warn(*args, **kwargs)\n",
      "\u001b[32m[I 2022-07-29 18:05:12,361]\u001b[0m Trial 84 pruned. \u001b[0m\n",
      "C:\\Users\\bakhi\\anaconda3\\lib\\site-packages\\torchmetrics\\utilities\\prints.py:36: UserWarning: Metric `AUROC` will save all targets and predictions in buffer. For large datasets this may lead to large memory footprint.\n",
      "  warnings.warn(*args, **kwargs)\n",
      "\u001b[32m[I 2022-07-29 18:05:12,717]\u001b[0m Trial 85 pruned. \u001b[0m\n",
      "C:\\Users\\bakhi\\anaconda3\\lib\\site-packages\\torchmetrics\\utilities\\prints.py:36: UserWarning: Metric `AUROC` will save all targets and predictions in buffer. For large datasets this may lead to large memory footprint.\n",
      "  warnings.warn(*args, **kwargs)\n",
      "\u001b[32m[I 2022-07-29 18:05:13,047]\u001b[0m Trial 86 pruned. \u001b[0m\n",
      "C:\\Users\\bakhi\\anaconda3\\lib\\site-packages\\torchmetrics\\utilities\\prints.py:36: UserWarning: Metric `AUROC` will save all targets and predictions in buffer. For large datasets this may lead to large memory footprint.\n",
      "  warnings.warn(*args, **kwargs)\n",
      "\u001b[32m[I 2022-07-29 18:05:13,370]\u001b[0m Trial 87 pruned. \u001b[0m\n",
      "C:\\Users\\bakhi\\anaconda3\\lib\\site-packages\\torchmetrics\\utilities\\prints.py:36: UserWarning: Metric `AUROC` will save all targets and predictions in buffer. For large datasets this may lead to large memory footprint.\n",
      "  warnings.warn(*args, **kwargs)\n",
      "\u001b[32m[I 2022-07-29 18:05:13,691]\u001b[0m Trial 88 pruned. \u001b[0m\n",
      "C:\\Users\\bakhi\\anaconda3\\lib\\site-packages\\torchmetrics\\utilities\\prints.py:36: UserWarning: Metric `AUROC` will save all targets and predictions in buffer. For large datasets this may lead to large memory footprint.\n",
      "  warnings.warn(*args, **kwargs)\n",
      "\u001b[32m[I 2022-07-29 18:05:14,016]\u001b[0m Trial 89 pruned. \u001b[0m\n",
      "C:\\Users\\bakhi\\anaconda3\\lib\\site-packages\\torchmetrics\\utilities\\prints.py:36: UserWarning: Metric `AUROC` will save all targets and predictions in buffer. For large datasets this may lead to large memory footprint.\n",
      "  warnings.warn(*args, **kwargs)\n",
      "\u001b[32m[I 2022-07-29 18:05:15,004]\u001b[0m Trial 90 pruned. \u001b[0m\n",
      "C:\\Users\\bakhi\\anaconda3\\lib\\site-packages\\torchmetrics\\utilities\\prints.py:36: UserWarning: Metric `AUROC` will save all targets and predictions in buffer. For large datasets this may lead to large memory footprint.\n",
      "  warnings.warn(*args, **kwargs)\n",
      "\u001b[32m[I 2022-07-29 18:05:15,320]\u001b[0m Trial 91 pruned. \u001b[0m\n",
      "C:\\Users\\bakhi\\anaconda3\\lib\\site-packages\\torchmetrics\\utilities\\prints.py:36: UserWarning: Metric `AUROC` will save all targets and predictions in buffer. For large datasets this may lead to large memory footprint.\n",
      "  warnings.warn(*args, **kwargs)\n",
      "\u001b[32m[I 2022-07-29 18:05:15,636]\u001b[0m Trial 92 pruned. \u001b[0m\n",
      "C:\\Users\\bakhi\\anaconda3\\lib\\site-packages\\torchmetrics\\utilities\\prints.py:36: UserWarning: Metric `AUROC` will save all targets and predictions in buffer. For large datasets this may lead to large memory footprint.\n",
      "  warnings.warn(*args, **kwargs)\n",
      "\u001b[32m[I 2022-07-29 18:05:15,959]\u001b[0m Trial 93 pruned. \u001b[0m\n",
      "C:\\Users\\bakhi\\anaconda3\\lib\\site-packages\\torchmetrics\\utilities\\prints.py:36: UserWarning: Metric `AUROC` will save all targets and predictions in buffer. For large datasets this may lead to large memory footprint.\n",
      "  warnings.warn(*args, **kwargs)\n",
      "\u001b[32m[I 2022-07-29 18:05:16,277]\u001b[0m Trial 94 pruned. \u001b[0m\n",
      "C:\\Users\\bakhi\\anaconda3\\lib\\site-packages\\torchmetrics\\utilities\\prints.py:36: UserWarning: Metric `AUROC` will save all targets and predictions in buffer. For large datasets this may lead to large memory footprint.\n",
      "  warnings.warn(*args, **kwargs)\n",
      "\u001b[32m[I 2022-07-29 18:05:16,600]\u001b[0m Trial 95 pruned. \u001b[0m\n",
      "C:\\Users\\bakhi\\anaconda3\\lib\\site-packages\\torchmetrics\\utilities\\prints.py:36: UserWarning: Metric `AUROC` will save all targets and predictions in buffer. For large datasets this may lead to large memory footprint.\n",
      "  warnings.warn(*args, **kwargs)\n",
      "\u001b[32m[I 2022-07-29 18:05:16,907]\u001b[0m Trial 96 pruned. \u001b[0m\n",
      "C:\\Users\\bakhi\\anaconda3\\lib\\site-packages\\torchmetrics\\utilities\\prints.py:36: UserWarning: Metric `AUROC` will save all targets and predictions in buffer. For large datasets this may lead to large memory footprint.\n",
      "  warnings.warn(*args, **kwargs)\n",
      "\u001b[32m[I 2022-07-29 18:05:17,220]\u001b[0m Trial 97 pruned. \u001b[0m\n",
      "C:\\Users\\bakhi\\anaconda3\\lib\\site-packages\\torchmetrics\\utilities\\prints.py:36: UserWarning: Metric `AUROC` will save all targets and predictions in buffer. For large datasets this may lead to large memory footprint.\n",
      "  warnings.warn(*args, **kwargs)\n",
      "\u001b[32m[I 2022-07-29 18:05:17,550]\u001b[0m Trial 98 pruned. \u001b[0m\n",
      "C:\\Users\\bakhi\\anaconda3\\lib\\site-packages\\torchmetrics\\utilities\\prints.py:36: UserWarning: Metric `AUROC` will save all targets and predictions in buffer. For large datasets this may lead to large memory footprint.\n",
      "  warnings.warn(*args, **kwargs)\n",
      "\u001b[32m[I 2022-07-29 18:05:18,523]\u001b[0m Trial 99 pruned. \u001b[0m\n",
      "C:\\Users\\bakhi\\anaconda3\\lib\\site-packages\\torchmetrics\\utilities\\prints.py:36: UserWarning: Metric `AUROC` will save all targets and predictions in buffer. For large datasets this may lead to large memory footprint.\n",
      "  warnings.warn(*args, **kwargs)\n",
      "\u001b[32m[I 2022-07-29 18:05:18,844]\u001b[0m Trial 100 pruned. \u001b[0m\n",
      "C:\\Users\\bakhi\\anaconda3\\lib\\site-packages\\torchmetrics\\utilities\\prints.py:36: UserWarning: Metric `AUROC` will save all targets and predictions in buffer. For large datasets this may lead to large memory footprint.\n",
      "  warnings.warn(*args, **kwargs)\n",
      "\u001b[32m[I 2022-07-29 18:05:19,162]\u001b[0m Trial 101 pruned. \u001b[0m\n",
      "C:\\Users\\bakhi\\anaconda3\\lib\\site-packages\\torchmetrics\\utilities\\prints.py:36: UserWarning: Metric `AUROC` will save all targets and predictions in buffer. For large datasets this may lead to large memory footprint.\n",
      "  warnings.warn(*args, **kwargs)\n",
      "\u001b[32m[I 2022-07-29 18:05:19,492]\u001b[0m Trial 102 pruned. \u001b[0m\n",
      "C:\\Users\\bakhi\\anaconda3\\lib\\site-packages\\torchmetrics\\utilities\\prints.py:36: UserWarning: Metric `AUROC` will save all targets and predictions in buffer. For large datasets this may lead to large memory footprint.\n",
      "  warnings.warn(*args, **kwargs)\n",
      "\u001b[32m[I 2022-07-29 18:05:19,816]\u001b[0m Trial 103 pruned. \u001b[0m\n",
      "C:\\Users\\bakhi\\anaconda3\\lib\\site-packages\\torchmetrics\\utilities\\prints.py:36: UserWarning: Metric `AUROC` will save all targets and predictions in buffer. For large datasets this may lead to large memory footprint.\n",
      "  warnings.warn(*args, **kwargs)\n",
      "\u001b[32m[I 2022-07-29 18:05:20,748]\u001b[0m Trial 104 pruned. \u001b[0m\n",
      "C:\\Users\\bakhi\\anaconda3\\lib\\site-packages\\torchmetrics\\utilities\\prints.py:36: UserWarning: Metric `AUROC` will save all targets and predictions in buffer. For large datasets this may lead to large memory footprint.\n",
      "  warnings.warn(*args, **kwargs)\n",
      "\u001b[32m[I 2022-07-29 18:05:21,080]\u001b[0m Trial 105 pruned. \u001b[0m\n",
      "C:\\Users\\bakhi\\anaconda3\\lib\\site-packages\\torchmetrics\\utilities\\prints.py:36: UserWarning: Metric `AUROC` will save all targets and predictions in buffer. For large datasets this may lead to large memory footprint.\n",
      "  warnings.warn(*args, **kwargs)\n",
      "\u001b[32m[I 2022-07-29 18:05:21,417]\u001b[0m Trial 106 pruned. \u001b[0m\n",
      "C:\\Users\\bakhi\\anaconda3\\lib\\site-packages\\torchmetrics\\utilities\\prints.py:36: UserWarning: Metric `AUROC` will save all targets and predictions in buffer. For large datasets this may lead to large memory footprint.\n",
      "  warnings.warn(*args, **kwargs)\n",
      "\u001b[32m[I 2022-07-29 18:05:21,737]\u001b[0m Trial 107 pruned. \u001b[0m\n",
      "C:\\Users\\bakhi\\anaconda3\\lib\\site-packages\\torchmetrics\\utilities\\prints.py:36: UserWarning: Metric `AUROC` will save all targets and predictions in buffer. For large datasets this may lead to large memory footprint.\n",
      "  warnings.warn(*args, **kwargs)\n",
      "\u001b[32m[I 2022-07-29 18:05:22,089]\u001b[0m Trial 108 pruned. \u001b[0m\n",
      "C:\\Users\\bakhi\\anaconda3\\lib\\site-packages\\torchmetrics\\utilities\\prints.py:36: UserWarning: Metric `AUROC` will save all targets and predictions in buffer. For large datasets this may lead to large memory footprint.\n",
      "  warnings.warn(*args, **kwargs)\n",
      "\u001b[32m[I 2022-07-29 18:05:22,431]\u001b[0m Trial 109 pruned. \u001b[0m\n",
      "C:\\Users\\bakhi\\anaconda3\\lib\\site-packages\\torchmetrics\\utilities\\prints.py:36: UserWarning: Metric `AUROC` will save all targets and predictions in buffer. For large datasets this may lead to large memory footprint.\n",
      "  warnings.warn(*args, **kwargs)\n",
      "\u001b[32m[I 2022-07-29 18:05:22,762]\u001b[0m Trial 110 pruned. \u001b[0m\n",
      "C:\\Users\\bakhi\\anaconda3\\lib\\site-packages\\torchmetrics\\utilities\\prints.py:36: UserWarning: Metric `AUROC` will save all targets and predictions in buffer. For large datasets this may lead to large memory footprint.\n",
      "  warnings.warn(*args, **kwargs)\n",
      "\u001b[32m[I 2022-07-29 18:05:23,090]\u001b[0m Trial 111 pruned. \u001b[0m\n",
      "C:\\Users\\bakhi\\anaconda3\\lib\\site-packages\\torchmetrics\\utilities\\prints.py:36: UserWarning: Metric `AUROC` will save all targets and predictions in buffer. For large datasets this may lead to large memory footprint.\n",
      "  warnings.warn(*args, **kwargs)\n",
      "\u001b[32m[I 2022-07-29 18:05:23,732]\u001b[0m Trial 112 pruned. \u001b[0m\n",
      "C:\\Users\\bakhi\\anaconda3\\lib\\site-packages\\torchmetrics\\utilities\\prints.py:36: UserWarning: Metric `AUROC` will save all targets and predictions in buffer. For large datasets this may lead to large memory footprint.\n",
      "  warnings.warn(*args, **kwargs)\n",
      "\u001b[32m[I 2022-07-29 18:05:24,086]\u001b[0m Trial 113 pruned. \u001b[0m\n",
      "C:\\Users\\bakhi\\anaconda3\\lib\\site-packages\\torchmetrics\\utilities\\prints.py:36: UserWarning: Metric `AUROC` will save all targets and predictions in buffer. For large datasets this may lead to large memory footprint.\n",
      "  warnings.warn(*args, **kwargs)\n",
      "\u001b[32m[I 2022-07-29 18:05:24,765]\u001b[0m Trial 114 pruned. \u001b[0m\n",
      "C:\\Users\\bakhi\\anaconda3\\lib\\site-packages\\torchmetrics\\utilities\\prints.py:36: UserWarning: Metric `AUROC` will save all targets and predictions in buffer. For large datasets this may lead to large memory footprint.\n",
      "  warnings.warn(*args, **kwargs)\n",
      "\u001b[32m[I 2022-07-29 18:05:25,100]\u001b[0m Trial 115 pruned. \u001b[0m\n",
      "C:\\Users\\bakhi\\anaconda3\\lib\\site-packages\\torchmetrics\\utilities\\prints.py:36: UserWarning: Metric `AUROC` will save all targets and predictions in buffer. For large datasets this may lead to large memory footprint.\n",
      "  warnings.warn(*args, **kwargs)\n",
      "\u001b[32m[I 2022-07-29 18:05:25,449]\u001b[0m Trial 116 pruned. \u001b[0m\n",
      "C:\\Users\\bakhi\\anaconda3\\lib\\site-packages\\torchmetrics\\utilities\\prints.py:36: UserWarning: Metric `AUROC` will save all targets and predictions in buffer. For large datasets this may lead to large memory footprint.\n",
      "  warnings.warn(*args, **kwargs)\n",
      "\u001b[32m[I 2022-07-29 18:05:25,796]\u001b[0m Trial 117 pruned. \u001b[0m\n",
      "C:\\Users\\bakhi\\anaconda3\\lib\\site-packages\\torchmetrics\\utilities\\prints.py:36: UserWarning: Metric `AUROC` will save all targets and predictions in buffer. For large datasets this may lead to large memory footprint.\n",
      "  warnings.warn(*args, **kwargs)\n",
      "\u001b[32m[I 2022-07-29 18:05:26,120]\u001b[0m Trial 118 pruned. \u001b[0m\n",
      "C:\\Users\\bakhi\\anaconda3\\lib\\site-packages\\torchmetrics\\utilities\\prints.py:36: UserWarning: Metric `AUROC` will save all targets and predictions in buffer. For large datasets this may lead to large memory footprint.\n",
      "  warnings.warn(*args, **kwargs)\n",
      "\u001b[32m[I 2022-07-29 18:05:26,440]\u001b[0m Trial 119 pruned. \u001b[0m\n",
      "C:\\Users\\bakhi\\anaconda3\\lib\\site-packages\\torchmetrics\\utilities\\prints.py:36: UserWarning: Metric `AUROC` will save all targets and predictions in buffer. For large datasets this may lead to large memory footprint.\n",
      "  warnings.warn(*args, **kwargs)\n",
      "\u001b[32m[I 2022-07-29 18:05:26,756]\u001b[0m Trial 120 pruned. \u001b[0m\n",
      "C:\\Users\\bakhi\\anaconda3\\lib\\site-packages\\torchmetrics\\utilities\\prints.py:36: UserWarning: Metric `AUROC` will save all targets and predictions in buffer. For large datasets this may lead to large memory footprint.\n",
      "  warnings.warn(*args, **kwargs)\n",
      "\u001b[32m[I 2022-07-29 18:05:27,082]\u001b[0m Trial 121 pruned. \u001b[0m\n",
      "C:\\Users\\bakhi\\anaconda3\\lib\\site-packages\\torchmetrics\\utilities\\prints.py:36: UserWarning: Metric `AUROC` will save all targets and predictions in buffer. For large datasets this may lead to large memory footprint.\n",
      "  warnings.warn(*args, **kwargs)\n",
      "\u001b[32m[I 2022-07-29 18:05:27,415]\u001b[0m Trial 122 pruned. \u001b[0m\n",
      "C:\\Users\\bakhi\\anaconda3\\lib\\site-packages\\torchmetrics\\utilities\\prints.py:36: UserWarning: Metric `AUROC` will save all targets and predictions in buffer. For large datasets this may lead to large memory footprint.\n",
      "  warnings.warn(*args, **kwargs)\n",
      "\u001b[32m[I 2022-07-29 18:05:27,748]\u001b[0m Trial 123 pruned. \u001b[0m\n",
      "C:\\Users\\bakhi\\anaconda3\\lib\\site-packages\\torchmetrics\\utilities\\prints.py:36: UserWarning: Metric `AUROC` will save all targets and predictions in buffer. For large datasets this may lead to large memory footprint.\n",
      "  warnings.warn(*args, **kwargs)\n",
      "\u001b[32m[I 2022-07-29 18:05:28,066]\u001b[0m Trial 124 pruned. \u001b[0m\n",
      "C:\\Users\\bakhi\\anaconda3\\lib\\site-packages\\torchmetrics\\utilities\\prints.py:36: UserWarning: Metric `AUROC` will save all targets and predictions in buffer. For large datasets this may lead to large memory footprint.\n",
      "  warnings.warn(*args, **kwargs)\n",
      "\u001b[32m[I 2022-07-29 18:05:28,409]\u001b[0m Trial 125 pruned. \u001b[0m\n",
      "C:\\Users\\bakhi\\anaconda3\\lib\\site-packages\\torchmetrics\\utilities\\prints.py:36: UserWarning: Metric `AUROC` will save all targets and predictions in buffer. For large datasets this may lead to large memory footprint.\n",
      "  warnings.warn(*args, **kwargs)\n",
      "\u001b[32m[I 2022-07-29 18:05:28,721]\u001b[0m Trial 126 pruned. \u001b[0m\n",
      "C:\\Users\\bakhi\\anaconda3\\lib\\site-packages\\torchmetrics\\utilities\\prints.py:36: UserWarning: Metric `AUROC` will save all targets and predictions in buffer. For large datasets this may lead to large memory footprint.\n",
      "  warnings.warn(*args, **kwargs)\n",
      "\u001b[32m[I 2022-07-29 18:05:29,414]\u001b[0m Trial 127 pruned. \u001b[0m\n",
      "C:\\Users\\bakhi\\anaconda3\\lib\\site-packages\\torchmetrics\\utilities\\prints.py:36: UserWarning: Metric `AUROC` will save all targets and predictions in buffer. For large datasets this may lead to large memory footprint.\n",
      "  warnings.warn(*args, **kwargs)\n",
      "\u001b[32m[I 2022-07-29 18:05:29,744]\u001b[0m Trial 128 pruned. \u001b[0m\n",
      "C:\\Users\\bakhi\\anaconda3\\lib\\site-packages\\torchmetrics\\utilities\\prints.py:36: UserWarning: Metric `AUROC` will save all targets and predictions in buffer. For large datasets this may lead to large memory footprint.\n",
      "  warnings.warn(*args, **kwargs)\n",
      "\u001b[32m[I 2022-07-29 18:05:30,067]\u001b[0m Trial 129 pruned. \u001b[0m\n",
      "C:\\Users\\bakhi\\anaconda3\\lib\\site-packages\\torchmetrics\\utilities\\prints.py:36: UserWarning: Metric `AUROC` will save all targets and predictions in buffer. For large datasets this may lead to large memory footprint.\n",
      "  warnings.warn(*args, **kwargs)\n",
      "\u001b[32m[I 2022-07-29 18:05:30,389]\u001b[0m Trial 130 pruned. \u001b[0m\n",
      "C:\\Users\\bakhi\\anaconda3\\lib\\site-packages\\torchmetrics\\utilities\\prints.py:36: UserWarning: Metric `AUROC` will save all targets and predictions in buffer. For large datasets this may lead to large memory footprint.\n",
      "  warnings.warn(*args, **kwargs)\n",
      "\u001b[32m[I 2022-07-29 18:05:31,657]\u001b[0m Trial 131 pruned. \u001b[0m\n",
      "C:\\Users\\bakhi\\anaconda3\\lib\\site-packages\\torchmetrics\\utilities\\prints.py:36: UserWarning: Metric `AUROC` will save all targets and predictions in buffer. For large datasets this may lead to large memory footprint.\n",
      "  warnings.warn(*args, **kwargs)\n",
      "\u001b[32m[I 2022-07-29 18:05:33,247]\u001b[0m Trial 132 pruned. \u001b[0m\n",
      "C:\\Users\\bakhi\\anaconda3\\lib\\site-packages\\torchmetrics\\utilities\\prints.py:36: UserWarning: Metric `AUROC` will save all targets and predictions in buffer. For large datasets this may lead to large memory footprint.\n",
      "  warnings.warn(*args, **kwargs)\n",
      "C:\\Users\\bakhi\\anaconda3\\lib\\site-packages\\torchmetrics\\utilities\\prints.py:36: UserWarning: No positive samples in targets, true positive value should be meaningless. Returning zero tensor in true positive score\n",
      "  warnings.warn(*args, **kwargs)\n",
      "\u001b[32m[I 2022-07-29 18:05:33,574]\u001b[0m Trial 133 pruned. \u001b[0m\n",
      "C:\\Users\\bakhi\\anaconda3\\lib\\site-packages\\torchmetrics\\utilities\\prints.py:36: UserWarning: Metric `AUROC` will save all targets and predictions in buffer. For large datasets this may lead to large memory footprint.\n",
      "  warnings.warn(*args, **kwargs)\n",
      "\u001b[32m[I 2022-07-29 18:05:33,891]\u001b[0m Trial 134 pruned. \u001b[0m\n",
      "C:\\Users\\bakhi\\anaconda3\\lib\\site-packages\\torchmetrics\\utilities\\prints.py:36: UserWarning: Metric `AUROC` will save all targets and predictions in buffer. For large datasets this may lead to large memory footprint.\n",
      "  warnings.warn(*args, **kwargs)\n",
      "\u001b[32m[I 2022-07-29 18:05:34,240]\u001b[0m Trial 135 pruned. \u001b[0m\n",
      "C:\\Users\\bakhi\\anaconda3\\lib\\site-packages\\torchmetrics\\utilities\\prints.py:36: UserWarning: Metric `AUROC` will save all targets and predictions in buffer. For large datasets this may lead to large memory footprint.\n",
      "  warnings.warn(*args, **kwargs)\n",
      "\u001b[32m[I 2022-07-29 18:05:34,560]\u001b[0m Trial 136 pruned. \u001b[0m\n",
      "C:\\Users\\bakhi\\anaconda3\\lib\\site-packages\\torchmetrics\\utilities\\prints.py:36: UserWarning: Metric `AUROC` will save all targets and predictions in buffer. For large datasets this may lead to large memory footprint.\n",
      "  warnings.warn(*args, **kwargs)\n",
      "\u001b[32m[I 2022-07-29 18:05:34,890]\u001b[0m Trial 137 pruned. \u001b[0m\n",
      "C:\\Users\\bakhi\\anaconda3\\lib\\site-packages\\torchmetrics\\utilities\\prints.py:36: UserWarning: Metric `AUROC` will save all targets and predictions in buffer. For large datasets this may lead to large memory footprint.\n",
      "  warnings.warn(*args, **kwargs)\n",
      "\u001b[32m[I 2022-07-29 18:05:35,214]\u001b[0m Trial 138 pruned. \u001b[0m\n",
      "C:\\Users\\bakhi\\anaconda3\\lib\\site-packages\\torchmetrics\\utilities\\prints.py:36: UserWarning: Metric `AUROC` will save all targets and predictions in buffer. For large datasets this may lead to large memory footprint.\n",
      "  warnings.warn(*args, **kwargs)\n",
      "\u001b[32m[I 2022-07-29 18:05:35,528]\u001b[0m Trial 139 pruned. \u001b[0m\n",
      "C:\\Users\\bakhi\\anaconda3\\lib\\site-packages\\torchmetrics\\utilities\\prints.py:36: UserWarning: Metric `AUROC` will save all targets and predictions in buffer. For large datasets this may lead to large memory footprint.\n",
      "  warnings.warn(*args, **kwargs)\n",
      "\u001b[32m[I 2022-07-29 18:05:35,854]\u001b[0m Trial 140 pruned. \u001b[0m\n",
      "C:\\Users\\bakhi\\anaconda3\\lib\\site-packages\\torchmetrics\\utilities\\prints.py:36: UserWarning: Metric `AUROC` will save all targets and predictions in buffer. For large datasets this may lead to large memory footprint.\n",
      "  warnings.warn(*args, **kwargs)\n",
      "C:\\Users\\bakhi\\anaconda3\\lib\\site-packages\\torchmetrics\\utilities\\prints.py:36: UserWarning: No positive samples in targets, true positive value should be meaningless. Returning zero tensor in true positive score\n",
      "  warnings.warn(*args, **kwargs)\n",
      "\u001b[32m[I 2022-07-29 18:05:36,173]\u001b[0m Trial 141 pruned. \u001b[0m\n",
      "C:\\Users\\bakhi\\anaconda3\\lib\\site-packages\\torchmetrics\\utilities\\prints.py:36: UserWarning: Metric `AUROC` will save all targets and predictions in buffer. For large datasets this may lead to large memory footprint.\n",
      "  warnings.warn(*args, **kwargs)\n",
      "\u001b[32m[I 2022-07-29 18:05:38,113]\u001b[0m Trial 142 pruned. \u001b[0m\n",
      "C:\\Users\\bakhi\\anaconda3\\lib\\site-packages\\torchmetrics\\utilities\\prints.py:36: UserWarning: Metric `AUROC` will save all targets and predictions in buffer. For large datasets this may lead to large memory footprint.\n",
      "  warnings.warn(*args, **kwargs)\n",
      "\u001b[32m[I 2022-07-29 18:05:38,740]\u001b[0m Trial 143 pruned. \u001b[0m\n",
      "C:\\Users\\bakhi\\anaconda3\\lib\\site-packages\\torchmetrics\\utilities\\prints.py:36: UserWarning: Metric `AUROC` will save all targets and predictions in buffer. For large datasets this may lead to large memory footprint.\n",
      "  warnings.warn(*args, **kwargs)\n",
      "\u001b[32m[I 2022-07-29 18:05:39,082]\u001b[0m Trial 144 pruned. \u001b[0m\n",
      "C:\\Users\\bakhi\\anaconda3\\lib\\site-packages\\torchmetrics\\utilities\\prints.py:36: UserWarning: Metric `AUROC` will save all targets and predictions in buffer. For large datasets this may lead to large memory footprint.\n",
      "  warnings.warn(*args, **kwargs)\n",
      "\u001b[32m[I 2022-07-29 18:05:39,416]\u001b[0m Trial 145 pruned. \u001b[0m\n",
      "C:\\Users\\bakhi\\anaconda3\\lib\\site-packages\\torchmetrics\\utilities\\prints.py:36: UserWarning: Metric `AUROC` will save all targets and predictions in buffer. For large datasets this may lead to large memory footprint.\n",
      "  warnings.warn(*args, **kwargs)\n",
      "\u001b[32m[I 2022-07-29 18:05:39,744]\u001b[0m Trial 146 pruned. \u001b[0m\n",
      "C:\\Users\\bakhi\\anaconda3\\lib\\site-packages\\torchmetrics\\utilities\\prints.py:36: UserWarning: Metric `AUROC` will save all targets and predictions in buffer. For large datasets this may lead to large memory footprint.\n",
      "  warnings.warn(*args, **kwargs)\n",
      "\u001b[32m[I 2022-07-29 18:05:40,081]\u001b[0m Trial 147 pruned. \u001b[0m\n",
      "C:\\Users\\bakhi\\anaconda3\\lib\\site-packages\\torchmetrics\\utilities\\prints.py:36: UserWarning: Metric `AUROC` will save all targets and predictions in buffer. For large datasets this may lead to large memory footprint.\n",
      "  warnings.warn(*args, **kwargs)\n",
      "\u001b[32m[I 2022-07-29 18:05:40,406]\u001b[0m Trial 148 pruned. \u001b[0m\n",
      "C:\\Users\\bakhi\\anaconda3\\lib\\site-packages\\torchmetrics\\utilities\\prints.py:36: UserWarning: Metric `AUROC` will save all targets and predictions in buffer. For large datasets this may lead to large memory footprint.\n",
      "  warnings.warn(*args, **kwargs)\n",
      "\u001b[32m[I 2022-07-29 18:05:40,729]\u001b[0m Trial 149 pruned. \u001b[0m\n",
      "C:\\Users\\bakhi\\anaconda3\\lib\\site-packages\\torchmetrics\\utilities\\prints.py:36: UserWarning: Metric `AUROC` will save all targets and predictions in buffer. For large datasets this may lead to large memory footprint.\n",
      "  warnings.warn(*args, **kwargs)\n",
      "\u001b[32m[I 2022-07-29 18:05:41,067]\u001b[0m Trial 150 pruned. \u001b[0m\n",
      "C:\\Users\\bakhi\\anaconda3\\lib\\site-packages\\torchmetrics\\utilities\\prints.py:36: UserWarning: Metric `AUROC` will save all targets and predictions in buffer. For large datasets this may lead to large memory footprint.\n",
      "  warnings.warn(*args, **kwargs)\n",
      "\u001b[32m[I 2022-07-29 18:05:42,987]\u001b[0m Trial 151 pruned. \u001b[0m\n",
      "C:\\Users\\bakhi\\anaconda3\\lib\\site-packages\\torchmetrics\\utilities\\prints.py:36: UserWarning: Metric `AUROC` will save all targets and predictions in buffer. For large datasets this may lead to large memory footprint.\n",
      "  warnings.warn(*args, **kwargs)\n",
      "\u001b[32m[I 2022-07-29 18:05:43,301]\u001b[0m Trial 152 pruned. \u001b[0m\n",
      "C:\\Users\\bakhi\\anaconda3\\lib\\site-packages\\torchmetrics\\utilities\\prints.py:36: UserWarning: Metric `AUROC` will save all targets and predictions in buffer. For large datasets this may lead to large memory footprint.\n",
      "  warnings.warn(*args, **kwargs)\n",
      "\u001b[32m[I 2022-07-29 18:05:43,632]\u001b[0m Trial 153 pruned. \u001b[0m\n",
      "C:\\Users\\bakhi\\anaconda3\\lib\\site-packages\\torchmetrics\\utilities\\prints.py:36: UserWarning: Metric `AUROC` will save all targets and predictions in buffer. For large datasets this may lead to large memory footprint.\n",
      "  warnings.warn(*args, **kwargs)\n",
      "\u001b[32m[I 2022-07-29 18:05:43,966]\u001b[0m Trial 154 pruned. \u001b[0m\n",
      "C:\\Users\\bakhi\\anaconda3\\lib\\site-packages\\torchmetrics\\utilities\\prints.py:36: UserWarning: Metric `AUROC` will save all targets and predictions in buffer. For large datasets this may lead to large memory footprint.\n",
      "  warnings.warn(*args, **kwargs)\n",
      "\u001b[32m[I 2022-07-29 18:05:44,287]\u001b[0m Trial 155 pruned. \u001b[0m\n",
      "C:\\Users\\bakhi\\anaconda3\\lib\\site-packages\\torchmetrics\\utilities\\prints.py:36: UserWarning: Metric `AUROC` will save all targets and predictions in buffer. For large datasets this may lead to large memory footprint.\n",
      "  warnings.warn(*args, **kwargs)\n",
      "\u001b[32m[I 2022-07-29 18:05:45,262]\u001b[0m Trial 156 pruned. \u001b[0m\n",
      "C:\\Users\\bakhi\\anaconda3\\lib\\site-packages\\torchmetrics\\utilities\\prints.py:36: UserWarning: Metric `AUROC` will save all targets and predictions in buffer. For large datasets this may lead to large memory footprint.\n",
      "  warnings.warn(*args, **kwargs)\n",
      "\u001b[32m[I 2022-07-29 18:05:45,593]\u001b[0m Trial 157 pruned. \u001b[0m\n",
      "C:\\Users\\bakhi\\anaconda3\\lib\\site-packages\\torchmetrics\\utilities\\prints.py:36: UserWarning: Metric `AUROC` will save all targets and predictions in buffer. For large datasets this may lead to large memory footprint.\n",
      "  warnings.warn(*args, **kwargs)\n",
      "\u001b[32m[I 2022-07-29 18:05:45,913]\u001b[0m Trial 158 pruned. \u001b[0m\n",
      "C:\\Users\\bakhi\\anaconda3\\lib\\site-packages\\torchmetrics\\utilities\\prints.py:36: UserWarning: Metric `AUROC` will save all targets and predictions in buffer. For large datasets this may lead to large memory footprint.\n",
      "  warnings.warn(*args, **kwargs)\n",
      "\u001b[32m[I 2022-07-29 18:05:46,270]\u001b[0m Trial 159 pruned. \u001b[0m\n",
      "C:\\Users\\bakhi\\anaconda3\\lib\\site-packages\\torchmetrics\\utilities\\prints.py:36: UserWarning: Metric `AUROC` will save all targets and predictions in buffer. For large datasets this may lead to large memory footprint.\n",
      "  warnings.warn(*args, **kwargs)\n",
      "\u001b[32m[I 2022-07-29 18:05:47,251]\u001b[0m Trial 160 pruned. \u001b[0m\n",
      "C:\\Users\\bakhi\\anaconda3\\lib\\site-packages\\torchmetrics\\utilities\\prints.py:36: UserWarning: Metric `AUROC` will save all targets and predictions in buffer. For large datasets this may lead to large memory footprint.\n",
      "  warnings.warn(*args, **kwargs)\n",
      "\u001b[32m[I 2022-07-29 18:05:47,583]\u001b[0m Trial 161 pruned. \u001b[0m\n",
      "C:\\Users\\bakhi\\anaconda3\\lib\\site-packages\\torchmetrics\\utilities\\prints.py:36: UserWarning: Metric `AUROC` will save all targets and predictions in buffer. For large datasets this may lead to large memory footprint.\n",
      "  warnings.warn(*args, **kwargs)\n",
      "\u001b[32m[I 2022-07-29 18:05:47,902]\u001b[0m Trial 162 pruned. \u001b[0m\n",
      "C:\\Users\\bakhi\\anaconda3\\lib\\site-packages\\torchmetrics\\utilities\\prints.py:36: UserWarning: Metric `AUROC` will save all targets and predictions in buffer. For large datasets this may lead to large memory footprint.\n",
      "  warnings.warn(*args, **kwargs)\n",
      "\u001b[32m[I 2022-07-29 18:05:48,220]\u001b[0m Trial 163 pruned. \u001b[0m\n",
      "C:\\Users\\bakhi\\anaconda3\\lib\\site-packages\\torchmetrics\\utilities\\prints.py:36: UserWarning: Metric `AUROC` will save all targets and predictions in buffer. For large datasets this may lead to large memory footprint.\n",
      "  warnings.warn(*args, **kwargs)\n",
      "\u001b[32m[I 2022-07-29 18:05:48,541]\u001b[0m Trial 164 pruned. \u001b[0m\n",
      "C:\\Users\\bakhi\\anaconda3\\lib\\site-packages\\torchmetrics\\utilities\\prints.py:36: UserWarning: Metric `AUROC` will save all targets and predictions in buffer. For large datasets this may lead to large memory footprint.\n",
      "  warnings.warn(*args, **kwargs)\n",
      "\u001b[32m[I 2022-07-29 18:05:48,897]\u001b[0m Trial 165 pruned. \u001b[0m\n",
      "C:\\Users\\bakhi\\anaconda3\\lib\\site-packages\\torchmetrics\\utilities\\prints.py:36: UserWarning: Metric `AUROC` will save all targets and predictions in buffer. For large datasets this may lead to large memory footprint.\n",
      "  warnings.warn(*args, **kwargs)\n",
      "\u001b[32m[I 2022-07-29 18:05:49,221]\u001b[0m Trial 166 pruned. \u001b[0m\n",
      "C:\\Users\\bakhi\\anaconda3\\lib\\site-packages\\torchmetrics\\utilities\\prints.py:36: UserWarning: Metric `AUROC` will save all targets and predictions in buffer. For large datasets this may lead to large memory footprint.\n",
      "  warnings.warn(*args, **kwargs)\n",
      "\u001b[32m[I 2022-07-29 18:05:49,544]\u001b[0m Trial 167 pruned. \u001b[0m\n",
      "C:\\Users\\bakhi\\anaconda3\\lib\\site-packages\\torchmetrics\\utilities\\prints.py:36: UserWarning: Metric `AUROC` will save all targets and predictions in buffer. For large datasets this may lead to large memory footprint.\n",
      "  warnings.warn(*args, **kwargs)\n",
      "\u001b[32m[I 2022-07-29 18:05:50,842]\u001b[0m Trial 168 pruned. \u001b[0m\n",
      "C:\\Users\\bakhi\\anaconda3\\lib\\site-packages\\torchmetrics\\utilities\\prints.py:36: UserWarning: Metric `AUROC` will save all targets and predictions in buffer. For large datasets this may lead to large memory footprint.\n",
      "  warnings.warn(*args, **kwargs)\n",
      "\u001b[32m[I 2022-07-29 18:06:03,461]\u001b[0m Trial 169 finished with value: 0.6627137064933777 and parameters: {'linear_size1': 40, 'linear_size2': 42, 'linear_size3': 24, 'linear_size4': 8, 'dropout_rate': 0.1}. Best is trial 58 with value: 0.6819875836372375.\u001b[0m\n",
      "C:\\Users\\bakhi\\anaconda3\\lib\\site-packages\\torchmetrics\\utilities\\prints.py:36: UserWarning: Metric `AUROC` will save all targets and predictions in buffer. For large datasets this may lead to large memory footprint.\n",
      "  warnings.warn(*args, **kwargs)\n",
      "\u001b[32m[I 2022-07-29 18:06:03,776]\u001b[0m Trial 170 pruned. \u001b[0m\n",
      "C:\\Users\\bakhi\\anaconda3\\lib\\site-packages\\torchmetrics\\utilities\\prints.py:36: UserWarning: Metric `AUROC` will save all targets and predictions in buffer. For large datasets this may lead to large memory footprint.\n",
      "  warnings.warn(*args, **kwargs)\n",
      "\u001b[32m[I 2022-07-29 18:06:04,110]\u001b[0m Trial 171 pruned. \u001b[0m\n",
      "C:\\Users\\bakhi\\anaconda3\\lib\\site-packages\\torchmetrics\\utilities\\prints.py:36: UserWarning: Metric `AUROC` will save all targets and predictions in buffer. For large datasets this may lead to large memory footprint.\n",
      "  warnings.warn(*args, **kwargs)\n",
      "\u001b[32m[I 2022-07-29 18:06:04,445]\u001b[0m Trial 172 pruned. \u001b[0m\n",
      "C:\\Users\\bakhi\\anaconda3\\lib\\site-packages\\torchmetrics\\utilities\\prints.py:36: UserWarning: Metric `AUROC` will save all targets and predictions in buffer. For large datasets this may lead to large memory footprint.\n",
      "  warnings.warn(*args, **kwargs)\n",
      "\u001b[32m[I 2022-07-29 18:06:04,757]\u001b[0m Trial 173 pruned. \u001b[0m\n",
      "C:\\Users\\bakhi\\anaconda3\\lib\\site-packages\\torchmetrics\\utilities\\prints.py:36: UserWarning: Metric `AUROC` will save all targets and predictions in buffer. For large datasets this may lead to large memory footprint.\n",
      "  warnings.warn(*args, **kwargs)\n",
      "\u001b[32m[I 2022-07-29 18:06:05,388]\u001b[0m Trial 174 pruned. \u001b[0m\n",
      "C:\\Users\\bakhi\\anaconda3\\lib\\site-packages\\torchmetrics\\utilities\\prints.py:36: UserWarning: Metric `AUROC` will save all targets and predictions in buffer. For large datasets this may lead to large memory footprint.\n",
      "  warnings.warn(*args, **kwargs)\n",
      "\u001b[32m[I 2022-07-29 18:06:05,696]\u001b[0m Trial 175 pruned. \u001b[0m\n",
      "C:\\Users\\bakhi\\anaconda3\\lib\\site-packages\\torchmetrics\\utilities\\prints.py:36: UserWarning: Metric `AUROC` will save all targets and predictions in buffer. For large datasets this may lead to large memory footprint.\n",
      "  warnings.warn(*args, **kwargs)\n",
      "\u001b[32m[I 2022-07-29 18:06:06,034]\u001b[0m Trial 176 pruned. \u001b[0m\n",
      "C:\\Users\\bakhi\\anaconda3\\lib\\site-packages\\torchmetrics\\utilities\\prints.py:36: UserWarning: Metric `AUROC` will save all targets and predictions in buffer. For large datasets this may lead to large memory footprint.\n",
      "  warnings.warn(*args, **kwargs)\n",
      "\u001b[32m[I 2022-07-29 18:06:06,350]\u001b[0m Trial 177 pruned. \u001b[0m\n",
      "C:\\Users\\bakhi\\anaconda3\\lib\\site-packages\\torchmetrics\\utilities\\prints.py:36: UserWarning: Metric `AUROC` will save all targets and predictions in buffer. For large datasets this may lead to large memory footprint.\n",
      "  warnings.warn(*args, **kwargs)\n",
      "\u001b[32m[I 2022-07-29 18:06:06,691]\u001b[0m Trial 178 pruned. \u001b[0m\n",
      "C:\\Users\\bakhi\\anaconda3\\lib\\site-packages\\torchmetrics\\utilities\\prints.py:36: UserWarning: Metric `AUROC` will save all targets and predictions in buffer. For large datasets this may lead to large memory footprint.\n",
      "  warnings.warn(*args, **kwargs)\n",
      "\u001b[32m[I 2022-07-29 18:06:07,011]\u001b[0m Trial 179 pruned. \u001b[0m\n",
      "C:\\Users\\bakhi\\anaconda3\\lib\\site-packages\\torchmetrics\\utilities\\prints.py:36: UserWarning: Metric `AUROC` will save all targets and predictions in buffer. For large datasets this may lead to large memory footprint.\n",
      "  warnings.warn(*args, **kwargs)\n",
      "\u001b[32m[I 2022-07-29 18:06:07,350]\u001b[0m Trial 180 pruned. \u001b[0m\n",
      "C:\\Users\\bakhi\\anaconda3\\lib\\site-packages\\torchmetrics\\utilities\\prints.py:36: UserWarning: Metric `AUROC` will save all targets and predictions in buffer. For large datasets this may lead to large memory footprint.\n",
      "  warnings.warn(*args, **kwargs)\n",
      "\u001b[32m[I 2022-07-29 18:06:07,672]\u001b[0m Trial 181 pruned. \u001b[0m\n",
      "C:\\Users\\bakhi\\anaconda3\\lib\\site-packages\\torchmetrics\\utilities\\prints.py:36: UserWarning: Metric `AUROC` will save all targets and predictions in buffer. For large datasets this may lead to large memory footprint.\n",
      "  warnings.warn(*args, **kwargs)\n",
      "\u001b[32m[I 2022-07-29 18:06:08,013]\u001b[0m Trial 182 pruned. \u001b[0m\n",
      "C:\\Users\\bakhi\\anaconda3\\lib\\site-packages\\torchmetrics\\utilities\\prints.py:36: UserWarning: Metric `AUROC` will save all targets and predictions in buffer. For large datasets this may lead to large memory footprint.\n",
      "  warnings.warn(*args, **kwargs)\n",
      "\u001b[32m[I 2022-07-29 18:06:08,676]\u001b[0m Trial 183 pruned. \u001b[0m\n",
      "C:\\Users\\bakhi\\anaconda3\\lib\\site-packages\\torchmetrics\\utilities\\prints.py:36: UserWarning: Metric `AUROC` will save all targets and predictions in buffer. For large datasets this may lead to large memory footprint.\n",
      "  warnings.warn(*args, **kwargs)\n",
      "\u001b[32m[I 2022-07-29 18:06:08,992]\u001b[0m Trial 184 pruned. \u001b[0m\n",
      "C:\\Users\\bakhi\\anaconda3\\lib\\site-packages\\torchmetrics\\utilities\\prints.py:36: UserWarning: Metric `AUROC` will save all targets and predictions in buffer. For large datasets this may lead to large memory footprint.\n",
      "  warnings.warn(*args, **kwargs)\n",
      "\u001b[32m[I 2022-07-29 18:06:09,323]\u001b[0m Trial 185 pruned. \u001b[0m\n",
      "C:\\Users\\bakhi\\anaconda3\\lib\\site-packages\\torchmetrics\\utilities\\prints.py:36: UserWarning: Metric `AUROC` will save all targets and predictions in buffer. For large datasets this may lead to large memory footprint.\n",
      "  warnings.warn(*args, **kwargs)\n",
      "\u001b[32m[I 2022-07-29 18:06:09,667]\u001b[0m Trial 186 pruned. \u001b[0m\n",
      "C:\\Users\\bakhi\\anaconda3\\lib\\site-packages\\torchmetrics\\utilities\\prints.py:36: UserWarning: Metric `AUROC` will save all targets and predictions in buffer. For large datasets this may lead to large memory footprint.\n",
      "  warnings.warn(*args, **kwargs)\n",
      "\u001b[32m[I 2022-07-29 18:06:09,989]\u001b[0m Trial 187 pruned. \u001b[0m\n",
      "C:\\Users\\bakhi\\anaconda3\\lib\\site-packages\\torchmetrics\\utilities\\prints.py:36: UserWarning: Metric `AUROC` will save all targets and predictions in buffer. For large datasets this may lead to large memory footprint.\n",
      "  warnings.warn(*args, **kwargs)\n",
      "\u001b[32m[I 2022-07-29 18:06:10,324]\u001b[0m Trial 188 pruned. \u001b[0m\n",
      "C:\\Users\\bakhi\\anaconda3\\lib\\site-packages\\torchmetrics\\utilities\\prints.py:36: UserWarning: Metric `AUROC` will save all targets and predictions in buffer. For large datasets this may lead to large memory footprint.\n",
      "  warnings.warn(*args, **kwargs)\n",
      "\u001b[32m[I 2022-07-29 18:06:10,652]\u001b[0m Trial 189 pruned. \u001b[0m\n",
      "C:\\Users\\bakhi\\anaconda3\\lib\\site-packages\\torchmetrics\\utilities\\prints.py:36: UserWarning: Metric `AUROC` will save all targets and predictions in buffer. For large datasets this may lead to large memory footprint.\n",
      "  warnings.warn(*args, **kwargs)\n",
      "\u001b[32m[I 2022-07-29 18:06:11,923]\u001b[0m Trial 190 pruned. \u001b[0m\n",
      "C:\\Users\\bakhi\\anaconda3\\lib\\site-packages\\torchmetrics\\utilities\\prints.py:36: UserWarning: Metric `AUROC` will save all targets and predictions in buffer. For large datasets this may lead to large memory footprint.\n",
      "  warnings.warn(*args, **kwargs)\n",
      "\u001b[32m[I 2022-07-29 18:06:12,264]\u001b[0m Trial 191 pruned. \u001b[0m\n",
      "C:\\Users\\bakhi\\anaconda3\\lib\\site-packages\\torchmetrics\\utilities\\prints.py:36: UserWarning: Metric `AUROC` will save all targets and predictions in buffer. For large datasets this may lead to large memory footprint.\n",
      "  warnings.warn(*args, **kwargs)\n",
      "\u001b[32m[I 2022-07-29 18:06:12,589]\u001b[0m Trial 192 pruned. \u001b[0m\n",
      "C:\\Users\\bakhi\\anaconda3\\lib\\site-packages\\torchmetrics\\utilities\\prints.py:36: UserWarning: Metric `AUROC` will save all targets and predictions in buffer. For large datasets this may lead to large memory footprint.\n",
      "  warnings.warn(*args, **kwargs)\n",
      "\u001b[32m[I 2022-07-29 18:06:12,921]\u001b[0m Trial 193 pruned. \u001b[0m\n",
      "C:\\Users\\bakhi\\anaconda3\\lib\\site-packages\\torchmetrics\\utilities\\prints.py:36: UserWarning: Metric `AUROC` will save all targets and predictions in buffer. For large datasets this may lead to large memory footprint.\n",
      "  warnings.warn(*args, **kwargs)\n",
      "\u001b[32m[I 2022-07-29 18:06:13,261]\u001b[0m Trial 194 pruned. \u001b[0m\n",
      "C:\\Users\\bakhi\\anaconda3\\lib\\site-packages\\torchmetrics\\utilities\\prints.py:36: UserWarning: Metric `AUROC` will save all targets and predictions in buffer. For large datasets this may lead to large memory footprint.\n",
      "  warnings.warn(*args, **kwargs)\n",
      "\u001b[32m[I 2022-07-29 18:06:13,914]\u001b[0m Trial 195 pruned. \u001b[0m\n",
      "C:\\Users\\bakhi\\anaconda3\\lib\\site-packages\\torchmetrics\\utilities\\prints.py:36: UserWarning: Metric `AUROC` will save all targets and predictions in buffer. For large datasets this may lead to large memory footprint.\n",
      "  warnings.warn(*args, **kwargs)\n",
      "\u001b[32m[I 2022-07-29 18:06:14,247]\u001b[0m Trial 196 pruned. \u001b[0m\n",
      "C:\\Users\\bakhi\\anaconda3\\lib\\site-packages\\torchmetrics\\utilities\\prints.py:36: UserWarning: Metric `AUROC` will save all targets and predictions in buffer. For large datasets this may lead to large memory footprint.\n",
      "  warnings.warn(*args, **kwargs)\n",
      "\u001b[32m[I 2022-07-29 18:06:14,579]\u001b[0m Trial 197 pruned. \u001b[0m\n",
      "C:\\Users\\bakhi\\anaconda3\\lib\\site-packages\\torchmetrics\\utilities\\prints.py:36: UserWarning: Metric `AUROC` will save all targets and predictions in buffer. For large datasets this may lead to large memory footprint.\n",
      "  warnings.warn(*args, **kwargs)\n",
      "\u001b[32m[I 2022-07-29 18:06:14,916]\u001b[0m Trial 198 pruned. \u001b[0m\n",
      "C:\\Users\\bakhi\\anaconda3\\lib\\site-packages\\torchmetrics\\utilities\\prints.py:36: UserWarning: Metric `AUROC` will save all targets and predictions in buffer. For large datasets this may lead to large memory footprint.\n",
      "  warnings.warn(*args, **kwargs)\n",
      "\u001b[32m[I 2022-07-29 18:06:15,239]\u001b[0m Trial 199 pruned. \u001b[0m\n",
      "C:\\Users\\bakhi\\anaconda3\\lib\\site-packages\\torchmetrics\\utilities\\prints.py:36: UserWarning: Metric `AUROC` will save all targets and predictions in buffer. For large datasets this may lead to large memory footprint.\n",
      "  warnings.warn(*args, **kwargs)\n",
      "\u001b[32m[I 2022-07-29 18:06:15,578]\u001b[0m Trial 200 pruned. \u001b[0m\n",
      "C:\\Users\\bakhi\\anaconda3\\lib\\site-packages\\torchmetrics\\utilities\\prints.py:36: UserWarning: Metric `AUROC` will save all targets and predictions in buffer. For large datasets this may lead to large memory footprint.\n",
      "  warnings.warn(*args, **kwargs)\n",
      "\u001b[32m[I 2022-07-29 18:06:16,230]\u001b[0m Trial 201 pruned. \u001b[0m\n",
      "C:\\Users\\bakhi\\anaconda3\\lib\\site-packages\\torchmetrics\\utilities\\prints.py:36: UserWarning: Metric `AUROC` will save all targets and predictions in buffer. For large datasets this may lead to large memory footprint.\n",
      "  warnings.warn(*args, **kwargs)\n",
      "\u001b[32m[I 2022-07-29 18:06:16,558]\u001b[0m Trial 202 pruned. \u001b[0m\n",
      "C:\\Users\\bakhi\\anaconda3\\lib\\site-packages\\torchmetrics\\utilities\\prints.py:36: UserWarning: Metric `AUROC` will save all targets and predictions in buffer. For large datasets this may lead to large memory footprint.\n",
      "  warnings.warn(*args, **kwargs)\n",
      "\u001b[32m[I 2022-07-29 18:06:16,893]\u001b[0m Trial 203 pruned. \u001b[0m\n",
      "C:\\Users\\bakhi\\anaconda3\\lib\\site-packages\\torchmetrics\\utilities\\prints.py:36: UserWarning: Metric `AUROC` will save all targets and predictions in buffer. For large datasets this may lead to large memory footprint.\n",
      "  warnings.warn(*args, **kwargs)\n",
      "\u001b[32m[I 2022-07-29 18:06:17,220]\u001b[0m Trial 204 pruned. \u001b[0m\n",
      "C:\\Users\\bakhi\\anaconda3\\lib\\site-packages\\torchmetrics\\utilities\\prints.py:36: UserWarning: Metric `AUROC` will save all targets and predictions in buffer. For large datasets this may lead to large memory footprint.\n",
      "  warnings.warn(*args, **kwargs)\n",
      "\u001b[32m[I 2022-07-29 18:06:17,560]\u001b[0m Trial 205 pruned. \u001b[0m\n",
      "C:\\Users\\bakhi\\anaconda3\\lib\\site-packages\\torchmetrics\\utilities\\prints.py:36: UserWarning: Metric `AUROC` will save all targets and predictions in buffer. For large datasets this may lead to large memory footprint.\n",
      "  warnings.warn(*args, **kwargs)\n",
      "\u001b[32m[I 2022-07-29 18:06:17,871]\u001b[0m Trial 206 pruned. \u001b[0m\n",
      "C:\\Users\\bakhi\\anaconda3\\lib\\site-packages\\torchmetrics\\utilities\\prints.py:36: UserWarning: Metric `AUROC` will save all targets and predictions in buffer. For large datasets this may lead to large memory footprint.\n",
      "  warnings.warn(*args, **kwargs)\n",
      "\u001b[32m[I 2022-07-29 18:06:18,189]\u001b[0m Trial 207 pruned. \u001b[0m\n",
      "C:\\Users\\bakhi\\anaconda3\\lib\\site-packages\\torchmetrics\\utilities\\prints.py:36: UserWarning: Metric `AUROC` will save all targets and predictions in buffer. For large datasets this may lead to large memory footprint.\n",
      "  warnings.warn(*args, **kwargs)\n",
      "\u001b[32m[I 2022-07-29 18:06:18,850]\u001b[0m Trial 208 pruned. \u001b[0m\n",
      "C:\\Users\\bakhi\\anaconda3\\lib\\site-packages\\torchmetrics\\utilities\\prints.py:36: UserWarning: Metric `AUROC` will save all targets and predictions in buffer. For large datasets this may lead to large memory footprint.\n",
      "  warnings.warn(*args, **kwargs)\n",
      "\u001b[32m[I 2022-07-29 18:06:19,181]\u001b[0m Trial 209 pruned. \u001b[0m\n",
      "C:\\Users\\bakhi\\anaconda3\\lib\\site-packages\\torchmetrics\\utilities\\prints.py:36: UserWarning: Metric `AUROC` will save all targets and predictions in buffer. For large datasets this may lead to large memory footprint.\n",
      "  warnings.warn(*args, **kwargs)\n",
      "\u001b[32m[I 2022-07-29 18:06:19,505]\u001b[0m Trial 210 pruned. \u001b[0m\n",
      "C:\\Users\\bakhi\\anaconda3\\lib\\site-packages\\torchmetrics\\utilities\\prints.py:36: UserWarning: Metric `AUROC` will save all targets and predictions in buffer. For large datasets this may lead to large memory footprint.\n",
      "  warnings.warn(*args, **kwargs)\n",
      "\u001b[32m[I 2022-07-29 18:06:19,826]\u001b[0m Trial 211 pruned. \u001b[0m\n",
      "C:\\Users\\bakhi\\anaconda3\\lib\\site-packages\\torchmetrics\\utilities\\prints.py:36: UserWarning: Metric `AUROC` will save all targets and predictions in buffer. For large datasets this may lead to large memory footprint.\n",
      "  warnings.warn(*args, **kwargs)\n",
      "\u001b[32m[I 2022-07-29 18:06:20,174]\u001b[0m Trial 212 pruned. \u001b[0m\n",
      "C:\\Users\\bakhi\\anaconda3\\lib\\site-packages\\torchmetrics\\utilities\\prints.py:36: UserWarning: Metric `AUROC` will save all targets and predictions in buffer. For large datasets this may lead to large memory footprint.\n",
      "  warnings.warn(*args, **kwargs)\n",
      "\u001b[32m[I 2022-07-29 18:06:20,487]\u001b[0m Trial 213 pruned. \u001b[0m\n",
      "C:\\Users\\bakhi\\anaconda3\\lib\\site-packages\\torchmetrics\\utilities\\prints.py:36: UserWarning: Metric `AUROC` will save all targets and predictions in buffer. For large datasets this may lead to large memory footprint.\n",
      "  warnings.warn(*args, **kwargs)\n",
      "\u001b[32m[I 2022-07-29 18:06:20,828]\u001b[0m Trial 214 pruned. \u001b[0m\n",
      "C:\\Users\\bakhi\\anaconda3\\lib\\site-packages\\torchmetrics\\utilities\\prints.py:36: UserWarning: Metric `AUROC` will save all targets and predictions in buffer. For large datasets this may lead to large memory footprint.\n",
      "  warnings.warn(*args, **kwargs)\n",
      "\u001b[32m[I 2022-07-29 18:06:21,473]\u001b[0m Trial 215 pruned. \u001b[0m\n",
      "C:\\Users\\bakhi\\anaconda3\\lib\\site-packages\\torchmetrics\\utilities\\prints.py:36: UserWarning: Metric `AUROC` will save all targets and predictions in buffer. For large datasets this may lead to large memory footprint.\n",
      "  warnings.warn(*args, **kwargs)\n",
      "\u001b[32m[I 2022-07-29 18:06:21,805]\u001b[0m Trial 216 pruned. \u001b[0m\n",
      "C:\\Users\\bakhi\\anaconda3\\lib\\site-packages\\torchmetrics\\utilities\\prints.py:36: UserWarning: Metric `AUROC` will save all targets and predictions in buffer. For large datasets this may lead to large memory footprint.\n",
      "  warnings.warn(*args, **kwargs)\n",
      "\u001b[32m[I 2022-07-29 18:06:22,124]\u001b[0m Trial 217 pruned. \u001b[0m\n",
      "C:\\Users\\bakhi\\anaconda3\\lib\\site-packages\\torchmetrics\\utilities\\prints.py:36: UserWarning: Metric `AUROC` will save all targets and predictions in buffer. For large datasets this may lead to large memory footprint.\n",
      "  warnings.warn(*args, **kwargs)\n",
      "\u001b[32m[I 2022-07-29 18:06:22,481]\u001b[0m Trial 218 pruned. \u001b[0m\n",
      "C:\\Users\\bakhi\\anaconda3\\lib\\site-packages\\torchmetrics\\utilities\\prints.py:36: UserWarning: Metric `AUROC` will save all targets and predictions in buffer. For large datasets this may lead to large memory footprint.\n",
      "  warnings.warn(*args, **kwargs)\n",
      "\u001b[32m[I 2022-07-29 18:06:22,806]\u001b[0m Trial 219 pruned. \u001b[0m\n",
      "C:\\Users\\bakhi\\anaconda3\\lib\\site-packages\\torchmetrics\\utilities\\prints.py:36: UserWarning: Metric `AUROC` will save all targets and predictions in buffer. For large datasets this may lead to large memory footprint.\n",
      "  warnings.warn(*args, **kwargs)\n",
      "\u001b[32m[I 2022-07-29 18:06:23,141]\u001b[0m Trial 220 pruned. \u001b[0m\n",
      "C:\\Users\\bakhi\\anaconda3\\lib\\site-packages\\torchmetrics\\utilities\\prints.py:36: UserWarning: Metric `AUROC` will save all targets and predictions in buffer. For large datasets this may lead to large memory footprint.\n",
      "  warnings.warn(*args, **kwargs)\n",
      "\u001b[32m[I 2022-07-29 18:06:23,477]\u001b[0m Trial 221 pruned. \u001b[0m\n",
      "C:\\Users\\bakhi\\anaconda3\\lib\\site-packages\\torchmetrics\\utilities\\prints.py:36: UserWarning: Metric `AUROC` will save all targets and predictions in buffer. For large datasets this may lead to large memory footprint.\n",
      "  warnings.warn(*args, **kwargs)\n",
      "\u001b[32m[I 2022-07-29 18:06:23,828]\u001b[0m Trial 222 pruned. \u001b[0m\n",
      "C:\\Users\\bakhi\\anaconda3\\lib\\site-packages\\torchmetrics\\utilities\\prints.py:36: UserWarning: Metric `AUROC` will save all targets and predictions in buffer. For large datasets this may lead to large memory footprint.\n",
      "  warnings.warn(*args, **kwargs)\n",
      "\u001b[32m[I 2022-07-29 18:06:24,159]\u001b[0m Trial 223 pruned. \u001b[0m\n",
      "C:\\Users\\bakhi\\anaconda3\\lib\\site-packages\\torchmetrics\\utilities\\prints.py:36: UserWarning: Metric `AUROC` will save all targets and predictions in buffer. For large datasets this may lead to large memory footprint.\n",
      "  warnings.warn(*args, **kwargs)\n",
      "\u001b[32m[I 2022-07-29 18:06:24,486]\u001b[0m Trial 224 pruned. \u001b[0m\n",
      "C:\\Users\\bakhi\\anaconda3\\lib\\site-packages\\torchmetrics\\utilities\\prints.py:36: UserWarning: Metric `AUROC` will save all targets and predictions in buffer. For large datasets this may lead to large memory footprint.\n",
      "  warnings.warn(*args, **kwargs)\n",
      "\u001b[32m[I 2022-07-29 18:06:26,010]\u001b[0m Trial 225 pruned. \u001b[0m\n",
      "C:\\Users\\bakhi\\anaconda3\\lib\\site-packages\\torchmetrics\\utilities\\prints.py:36: UserWarning: Metric `AUROC` will save all targets and predictions in buffer. For large datasets this may lead to large memory footprint.\n",
      "  warnings.warn(*args, **kwargs)\n",
      "\u001b[32m[I 2022-07-29 18:06:26,329]\u001b[0m Trial 226 pruned. \u001b[0m\n",
      "C:\\Users\\bakhi\\anaconda3\\lib\\site-packages\\torchmetrics\\utilities\\prints.py:36: UserWarning: Metric `AUROC` will save all targets and predictions in buffer. For large datasets this may lead to large memory footprint.\n",
      "  warnings.warn(*args, **kwargs)\n",
      "\u001b[32m[I 2022-07-29 18:06:26,660]\u001b[0m Trial 227 pruned. \u001b[0m\n",
      "C:\\Users\\bakhi\\anaconda3\\lib\\site-packages\\torchmetrics\\utilities\\prints.py:36: UserWarning: Metric `AUROC` will save all targets and predictions in buffer. For large datasets this may lead to large memory footprint.\n",
      "  warnings.warn(*args, **kwargs)\n",
      "\u001b[32m[I 2022-07-29 18:06:26,984]\u001b[0m Trial 228 pruned. \u001b[0m\n",
      "C:\\Users\\bakhi\\anaconda3\\lib\\site-packages\\torchmetrics\\utilities\\prints.py:36: UserWarning: Metric `AUROC` will save all targets and predictions in buffer. For large datasets this may lead to large memory footprint.\n",
      "  warnings.warn(*args, **kwargs)\n",
      "\u001b[32m[I 2022-07-29 18:06:27,314]\u001b[0m Trial 229 pruned. \u001b[0m\n",
      "C:\\Users\\bakhi\\anaconda3\\lib\\site-packages\\torchmetrics\\utilities\\prints.py:36: UserWarning: Metric `AUROC` will save all targets and predictions in buffer. For large datasets this may lead to large memory footprint.\n",
      "  warnings.warn(*args, **kwargs)\n",
      "\u001b[32m[I 2022-07-29 18:06:27,952]\u001b[0m Trial 230 pruned. \u001b[0m\n",
      "C:\\Users\\bakhi\\anaconda3\\lib\\site-packages\\torchmetrics\\utilities\\prints.py:36: UserWarning: Metric `AUROC` will save all targets and predictions in buffer. For large datasets this may lead to large memory footprint.\n",
      "  warnings.warn(*args, **kwargs)\n",
      "\u001b[32m[I 2022-07-29 18:06:29,216]\u001b[0m Trial 231 pruned. \u001b[0m\n",
      "C:\\Users\\bakhi\\anaconda3\\lib\\site-packages\\torchmetrics\\utilities\\prints.py:36: UserWarning: Metric `AUROC` will save all targets and predictions in buffer. For large datasets this may lead to large memory footprint.\n",
      "  warnings.warn(*args, **kwargs)\n",
      "\u001b[32m[I 2022-07-29 18:06:29,550]\u001b[0m Trial 232 pruned. \u001b[0m\n",
      "C:\\Users\\bakhi\\anaconda3\\lib\\site-packages\\torchmetrics\\utilities\\prints.py:36: UserWarning: Metric `AUROC` will save all targets and predictions in buffer. For large datasets this may lead to large memory footprint.\n",
      "  warnings.warn(*args, **kwargs)\n",
      "\u001b[32m[I 2022-07-29 18:06:29,876]\u001b[0m Trial 233 pruned. \u001b[0m\n",
      "C:\\Users\\bakhi\\anaconda3\\lib\\site-packages\\torchmetrics\\utilities\\prints.py:36: UserWarning: Metric `AUROC` will save all targets and predictions in buffer. For large datasets this may lead to large memory footprint.\n",
      "  warnings.warn(*args, **kwargs)\n",
      "\u001b[32m[I 2022-07-29 18:06:30,192]\u001b[0m Trial 234 pruned. \u001b[0m\n",
      "C:\\Users\\bakhi\\anaconda3\\lib\\site-packages\\torchmetrics\\utilities\\prints.py:36: UserWarning: Metric `AUROC` will save all targets and predictions in buffer. For large datasets this may lead to large memory footprint.\n",
      "  warnings.warn(*args, **kwargs)\n",
      "\u001b[32m[I 2022-07-29 18:06:30,512]\u001b[0m Trial 235 pruned. \u001b[0m\n",
      "C:\\Users\\bakhi\\anaconda3\\lib\\site-packages\\torchmetrics\\utilities\\prints.py:36: UserWarning: Metric `AUROC` will save all targets and predictions in buffer. For large datasets this may lead to large memory footprint.\n",
      "  warnings.warn(*args, **kwargs)\n",
      "\u001b[32m[I 2022-07-29 18:06:30,866]\u001b[0m Trial 236 pruned. \u001b[0m\n",
      "C:\\Users\\bakhi\\anaconda3\\lib\\site-packages\\torchmetrics\\utilities\\prints.py:36: UserWarning: Metric `AUROC` will save all targets and predictions in buffer. For large datasets this may lead to large memory footprint.\n",
      "  warnings.warn(*args, **kwargs)\n",
      "\u001b[32m[I 2022-07-29 18:06:31,814]\u001b[0m Trial 237 pruned. \u001b[0m\n",
      "C:\\Users\\bakhi\\anaconda3\\lib\\site-packages\\torchmetrics\\utilities\\prints.py:36: UserWarning: Metric `AUROC` will save all targets and predictions in buffer. For large datasets this may lead to large memory footprint.\n",
      "  warnings.warn(*args, **kwargs)\n",
      "\u001b[32m[I 2022-07-29 18:06:32,447]\u001b[0m Trial 238 pruned. \u001b[0m\n",
      "C:\\Users\\bakhi\\anaconda3\\lib\\site-packages\\torchmetrics\\utilities\\prints.py:36: UserWarning: Metric `AUROC` will save all targets and predictions in buffer. For large datasets this may lead to large memory footprint.\n",
      "  warnings.warn(*args, **kwargs)\n",
      "\u001b[32m[I 2022-07-29 18:06:32,768]\u001b[0m Trial 239 pruned. \u001b[0m\n",
      "C:\\Users\\bakhi\\anaconda3\\lib\\site-packages\\torchmetrics\\utilities\\prints.py:36: UserWarning: Metric `AUROC` will save all targets and predictions in buffer. For large datasets this may lead to large memory footprint.\n",
      "  warnings.warn(*args, **kwargs)\n",
      "\u001b[32m[I 2022-07-29 18:06:37,328]\u001b[0m Trial 240 pruned. \u001b[0m\n",
      "C:\\Users\\bakhi\\anaconda3\\lib\\site-packages\\torchmetrics\\utilities\\prints.py:36: UserWarning: Metric `AUROC` will save all targets and predictions in buffer. For large datasets this may lead to large memory footprint.\n",
      "  warnings.warn(*args, **kwargs)\n",
      "\u001b[32m[I 2022-07-29 18:06:38,002]\u001b[0m Trial 241 pruned. \u001b[0m\n",
      "C:\\Users\\bakhi\\anaconda3\\lib\\site-packages\\torchmetrics\\utilities\\prints.py:36: UserWarning: Metric `AUROC` will save all targets and predictions in buffer. For large datasets this may lead to large memory footprint.\n",
      "  warnings.warn(*args, **kwargs)\n",
      "\u001b[32m[I 2022-07-29 18:06:38,323]\u001b[0m Trial 242 pruned. \u001b[0m\n",
      "C:\\Users\\bakhi\\anaconda3\\lib\\site-packages\\torchmetrics\\utilities\\prints.py:36: UserWarning: Metric `AUROC` will save all targets and predictions in buffer. For large datasets this may lead to large memory footprint.\n",
      "  warnings.warn(*args, **kwargs)\n",
      "\u001b[32m[I 2022-07-29 18:06:38,657]\u001b[0m Trial 243 pruned. \u001b[0m\n",
      "C:\\Users\\bakhi\\anaconda3\\lib\\site-packages\\torchmetrics\\utilities\\prints.py:36: UserWarning: Metric `AUROC` will save all targets and predictions in buffer. For large datasets this may lead to large memory footprint.\n",
      "  warnings.warn(*args, **kwargs)\n",
      "\u001b[32m[I 2022-07-29 18:06:38,983]\u001b[0m Trial 244 pruned. \u001b[0m\n",
      "C:\\Users\\bakhi\\anaconda3\\lib\\site-packages\\torchmetrics\\utilities\\prints.py:36: UserWarning: Metric `AUROC` will save all targets and predictions in buffer. For large datasets this may lead to large memory footprint.\n",
      "  warnings.warn(*args, **kwargs)\n",
      "\u001b[32m[I 2022-07-29 18:06:39,322]\u001b[0m Trial 245 pruned. \u001b[0m\n",
      "C:\\Users\\bakhi\\anaconda3\\lib\\site-packages\\torchmetrics\\utilities\\prints.py:36: UserWarning: Metric `AUROC` will save all targets and predictions in buffer. For large datasets this may lead to large memory footprint.\n",
      "  warnings.warn(*args, **kwargs)\n",
      "\u001b[32m[I 2022-07-29 18:06:39,660]\u001b[0m Trial 246 pruned. \u001b[0m\n",
      "C:\\Users\\bakhi\\anaconda3\\lib\\site-packages\\torchmetrics\\utilities\\prints.py:36: UserWarning: Metric `AUROC` will save all targets and predictions in buffer. For large datasets this may lead to large memory footprint.\n",
      "  warnings.warn(*args, **kwargs)\n",
      "\u001b[32m[I 2022-07-29 18:06:39,997]\u001b[0m Trial 247 pruned. \u001b[0m\n",
      "C:\\Users\\bakhi\\anaconda3\\lib\\site-packages\\torchmetrics\\utilities\\prints.py:36: UserWarning: Metric `AUROC` will save all targets and predictions in buffer. For large datasets this may lead to large memory footprint.\n",
      "  warnings.warn(*args, **kwargs)\n",
      "\u001b[32m[I 2022-07-29 18:06:40,328]\u001b[0m Trial 248 pruned. \u001b[0m\n",
      "C:\\Users\\bakhi\\anaconda3\\lib\\site-packages\\torchmetrics\\utilities\\prints.py:36: UserWarning: Metric `AUROC` will save all targets and predictions in buffer. For large datasets this may lead to large memory footprint.\n",
      "  warnings.warn(*args, **kwargs)\n",
      "\u001b[32m[I 2022-07-29 18:06:52,747]\u001b[0m Trial 249 finished with value: 0.669402003288269 and parameters: {'linear_size1': 56, 'linear_size2': 24, 'linear_size3': 22, 'linear_size4': 6, 'dropout_rate': 0.30000000000000004}. Best is trial 58 with value: 0.6819875836372375.\u001b[0m\n",
      "C:\\Users\\bakhi\\anaconda3\\lib\\site-packages\\torchmetrics\\utilities\\prints.py:36: UserWarning: Metric `AUROC` will save all targets and predictions in buffer. For large datasets this may lead to large memory footprint.\n",
      "  warnings.warn(*args, **kwargs)\n",
      "\u001b[32m[I 2022-07-29 18:06:53,069]\u001b[0m Trial 250 pruned. \u001b[0m\n",
      "C:\\Users\\bakhi\\anaconda3\\lib\\site-packages\\torchmetrics\\utilities\\prints.py:36: UserWarning: Metric `AUROC` will save all targets and predictions in buffer. For large datasets this may lead to large memory footprint.\n",
      "  warnings.warn(*args, **kwargs)\n",
      "\u001b[32m[I 2022-07-29 18:06:53,389]\u001b[0m Trial 251 pruned. \u001b[0m\n",
      "C:\\Users\\bakhi\\anaconda3\\lib\\site-packages\\torchmetrics\\utilities\\prints.py:36: UserWarning: Metric `AUROC` will save all targets and predictions in buffer. For large datasets this may lead to large memory footprint.\n",
      "  warnings.warn(*args, **kwargs)\n",
      "\u001b[32m[I 2022-07-29 18:06:53,743]\u001b[0m Trial 252 pruned. \u001b[0m\n",
      "C:\\Users\\bakhi\\anaconda3\\lib\\site-packages\\torchmetrics\\utilities\\prints.py:36: UserWarning: Metric `AUROC` will save all targets and predictions in buffer. For large datasets this may lead to large memory footprint.\n",
      "  warnings.warn(*args, **kwargs)\n",
      "\u001b[32m[I 2022-07-29 18:06:54,076]\u001b[0m Trial 253 pruned. \u001b[0m\n",
      "C:\\Users\\bakhi\\anaconda3\\lib\\site-packages\\torchmetrics\\utilities\\prints.py:36: UserWarning: Metric `AUROC` will save all targets and predictions in buffer. For large datasets this may lead to large memory footprint.\n",
      "  warnings.warn(*args, **kwargs)\n",
      "\u001b[32m[I 2022-07-29 18:06:55,637]\u001b[0m Trial 254 pruned. \u001b[0m\n",
      "C:\\Users\\bakhi\\anaconda3\\lib\\site-packages\\torchmetrics\\utilities\\prints.py:36: UserWarning: Metric `AUROC` will save all targets and predictions in buffer. For large datasets this may lead to large memory footprint.\n",
      "  warnings.warn(*args, **kwargs)\n",
      "\u001b[32m[I 2022-07-29 18:06:55,961]\u001b[0m Trial 255 pruned. \u001b[0m\n",
      "C:\\Users\\bakhi\\anaconda3\\lib\\site-packages\\torchmetrics\\utilities\\prints.py:36: UserWarning: Metric `AUROC` will save all targets and predictions in buffer. For large datasets this may lead to large memory footprint.\n",
      "  warnings.warn(*args, **kwargs)\n",
      "\u001b[32m[I 2022-07-29 18:06:56,297]\u001b[0m Trial 256 pruned. \u001b[0m\n",
      "C:\\Users\\bakhi\\anaconda3\\lib\\site-packages\\torchmetrics\\utilities\\prints.py:36: UserWarning: Metric `AUROC` will save all targets and predictions in buffer. For large datasets this may lead to large memory footprint.\n",
      "  warnings.warn(*args, **kwargs)\n",
      "\u001b[32m[I 2022-07-29 18:06:56,618]\u001b[0m Trial 257 pruned. \u001b[0m\n",
      "C:\\Users\\bakhi\\anaconda3\\lib\\site-packages\\torchmetrics\\utilities\\prints.py:36: UserWarning: Metric `AUROC` will save all targets and predictions in buffer. For large datasets this may lead to large memory footprint.\n",
      "  warnings.warn(*args, **kwargs)\n",
      "\u001b[32m[I 2022-07-29 18:06:57,244]\u001b[0m Trial 258 pruned. \u001b[0m\n",
      "C:\\Users\\bakhi\\anaconda3\\lib\\site-packages\\torchmetrics\\utilities\\prints.py:36: UserWarning: Metric `AUROC` will save all targets and predictions in buffer. For large datasets this may lead to large memory footprint.\n",
      "  warnings.warn(*args, **kwargs)\n",
      "\u001b[32m[I 2022-07-29 18:06:57,884]\u001b[0m Trial 259 pruned. \u001b[0m\n",
      "C:\\Users\\bakhi\\anaconda3\\lib\\site-packages\\torchmetrics\\utilities\\prints.py:36: UserWarning: Metric `AUROC` will save all targets and predictions in buffer. For large datasets this may lead to large memory footprint.\n",
      "  warnings.warn(*args, **kwargs)\n",
      "\u001b[32m[I 2022-07-29 18:06:58,214]\u001b[0m Trial 260 pruned. \u001b[0m\n",
      "C:\\Users\\bakhi\\anaconda3\\lib\\site-packages\\torchmetrics\\utilities\\prints.py:36: UserWarning: Metric `AUROC` will save all targets and predictions in buffer. For large datasets this may lead to large memory footprint.\n",
      "  warnings.warn(*args, **kwargs)\n",
      "\u001b[32m[I 2022-07-29 18:06:58,548]\u001b[0m Trial 261 pruned. \u001b[0m\n",
      "C:\\Users\\bakhi\\anaconda3\\lib\\site-packages\\torchmetrics\\utilities\\prints.py:36: UserWarning: Metric `AUROC` will save all targets and predictions in buffer. For large datasets this may lead to large memory footprint.\n",
      "  warnings.warn(*args, **kwargs)\n",
      "\u001b[32m[I 2022-07-29 18:06:58,901]\u001b[0m Trial 262 pruned. \u001b[0m\n",
      "C:\\Users\\bakhi\\anaconda3\\lib\\site-packages\\torchmetrics\\utilities\\prints.py:36: UserWarning: Metric `AUROC` will save all targets and predictions in buffer. For large datasets this may lead to large memory footprint.\n",
      "  warnings.warn(*args, **kwargs)\n",
      "\u001b[32m[I 2022-07-29 18:06:59,229]\u001b[0m Trial 263 pruned. \u001b[0m\n",
      "C:\\Users\\bakhi\\anaconda3\\lib\\site-packages\\torchmetrics\\utilities\\prints.py:36: UserWarning: Metric `AUROC` will save all targets and predictions in buffer. For large datasets this may lead to large memory footprint.\n",
      "  warnings.warn(*args, **kwargs)\n",
      "\u001b[32m[I 2022-07-29 18:06:59,594]\u001b[0m Trial 264 pruned. \u001b[0m\n",
      "C:\\Users\\bakhi\\anaconda3\\lib\\site-packages\\torchmetrics\\utilities\\prints.py:36: UserWarning: Metric `AUROC` will save all targets and predictions in buffer. For large datasets this may lead to large memory footprint.\n",
      "  warnings.warn(*args, **kwargs)\n",
      "\u001b[32m[I 2022-07-29 18:06:59,914]\u001b[0m Trial 265 pruned. \u001b[0m\n",
      "C:\\Users\\bakhi\\anaconda3\\lib\\site-packages\\torchmetrics\\utilities\\prints.py:36: UserWarning: Metric `AUROC` will save all targets and predictions in buffer. For large datasets this may lead to large memory footprint.\n",
      "  warnings.warn(*args, **kwargs)\n",
      "\u001b[32m[I 2022-07-29 18:07:00,234]\u001b[0m Trial 266 pruned. \u001b[0m\n",
      "C:\\Users\\bakhi\\anaconda3\\lib\\site-packages\\torchmetrics\\utilities\\prints.py:36: UserWarning: Metric `AUROC` will save all targets and predictions in buffer. For large datasets this may lead to large memory footprint.\n",
      "  warnings.warn(*args, **kwargs)\n",
      "\u001b[32m[I 2022-07-29 18:07:00,559]\u001b[0m Trial 267 pruned. \u001b[0m\n",
      "C:\\Users\\bakhi\\anaconda3\\lib\\site-packages\\torchmetrics\\utilities\\prints.py:36: UserWarning: Metric `AUROC` will save all targets and predictions in buffer. For large datasets this may lead to large memory footprint.\n",
      "  warnings.warn(*args, **kwargs)\n",
      "\u001b[32m[I 2022-07-29 18:07:00,888]\u001b[0m Trial 268 pruned. \u001b[0m\n",
      "C:\\Users\\bakhi\\anaconda3\\lib\\site-packages\\torchmetrics\\utilities\\prints.py:36: UserWarning: Metric `AUROC` will save all targets and predictions in buffer. For large datasets this may lead to large memory footprint.\n",
      "  warnings.warn(*args, **kwargs)\n",
      "\u001b[32m[I 2022-07-29 18:07:01,241]\u001b[0m Trial 269 pruned. \u001b[0m\n",
      "C:\\Users\\bakhi\\anaconda3\\lib\\site-packages\\torchmetrics\\utilities\\prints.py:36: UserWarning: Metric `AUROC` will save all targets and predictions in buffer. For large datasets this may lead to large memory footprint.\n",
      "  warnings.warn(*args, **kwargs)\n",
      "\u001b[32m[I 2022-07-29 18:07:01,589]\u001b[0m Trial 270 pruned. \u001b[0m\n",
      "C:\\Users\\bakhi\\anaconda3\\lib\\site-packages\\torchmetrics\\utilities\\prints.py:36: UserWarning: Metric `AUROC` will save all targets and predictions in buffer. For large datasets this may lead to large memory footprint.\n",
      "  warnings.warn(*args, **kwargs)\n",
      "\u001b[32m[I 2022-07-29 18:07:01,907]\u001b[0m Trial 271 pruned. \u001b[0m\n",
      "C:\\Users\\bakhi\\anaconda3\\lib\\site-packages\\torchmetrics\\utilities\\prints.py:36: UserWarning: Metric `AUROC` will save all targets and predictions in buffer. For large datasets this may lead to large memory footprint.\n",
      "  warnings.warn(*args, **kwargs)\n",
      "\u001b[32m[I 2022-07-29 18:07:15,040]\u001b[0m Trial 272 finished with value: 0.6630361080169678 and parameters: {'linear_size1': 60, 'linear_size2': 44, 'linear_size3': 30, 'linear_size4': 8, 'dropout_rate': 0.2}. Best is trial 58 with value: 0.6819875836372375.\u001b[0m\n",
      "C:\\Users\\bakhi\\anaconda3\\lib\\site-packages\\torchmetrics\\utilities\\prints.py:36: UserWarning: Metric `AUROC` will save all targets and predictions in buffer. For large datasets this may lead to large memory footprint.\n",
      "  warnings.warn(*args, **kwargs)\n",
      "\u001b[32m[I 2022-07-29 18:07:15,385]\u001b[0m Trial 273 pruned. \u001b[0m\n",
      "C:\\Users\\bakhi\\anaconda3\\lib\\site-packages\\torchmetrics\\utilities\\prints.py:36: UserWarning: Metric `AUROC` will save all targets and predictions in buffer. For large datasets this may lead to large memory footprint.\n",
      "  warnings.warn(*args, **kwargs)\n",
      "\u001b[32m[I 2022-07-29 18:07:15,737]\u001b[0m Trial 274 pruned. \u001b[0m\n",
      "C:\\Users\\bakhi\\anaconda3\\lib\\site-packages\\torchmetrics\\utilities\\prints.py:36: UserWarning: Metric `AUROC` will save all targets and predictions in buffer. For large datasets this may lead to large memory footprint.\n",
      "  warnings.warn(*args, **kwargs)\n",
      "\u001b[32m[I 2022-07-29 18:07:16,075]\u001b[0m Trial 275 pruned. \u001b[0m\n",
      "C:\\Users\\bakhi\\anaconda3\\lib\\site-packages\\torchmetrics\\utilities\\prints.py:36: UserWarning: Metric `AUROC` will save all targets and predictions in buffer. For large datasets this may lead to large memory footprint.\n",
      "  warnings.warn(*args, **kwargs)\n",
      "\u001b[32m[I 2022-07-29 18:07:17,080]\u001b[0m Trial 276 pruned. \u001b[0m\n",
      "C:\\Users\\bakhi\\anaconda3\\lib\\site-packages\\torchmetrics\\utilities\\prints.py:36: UserWarning: Metric `AUROC` will save all targets and predictions in buffer. For large datasets this may lead to large memory footprint.\n",
      "  warnings.warn(*args, **kwargs)\n",
      "\u001b[32m[I 2022-07-29 18:07:17,417]\u001b[0m Trial 277 pruned. \u001b[0m\n",
      "C:\\Users\\bakhi\\anaconda3\\lib\\site-packages\\torchmetrics\\utilities\\prints.py:36: UserWarning: Metric `AUROC` will save all targets and predictions in buffer. For large datasets this may lead to large memory footprint.\n",
      "  warnings.warn(*args, **kwargs)\n",
      "\u001b[32m[I 2022-07-29 18:07:17,760]\u001b[0m Trial 278 pruned. \u001b[0m\n",
      "C:\\Users\\bakhi\\anaconda3\\lib\\site-packages\\torchmetrics\\utilities\\prints.py:36: UserWarning: Metric `AUROC` will save all targets and predictions in buffer. For large datasets this may lead to large memory footprint.\n",
      "  warnings.warn(*args, **kwargs)\n",
      "\u001b[32m[I 2022-07-29 18:07:18,111]\u001b[0m Trial 279 pruned. \u001b[0m\n",
      "C:\\Users\\bakhi\\anaconda3\\lib\\site-packages\\torchmetrics\\utilities\\prints.py:36: UserWarning: Metric `AUROC` will save all targets and predictions in buffer. For large datasets this may lead to large memory footprint.\n",
      "  warnings.warn(*args, **kwargs)\n",
      "\u001b[32m[I 2022-07-29 18:07:18,443]\u001b[0m Trial 280 pruned. \u001b[0m\n",
      "C:\\Users\\bakhi\\anaconda3\\lib\\site-packages\\torchmetrics\\utilities\\prints.py:36: UserWarning: Metric `AUROC` will save all targets and predictions in buffer. For large datasets this may lead to large memory footprint.\n",
      "  warnings.warn(*args, **kwargs)\n",
      "\u001b[32m[I 2022-07-29 18:07:18,787]\u001b[0m Trial 281 pruned. \u001b[0m\n",
      "C:\\Users\\bakhi\\anaconda3\\lib\\site-packages\\torchmetrics\\utilities\\prints.py:36: UserWarning: Metric `AUROC` will save all targets and predictions in buffer. For large datasets this may lead to large memory footprint.\n",
      "  warnings.warn(*args, **kwargs)\n",
      "\u001b[32m[I 2022-07-29 18:07:19,746]\u001b[0m Trial 282 pruned. \u001b[0m\n",
      "C:\\Users\\bakhi\\anaconda3\\lib\\site-packages\\torchmetrics\\utilities\\prints.py:36: UserWarning: Metric `AUROC` will save all targets and predictions in buffer. For large datasets this may lead to large memory footprint.\n",
      "  warnings.warn(*args, **kwargs)\n",
      "\u001b[32m[I 2022-07-29 18:07:20,074]\u001b[0m Trial 283 pruned. \u001b[0m\n",
      "C:\\Users\\bakhi\\anaconda3\\lib\\site-packages\\torchmetrics\\utilities\\prints.py:36: UserWarning: Metric `AUROC` will save all targets and predictions in buffer. For large datasets this may lead to large memory footprint.\n",
      "  warnings.warn(*args, **kwargs)\n",
      "\u001b[32m[I 2022-07-29 18:07:20,395]\u001b[0m Trial 284 pruned. \u001b[0m\n",
      "C:\\Users\\bakhi\\anaconda3\\lib\\site-packages\\torchmetrics\\utilities\\prints.py:36: UserWarning: Metric `AUROC` will save all targets and predictions in buffer. For large datasets this may lead to large memory footprint.\n",
      "  warnings.warn(*args, **kwargs)\n",
      "\u001b[32m[I 2022-07-29 18:07:20,725]\u001b[0m Trial 285 pruned. \u001b[0m\n",
      "C:\\Users\\bakhi\\anaconda3\\lib\\site-packages\\torchmetrics\\utilities\\prints.py:36: UserWarning: Metric `AUROC` will save all targets and predictions in buffer. For large datasets this may lead to large memory footprint.\n",
      "  warnings.warn(*args, **kwargs)\n",
      "\u001b[32m[I 2022-07-29 18:07:21,051]\u001b[0m Trial 286 pruned. \u001b[0m\n",
      "C:\\Users\\bakhi\\anaconda3\\lib\\site-packages\\torchmetrics\\utilities\\prints.py:36: UserWarning: Metric `AUROC` will save all targets and predictions in buffer. For large datasets this may lead to large memory footprint.\n",
      "  warnings.warn(*args, **kwargs)\n",
      "\u001b[32m[I 2022-07-29 18:07:21,372]\u001b[0m Trial 287 pruned. \u001b[0m\n",
      "C:\\Users\\bakhi\\anaconda3\\lib\\site-packages\\torchmetrics\\utilities\\prints.py:36: UserWarning: Metric `AUROC` will save all targets and predictions in buffer. For large datasets this may lead to large memory footprint.\n",
      "  warnings.warn(*args, **kwargs)\n",
      "\u001b[32m[I 2022-07-29 18:07:22,324]\u001b[0m Trial 288 pruned. \u001b[0m\n",
      "C:\\Users\\bakhi\\anaconda3\\lib\\site-packages\\torchmetrics\\utilities\\prints.py:36: UserWarning: Metric `AUROC` will save all targets and predictions in buffer. For large datasets this may lead to large memory footprint.\n",
      "  warnings.warn(*args, **kwargs)\n",
      "\u001b[32m[I 2022-07-29 18:07:22,660]\u001b[0m Trial 289 pruned. \u001b[0m\n",
      "C:\\Users\\bakhi\\anaconda3\\lib\\site-packages\\torchmetrics\\utilities\\prints.py:36: UserWarning: Metric `AUROC` will save all targets and predictions in buffer. For large datasets this may lead to large memory footprint.\n",
      "  warnings.warn(*args, **kwargs)\n",
      "\u001b[32m[I 2022-07-29 18:07:22,987]\u001b[0m Trial 290 pruned. \u001b[0m\n",
      "C:\\Users\\bakhi\\anaconda3\\lib\\site-packages\\torchmetrics\\utilities\\prints.py:36: UserWarning: Metric `AUROC` will save all targets and predictions in buffer. For large datasets this may lead to large memory footprint.\n",
      "  warnings.warn(*args, **kwargs)\n",
      "\u001b[32m[I 2022-07-29 18:07:23,327]\u001b[0m Trial 291 pruned. \u001b[0m\n",
      "C:\\Users\\bakhi\\anaconda3\\lib\\site-packages\\torchmetrics\\utilities\\prints.py:36: UserWarning: Metric `AUROC` will save all targets and predictions in buffer. For large datasets this may lead to large memory footprint.\n",
      "  warnings.warn(*args, **kwargs)\n",
      "\u001b[32m[I 2022-07-29 18:07:23,680]\u001b[0m Trial 292 pruned. \u001b[0m\n",
      "C:\\Users\\bakhi\\anaconda3\\lib\\site-packages\\torchmetrics\\utilities\\prints.py:36: UserWarning: Metric `AUROC` will save all targets and predictions in buffer. For large datasets this may lead to large memory footprint.\n",
      "  warnings.warn(*args, **kwargs)\n",
      "\u001b[32m[I 2022-07-29 18:07:24,011]\u001b[0m Trial 293 pruned. \u001b[0m\n",
      "C:\\Users\\bakhi\\anaconda3\\lib\\site-packages\\torchmetrics\\utilities\\prints.py:36: UserWarning: Metric `AUROC` will save all targets and predictions in buffer. For large datasets this may lead to large memory footprint.\n",
      "  warnings.warn(*args, **kwargs)\n",
      "\u001b[32m[I 2022-07-29 18:07:24,686]\u001b[0m Trial 294 pruned. \u001b[0m\n",
      "C:\\Users\\bakhi\\anaconda3\\lib\\site-packages\\torchmetrics\\utilities\\prints.py:36: UserWarning: Metric `AUROC` will save all targets and predictions in buffer. For large datasets this may lead to large memory footprint.\n",
      "  warnings.warn(*args, **kwargs)\n",
      "\u001b[32m[I 2022-07-29 18:07:25,330]\u001b[0m Trial 295 pruned. \u001b[0m\n",
      "C:\\Users\\bakhi\\anaconda3\\lib\\site-packages\\torchmetrics\\utilities\\prints.py:36: UserWarning: Metric `AUROC` will save all targets and predictions in buffer. For large datasets this may lead to large memory footprint.\n",
      "  warnings.warn(*args, **kwargs)\n",
      "\u001b[32m[I 2022-07-29 18:07:25,675]\u001b[0m Trial 296 pruned. \u001b[0m\n",
      "C:\\Users\\bakhi\\anaconda3\\lib\\site-packages\\torchmetrics\\utilities\\prints.py:36: UserWarning: Metric `AUROC` will save all targets and predictions in buffer. For large datasets this may lead to large memory footprint.\n",
      "  warnings.warn(*args, **kwargs)\n",
      "\u001b[32m[I 2022-07-29 18:07:26,006]\u001b[0m Trial 297 pruned. \u001b[0m\n",
      "C:\\Users\\bakhi\\anaconda3\\lib\\site-packages\\torchmetrics\\utilities\\prints.py:36: UserWarning: Metric `AUROC` will save all targets and predictions in buffer. For large datasets this may lead to large memory footprint.\n",
      "  warnings.warn(*args, **kwargs)\n",
      "\u001b[32m[I 2022-07-29 18:07:26,342]\u001b[0m Trial 298 pruned. \u001b[0m\n",
      "C:\\Users\\bakhi\\anaconda3\\lib\\site-packages\\torchmetrics\\utilities\\prints.py:36: UserWarning: Metric `AUROC` will save all targets and predictions in buffer. For large datasets this may lead to large memory footprint.\n",
      "  warnings.warn(*args, **kwargs)\n",
      "\u001b[32m[I 2022-07-29 18:07:26,668]\u001b[0m Trial 299 pruned. \u001b[0m\n"
     ]
    },
    {
     "name": "stdout",
     "output_type": "stream",
     "text": [
      "Auc: 0.6819875836372375\n",
      "Best hyperparameters: {'linear_size1': 44, 'linear_size2': 24, 'linear_size3': 22, 'linear_size4': 4, 'dropout_rate': 0.1}\n"
     ]
    }
   ],
   "source": [
    "study = optuna.create_study(direction='maximize')\n",
    "study.optimize(objective, n_trials=300)\n",
    "\n",
    "trial = study.best_trial\n",
    "\n",
    "print('Auc: {}'.format(trial.value))\n",
    "print(\"Best hyperparameters: {}\".format(trial.params))"
   ]
  },
  {
   "cell_type": "code",
   "execution_count": null,
   "id": "3ad8a094-8015-49c6-9247-a3fc5f4e09e6",
   "metadata": {},
   "outputs": [],
   "source": [
    "Best hyperparameters: {'linear_size1': 44, 'linear_size2': 24, 'linear_size3': 22, 'linear_size4': 4, 'dropout_rate': 0.1}"
   ]
  },
  {
   "cell_type": "markdown",
   "id": "e6fadd33-073b-443c-a7c4-0aa07435865e",
   "metadata": {},
   "source": [
    "#### model pro108"
   ]
  },
  {
   "cell_type": "code",
   "execution_count": 476,
   "id": "39261128-2147-40a9-9fa9-b396d7e791da",
   "metadata": {},
   "outputs": [],
   "source": [
    "# add one more layer to model pro100 \n",
    "class BTC_pro108(nn.Module):\n",
    "    def __init__(self):\n",
    "        super(BTC_pro108, self).__init__()\n",
    "        # Number of input features is 12.\n",
    "        self.layer_1 = nn.Linear(37, 44) \n",
    "        self.layer_2 = nn.Linear(44, 24)\n",
    "        self.layer_3 = nn.Linear(24, 22)\n",
    "        self.layer_4 = nn.Linear(22, 4)\n",
    "        self.layer_out = nn.Linear(4, 1) \n",
    "        \n",
    "        self.relu = nn.ReLU()\n",
    "        self.dropout = nn.Dropout(p=0.1)\n",
    "        self.batchnorm1 = nn.BatchNorm1d(44)\n",
    "        self.batchnorm2 = nn.BatchNorm1d(24)\n",
    "        self.batchnorm3 = nn.BatchNorm1d(22)\n",
    "        self.batchnorm4 = nn.BatchNorm1d(4)\n",
    "        \n",
    "    def forward(self, inputs):\n",
    "        x = self.relu(self.layer_1(inputs))\n",
    "        x = self.batchnorm1(x)\n",
    "        \n",
    "        x = self.relu(self.layer_2(x))\n",
    "        x = self.batchnorm2(x)\n",
    "        \n",
    "        x = self.relu(self.layer_3(x))\n",
    "        x = self.batchnorm3(x)\n",
    "        \n",
    "        x = self.relu(self.layer_4(x))\n",
    "        x = self.batchnorm4(x)\n",
    "\n",
    "        \n",
    "        x = self.dropout(x)\n",
    "        x = self.layer_out(x)\n",
    "        \n",
    "        return x"
   ]
  },
  {
   "cell_type": "code",
   "execution_count": 477,
   "id": "043ac9d4-87fb-4f9e-97fd-fdc8d98ac6aa",
   "metadata": {},
   "outputs": [
    {
     "name": "stdout",
     "output_type": "stream",
     "text": [
      "cuda:0\n"
     ]
    }
   ],
   "source": [
    "device = torch.device(\"cuda:0\" if torch.cuda.is_available() else \"cpu\")\n",
    "print(device)"
   ]
  },
  {
   "cell_type": "code",
   "execution_count": 478,
   "id": "b0c936bf-eecf-45d0-bc4a-7ce92c75d3ad",
   "metadata": {
    "tags": []
   },
   "outputs": [],
   "source": [
    "model = BTC_pro108()\n",
    "model.to(device)\n",
    "\n",
    "epochs = 50\n",
    "\n",
    "cost = torch.nn.CrossEntropyLoss()\n",
    "optimizer = torch.optim.Adam(model.parameters(), lr=0.0001)\n",
    "writer = SummaryWriter(log_dir = 'runs/' + str(model).split('(')[0])\n",
    "\n",
    "for t in range(epochs):\n",
    "    train(train_loader, model, cost, optimizer, t)\n",
    "    test(valid_loader, model, t)\n",
    "    torch.save(model.state_dict(), 'models/' + str(model).split('(')[0] + '_tvt_' + str(t) + '.pt')\n",
    "\n",
    "writer.close()\n",
    "torch.cuda.empty_cache()"
   ]
  },
  {
   "cell_type": "code",
   "execution_count": 480,
   "id": "56b21472-dc1a-4821-8b9b-264bcedd8cad",
   "metadata": {},
   "outputs": [
    {
     "name": "stdout",
     "output_type": "stream",
     "text": [
      "cpu\n"
     ]
    }
   ],
   "source": [
    "device = torch.device(\"cpu\")\n",
    "print(device)"
   ]
  },
  {
   "cell_type": "code",
   "execution_count": 487,
   "id": "d2670f19-02ad-4da4-82a6-1a9658594291",
   "metadata": {
    "tags": []
   },
   "outputs": [
    {
     "name": "stdout",
     "output_type": "stream",
     "text": [
      "recall : 0.42105263157894735\n",
      "precision : 0.31683168316831684\n",
      "F1 : 0.36158192090395475\n",
      "acc : 0.6415543219666932\n"
     ]
    },
    {
     "data": {
      "text/plain": [
       "<sklearn.metrics._plot.roc_curve.RocCurveDisplay at 0x22c5dcf4b80>"
      ]
     },
     "execution_count": 487,
     "metadata": {},
     "output_type": "execute_result"
    },
    {
     "data": {
      "image/png": "[encoded data removed]",
      "text/plain": [
       "<Figure size 432x288 with 2 Axes>"
      ]
     },
     "metadata": {
      "needs_background": "light"
     },
     "output_type": "display_data"
    },
    {
     "data": {
      "image/png": "[encoded data removed]",
      "text/plain": [
       "<Figure size 432x288 with 1 Axes>"
      ]
     },
     "metadata": {
      "needs_background": "light"
     },
     "output_type": "display_data"
    }
   ],
   "source": [
    "model = BTC_pro108()\n",
    "model_name = 'models/' + str(model).split('(')[0] + '_tvt_' + str(20) + '.pt'\n",
    "state_dict = torch.load(model_name)\n",
    "model.load_state_dict(state_dict)\n",
    "\n",
    "\n",
    "y_pred_list_rounded = []\n",
    "y_pred_list = []\n",
    "targets = []\n",
    "\n",
    "\n",
    "model.eval()\n",
    "with torch.no_grad():\n",
    "    for X_batch, y_batch in test_loader:\n",
    "        X_batch, y_batch = X_batch.to(device), y_batch.to(device)\n",
    "        targets.append(y_batch)\n",
    "\n",
    "        y_test_pred = model(X_batch)\n",
    "        y_test_pred = torch.sigmoid(y_test_pred)\n",
    "        y_pred_tag = torch.round(y_test_pred)\n",
    "        y_pred_list_rounded.append(y_pred_tag.cpu().numpy())\n",
    "        y_pred_list.append(y_test_pred.cpu().numpy())\n",
    "\n",
    "y_pred_list_rounded = [a.squeeze().tolist() for a in y_pred_list_rounded]\n",
    "y_pred_list = [a.squeeze().tolist() for a in y_pred_list]\n",
    "targets = [a.squeeze().tolist() for a in targets]\n",
    "\n",
    "\n",
    "y_pred_list_rounded = [j for sub in y_pred_list_rounded for j in sub]\n",
    "y_pred_list = [j for sub in y_pred_list for j in sub]\n",
    "targets = [j for sub in targets for j in sub]\n",
    "\n",
    "cm = confusion_matrix(targets, y_pred_list_rounded)\n",
    "disp = ConfusionMatrixDisplay(confusion_matrix=cm, display_labels=['0', '1'])\n",
    "disp.plot()\n",
    "TP, FP, TN, FN = cm[1,1], cm[0,1], cm[0,0], cm[1,0]\n",
    "P = TP/(TP+FP)\n",
    "R = TP/(TP+FN)\n",
    "F1 = 2*P*R/(P+R)\n",
    "print(f'recall : {R}')\n",
    "print(f'precision : {P}')\n",
    "print(f'F1 : {F1}')\n",
    "print(f'acc : {(TP + TN)/(TP + TN + FP + FN)}')\n",
    "RocCurveDisplay.from_predictions(targets, y_pred_list)"
   ]
  },
  {
   "cell_type": "markdown",
   "id": "25e48ebe-db0b-416a-9aa0-39563be388d5",
   "metadata": {},
   "source": [
    "# WILL TRY USE IT FOR TRAIDING STRATEGY"
   ]
  },
  {
   "cell_type": "code",
   "execution_count": null,
   "id": "7ee2befb-0bc2-44a1-ad34-c2efd3960ef5",
   "metadata": {},
   "outputs": [],
   "source": []
  }
 ],
 "metadata": {
  "kernelspec": {
   "display_name": "Python 3",
   "language": "python",
   "name": "python3"
  },
  "language_info": {
   "codemirror_mode": {
    "name": "ipython",
    "version": 3
   },
   "file_extension": ".py",
   "mimetype": "text/x-python",
   "name": "python",
   "nbconvert_exporter": "python",
   "pygments_lexer": "ipython3",
   "version": "3.8.8"
  },
  "toc-autonumbering": true,
  "toc-showmarkdowntxt": false
 },
 "nbformat": 4,
 "nbformat_minor": 5
}
